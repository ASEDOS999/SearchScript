{
 "cells": [
  {
   "cell_type": "markdown",
   "metadata": {},
   "source": [
    "# Script Constructing"
   ]
  },
  {
   "cell_type": "code",
   "execution_count": 32,
   "metadata": {},
   "outputs": [],
   "source": [
    "name_table = 'simple_auto_table.pickle'\n",
    "path = \"../Texts/\"\n",
    "list_files = [path + 'text0_0.txt']"
   ]
  },
  {
   "cell_type": "code",
   "execution_count": 33,
   "metadata": {
    "scrolled": false
   },
   "outputs": [],
   "source": [
    "from ScriptExtract.Preprocessing.TextProcessing import table\n",
    "from ScriptExtract.GraphScript import graph_construction as GrConstr\n",
    "import pickle\n",
    "from ScriptExtract.Preprocessing.TextProcessing import table\n",
    "from mapcore.swm.src.components.semnet import Sign\n",
    "from ScriptExtract.GraphScript.graph_construction import union, get_feature_dict\n",
    "from collections import OrderedDict\n",
    "\n",
    "\n",
    "#script_ = GrConstr.get_srcipt(list_files, name_table)"
   ]
  },
  {
   "cell_type": "code",
   "execution_count": 34,
   "metadata": {},
   "outputs": [],
   "source": [
    "table_ = table(use_sem = False).get_table(list_files, test = lambda act: True, name_table = name_table)\n",
    "full_list_actions, verb_dict, feature_dict = get_feature_dict(table_)"
   ]
  },
  {
   "cell_type": "code",
   "execution_count": 35,
   "metadata": {},
   "outputs": [],
   "source": [
    "S = Sign(\"Script\")\n",
    "actions_script_sign = OrderedDict()\n",
    "actions_sign = {}\n",
    "role_sign = {}\n",
    "obj_sign = {}\n",
    "signifs = {}"
   ]
  },
  {
   "cell_type": "code",
   "execution_count": 36,
   "metadata": {},
   "outputs": [],
   "source": [
    "signifs[S] = S.add_significance()"
   ]
  },
  {
   "cell_type": "code",
   "execution_count": 37,
   "metadata": {},
   "outputs": [],
   "source": [
    "for key in verb_dict:\n",
    "    name_act = \"act_%d_%d\"%list(verb_dict[key].keys())[0]\n",
    "    act_sign = Sign(name_act)\n",
    "    actions_script_sign[name_act] = act_sign\n",
    "    signifs[act_sign.name] = act_sign.add_significance()\n",
    "    connector = signifs[act_sign.name].add_feature(signifs[S], zero_out=True)\n",
    "    S.add_out_significance(connector)"
   ]
  },
  {
   "cell_type": "code",
   "execution_count": 38,
   "metadata": {},
   "outputs": [],
   "source": [
    "for act in verb_dict:\n",
    "    name_act = \"act_%d_%d\"%list(verb_dict[act].keys())[0]\n",
    "    if not act in actions_sign:\n",
    "        act_sign = Sign(act)\n",
    "        actions_sign[act] = act_sign\n",
    "        signifs[act] = act_sign.add_significance()\n",
    "    connector = signifs[act].add_feature(signifs[name_act], zero_out=True)\n",
    "    actions_script_sign[name_act].add_out_significance(connector)"
   ]
  },
  {
   "cell_type": "code",
   "execution_count": 39,
   "metadata": {},
   "outputs": [],
   "source": [
    "for key in feature_dict:\n",
    "    role, obj = key\n",
    "    if not role in role_sign:\n",
    "        role_sign[role] = Sign(role)\n",
    "        signifs[role] = role_sign[role].add_significance()\n",
    "    if not obj in obj_sign:\n",
    "        obj_sign[obj] = Sign(obj)\n",
    "        signifs[obj] = obj_sign[obj].add_significance()\n",
    "    connector = signifs[obj].add_feature(signifs[role], zero_out=True)\n",
    "    role_sign[role].add_out_significance(connector)\n",
    "    for act_key in feature_dict[key]:\n",
    "        name_act = \"act_%d_%d\"%act_key\n",
    "        if name_act in actions_script_sign:\n",
    "            connector = signifs[role].add_feature(signifs[name_act], zero_out = True)\n",
    "            actions_script_sign[name_act].add_out_significance(connector)"
   ]
  },
  {
   "cell_type": "code",
   "execution_count": null,
   "metadata": {},
   "outputs": [],
   "source": []
  }
 ],
 "metadata": {
  "anaconda-cloud": {},
  "kernelspec": {
   "display_name": "Python 3",
   "language": "python",
   "name": "python3"
  },
  "language_info": {
   "codemirror_mode": {
    "name": "ipython",
    "version": 3
   },
   "file_extension": ".py",
   "mimetype": "text/x-python",
   "name": "python",
   "nbconvert_exporter": "python",
   "pygments_lexer": "ipython3",
   "version": "3.7.3"
  }
 },
 "nbformat": 4,
 "nbformat_minor": 1
}
