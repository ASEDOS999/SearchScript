{
 "cells": [
  {
   "cell_type": "markdown",
   "metadata": {},
   "source": [
    "# Actions Similarity\n",
    "\n",
    "# Step 1: Classification Through Sentences"
   ]
  },
  {
   "cell_type": "code",
   "execution_count": 2,
   "metadata": {
    "collapsed": false
   },
   "outputs": [
    {
     "name": "stdout",
     "output_type": "stream",
     "text": [
      "Phrases were transformed.\n",
      "Matrix was gotten.\n"
     ]
    }
   ],
   "source": [
    "from first_step import first_step\n",
    "import os\n",
    "list_name = ['../' + i for i in os.listdir('../') if 'Actions2_' in i]\n",
    "table = first_step(list_name)"
   ]
  },
  {
   "cell_type": "code",
   "execution_count": 8,
   "metadata": {
    "collapsed": false
   },
   "outputs": [
    {
     "name": "stdout",
     "output_type": "stream",
     "text": [
      "10.925260170293283 11548\n"
     ]
    }
   ],
   "source": [
    "s = list()\n",
    "for i in list(table.keys()):\n",
    "    for j in table[i]:\n",
    "        s.append(len(j[1][1]))\n",
    "print(sum(s)/len(s), sum(s))"
   ]
  },
  {
   "cell_type": "code",
   "execution_count": 11,
   "metadata": {
    "collapsed": true
   },
   "outputs": [],
   "source": [
    "import pickle\n",
    "with open('Training/table.pickle', 'wb') as f:\n",
    "    pickle.dump(table, f)"
   ]
  },
  {
   "cell_type": "code",
   "execution_count": null,
   "metadata": {
    "collapsed": true
   },
   "outputs": [],
   "source": []
  }
 ],
 "metadata": {
  "anaconda-cloud": {},
  "kernelspec": {
   "display_name": "Python [conda root]",
   "language": "python",
   "name": "conda-root-py"
  }
 },
 "nbformat": 4,
 "nbformat_minor": 1
}
