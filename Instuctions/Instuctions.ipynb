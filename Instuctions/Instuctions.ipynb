{
 "cells": [
  {
   "cell_type": "markdown",
   "metadata": {},
   "source": [
    "# Extracting Instruction\n",
    "\n",
    "## File 'Выбираем автомобиль.txt'\n",
    "\n",
    "Original is [Выбираем автомобиль](https://docs.google.com/document/d/1WHttYDN6ZWGcWpCiFuwlUecnmSMC7D6fwo3uvui8psY/edit)."
   ]
  },
  {
   "cell_type": "code",
   "execution_count": 1,
   "metadata": {
    "collapsed": false
   },
   "outputs": [],
   "source": [
    "import sys\n",
    "sys.path.append('..')\n",
    "\n",
    "handle = open(\"Выбираем автомобиль.txt\", \"r\")\n",
    "text = handle.read()\n",
    "handle.close()\n",
    "\n",
    "from TextProcessing import graph_construct as GC\n",
    "model = GC(text)\n",
    "results = GC(text).get_list_of_tree()\n",
    "root = GC(text).get_graph()"
   ]
  },
  {
   "cell_type": "code",
   "execution_count": 22,
   "metadata": {
    "collapsed": true
   },
   "outputs": [],
   "source": [
    "from action import construct_sentence as CS\n",
    "def show_actions(actions, with_print = False):\n",
    "    text =''\n",
    "    for act in actions:\n",
    "        if with_print:\n",
    "            print('\\n', CS(act.sentence))\n",
    "            print(act.name_action)\n",
    "            dict_ = act.get_inform(False, True, False)[0]\n",
    "            for i in act.keys:\n",
    "                print(i)\n",
    "                if i != 'VERB':\n",
    "                    for j in dict_[i]:\n",
    "                        print('--',j)\n",
    "                else:\n",
    "                    print('--',dict_[i])\n",
    "        text = text +act.name_action + ': ' +CS(act.sentence) + '\\n'\n",
    "    if with_print:\n",
    "        print('\\n'*2)\n",
    "    return text"
   ]
  },
  {
   "cell_type": "markdown",
   "metadata": {},
   "source": [
    "### Extracting Actions"
   ]
  },
  {
   "cell_type": "code",
   "execution_count": 23,
   "metadata": {
    "collapsed": false
   },
   "outputs": [
    {
     "name": "stdout",
     "output_type": "stream",
     "text": [
      "Action6{учитывать}\n",
      "Action8{воспользоваться}\n",
      "Action0{прислушиваться}\n",
      "Action0{сравнивать}\n",
      "Action0{стараться}\n",
      "Action13{выбирать}\n",
      "Action1{делать}\n",
      "Action9{приготавливаться}\n",
      "Action9{обращать}\n",
      "Action1{забывать}\n"
     ]
    }
   ],
   "source": [
    "from TextProcessing import DFS\n",
    "list_ = DFS(root)"
   ]
  },
  {
   "cell_type": "code",
   "execution_count": 25,
   "metadata": {
    "collapsed": false
   },
   "outputs": [
    {
     "name": "stdout",
     "output_type": "stream",
     "text": [
      "Action6{учитывать}: При подсчете нужной суммы денег обязательно учтите расходы на техническое обслуживание машины и дополнительное оборудование , которое потребуется сразу же после покупки . \n",
      "Action8{воспользоваться}: Если предоставляется тест - драйв , обязательно им воспользуйтесь . \n",
      "Action0{прислушиваться}: Прислушайтесь к своим ощущениям . \n",
      "Action0{сравнивать}: Сравнивайте . \n",
      "Action0{стараться}: Старайтесь не упускать из виду практические соображения . \n",
      "Action13{выбирать}: Если вы подбираете автомобиль по соотношению цена / качество , то по возможности выбирайте автопроизводителя с именем и марку , пользующуюся популярностью у покупателей . \n",
      "Action1{делать}: Выводы делайте сами . \n",
      "Action9{приготавливаться}: Ближе к отметке в 100 - 120 тыс. км приготовьтесь к замене сцепления и другим серьезным процедурам , вплоть до переборки ходовой и замены катализатора , поскольку срок службы последнего редко превышает 120 - 140 тыс. И это уже существенные расходы . \n",
      "Action9{обращать}: И последнее : выбирая автомобиль с пробегом , всегда обращайте внимание на его предыдущего владельца . \n",
      "Action1{забывать}: Не забывайте о том , что включенный при езде свет фар делает ваш автомобиль заметнее , какого бы цвета он ни был . \n",
      "\n"
     ]
    }
   ],
   "source": [
    "text = show_actions(list_)\n",
    "print(text)"
   ]
  },
  {
   "cell_type": "code",
   "execution_count": null,
   "metadata": {
    "collapsed": true
   },
   "outputs": [],
   "source": []
  }
 ],
 "metadata": {
  "anaconda-cloud": {},
  "kernelspec": {
   "display_name": "Python [conda root]",
   "language": "python",
   "name": "conda-root-py"
  },
  "language_info": {
   "codemirror_mode": {
    "name": "ipython",
    "version": 3
   },
   "file_extension": ".py",
   "mimetype": "text/x-python",
   "name": "python",
   "nbconvert_exporter": "python",
   "pygments_lexer": "ipython3",
   "version": "3.5.2"
  }
 },
 "nbformat": 4,
 "nbformat_minor": 1
}
