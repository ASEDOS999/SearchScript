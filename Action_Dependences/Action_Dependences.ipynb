{
 "cells": [
  {
   "cell_type": "code",
   "execution_count": 1,
   "metadata": {
    "collapsed": false
   },
   "outputs": [
    {
     "name": "stdout",
     "output_type": "stream",
     "text": [
      "1463 dict_keys(['obl{without_marks}', 'conj{а}', 'advcl{где}', 'advcl{если}', 'advcl{почто}', 'conj{nondet_marks}', 'conj{чтобы}', 'appos{without_marks}', 'advcl{и}', 'ccomp{что}', 'acl{without_marks}', 'parataxis{without_marks}', 'parataxis{и}', 'advcl{как}', 'advcl{почему}', 'advcl{зуб}', 'ROOT', 'conj{и}', 'advcl{without_marks}', 'conj{without_marks}', 'advcl{когда}', 'acl:relcl{without_marks}', 'advcl{причем}', 'ccomp{причем}', 'nsubj{without_marks}', 'nondet', 'advcl{чтобы}', 'parataxis{но}', 'conj{зато}', 'obl{а}', 'ccomp{nondet_marks}', 'advcl{поэтому}', 'conj{облако}', 'xcomp{а}', 'conj{но}', 'parataxis{а}', 'ccomp{как}', 'ccomp{without_marks}', 'advcl{nondet_marks}'])\n"
     ]
    }
   ],
   "source": [
    "import action\n",
    "\n",
    "handle = open(\"./Process_type/examples.txt\", \"r\")\n",
    "text = handle.read()\n",
    "handle.close()\n",
    "list_, N = [0], 0\n",
    "for i in range(len(text)):\n",
    "    if text[i] == '.':\n",
    "        last = i\n",
    "    N += 1\n",
    "    if N > 10000:\n",
    "        list_.append(last)\n",
    "        N = 0\n",
    "root_list = []\n",
    "for i in range(len(list_) - 1):\n",
    "    root_list = root_list + action.construct_tree(text[list_[i] : list_[i + 1]])\n",
    "\n",
    "list_ = []\n",
    "dict_ = {}\n",
    "def research(root):\n",
    "    for i in root.kids:\n",
    "        list_.append((root.value.name_action, i[0].value.name_action, i[1]))\n",
    "        research(i[0])\n",
    "        dict_[i[1]] = []\n",
    "for root in root_list:\n",
    "    A = action.get_actions_tree(root)\n",
    "    research(A)\n",
    "print(len(list_), dict_.keys())"
   ]
  },
  {
   "cell_type": "code",
   "execution_count": 3,
   "metadata": {
    "collapsed": false
   },
   "outputs": [
    {
     "name": "stdout",
     "output_type": "stream",
     "text": [
      "39\n",
      "obl{without_marks} 2\n",
      "conj{а} 21\n",
      "advcl{где} 1\n",
      "advcl{если} 2\n",
      "advcl{почто} 1\n",
      "conj{nondet_marks} 5\n",
      "conj{чтобы} 1\n",
      "appos{without_marks} 1\n",
      "advcl{и} 2\n",
      "ccomp{что} 16\n",
      "acl{without_marks} 2\n",
      "parataxis{without_marks} 97\n",
      "parataxis{и} 5\n",
      "advcl{как} 2\n",
      "advcl{почему} 1\n",
      "advcl{зуб} 1\n",
      "ROOT 700\n",
      "conj{и} 148\n",
      "advcl{without_marks} 78\n",
      "conj{without_marks} 98\n",
      "advcl{когда} 2\n",
      "acl:relcl{without_marks} 15\n",
      "advcl{причем} 2\n",
      "ccomp{причем} 1\n",
      "nsubj{without_marks} 1\n",
      "nondet 219\n",
      "advcl{чтобы} 1\n",
      "parataxis{но} 1\n",
      "conj{зато} 1\n",
      "obl{а} 1\n",
      "ccomp{nondet_marks} 1\n",
      "advcl{поэтому} 1\n",
      "conj{облако} 1\n",
      "xcomp{а} 1\n",
      "conj{но} 14\n",
      "parataxis{а} 2\n",
      "ccomp{как} 2\n",
      "ccomp{without_marks} 10\n",
      "advcl{nondet_marks} 3\n"
     ]
    }
   ],
   "source": [
    "print(len(dict_.keys()))\n",
    "for i in dict_.keys():\n",
    "    print(i, \n",
    "          len([j for j in list_ if j[2] == i]))"
   ]
  },
  {
   "cell_type": "code",
   "execution_count": null,
   "metadata": {
    "collapsed": true
   },
   "outputs": [],
   "source": []
  }
 ],
 "metadata": {
  "anaconda-cloud": {},
  "kernelspec": {
   "display_name": "Python [conda root]",
   "language": "python",
   "name": "conda-root-py"
  },
  "language_info": {
   "codemirror_mode": {
    "name": "ipython",
    "version": 3
   },
   "file_extension": ".py",
   "mimetype": "text/x-python",
   "name": "python",
   "nbconvert_exporter": "python",
   "pygments_lexer": "ipython3",
   "version": "3.5.2"
  }
 },
 "nbformat": 4,
 "nbformat_minor": 1
}
