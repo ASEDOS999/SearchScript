{
 "cells": [
  {
   "cell_type": "markdown",
   "metadata": {
    "collapsed": true
   },
   "source": [
    "# Research Actions\n",
    "\n",
    "This document is research of semantic similarity between including actions sentences from different documents. "
   ]
  },
  {
   "cell_type": "code",
   "execution_count": 1,
   "metadata": {
    "collapsed": true
   },
   "outputs": [],
   "source": [
    "# import used modules\n",
    "import os\n",
    "import numpy as np\n",
    "import time\n",
    "import pickle\n",
    "from scipy.linalg import block_diag"
   ]
  },
  {
   "cell_type": "code",
   "execution_count": 2,
   "metadata": {
    "collapsed": false
   },
   "outputs": [
    {
     "name": "stderr",
     "output_type": "stream",
     "text": [
      "/home/ased/anaconda3/lib/python3.5/site-packages/smart_open/smart_open_lib.py:398: UserWarning: This function is deprecated, use smart_open.open instead. See the migration notes for details: https://github.com/RaRe-Technologies/smart_open/blob/master/README.rst#migrating-to-the-new-open-function\n",
      "  'See the migration notes for details: %s' % _MIGRATION_NOTES_URL\n"
     ]
    }
   ],
   "source": [
    "# import a model and a module for semantic analys\n",
    "import gensim\n",
    "model = gensim.models.KeyedVectors.load_word2vec_format('../model.bin', binary=True) \n",
    "model.init_sims(replace=True)"
   ]
  },
  {
   "cell_type": "code",
   "execution_count": 3,
   "metadata": {
    "collapsed": false
   },
   "outputs": [
    {
     "name": "stderr",
     "output_type": "stream",
     "text": [
      "\n",
      "Loading the model...\n",
      "Processing input...\n"
     ]
    }
   ],
   "source": [
    "# import our module for semantic analys\n",
    "import sys\n",
    "sys.path.append('../')\n",
    "import sem_analysis as sa"
   ]
  },
  {
   "cell_type": "markdown",
   "metadata": {},
   "source": [
    "## 1. Extract Sentences From Documents And Their Preprocessing"
   ]
  },
  {
   "cell_type": "code",
   "execution_count": 4,
   "metadata": {
    "collapsed": false
   },
   "outputs": [],
   "source": [
    "path = \"Actions/\"\n",
    "files = list()\n",
    "for i in os.listdir(path):\n",
    "    if 'Sectionstext' in i:\n",
    "        files.append(i)"
   ]
  },
  {
   "cell_type": "code",
   "execution_count": 5,
   "metadata": {
    "collapsed": false
   },
   "outputs": [],
   "source": [
    "sections = dict()\n",
    "for j in files:\n",
    "    f = open(path + j, 'r')\n",
    "    new = list()\n",
    "    for line in f:\n",
    "        s = ''\n",
    "        for i in line:\n",
    "            if i != '\\n':\n",
    "                s = s + i\n",
    "        if len(s) > 0:\n",
    "            new.append(s)\n",
    "    sections[j] = new\n",
    "    f.close()"
   ]
  },
  {
   "cell_type": "code",
   "execution_count": 6,
   "metadata": {
    "collapsed": false
   },
   "outputs": [],
   "source": [
    "# We leave sentences only from documents of type '2_' (see types description in folder ../../Texts)\n",
    "cur_sections = {i:sections[i] for i in sections.keys() if '2_' in i}"
   ]
  },
  {
   "cell_type": "markdown",
   "metadata": {},
   "source": [
    "In current step we initialize a distance matrix for our sentences: an matrix element with indexes `i` and `j` is distance between `i`-th and `j`-th sentences. If sentences `i` and `j` from one document we set this element equal to $\\infty$."
   ]
  },
  {
   "cell_type": "code",
   "execution_count": 7,
   "metadata": {
    "collapsed": true
   },
   "outputs": [],
   "source": [
    "list_ = list()\n",
    "keys = list(cur_sections.keys()).copy()\n",
    "keys.sort()\n",
    "for j in keys:\n",
    "    if len(cur_sections[j]) > 0:\n",
    "        list_.append(np.inf * np.ones((len(cur_sections[j]), len(cur_sections[j]))))\n",
    "    else:\n",
    "        cur_sections.pop(j)\n",
    "D = block_diag(*np.array(list_))"
   ]
  },
  {
   "cell_type": "code",
   "execution_count": 8,
   "metadata": {
    "collapsed": false
   },
   "outputs": [
    {
     "name": "stdout",
     "output_type": "stream",
     "text": [
      "886\n"
     ]
    }
   ],
   "source": [
    "phrases = list()\n",
    "for j in keys:\n",
    "    phrases = phrases + cur_sections[j]\n",
    "print(len(phrases))"
   ]
  },
  {
   "cell_type": "markdown",
   "metadata": {},
   "source": [
    "Now we transform our phrases to format for [RusVectores](https://rusvectores.org/ru/). See [tutorial for RusVectores](https://github.com/akutuzov/webvectors/blob/master/preprocessing/rusvectores_tutorial.ipynb)."
   ]
  },
  {
   "cell_type": "code",
   "execution_count": 9,
   "metadata": {
    "collapsed": false
   },
   "outputs": [
    {
     "name": "stdout",
     "output_type": "stream",
     "text": [
      "100 463.59754157066345\n",
      "200 967.2637391090393\n",
      "300 1478.5802619457245\n",
      "400 1965.4721224308014\n",
      "500 2476.349060535431\n",
      "600 2974.829411506653\n",
      "700 3440.2402532100677\n",
      "800 3899.5513842105865\n"
     ]
    }
   ],
   "source": [
    "if not 'action_data.pickle' in os.listdir():\n",
    "    t = time.time()\n",
    "    phrases_transform = list()\n",
    "    for i in phrases:\n",
    "        phrases_transform.append(sa.tag_ud(i))\n",
    "        if len(phrases_transform) % 100 == 0:\n",
    "            print(len(phrases_transform), time.time() - t)\n",
    "    with open('action_data.pickle', 'wb') as f:\n",
    "        pickle.dump(phrases_transform, f)\n",
    "        f.close()\n",
    "else:\n",
    "    with open('action_data.pickle', 'rb') as f: \n",
    "        phrases_transform = pickle.load(f)\n",
    "        f.close()"
   ]
  },
  {
   "cell_type": "markdown",
   "metadata": {},
   "source": [
    "## 2. Similarity\n",
    "\n",
    "### 2.1. Similarity withoud filtration"
   ]
  },
  {
   "cell_type": "code",
   "execution_count": 12,
   "metadata": {
    "collapsed": false
   },
   "outputs": [
    {
     "name": "stdout",
     "output_type": "stream",
     "text": [
      "1626.7332340178489\n"
     ]
    }
   ],
   "source": [
    "# Distance Matrix\n",
    "import time\n",
    "t = time.time()\n",
    "for i in range(D.shape[0]):\n",
    "    for j in range(i+1, D.shape[1]):\n",
    "        if D[i, j] != np.inf:\n",
    "            D[i,j] = model.wmdistance(phrases_transform[i], phrases_transform[j])\n",
    "            D[j, i] = D[i, j]\n",
    "            if i == 0 and j == 100:\n",
    "                print((time.time() - t)/100*D.shape[0]*D.shape[0] * 0.9 * 0.5)"
   ]
  },
  {
   "cell_type": "markdown",
   "metadata": {},
   "source": [
    "#### Output"
   ]
  },
  {
   "cell_type": "code",
   "execution_count": 13,
   "metadata": {
    "collapsed": false
   },
   "outputs": [],
   "source": [
    "sim = dict()\n",
    "for i in range(D.shape[0]):\n",
    "    for j in range(i+1, D.shape[1]):\n",
    "        if D[i,j] != np.inf and not np.isnan(D[i,j]):\n",
    "            if not sim.__contains__(D[i,j]):\n",
    "                sim[D[i,j]] = []\n",
    "            sim[D[i,j]].append((i, j, phrases[i], phrases[j]))"
   ]
  },
  {
   "cell_type": "code",
   "execution_count": 14,
   "metadata": {
    "collapsed": false
   },
   "outputs": [],
   "source": [
    "keys = list(sim.keys())\n",
    "keys.sort()"
   ]
  },
  {
   "cell_type": "code",
   "execution_count": 15,
   "metadata": {
    "collapsed": false
   },
   "outputs": [],
   "source": [
    "def print_eps(eps, keys, mydict):\n",
    "    i = 0\n",
    "    #while keys[i] > keys[0] - eps and i < len(keys):\n",
    "    while keys[i] < eps and i < len(keys):\n",
    "        if  keys[i] > 0:\n",
    "            for item in mydict[keys[i]]:\n",
    "                print(keys[i], item[0],':',item[2],'\\t',item[1],':', item[3])\n",
    "        i += 1"
   ]
  },
  {
   "cell_type": "code",
   "execution_count": 19,
   "metadata": {
    "collapsed": false
   },
   "outputs": [
    {
     "name": "stdout",
     "output_type": "stream",
     "text": [
      "0.20382673936834655 412 : Также читайте : Как выбрать марку автомобиля  \t 606 : Подробнее читайте , как выбрать марку автомобиля ; \n",
      "0.22344495100013712 412 : Также читайте : Как выбрать марку автомобиля  \t 453 : Также читайте : Как выбрать автомобиль под себя \n",
      "0.22619180971547098 453 : Также читайте : Как выбрать автомобиль под себя  \t 609 : Также читайте : Как выбрать автомобиль под свои потребности \n",
      "0.2319723895653806 412 : Также читайте : Как выбрать марку автомобиля  \t 609 : Также читайте : Как выбрать автомобиль под свои потребности \n",
      "0.29917577929512224 418 : Также читайте : Какой пробег считается нормальным для б / у авто  \t 615 : Также читайте : Какой пробег считается нормальным для подержанного автомобиля \n",
      "0.32565300043518336 10 : Это можно сделать на сайте ГИБДД или avtokod .  \t 433 : Сделать это можно на сайте reestr - zalogov . \n",
      "0.4209312067353194 453 : Также читайте : Как выбрать автомобиль под себя  \t 606 : Подробнее читайте , как выбрать марку автомобиля ; \n",
      "0.4441674320080691 487 : Также читайте : Как самостоятельно проверить тех .  \t 512 : Также читайте : Как проверить ПТС на подлинность \n",
      "0.47209424908647535 266 : Попросите продавца устроить вам тест - драйв .  \t 481 : Попросите провести тест - драйв . \n",
      "0.49497934268990557 461 : Также читайте : Сколько стоят подержанные машины : обзор цен  \t 608 : Подробнее читайте , обзор цен на подержанные машины . \n",
      "0.4960382288595472 463 : * Вычеркните из предложенных вариантов самые дешевые и самые дорогие .  \t 578 : Отбрасывайте самые дешевые и самые дорогие варианты \n",
      "0.5220096895939099 412 : Также читайте : Как выбрать марку автомобиля  \t 531 : Также читайте : Как проверить колеса при покупке автомобиля \n",
      "0.5232621453094483 10 : Это можно сделать на сайте ГИБДД или avtokod .  \t 434 : Сделать это можно на сайте судебных приставов fssprus . \n",
      "0.5280505053699758 453 : Также читайте : Как выбрать автомобиль под себя  \t 523 : Также читайте : Как проверить геометрию кузова автомобиля \n",
      "0.5285117521672397 453 : Также читайте : Как выбрать автомобиль под себя  \t 531 : Также читайте : Как проверить колеса при покупке автомобиля \n",
      "0.530589563385369 412 : Также читайте : Как выбрать марку автомобиля  \t 523 : Также читайте : Как проверить геометрию кузова автомобиля \n",
      "0.5364330857994278 708 : Не соглашайтесь указывать в договоре купли - продажи меньшую сумму .  \t 871 : Указывайте дату и время сделки в договоре купли - продажи . \n",
      "0.541558494943277 523 : Также читайте : Как проверить геометрию кузова автомобиля  \t 609 : Также читайте : Как выбрать автомобиль под свои потребности \n",
      "0.5444273975950105 531 : Также читайте : Как проверить колеса при покупке автомобиля  \t 609 : Также читайте : Как выбрать автомобиль под свои потребности \n",
      "0.5611762370744728 405 : Также читайте : Как узнать год выпуска автомобиля  \t 531 : Также читайте : Как проверить колеса при покупке автомобиля \n",
      "0.5641961295699341 405 : Также читайте : Как узнать год выпуска автомобиля  \t 523 : Также читайте : Как проверить геометрию кузова автомобиля \n",
      "0.5648496826705035 277 : Включите кондиционер и проверьте его работоспособность .  \t 846 : Проверьте работу кондиционера . \n",
      "0.5664666976762206 487 : Также читайте : Как самостоятельно проверить тех .  \t 531 : Также читайте : Как проверить колеса при покупке автомобиля \n",
      "0.5683016946243026 487 : Также читайте : Как самостоятельно проверить тех .  \t 523 : Также читайте : Как проверить геометрию кузова автомобиля \n",
      "0.5688742764857201 405 : Также читайте : Как узнать год выпуска автомобиля  \t 453 : Также читайте : Как выбрать автомобиль под себя \n",
      "0.5691402212657087 405 : Также читайте : Как узнать год выпуска автомобиля  \t 609 : Также читайте : Как выбрать автомобиль под свои потребности \n",
      "0.5781032987699328 512 : Также читайте : Как проверить ПТС на подлинность  \t 609 : Также читайте : Как выбрать автомобиль под свои потребности \n",
      "0.579880570558464 412 : Также читайте : Как выбрать марку автомобиля  \t 512 : Также читайте : Как проверить ПТС на подлинность \n",
      "0.5815131153103444 453 : Также читайте : Как выбрать автомобиль под себя  \t 512 : Также читайте : Как проверить ПТС на подлинность \n",
      "0.5839521337254961 51 : Переспросите год выпуска и пробег авто  \t 607 : Подробнее читайте , какого года выпуска купить авто с пробегом ; \n",
      "0.583994343240615 368 : Включите зажигание , не заводя машину .  \t 535 : На последнем этапе включите зажигание , не заводя машину полностью при этом . \n",
      "0.590654520851604 158 : Проверьте , что лампочка подушек безопасности должен гаснуть не сразу , а спустя несколько секунд .  \t 848 : Лампочки давления масла и подушек безопасности должны гаснуть по отдельность . \n",
      "0.5947412872963063 650 : Оформить договор купли - продажи можно в простой форме : написать от руки или распечатать из электронного документа .  \t 870 : Составлять договор купли - продажи можно в простой письменной форме одной ручкой и одним почерком . \n"
     ]
    }
   ],
   "source": [
    "print_eps(0.6, keys, sim)"
   ]
  },
  {
   "cell_type": "markdown",
   "metadata": {
    "collapsed": true
   },
   "source": [
    "### 2.2. SImilarity With Filtration"
   ]
  },
  {
   "cell_type": "code",
   "execution_count": 20,
   "metadata": {
    "collapsed": false
   },
   "outputs": [],
   "source": [
    "import pickle\n",
    "def transform(phrase):\n",
    "    def cond(word):\n",
    "        _ = ['_NOUN', '_VERB','_ADV', '_ADJ']\n",
    "        for i in _:\n",
    "            if i in word:\n",
    "                return True\n",
    "        return False\n",
    "    phrase = phrase.copy()\n",
    "    for i in phrase:\n",
    "        if not cond(i):\n",
    "            phrase.remove(i)\n",
    "    return phrase\n",
    "\n",
    "with open('action_data.pickle', 'rb') as f: \n",
    "    phrases_transform = pickle.load(f)\n",
    "new = list()\n",
    "for i in phrases_transform:\n",
    "    new.append(transform(i))"
   ]
  },
  {
   "cell_type": "code",
   "execution_count": 21,
   "metadata": {
    "collapsed": false
   },
   "outputs": [
    {
     "name": "stdout",
     "output_type": "stream",
     "text": [
      "598.0595893993378\n"
     ]
    }
   ],
   "source": [
    "import time\n",
    "t = time.time()\n",
    "for i in range(D.shape[0]):\n",
    "    for j in range(i+1, D.shape[1]):\n",
    "        if D[i, j] != np.inf:\n",
    "            D[i,j] = model.wmdistance(new[i], new[j])\n",
    "            D[j, i] = D[i, j]\n",
    "            if i == 0 and j == 100:\n",
    "                print((time.time() - t)/100*D.shape[0]*D.shape[0] * 0.9 * 0.5)"
   ]
  },
  {
   "cell_type": "markdown",
   "metadata": {},
   "source": [
    "#### Output"
   ]
  },
  {
   "cell_type": "code",
   "execution_count": 23,
   "metadata": {
    "collapsed": false
   },
   "outputs": [],
   "source": [
    "sim_filtr = dict()\n",
    "for i in range(D.shape[0]):\n",
    "    for j in range(i+1, D.shape[1]):\n",
    "        if D[i,j] != np.inf and not np.isnan(D[i,j]):\n",
    "            if not sim_filtr.__contains__(D[i,j]):\n",
    "                sim_filtr[D[i,j]] = []\n",
    "            sim_filtr[D[i,j]].append((i, j, phrases[i], phrases[j]))"
   ]
  },
  {
   "cell_type": "code",
   "execution_count": 24,
   "metadata": {
    "collapsed": false
   },
   "outputs": [],
   "source": [
    "keys = list(sim_filtr.keys())\n",
    "keys.sort()"
   ]
  },
  {
   "cell_type": "code",
   "execution_count": 25,
   "metadata": {
    "collapsed": false
   },
   "outputs": [],
   "source": [
    "def print_eps(eps, keys, mydict):\n",
    "    i = 0\n",
    "    while keys[i] < eps and i < len(keys):\n",
    "        if  keys[i] > 0:\n",
    "            for item in mydict[keys[i]]:\n",
    "                print(keys[i], item[0],':',item[2],'\\t',item[1],':', item[3])\n",
    "        i += 1"
   ]
  },
  {
   "cell_type": "code",
   "execution_count": 26,
   "metadata": {
    "collapsed": false
   },
   "outputs": [
    {
     "name": "stdout",
     "output_type": "stream",
     "text": [
      "0.20382673936834655 412 : Также читайте : Как выбрать марку автомобиля  \t 606 : Подробнее читайте , как выбрать марку автомобиля ; \n",
      "0.22344495100013712 412 : Также читайте : Как выбрать марку автомобиля  \t 453 : Также читайте : Как выбрать автомобиль под себя \n",
      "0.22619180971547098 453 : Также читайте : Как выбрать автомобиль под себя  \t 609 : Также читайте : Как выбрать автомобиль под свои потребности \n",
      "0.2319723895653806 412 : Также читайте : Как выбрать марку автомобиля  \t 609 : Также читайте : Как выбрать автомобиль под свои потребности \n",
      "0.27626750830583574 487 : Также читайте : Как самостоятельно проверить тех .  \t 512 : Также читайте : Как проверить ПТС на подлинность \n",
      "0.29917577929512224 418 : Также читайте : Какой пробег считается нормальным для б / у авто  \t 615 : Также читайте : Какой пробег считается нормальным для подержанного автомобиля \n",
      "0.4209312067353194 453 : Также читайте : Как выбрать автомобиль под себя  \t 606 : Подробнее читайте , как выбрать марку автомобиля ; \n",
      "0.47209424908647535 266 : Попросите продавца устроить вам тест - драйв .  \t 481 : Попросите провести тест - драйв . \n",
      "0.49497934268990557 461 : Также читайте : Сколько стоят подержанные машины : обзор цен  \t 608 : Подробнее читайте , обзор цен на подержанные машины . \n",
      "0.4960382288595472 463 : * Вычеркните из предложенных вариантов самые дешевые и самые дорогие .  \t 578 : Отбрасывайте самые дешевые и самые дорогие варианты \n",
      "0.49976096284255384 158 : Проверьте , что лампочка подушек безопасности должен гаснуть не сразу , а спустя несколько секунд .  \t 848 : Лампочки давления масла и подушек безопасности должны гаснуть по отдельность . \n",
      "0.513769981651783 453 : Также читайте : Как выбрать автомобиль под себя  \t 512 : Также читайте : Как проверить ПТС на подлинность \n",
      "0.5220096895939099 412 : Также читайте : Как выбрать марку автомобиля  \t 531 : Также читайте : Как проверить колеса при покупке автомобиля \n",
      "0.5280505053699758 453 : Также читайте : Как выбрать автомобиль под себя  \t 523 : Также читайте : Как проверить геометрию кузова автомобиля \n",
      "0.5285117521672397 453 : Также читайте : Как выбрать автомобиль под себя  \t 531 : Также читайте : Как проверить колеса при покупке автомобиля \n",
      "0.530589563385369 412 : Также читайте : Как выбрать марку автомобиля  \t 523 : Также читайте : Как проверить геометрию кузова автомобиля \n",
      "0.5364330857994278 708 : Не соглашайтесь указывать в договоре купли - продажи меньшую сумму .  \t 871 : Указывайте дату и время сделки в договоре купли - продажи . \n",
      "0.541558494943277 523 : Также читайте : Как проверить геометрию кузова автомобиля  \t 609 : Также читайте : Как выбрать автомобиль под свои потребности \n",
      "0.5444273975950105 531 : Также читайте : Как проверить колеса при покупке автомобиля  \t 609 : Также читайте : Как выбрать автомобиль под свои потребности \n",
      "0.5611762370744728 405 : Также читайте : Как узнать год выпуска автомобиля  \t 531 : Также читайте : Как проверить колеса при покупке автомобиля \n",
      "0.5641961295699341 405 : Также читайте : Как узнать год выпуска автомобиля  \t 523 : Также читайте : Как проверить геометрию кузова автомобиля \n",
      "0.5648496826705035 277 : Включите кондиционер и проверьте его работоспособность .  \t 846 : Проверьте работу кондиционера . \n",
      "0.5664666976762206 487 : Также читайте : Как самостоятельно проверить тех .  \t 531 : Также читайте : Как проверить колеса при покупке автомобиля \n",
      "0.5675827480500546 10 : Это можно сделать на сайте ГИБДД или avtokod .  \t 434 : Сделать это можно на сайте судебных приставов fssprus . \n",
      "0.5683016946243026 487 : Также читайте : Как самостоятельно проверить тех .  \t 523 : Также читайте : Как проверить геометрию кузова автомобиля \n",
      "0.5688742764857201 405 : Также читайте : Как узнать год выпуска автомобиля  \t 453 : Также читайте : Как выбрать автомобиль под себя \n",
      "0.5691402212657087 405 : Также читайте : Как узнать год выпуска автомобиля  \t 609 : Также читайте : Как выбрать автомобиль под свои потребности \n",
      "0.5830926228601643 650 : Оформить договор купли - продажи можно в простой форме : написать от руки или распечатать из электронного документа .  \t 870 : Составлять договор купли - продажи можно в простой письменной форме одной ручкой и одним почерком . \n",
      "0.5839521337254961 51 : Переспросите год выпуска и пробег авто  \t 607 : Подробнее читайте , какого года выпуска купить авто с пробегом ; \n",
      "0.583994343240615 368 : Включите зажигание , не заводя машину .  \t 535 : На последнем этапе включите зажигание , не заводя машину полностью при этом . \n"
     ]
    }
   ],
   "source": [
    "print_eps(0.6, keys, sim_filtr)"
   ]
  },
  {
   "cell_type": "code",
   "execution_count": null,
   "metadata": {
    "collapsed": true
   },
   "outputs": [],
   "source": []
  }
 ],
 "metadata": {
  "anaconda-cloud": {},
  "kernelspec": {
   "display_name": "Python [conda root]",
   "language": "python",
   "name": "conda-root-py"
  },
  "language_info": {
   "codemirror_mode": {
    "name": "ipython",
    "version": 3
   },
   "file_extension": ".py",
   "mimetype": "text/x-python",
   "name": "python",
   "nbconvert_exporter": "python",
   "pygments_lexer": "ipython3",
   "version": "3.5.2"
  }
 },
 "nbformat": 4,
 "nbformat_minor": 1
}
