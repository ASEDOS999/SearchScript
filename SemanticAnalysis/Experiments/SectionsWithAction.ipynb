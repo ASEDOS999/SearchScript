{
 "cells": [
  {
   "cell_type": "markdown",
   "metadata": {
    "collapsed": true
   },
   "source": [
    "# Research Actions\n",
    "\n",
    "This document is research of semantic similarity between including actions sentences from different documents. "
   ]
  },
  {
   "cell_type": "code",
   "execution_count": 1,
   "metadata": {
    "collapsed": true
   },
   "outputs": [],
   "source": [
    "# import used modules\n",
    "import os\n",
    "import numpy as np\n",
    "import time\n",
    "import pickle\n",
    "from scipy.linalg import block_diag"
   ]
  },
  {
   "cell_type": "code",
   "execution_count": 2,
   "metadata": {
    "collapsed": false
   },
   "outputs": [
    {
     "name": "stderr",
     "output_type": "stream",
     "text": [
      "/home/ased/anaconda3/lib/python3.5/site-packages/smart_open/smart_open_lib.py:398: UserWarning: This function is deprecated, use smart_open.open instead. See the migration notes for details: https://github.com/RaRe-Technologies/smart_open/blob/master/README.rst#migrating-to-the-new-open-function\n",
      "  'See the migration notes for details: %s' % _MIGRATION_NOTES_URL\n"
     ]
    }
   ],
   "source": [
    "# import a model and a module for semantic analys\n",
    "import gensim\n",
    "model = gensim.models.KeyedVectors.load_word2vec_format('../model.bin', binary=True) \n",
    "model.init_sims(replace=True)"
   ]
  },
  {
   "cell_type": "code",
   "execution_count": 3,
   "metadata": {
    "collapsed": false
   },
   "outputs": [
    {
     "name": "stderr",
     "output_type": "stream",
     "text": [
      "\n",
      "Loading the model...\n",
      "Processing input...\n"
     ]
    }
   ],
   "source": [
    "# import our module for semantic analys\n",
    "import sys\n",
    "sys.path.append('../')\n",
    "import sem_analysis as sa"
   ]
  },
  {
   "cell_type": "markdown",
   "metadata": {},
   "source": [
    "## 1. Extract Sentences From Documents And Their Preprocessing"
   ]
  },
  {
   "cell_type": "code",
   "execution_count": 4,
   "metadata": {
    "collapsed": false
   },
   "outputs": [],
   "source": [
    "path = \"SectionsWithAction/\"\n",
    "files = list()\n",
    "for i in os.listdir(path):\n",
    "    if 'Sectionstext' in i:\n",
    "        files.append(i)"
   ]
  },
  {
   "cell_type": "code",
   "execution_count": 5,
   "metadata": {
    "collapsed": false
   },
   "outputs": [],
   "source": [
    "sections = dict()\n",
    "for j in files:\n",
    "    f = open(path + j, 'r')\n",
    "    new = list()\n",
    "    for line in f:\n",
    "        s = ''\n",
    "        for i in line:\n",
    "            if i != '\\n':\n",
    "                s = s + i\n",
    "        if len(s) > 0:\n",
    "            new.append(s)\n",
    "    sections[j] = new\n",
    "    f.close()"
   ]
  },
  {
   "cell_type": "code",
   "execution_count": 6,
   "metadata": {
    "collapsed": false
   },
   "outputs": [],
   "source": [
    "# We leave sentences only from documents of type '2_' (see types description in folder ../../Texts)\n",
    "cur_sections = {i:sections[i] for i in sections.keys() if '2_' in i}"
   ]
  },
  {
   "cell_type": "markdown",
   "metadata": {},
   "source": [
    "In current step we initialize a distance matrix for our sentences: an matrix element with indexes `i` and `j` is distance between `i`-th and `j`-th sentences. If sentences `i` and `j` from one document we set this element equal to $\\infty$."
   ]
  },
  {
   "cell_type": "code",
   "execution_count": 9,
   "metadata": {
    "collapsed": true
   },
   "outputs": [],
   "source": [
    "list_ = list()\n",
    "keys = list(cur_sections.keys()).copy()\n",
    "keys.sort()\n",
    "for j in keys:\n",
    "    if len(cur_sections[j]) > 0:\n",
    "        list_.append(np.inf * np.ones((len(cur_sections[j]), len(cur_sections[j]))))\n",
    "    else:\n",
    "        cur_sections.pop(j)\n",
    "        keys.pop(j)\n",
    "D = block_diag(*np.array(list_))"
   ]
  },
  {
   "cell_type": "code",
   "execution_count": 10,
   "metadata": {
    "collapsed": false
   },
   "outputs": [
    {
     "name": "stdout",
     "output_type": "stream",
     "text": [
      "528\n"
     ]
    }
   ],
   "source": [
    "phrases = list()\n",
    "for j in keys:\n",
    "    phrases = phrases + cur_sections[j]\n",
    "print(len(phrases))"
   ]
  },
  {
   "cell_type": "markdown",
   "metadata": {},
   "source": [
    "Now we transform our phrases to format for [RusVectores](https://rusvectores.org/ru/). See [tutorial for RusVectores](https://github.com/akutuzov/webvectors/blob/master/preprocessing/rusvectores_tutorial.ipynb)."
   ]
  },
  {
   "cell_type": "code",
   "execution_count": 11,
   "metadata": {
    "collapsed": false
   },
   "outputs": [
    {
     "name": "stdout",
     "output_type": "stream",
     "text": [
      "100 479.19846844673157\n",
      "200 949.2676832675934\n",
      "300 1420.5151534080505\n",
      "400 1887.7130465507507\n",
      "500 2364.801566362381\n"
     ]
    }
   ],
   "source": [
    "if not 'sections_data.pickle' in os.listdir():\n",
    "    t = time.time()\n",
    "    phrases_transform = list()\n",
    "    for i in phrases:\n",
    "        phrases_transform.append(sa.tag_ud(i))\n",
    "        if len(phrases_transform) % 100 == 0:\n",
    "            print(len(phrases_transform), time.time() - t)\n",
    "    with open('sections_data.pickle', 'wb') as f:\n",
    "        pickle.dump(phrases_transform, f)\n",
    "        f.close()\n",
    "else:\n",
    "    with open('sections_data.pickle', 'rb') as f: \n",
    "        phrases_transform = pickle.load(f)\n",
    "        f.close()"
   ]
  },
  {
   "cell_type": "markdown",
   "metadata": {},
   "source": [
    "## 2. Similarity\n",
    "\n",
    "### 2.1. Similarity withoud filtration"
   ]
  },
  {
   "cell_type": "code",
   "execution_count": 12,
   "metadata": {
    "collapsed": false
   },
   "outputs": [
    {
     "name": "stdout",
     "output_type": "stream",
     "text": [
      "367.6293245544434\n"
     ]
    }
   ],
   "source": [
    "# Distance Matrix\n",
    "import time\n",
    "t = time.time()\n",
    "for i in range(D.shape[0]):\n",
    "    for j in range(i+1, D.shape[1]):\n",
    "        if D[i, j] != np.inf:\n",
    "            D[i,j] = model.wmdistance(phrases_transform[i], phrases_transform[j])\n",
    "            D[j, i] = D[i, j]\n",
    "            if i == 0 and j == 100:\n",
    "                print((time.time() - t)/100*D.shape[0]*D.shape[0] * 0.9 * 0.5)"
   ]
  },
  {
   "cell_type": "markdown",
   "metadata": {},
   "source": [
    "#### Output"
   ]
  },
  {
   "cell_type": "code",
   "execution_count": 13,
   "metadata": {
    "collapsed": false
   },
   "outputs": [],
   "source": [
    "sim = dict()\n",
    "for i in range(D.shape[0]):\n",
    "    for j in range(i+1, D.shape[1]):\n",
    "        if D[i,j] != np.inf and not np.isnan(D[i,j]):\n",
    "            if not sim.__contains__(D[i,j]):\n",
    "                sim[D[i,j]] = []\n",
    "            sim[D[i,j]].append((i, j, phrases[i], phrases[j]))"
   ]
  },
  {
   "cell_type": "code",
   "execution_count": 14,
   "metadata": {
    "collapsed": false
   },
   "outputs": [],
   "source": [
    "keys = list(sim.keys())\n",
    "keys.sort()"
   ]
  },
  {
   "cell_type": "code",
   "execution_count": 15,
   "metadata": {
    "collapsed": false
   },
   "outputs": [],
   "source": [
    "def print_eps(eps, keys, mydict):\n",
    "    i = 0\n",
    "    #while keys[i] > keys[0] - eps and i < len(keys):\n",
    "    while keys[i] < eps and i < len(keys):\n",
    "        if  keys[i] > 0:\n",
    "            for item in mydict[keys[i]]:\n",
    "                print(keys[i], item[0],':',item[2],'\\t',item[1],':', item[3])\n",
    "        i += 1"
   ]
  },
  {
   "cell_type": "code",
   "execution_count": 16,
   "metadata": {
    "collapsed": false
   },
   "outputs": [
    {
     "name": "stdout",
     "output_type": "stream",
     "text": [
      "0.15954787559479477 38 : ListSection  Переспросите год выпуска и пробег авто \t 196 : ListSection   Одометр Соответствие года выпуска и пробега автомобиля.\n",
      "0.29519697349665824 196 : ListSection   Одометр Соответствие года выпуска и пробега автомобиля. \t 230 : Section Автомобили 2007-2012 года выпуска\n",
      "0.29519697349665824 196 : ListSection   Одометр Соответствие года выпуска и пробега автомобиля. \t 231 : Section  Автомобили 2007-2012 года выпуска \n",
      "0.29800054613915083 77 : Section Как правильно выбрать автомобиль \t 275 : Section Как выбрать хороший автомобиль\n",
      "0.29800054613915083 188 : Section Как правильно выбрать автомобиль \t 275 : Section Как выбрать хороший автомобиль\n",
      "0.3431498737350106 196 : ListSection   Одометр Соответствие года выпуска и пробега автомобиля. \t 363 : ListSection  несоответствием года выпуска и пробега.\n",
      "0.34496041212683914 77 : Section Как правильно выбрать автомобиль \t 195 : Section ﻿Как выбрать автомобиль с пробегом\n",
      "0.34496041212683914 188 : Section Как правильно выбрать автомобиль \t 195 : Section ﻿Как выбрать автомобиль с пробегом\n",
      "0.3534974421767592 38 : ListSection  Переспросите год выпуска и пробег авто \t 363 : ListSection  несоответствием года выпуска и пробега.\n",
      "0.35804685467350483 195 : Section ﻿Как выбрать автомобиль с пробегом \t 275 : Section Как выбрать хороший автомобиль\n",
      "0.42223751530108367 50 : Section Внешний осмотр автомобиля \t 118 : Section Алгоритм осмотра автомобиля\n",
      "0.4288565024003961 310 : Section Покупка автомобиля на рынке \t 351 : Section  требования к автомобилю при покупке \n",
      "0.4313224462808917 230 : Section Автомобили 2007-2012 года выпуска \t 276 : ListSection  Год выпуска авто;\n",
      "0.4313224462808917 231 : Section  Автомобили 2007-2012 года выпуска  \t 276 : ListSection  Год выпуска авто;\n",
      "0.44319796571528297 13 : ListSection  При тест-драйве обращайте внимание на все мелочи \t 58 : Section На что обратить внимание внутри\n",
      "0.4547450651950265 38 : ListSection  Переспросите год выпуска и пробег авто \t 230 : Section Автомобили 2007-2012 года выпуска\n",
      "0.4547450651950265 38 : ListSection  Переспросите год выпуска и пробег авто \t 231 : Section  Автомобили 2007-2012 года выпуска \n",
      "0.47481048653451213 38 : ListSection  Переспросите год выпуска и пробег авто \t 276 : ListSection  Год выпуска авто;\n",
      "0.4834508761350036 195 : Section ﻿Как выбрать автомобиль с пробегом \t 263 : Section Как быстро выбрать легковой автомобиль\n",
      "0.4960382288595472 265 : ListSection  Вычеркните из предложенных вариантов самые дешевые и самые дорогие. \t 334 : ListSection  Отбрасывайте самые дешевые и самые дорогие варианты\n",
      "0.5136915691427112 77 : Section Как правильно выбрать автомобиль \t 263 : Section Как быстро выбрать легковой автомобиль\n",
      "0.5136915691427112 188 : Section Как правильно выбрать автомобиль \t 263 : Section Как быстро выбрать легковой автомобиль\n",
      "0.5148525469012558 348 : ListSection  проверяем выбранные автомобили по VIN- или госномеру; \t 445 : ListSection  Проверяйте VIN на машине и в ПТС.\n",
      "0.5165401261630654 0 : Section ﻿14 советов, как выбрать подержанный  автомобиль \t 195 : Section ﻿Как выбрать автомобиль с пробегом\n",
      "0.5169234669678211 249 : Section  пробег подержанного авто  \t 314 : ListSection  Истинный пробег авто;\n",
      "0.5174781117613076 35 : ListSection  Сколько владельцев сменил автомобиль \t 367 : ListSection  Сколько у машины было владельцев?\n",
      "0.5187555049081803 0 : Section ﻿14 советов, как выбрать подержанный  автомобиль \t 263 : Section Как быстро выбрать легковой автомобиль\n",
      "0.5220096895939099 220 : Section Также читайте: Как выбрать марку автомобиля \t 306 : Section Также читайте: Как проверить колеса при покупке автомобиля \n",
      "0.5223216311143041 0 : Section ﻿14 советов, как выбрать подержанный  автомобиль \t 77 : Section Как правильно выбрать автомобиль\n",
      "0.5223216311143041 0 : Section ﻿14 советов, как выбрать подержанный  автомобиль \t 188 : Section Как правильно выбрать автомобиль\n",
      "0.5278328396885456 263 : Section Как быстро выбрать легковой автомобиль \t 275 : Section Как выбрать хороший автомобиль\n",
      "0.530589563385369 220 : Section Также читайте: Как выбрать марку автомобиля \t 301 : Section Также читайте: Как проверить геометрию кузова автомобиля \n",
      "0.5315355340307951 0 : Section ﻿14 советов, как выбрать подержанный  автомобиль \t 275 : Section Как выбрать хороший автомобиль\n",
      "0.5711949493112419 66 : ListSection  Составить заявление на оформление автомобиля. \t 350 : Section Составляем требования к автомобилю\n",
      "0.5796600345754623 3 : ListSection  Не выбирайте машину по принципу «что-нибудь за 400 000 рублей» \t 259 : Section По каким параметрам выбирать легковую машину\n",
      "0.579880570558464 220 : Section Также читайте: Как выбрать марку автомобиля \t 296 : Section Также читайте: Как проверить ПТС на подлинность\n",
      "0.5893641559206844 284 : Section  на что обратить внимание при покупке авто  \t 471 : ListSection  Обратите внимание на износ шин.\n",
      "0.598017617552638 271 : Section Безопасная покупка легковых автомобилей \t 300 : Section  Осмотр кузова автомобиля при покупке \n",
      "0.5983678372825755 335 : ListSection  Сопоставляйте год и пробег \t 363 : ListSection  несоответствием года выпуска и пробега.\n"
     ]
    }
   ],
   "source": [
    "print_eps(0.6, keys, sim)"
   ]
  },
  {
   "cell_type": "markdown",
   "metadata": {
    "collapsed": true
   },
   "source": [
    "### 2.2. SImilarity With Filtration"
   ]
  },
  {
   "cell_type": "code",
   "execution_count": 17,
   "metadata": {
    "collapsed": false
   },
   "outputs": [],
   "source": [
    "import pickle\n",
    "def transform(phrase):\n",
    "    def cond(word):\n",
    "        _ = ['_NOUN', '_VERB','_ADV', '_ADJ']\n",
    "        for i in _:\n",
    "            if i in word:\n",
    "                return True\n",
    "        return False\n",
    "    phrase = phrase.copy()\n",
    "    for i in phrase:\n",
    "        if not cond(i):\n",
    "            phrase.remove(i)\n",
    "    return phrase\n",
    "\n",
    "with open('action_data.pickle', 'rb') as f: \n",
    "    phrases_transform = pickle.load(f)\n",
    "new = list()\n",
    "for i in phrases_transform:\n",
    "    new.append(transform(i))"
   ]
  },
  {
   "cell_type": "code",
   "execution_count": 18,
   "metadata": {
    "collapsed": false
   },
   "outputs": [
    {
     "name": "stdout",
     "output_type": "stream",
     "text": [
      "236.5562037963867\n"
     ]
    }
   ],
   "source": [
    "import time\n",
    "t = time.time()\n",
    "for i in range(D.shape[0]):\n",
    "    for j in range(i+1, D.shape[1]):\n",
    "        if D[i, j] != np.inf:\n",
    "            D[i,j] = model.wmdistance(new[i], new[j])\n",
    "            D[j, i] = D[i, j]\n",
    "            if i == 0 and j == 100:\n",
    "                print((time.time() - t)/100*D.shape[0]*D.shape[0] * 0.9 * 0.5)"
   ]
  },
  {
   "cell_type": "markdown",
   "metadata": {},
   "source": [
    "#### Output"
   ]
  },
  {
   "cell_type": "code",
   "execution_count": 19,
   "metadata": {
    "collapsed": false
   },
   "outputs": [],
   "source": [
    "sim_filtr = dict()\n",
    "for i in range(D.shape[0]):\n",
    "    for j in range(i+1, D.shape[1]):\n",
    "        if D[i,j] != np.inf and not np.isnan(D[i,j]):\n",
    "            if not sim_filtr.__contains__(D[i,j]):\n",
    "                sim_filtr[D[i,j]] = []\n",
    "            sim_filtr[D[i,j]].append((i, j, phrases[i], phrases[j]))"
   ]
  },
  {
   "cell_type": "code",
   "execution_count": 20,
   "metadata": {
    "collapsed": false
   },
   "outputs": [],
   "source": [
    "keys = list(sim_filtr.keys())\n",
    "keys.sort()"
   ]
  },
  {
   "cell_type": "code",
   "execution_count": 21,
   "metadata": {
    "collapsed": false
   },
   "outputs": [],
   "source": [
    "def print_eps(eps, keys, mydict):\n",
    "    i = 0\n",
    "    while keys[i] < eps and i < len(keys):\n",
    "        if  keys[i] > 0:\n",
    "            for item in mydict[keys[i]]:\n",
    "                print(keys[i], item[0],':',item[2],'\\t',item[1],':', item[3])\n",
    "        i += 1"
   ]
  },
  {
   "cell_type": "code",
   "execution_count": 22,
   "metadata": {
    "collapsed": false
   },
   "outputs": [
    {
     "name": "stdout",
     "output_type": "stream",
     "text": [
      "0.4224470385429383 182 : ListSection  На машине стоят либо разные стекла, либо стекла года выпуска, отличные от года выпуска самого автомобиля \t 193 : ListSection  Кондиционер и печку нужно проверить отдельно.\n",
      "0.4326904104550839 78 : ListSection  Вид автомобиля должен соответствовать его возрасту. \t 92 : ListSection  Как она будет оформляться при продаже?\n",
      "0.47209424908647535 266 : ListSection  Рассчитайте самостоятельно, какой приблизительно должен быть пробег у выбранного легкового автомобиля. \t 481 : ListSection  Принюхайтесь.\n",
      "0.4778520528302073 157 : ListSection  Откройте крышку горловины для залива масла и осмотрите ее, поцарапайте внутреннюю поверхность крышки отверткой. \t 191 : ListSection  Задние и передние колёса с одной стороны автомобиля должны находиться на одной линии, – это легко увидеть с расстояния 3-4 метров.\n",
      "0.5372836488081919 405 : Section Двигатель \t 412 : Section Первым делом\n",
      "0.5641961295699341 405 : Section Двигатель \t 523 : ListSection  Не ставьте свою подпись в ПТС, где уже стоит подпись прежнего владельца.\n",
      "0.5675827480500546 10 : ListSection  При покупке машины в автосалоне внимательно читайте все пункты договора \t 434 : ListSection  Покупать машину у перекупщика можно только в самом крайнем случае, если других вариантов нет и не предвидится.\n",
      "0.5688742764857201 405 : Section Двигатель \t 453 : ListSection  Смотрите, нет ли подтёков краски.\n"
     ]
    }
   ],
   "source": [
    "print_eps(0.6, keys, sim_filtr)"
   ]
  },
  {
   "cell_type": "code",
   "execution_count": null,
   "metadata": {
    "collapsed": true
   },
   "outputs": [],
   "source": []
  }
 ],
 "metadata": {
  "anaconda-cloud": {},
  "kernelspec": {
   "display_name": "Python [conda root]",
   "language": "python",
   "name": "conda-root-py"
  },
  "language_info": {
   "codemirror_mode": {
    "name": "ipython",
    "version": 3
   },
   "file_extension": ".py",
   "mimetype": "text/x-python",
   "name": "python",
   "nbconvert_exporter": "python",
   "pygments_lexer": "ipython3",
   "version": "3.5.2"
  }
 },
 "nbformat": 4,
 "nbformat_minor": 1
}
