{
 "cells": [
  {
   "cell_type": "markdown",
   "metadata": {
    "collapsed": true
   },
   "source": [
    "# Steps\n",
    "\n",
    "This document is research of semantic similarity between texts implementins scripts steps."
   ]
  },
  {
   "cell_type": "code",
   "execution_count": 1,
   "metadata": {
    "collapsed": true
   },
   "outputs": [],
   "source": [
    "# import used modules\n",
    "import os\n",
    "import numpy as np\n",
    "import time\n",
    "import pickle"
   ]
  },
  {
   "cell_type": "code",
   "execution_count": 2,
   "metadata": {
    "collapsed": false
   },
   "outputs": [
    {
     "name": "stderr",
     "output_type": "stream",
     "text": [
      "/home/ased/anaconda3/lib/python3.5/site-packages/smart_open/smart_open_lib.py:398: UserWarning: This function is deprecated, use smart_open.open instead. See the migration notes for details: https://github.com/RaRe-Technologies/smart_open/blob/master/README.rst#migrating-to-the-new-open-function\n",
      "  'See the migration notes for details: %s' % _MIGRATION_NOTES_URL\n"
     ]
    }
   ],
   "source": [
    "# import a model and a module for semantic analys\n",
    "import gensim\n",
    "model = gensim.models.KeyedVectors.load_word2vec_format('../../model.bin', binary=True) \n",
    "model.init_sims(replace=True)"
   ]
  },
  {
   "cell_type": "code",
   "execution_count": 3,
   "metadata": {
    "collapsed": false
   },
   "outputs": [
    {
     "name": "stderr",
     "output_type": "stream",
     "text": [
      "\n",
      "Loading the model...\n",
      "Processing input...\n"
     ]
    }
   ],
   "source": [
    "# import our module for semantic analys\n",
    "import sys\n",
    "sys.path.append('../../')\n",
    "import sem_analysis as sa"
   ]
  },
  {
   "cell_type": "markdown",
   "metadata": {},
   "source": [
    "## 1. Extract Sentences From Documents And Their Preprocessing"
   ]
  },
  {
   "cell_type": "code",
   "execution_count": 4,
   "metadata": {
    "collapsed": false
   },
   "outputs": [],
   "source": [
    "files = dict()\n",
    "for i in os.listdir():\n",
    "    if os.path.isdir(i) and i.isdigit():\n",
    "        for j in os.listdir(i):\n",
    "            name = i + '/' + j\n",
    "            f = open(name, 'r')\n",
    "            files[i + '/' + j] = f.read()\n",
    "            f.close()"
   ]
  },
  {
   "cell_type": "code",
   "execution_count": 5,
   "metadata": {
    "collapsed": false
   },
   "outputs": [
    {
     "data": {
      "text/plain": [
       "71"
      ]
     },
     "execution_count": 5,
     "metadata": {},
     "output_type": "execute_result"
    }
   ],
   "source": [
    "import numpy as np\n",
    "n = len(files.keys())\n",
    "D = np.zeros((n, n))\n",
    "keys = list(files.keys())\n",
    "keys.sort()\n",
    "texts = [files[i] for i in keys]\n",
    "len(texts)"
   ]
  },
  {
   "cell_type": "markdown",
   "metadata": {},
   "source": [
    "Now we transform our phrases to format for [RusVectores](https://rusvectores.org/ru/). See [tutorial for RusVectores](https://github.com/akutuzov/webvectors/blob/master/preprocessing/rusvectores_tutorial.ipynb)."
   ]
  },
  {
   "cell_type": "code",
   "execution_count": 6,
   "metadata": {
    "collapsed": false
   },
   "outputs": [],
   "source": [
    "name_pickle = 'texts_transform.pickle'\n",
    "if not name_pickle in os.listdir():\n",
    "    t = time.time()\n",
    "    texts_transform = list()\n",
    "    for i in texts:\n",
    "        texts_transform.append(sa.tag_ud(i))\n",
    "        if len(texts_transform) % 10 == 0:\n",
    "            print(len(texts_transform), time.time() - t)\n",
    "    with open(name_pickle, 'wb') as f:\n",
    "        pickle.dump(texts_transform, f)\n",
    "        f.close()\n",
    "else:\n",
    "    with open(name_pickle, 'rb') as f: \n",
    "        texts_transform = pickle.load(f)\n",
    "        f.close()"
   ]
  },
  {
   "cell_type": "markdown",
   "metadata": {},
   "source": [
    "## 2. Quallity Of Separation"
   ]
  },
  {
   "cell_type": "code",
   "execution_count": 7,
   "metadata": {
    "collapsed": false
   },
   "outputs": [],
   "source": [
    "name_pickle = 'texts_transform.pickle'\n",
    "with open(name_pickle, 'rb') as f: \n",
    "    texts_transform = pickle.load(f)\n",
    "    f.close()\n",
    "centers = list()\n",
    "for j in texts_transform:\n",
    "    new = [model[i] for i in j if model.__contains__(i)]\n",
    "    centers.append(sum(new)/len(new))"
   ]
  },
  {
   "cell_type": "code",
   "execution_count": 8,
   "metadata": {
    "collapsed": false
   },
   "outputs": [],
   "source": [
    "names = list(files.keys())\n",
    "names.sort()\n",
    "list_ = [str(i) for i in range(1, 14)]\n",
    "_ = [i.split('/')[0] for i in names]\n",
    "cur_dict=dict()\n",
    "for ind, i in enumerate(_):\n",
    "    if not cur_dict.__contains__(i):\n",
    "        cur_dict[i] = list()\n",
    "    cur_dict[i].append(centers[ind])"
   ]
  },
  {
   "cell_type": "code",
   "execution_count": 9,
   "metadata": {
    "collapsed": false
   },
   "outputs": [],
   "source": [
    "spheres = dict()\n",
    "for i in cur_dict:\n",
    "    c = sum(cur_dict[i]) / len(cur_dict[i])\n",
    "    spheres[i] = (c, max([np.linalg.norm(c - j) for j in cur_dict[i]]))"
   ]
  },
  {
   "cell_type": "code",
   "execution_count": 10,
   "metadata": {
    "collapsed": false
   },
   "outputs": [
    {
     "name": "stdout",
     "output_type": "stream",
     "text": [
      "[('4', 0.21799523), ('11', 0.21251673), ('10', 0.16417822), ('1', 0.2517743), ('6', 0.3560091), ('5', 0.19442385), ('12', 0.0), ('2', 0.20956105), ('7', 0.28540248), ('9', 0.20796265), ('3', 0.19966942), ('8', 0.22441144), ('0', 0.17428154)]\n"
     ]
    }
   ],
   "source": [
    "print([(i,spheres[i][1]) for i in spheres])\n",
    "full_spheres = {i: list() for i in spheres}\n",
    "for ind, j in enumerate(centers):\n",
    "    m, r = None, np.inf\n",
    "    for key in spheres:\n",
    "        if m is None or r > np.linalg.norm(spheres[key][0] - j):\n",
    "            m, r = key, np.linalg.norm(spheres[key][0] - j)\n",
    "    full_spheres[m].append(ind)"
   ]
  },
  {
   "cell_type": "code",
   "execution_count": 11,
   "metadata": {
    "collapsed": false
   },
   "outputs": [
    {
     "name": "stdout",
     "output_type": "stream",
     "text": [
      "Number, Recall, Precision\n",
      "0 (1.0, 1.0)\n",
      "1 (0.75, 1.0)\n",
      "2 (0.75, 1.0)\n",
      "3 (1.0, 0.875)\n",
      "4 (0.7777777777777778, 0.6363636363636364)\n",
      "5 (0.5, 0.5)\n",
      "6 (0.625, 0.8333333333333334)\n",
      "7 (0.75, 0.75)\n",
      "8 (0.8, 0.5714285714285714)\n",
      "9 (0.8571428571428571, 1.0)\n",
      "10 (1.0, 0.8)\n",
      "11 (0.6666666666666666, 1.0)\n",
      "12 (1.0, 1.0)\n",
      "Accuracy 0.7887323943661971\n"
     ]
    }
   ],
   "source": [
    "true_spheres = {i:[ind for ind,j in enumerate(names) if i ==j.split('/')[0]] for i in spheres}\n",
    "def metric(list1, list2):\n",
    "    TP = len([i for i in list2 if i in list1])\n",
    "    FP = len([i for i in list2 if not i in list1])\n",
    "    FN = len([i for i in list1 if not i in list2])\n",
    "    return TP/(TP+FN), TP/(FP+TP)\n",
    "def full_acc(true_spheres, full_spheres):\n",
    "    s, fs = 0., 0.\n",
    "    for i in true_spheres:\n",
    "        s += len([j for j in full_spheres[i] if j in true_spheres[i]])\n",
    "        fs += len(true_spheres[i])\n",
    "    print('Accuracy', s/ fs)\n",
    "\n",
    "keys = list(true_spheres.keys())\n",
    "keys = [int(i) for i in keys]\n",
    "keys.sort()\n",
    "keys = [str(i) for i in keys]\n",
    "print(\"Number, Recall, Precision\")\n",
    "for i in keys:\n",
    "    print(i, metric(true_spheres[i], full_spheres[i]))\n",
    "full_acc(true_spheres, full_spheres)"
   ]
  },
  {
   "cell_type": "markdown",
   "metadata": {
    "collapsed": true
   },
   "source": [
    "## 3. Research Distance Between Steps"
   ]
  },
  {
   "cell_type": "code",
   "execution_count": 12,
   "metadata": {
    "collapsed": false
   },
   "outputs": [],
   "source": [
    "name_pickle = 'texts_transform.pickle'\n",
    "with open(name_pickle, 'rb') as f: \n",
    "    texts_transform = pickle.load(f)\n",
    "    f.close()\n",
    "centers = list()\n",
    "for j in texts_transform:\n",
    "    new = [model[i] for i in j if model.__contains__(i)]\n",
    "    centers.append(sum(new)/len(new))"
   ]
  },
  {
   "cell_type": "code",
   "execution_count": 13,
   "metadata": {
    "collapsed": false
   },
   "outputs": [],
   "source": [
    "names = list(files.keys())\n",
    "names.sort()\n",
    "_ = [i.split('/')[0] for i in names]\n",
    "cur_dict=dict()\n",
    "for ind, i in enumerate(_):\n",
    "    if not cur_dict.__contains__(i):\n",
    "        cur_dict[i] = list()\n",
    "    cur_dict[i].append(centers[ind])"
   ]
  },
  {
   "cell_type": "code",
   "execution_count": 14,
   "metadata": {
    "collapsed": false
   },
   "outputs": [],
   "source": [
    "n = len(spheres.keys())\n",
    "D_centers = np.zeros((n,n))\n",
    "keys = [i for i in range(0, n)]\n",
    "for i in keys:\n",
    "    for j in keys:\n",
    "        D_centers[i,j] = np.linalg.norm(spheres[str(i)][0] - spheres[str(j)][0])"
   ]
  },
  {
   "cell_type": "markdown",
   "metadata": {},
   "source": [
    "### 3.1. Distance Between Steps Centers"
   ]
  },
  {
   "cell_type": "code",
   "execution_count": 16,
   "metadata": {
    "collapsed": false
   },
   "outputs": [
    {
     "data": {
      "text/html": [
       "<div>\n",
       "<style scoped>\n",
       "    .dataframe tbody tr th:only-of-type {\n",
       "        vertical-align: middle;\n",
       "    }\n",
       "\n",
       "    .dataframe tbody tr th {\n",
       "        vertical-align: top;\n",
       "    }\n",
       "\n",
       "    .dataframe thead th {\n",
       "        text-align: right;\n",
       "    }\n",
       "</style>\n",
       "<table border=\"1\" class=\"dataframe\">\n",
       "  <thead>\n",
       "    <tr style=\"text-align: right;\">\n",
       "      <th></th>\n",
       "      <th>0</th>\n",
       "      <th>1</th>\n",
       "      <th>2</th>\n",
       "      <th>3</th>\n",
       "      <th>4</th>\n",
       "      <th>5</th>\n",
       "      <th>6</th>\n",
       "      <th>7</th>\n",
       "      <th>8</th>\n",
       "      <th>9</th>\n",
       "      <th>10</th>\n",
       "      <th>11</th>\n",
       "      <th>12</th>\n",
       "    </tr>\n",
       "  </thead>\n",
       "  <tbody>\n",
       "    <tr>\n",
       "      <th>0</th>\n",
       "      <td>0.000000</td>\n",
       "      <td>0.194131</td>\n",
       "      <td>0.172467</td>\n",
       "      <td>0.168954</td>\n",
       "      <td>0.160711</td>\n",
       "      <td>0.198725</td>\n",
       "      <td>0.184992</td>\n",
       "      <td>0.162391</td>\n",
       "      <td>0.218876</td>\n",
       "      <td>0.254127</td>\n",
       "      <td>0.154296</td>\n",
       "      <td>0.183489</td>\n",
       "      <td>0.310002</td>\n",
       "    </tr>\n",
       "    <tr>\n",
       "      <th>1</th>\n",
       "      <td>0.194131</td>\n",
       "      <td>0.000000</td>\n",
       "      <td>0.191037</td>\n",
       "      <td>0.170202</td>\n",
       "      <td>0.181411</td>\n",
       "      <td>0.213168</td>\n",
       "      <td>0.168360</td>\n",
       "      <td>0.192671</td>\n",
       "      <td>0.211490</td>\n",
       "      <td>0.250965</td>\n",
       "      <td>0.151607</td>\n",
       "      <td>0.185810</td>\n",
       "      <td>0.300835</td>\n",
       "    </tr>\n",
       "    <tr>\n",
       "      <th>2</th>\n",
       "      <td>0.172467</td>\n",
       "      <td>0.191037</td>\n",
       "      <td>0.000000</td>\n",
       "      <td>0.154325</td>\n",
       "      <td>0.135318</td>\n",
       "      <td>0.155952</td>\n",
       "      <td>0.147221</td>\n",
       "      <td>0.139953</td>\n",
       "      <td>0.201676</td>\n",
       "      <td>0.241108</td>\n",
       "      <td>0.184066</td>\n",
       "      <td>0.162102</td>\n",
       "      <td>0.240007</td>\n",
       "    </tr>\n",
       "    <tr>\n",
       "      <th>3</th>\n",
       "      <td>0.168954</td>\n",
       "      <td>0.170202</td>\n",
       "      <td>0.154325</td>\n",
       "      <td>0.000000</td>\n",
       "      <td>0.128794</td>\n",
       "      <td>0.177108</td>\n",
       "      <td>0.109663</td>\n",
       "      <td>0.148081</td>\n",
       "      <td>0.188185</td>\n",
       "      <td>0.229726</td>\n",
       "      <td>0.126717</td>\n",
       "      <td>0.129200</td>\n",
       "      <td>0.296957</td>\n",
       "    </tr>\n",
       "    <tr>\n",
       "      <th>4</th>\n",
       "      <td>0.160711</td>\n",
       "      <td>0.181411</td>\n",
       "      <td>0.135318</td>\n",
       "      <td>0.128794</td>\n",
       "      <td>0.000000</td>\n",
       "      <td>0.136217</td>\n",
       "      <td>0.130027</td>\n",
       "      <td>0.121715</td>\n",
       "      <td>0.167401</td>\n",
       "      <td>0.221174</td>\n",
       "      <td>0.154763</td>\n",
       "      <td>0.129561</td>\n",
       "      <td>0.286475</td>\n",
       "    </tr>\n",
       "    <tr>\n",
       "      <th>5</th>\n",
       "      <td>0.198725</td>\n",
       "      <td>0.213168</td>\n",
       "      <td>0.155952</td>\n",
       "      <td>0.177108</td>\n",
       "      <td>0.136217</td>\n",
       "      <td>0.000000</td>\n",
       "      <td>0.156411</td>\n",
       "      <td>0.105978</td>\n",
       "      <td>0.219177</td>\n",
       "      <td>0.280072</td>\n",
       "      <td>0.209274</td>\n",
       "      <td>0.175100</td>\n",
       "      <td>0.299323</td>\n",
       "    </tr>\n",
       "    <tr>\n",
       "      <th>6</th>\n",
       "      <td>0.184992</td>\n",
       "      <td>0.168360</td>\n",
       "      <td>0.147221</td>\n",
       "      <td>0.109663</td>\n",
       "      <td>0.130027</td>\n",
       "      <td>0.156411</td>\n",
       "      <td>0.000000</td>\n",
       "      <td>0.149320</td>\n",
       "      <td>0.198547</td>\n",
       "      <td>0.245594</td>\n",
       "      <td>0.161364</td>\n",
       "      <td>0.126757</td>\n",
       "      <td>0.301409</td>\n",
       "    </tr>\n",
       "    <tr>\n",
       "      <th>7</th>\n",
       "      <td>0.162391</td>\n",
       "      <td>0.192671</td>\n",
       "      <td>0.139953</td>\n",
       "      <td>0.148081</td>\n",
       "      <td>0.121715</td>\n",
       "      <td>0.105978</td>\n",
       "      <td>0.149320</td>\n",
       "      <td>0.000000</td>\n",
       "      <td>0.181603</td>\n",
       "      <td>0.236673</td>\n",
       "      <td>0.172451</td>\n",
       "      <td>0.167455</td>\n",
       "      <td>0.273387</td>\n",
       "    </tr>\n",
       "    <tr>\n",
       "      <th>8</th>\n",
       "      <td>0.218876</td>\n",
       "      <td>0.211490</td>\n",
       "      <td>0.201676</td>\n",
       "      <td>0.188185</td>\n",
       "      <td>0.167401</td>\n",
       "      <td>0.219177</td>\n",
       "      <td>0.198547</td>\n",
       "      <td>0.181603</td>\n",
       "      <td>0.000000</td>\n",
       "      <td>0.100414</td>\n",
       "      <td>0.204678</td>\n",
       "      <td>0.215522</td>\n",
       "      <td>0.227614</td>\n",
       "    </tr>\n",
       "    <tr>\n",
       "      <th>9</th>\n",
       "      <td>0.254127</td>\n",
       "      <td>0.250965</td>\n",
       "      <td>0.241108</td>\n",
       "      <td>0.229726</td>\n",
       "      <td>0.221174</td>\n",
       "      <td>0.280072</td>\n",
       "      <td>0.245594</td>\n",
       "      <td>0.236673</td>\n",
       "      <td>0.100414</td>\n",
       "      <td>0.000000</td>\n",
       "      <td>0.244484</td>\n",
       "      <td>0.261868</td>\n",
       "      <td>0.229756</td>\n",
       "    </tr>\n",
       "    <tr>\n",
       "      <th>10</th>\n",
       "      <td>0.154296</td>\n",
       "      <td>0.151607</td>\n",
       "      <td>0.184066</td>\n",
       "      <td>0.126717</td>\n",
       "      <td>0.154763</td>\n",
       "      <td>0.209274</td>\n",
       "      <td>0.161364</td>\n",
       "      <td>0.172451</td>\n",
       "      <td>0.204678</td>\n",
       "      <td>0.244484</td>\n",
       "      <td>0.000000</td>\n",
       "      <td>0.167362</td>\n",
       "      <td>0.316252</td>\n",
       "    </tr>\n",
       "    <tr>\n",
       "      <th>11</th>\n",
       "      <td>0.183489</td>\n",
       "      <td>0.185810</td>\n",
       "      <td>0.162102</td>\n",
       "      <td>0.129200</td>\n",
       "      <td>0.129561</td>\n",
       "      <td>0.175100</td>\n",
       "      <td>0.126757</td>\n",
       "      <td>0.167455</td>\n",
       "      <td>0.215522</td>\n",
       "      <td>0.261868</td>\n",
       "      <td>0.167362</td>\n",
       "      <td>0.000000</td>\n",
       "      <td>0.316932</td>\n",
       "    </tr>\n",
       "    <tr>\n",
       "      <th>12</th>\n",
       "      <td>0.310002</td>\n",
       "      <td>0.300835</td>\n",
       "      <td>0.240007</td>\n",
       "      <td>0.296957</td>\n",
       "      <td>0.286475</td>\n",
       "      <td>0.299323</td>\n",
       "      <td>0.301409</td>\n",
       "      <td>0.273387</td>\n",
       "      <td>0.227614</td>\n",
       "      <td>0.229756</td>\n",
       "      <td>0.316252</td>\n",
       "      <td>0.316932</td>\n",
       "      <td>0.000000</td>\n",
       "    </tr>\n",
       "  </tbody>\n",
       "</table>\n",
       "</div>"
      ],
      "text/plain": [
       "          0         1         2         3         4         5         6   \\\n",
       "0   0.000000  0.194131  0.172467  0.168954  0.160711  0.198725  0.184992   \n",
       "1   0.194131  0.000000  0.191037  0.170202  0.181411  0.213168  0.168360   \n",
       "2   0.172467  0.191037  0.000000  0.154325  0.135318  0.155952  0.147221   \n",
       "3   0.168954  0.170202  0.154325  0.000000  0.128794  0.177108  0.109663   \n",
       "4   0.160711  0.181411  0.135318  0.128794  0.000000  0.136217  0.130027   \n",
       "5   0.198725  0.213168  0.155952  0.177108  0.136217  0.000000  0.156411   \n",
       "6   0.184992  0.168360  0.147221  0.109663  0.130027  0.156411  0.000000   \n",
       "7   0.162391  0.192671  0.139953  0.148081  0.121715  0.105978  0.149320   \n",
       "8   0.218876  0.211490  0.201676  0.188185  0.167401  0.219177  0.198547   \n",
       "9   0.254127  0.250965  0.241108  0.229726  0.221174  0.280072  0.245594   \n",
       "10  0.154296  0.151607  0.184066  0.126717  0.154763  0.209274  0.161364   \n",
       "11  0.183489  0.185810  0.162102  0.129200  0.129561  0.175100  0.126757   \n",
       "12  0.310002  0.300835  0.240007  0.296957  0.286475  0.299323  0.301409   \n",
       "\n",
       "          7         8         9         10        11        12  \n",
       "0   0.162391  0.218876  0.254127  0.154296  0.183489  0.310002  \n",
       "1   0.192671  0.211490  0.250965  0.151607  0.185810  0.300835  \n",
       "2   0.139953  0.201676  0.241108  0.184066  0.162102  0.240007  \n",
       "3   0.148081  0.188185  0.229726  0.126717  0.129200  0.296957  \n",
       "4   0.121715  0.167401  0.221174  0.154763  0.129561  0.286475  \n",
       "5   0.105978  0.219177  0.280072  0.209274  0.175100  0.299323  \n",
       "6   0.149320  0.198547  0.245594  0.161364  0.126757  0.301409  \n",
       "7   0.000000  0.181603  0.236673  0.172451  0.167455  0.273387  \n",
       "8   0.181603  0.000000  0.100414  0.204678  0.215522  0.227614  \n",
       "9   0.236673  0.100414  0.000000  0.244484  0.261868  0.229756  \n",
       "10  0.172451  0.204678  0.244484  0.000000  0.167362  0.316252  \n",
       "11  0.167455  0.215522  0.261868  0.167362  0.000000  0.316932  \n",
       "12  0.273387  0.227614  0.229756  0.316252  0.316932  0.000000  "
      ]
     },
     "execution_count": 16,
     "metadata": {},
     "output_type": "execute_result"
    }
   ],
   "source": [
    "import pandas as pd\n",
    "pd.DataFrame(D_centers)"
   ]
  },
  {
   "cell_type": "markdown",
   "metadata": {},
   "source": [
    "### 3.2. Statistic Information"
   ]
  },
  {
   "cell_type": "code",
   "execution_count": 17,
   "metadata": {
    "collapsed": false
   },
   "outputs": [
    {
     "data": {
      "text/html": [
       "<div>\n",
       "<style scoped>\n",
       "    .dataframe tbody tr th:only-of-type {\n",
       "        vertical-align: middle;\n",
       "    }\n",
       "\n",
       "    .dataframe tbody tr th {\n",
       "        vertical-align: top;\n",
       "    }\n",
       "\n",
       "    .dataframe thead th {\n",
       "        text-align: right;\n",
       "    }\n",
       "</style>\n",
       "<table border=\"1\" class=\"dataframe\">\n",
       "  <thead>\n",
       "    <tr style=\"text-align: right;\">\n",
       "      <th></th>\n",
       "      <th>MIN</th>\n",
       "      <th>ARGMIN</th>\n",
       "      <th>MAX</th>\n",
       "      <th>ARGMAX</th>\n",
       "      <th>MEAN</th>\n",
       "    </tr>\n",
       "  </thead>\n",
       "  <tbody>\n",
       "    <tr>\n",
       "      <th>0</th>\n",
       "      <td>0.154296</td>\n",
       "      <td>10.0</td>\n",
       "      <td>0.310002</td>\n",
       "      <td>12.0</td>\n",
       "      <td>0.181782</td>\n",
       "    </tr>\n",
       "    <tr>\n",
       "      <th>1</th>\n",
       "      <td>0.151607</td>\n",
       "      <td>10.0</td>\n",
       "      <td>0.300835</td>\n",
       "      <td>12.0</td>\n",
       "      <td>0.185514</td>\n",
       "    </tr>\n",
       "    <tr>\n",
       "      <th>2</th>\n",
       "      <td>0.135318</td>\n",
       "      <td>4.0</td>\n",
       "      <td>0.241108</td>\n",
       "      <td>9.0</td>\n",
       "      <td>0.163479</td>\n",
       "    </tr>\n",
       "    <tr>\n",
       "      <th>3</th>\n",
       "      <td>0.109663</td>\n",
       "      <td>6.0</td>\n",
       "      <td>0.296957</td>\n",
       "      <td>12.0</td>\n",
       "      <td>0.155993</td>\n",
       "    </tr>\n",
       "    <tr>\n",
       "      <th>4</th>\n",
       "      <td>0.121715</td>\n",
       "      <td>7.0</td>\n",
       "      <td>0.286475</td>\n",
       "      <td>12.0</td>\n",
       "      <td>0.150274</td>\n",
       "    </tr>\n",
       "    <tr>\n",
       "      <th>5</th>\n",
       "      <td>0.105978</td>\n",
       "      <td>7.0</td>\n",
       "      <td>0.299323</td>\n",
       "      <td>12.0</td>\n",
       "      <td>0.178962</td>\n",
       "    </tr>\n",
       "    <tr>\n",
       "      <th>6</th>\n",
       "      <td>0.109663</td>\n",
       "      <td>3.0</td>\n",
       "      <td>0.301409</td>\n",
       "      <td>12.0</td>\n",
       "      <td>0.159974</td>\n",
       "    </tr>\n",
       "    <tr>\n",
       "      <th>7</th>\n",
       "      <td>0.105978</td>\n",
       "      <td>5.0</td>\n",
       "      <td>0.273387</td>\n",
       "      <td>12.0</td>\n",
       "      <td>0.157822</td>\n",
       "    </tr>\n",
       "    <tr>\n",
       "      <th>8</th>\n",
       "      <td>0.100414</td>\n",
       "      <td>9.0</td>\n",
       "      <td>0.227614</td>\n",
       "      <td>12.0</td>\n",
       "      <td>0.179629</td>\n",
       "    </tr>\n",
       "    <tr>\n",
       "      <th>9</th>\n",
       "      <td>0.100414</td>\n",
       "      <td>8.0</td>\n",
       "      <td>0.280072</td>\n",
       "      <td>5.0</td>\n",
       "      <td>0.215074</td>\n",
       "    </tr>\n",
       "    <tr>\n",
       "      <th>10</th>\n",
       "      <td>0.126717</td>\n",
       "      <td>3.0</td>\n",
       "      <td>0.316252</td>\n",
       "      <td>12.0</td>\n",
       "      <td>0.172870</td>\n",
       "    </tr>\n",
       "    <tr>\n",
       "      <th>11</th>\n",
       "      <td>0.126757</td>\n",
       "      <td>6.0</td>\n",
       "      <td>0.316932</td>\n",
       "      <td>12.0</td>\n",
       "      <td>0.170858</td>\n",
       "    </tr>\n",
       "    <tr>\n",
       "      <th>12</th>\n",
       "      <td>0.227614</td>\n",
       "      <td>8.0</td>\n",
       "      <td>0.316932</td>\n",
       "      <td>11.0</td>\n",
       "      <td>0.261458</td>\n",
       "    </tr>\n",
       "  </tbody>\n",
       "</table>\n",
       "</div>"
      ],
      "text/plain": [
       "         MIN  ARGMIN       MAX  ARGMAX      MEAN\n",
       "0   0.154296    10.0  0.310002    12.0  0.181782\n",
       "1   0.151607    10.0  0.300835    12.0  0.185514\n",
       "2   0.135318     4.0  0.241108     9.0  0.163479\n",
       "3   0.109663     6.0  0.296957    12.0  0.155993\n",
       "4   0.121715     7.0  0.286475    12.0  0.150274\n",
       "5   0.105978     7.0  0.299323    12.0  0.178962\n",
       "6   0.109663     3.0  0.301409    12.0  0.159974\n",
       "7   0.105978     5.0  0.273387    12.0  0.157822\n",
       "8   0.100414     9.0  0.227614    12.0  0.179629\n",
       "9   0.100414     8.0  0.280072     5.0  0.215074\n",
       "10  0.126717     3.0  0.316252    12.0  0.172870\n",
       "11  0.126757     6.0  0.316932    12.0  0.170858\n",
       "12  0.227614     8.0  0.316932    11.0  0.261458"
      ]
     },
     "execution_count": 17,
     "metadata": {},
     "output_type": "execute_result"
    }
   ],
   "source": [
    "\n",
    "D_st = np.array([(D_centers+1000*np.eye(n)).min(axis = 1), (D_centers+1000*np.eye(n)).argmin(axis = 1), \n",
    "                 D_centers.max(axis = 1), D_centers.argmax(axis = 1),\n",
    "                 D_centers.mean(axis = 1)])\n",
    "D_st = D_st.transpose()\n",
    "pd.DataFrame(D_st, columns = ['MIN', 'ARGMIN','MAX', 'ARGMAX', 'MEAN'])"
   ]
  },
  {
   "cell_type": "markdown",
   "metadata": {},
   "source": [
    "## 3.3 Internal Distance"
   ]
  },
  {
   "cell_type": "code",
   "execution_count": null,
   "metadata": {
    "collapsed": true
   },
   "outputs": [],
   "source": []
  }
 ],
 "metadata": {
  "anaconda-cloud": {},
  "kernelspec": {
   "display_name": "Python [conda root]",
   "language": "python",
   "name": "conda-root-py"
  },
  "language_info": {
   "codemirror_mode": {
    "name": "ipython",
    "version": 3
   },
   "file_extension": ".py",
   "mimetype": "text/x-python",
   "name": "python",
   "nbconvert_exporter": "python",
   "pygments_lexer": "ipython3",
   "version": "3.5.2"
  }
 },
 "nbformat": 4,
 "nbformat_minor": 1
}
