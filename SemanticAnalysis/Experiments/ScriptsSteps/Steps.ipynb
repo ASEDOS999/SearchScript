{
 "cells": [
  {
   "cell_type": "markdown",
   "metadata": {
    "collapsed": true
   },
   "source": [
    "# Research Actions\n",
    "\n",
    "This document is research of semantic similarity between including actions sentences from different documents. "
   ]
  },
  {
   "cell_type": "code",
   "execution_count": 1,
   "metadata": {
    "collapsed": true
   },
   "outputs": [],
   "source": [
    "# import used modules\n",
    "import os\n",
    "import numpy as np\n",
    "import time\n",
    "import pickle"
   ]
  },
  {
   "cell_type": "code",
   "execution_count": 2,
   "metadata": {
    "collapsed": false
   },
   "outputs": [
    {
     "name": "stderr",
     "output_type": "stream",
     "text": [
      "/home/ased/anaconda3/lib/python3.5/site-packages/smart_open/smart_open_lib.py:398: UserWarning: This function is deprecated, use smart_open.open instead. See the migration notes for details: https://github.com/RaRe-Technologies/smart_open/blob/master/README.rst#migrating-to-the-new-open-function\n",
      "  'See the migration notes for details: %s' % _MIGRATION_NOTES_URL\n"
     ]
    }
   ],
   "source": [
    "# import a model and a module for semantic analys\n",
    "import gensim\n",
    "model = gensim.models.KeyedVectors.load_word2vec_format('../../model.bin', binary=True) \n",
    "model.init_sims(replace=True)"
   ]
  },
  {
   "cell_type": "code",
   "execution_count": 3,
   "metadata": {
    "collapsed": false
   },
   "outputs": [
    {
     "name": "stderr",
     "output_type": "stream",
     "text": [
      "\n",
      "Loading the model...\n",
      "Processing input...\n"
     ]
    }
   ],
   "source": [
    "# import our module for semantic analys\n",
    "import sys\n",
    "sys.path.append('../../')\n",
    "import sem_analysis as sa"
   ]
  },
  {
   "cell_type": "markdown",
   "metadata": {},
   "source": [
    "## 1. Extract Sentences From Documents And Their Preprocessing"
   ]
  },
  {
   "cell_type": "code",
   "execution_count": 9,
   "metadata": {
    "collapsed": false
   },
   "outputs": [],
   "source": [
    "files = dict()\n",
    "for i in os.listdir():\n",
    "    if os.path.isdir(i) and i.isdigit():\n",
    "        for j in os.listdir(i):\n",
    "            name = i + '/' + j\n",
    "            f = open(name, 'r')\n",
    "            files[i + '/' + j] = f.read()\n",
    "            f.close()"
   ]
  },
  {
   "cell_type": "code",
   "execution_count": 17,
   "metadata": {
    "collapsed": false
   },
   "outputs": [
    {
     "data": {
      "text/plain": [
       "71"
      ]
     },
     "execution_count": 17,
     "metadata": {},
     "output_type": "execute_result"
    }
   ],
   "source": [
    "import numpy as np\n",
    "n = len(files.keys())\n",
    "D = np.zeros((n, n))\n",
    "keys = list(files.keys())\n",
    "keys.sort()\n",
    "texts = [files[i] for i in keys]\n",
    "len(texts)"
   ]
  },
  {
   "cell_type": "markdown",
   "metadata": {},
   "source": [
    "Now we transform our phrases to format for [RusVectores](https://rusvectores.org/ru/). See [tutorial for RusVectores](https://github.com/akutuzov/webvectors/blob/master/preprocessing/rusvectores_tutorial.ipynb)."
   ]
  },
  {
   "cell_type": "code",
   "execution_count": 18,
   "metadata": {
    "collapsed": false
   },
   "outputs": [],
   "source": [
    "name_pickle = 'texts_transform.pickle'\n",
    "if not name_pickle in os.listdir():\n",
    "    t = time.time()\n",
    "    texts_transform = list()\n",
    "    for i in texts:\n",
    "        texts_transform.append(sa.tag_ud(i))\n",
    "        if len(texts_transform) % 10 == 0:\n",
    "            print(len(texts_transform), time.time() - t)\n",
    "    with open(name_pickle, 'wb') as f:\n",
    "        pickle.dump(texts_transform, f)\n",
    "        f.close()\n",
    "else:\n",
    "    with open(name_pickle, 'rb') as f: \n",
    "        texts_transform = pickle.load(f)\n",
    "        f.close()"
   ]
  },
  {
   "cell_type": "markdown",
   "metadata": {},
   "source": [
    "## 2. Similarity\n",
    "\n",
    "### 2.1. Similarity withoud filtration"
   ]
  },
  {
   "cell_type": "code",
   "execution_count": 121,
   "metadata": {
    "collapsed": false
   },
   "outputs": [
    {
     "name": "stdout",
     "output_type": "stream",
     "text": [
      "150.108639074564\n"
     ]
    }
   ],
   "source": [
    "# Distance Matrix\n",
    "import time\n",
    "t = time.time()\n",
    "for i in range(D.shape[0]):\n",
    "    for j in range(i+1, D.shape[1]):\n",
    "        if D[i, j] != np.inf:\n",
    "            D[i,j] = model.wmdistance(texts_transform[i], texts_transform[j])\n",
    "            D[j, i] = D[i, j]\n",
    "            if i == 0 and j == 10:\n",
    "                print((time.time() - t)/10*D.shape[0]*D.shape[0] * 0.9 * 0.5)"
   ]
  },
  {
   "cell_type": "markdown",
   "metadata": {},
   "source": [
    "#### Output"
   ]
  },
  {
   "cell_type": "code",
   "execution_count": 126,
   "metadata": {
    "collapsed": false
   },
   "outputs": [],
   "source": [
    "keys = list(files.keys())\n",
    "keys.sort()\n",
    "sim = dict()\n",
    "for i in range(D.shape[0]):\n",
    "    for j in range(i+1, D.shape[1]):\n",
    "        if D[i,j] != np.inf and not np.isnan(D[i,j]):\n",
    "            if not sim.__contains__(D[i,j]):\n",
    "                sim[D[i,j]] = []\n",
    "            sim[D[i,j]].append((keys[i], keys[j]))"
   ]
  },
  {
   "cell_type": "code",
   "execution_count": 127,
   "metadata": {
    "collapsed": false
   },
   "outputs": [],
   "source": [
    "keys = list(sim.keys())\n",
    "keys.sort()"
   ]
  },
  {
   "cell_type": "code",
   "execution_count": 212,
   "metadata": {
    "collapsed": false
   },
   "outputs": [],
   "source": [
    "Q = [set([i]) for i in range(D.shape[0])]\n",
    "def dist(set1, set2, D):\n",
    "    s, k = 0, 0\n",
    "    for i in set1:\n",
    "        for j in set2:\n",
    "            s += D[i, j]\n",
    "            k += 1\n",
    "    return s / k\n",
    "def update(Q, D):\n",
    "    m = None\n",
    "    for i in Q:\n",
    "        for j in Q:\n",
    "            if i != j:\n",
    "                cur = dist(i,j,D)\n",
    "                if m is None or cur < m[2]:\n",
    "                    m = (i, j, cur)\n",
    "    new = set.union(m[0], m[1])\n",
    "    Q.remove(m[0])\n",
    "    Q.remove(m[1])\n",
    "    Q.append(new)\n",
    "    return Q\n",
    "res = list()\n",
    "res.append([set([names[j] for j in i]) for i in Q])\n",
    "names = list(files.keys())\n",
    "names.sort()\n",
    "while len(Q) > 1:\n",
    "    Q  = update(Q, D)\n",
    "    res.append([set([names[j] for j in i]) for i in Q])"
   ]
  },
  {
   "cell_type": "markdown",
   "metadata": {},
   "source": [
    "### Distance Distribution"
   ]
  },
  {
   "cell_type": "code",
   "execution_count": 142,
   "metadata": {
    "collapsed": false
   },
   "outputs": [
    {
     "data": {
      "text/plain": [
       "<matplotlib.legend.Legend at 0x7f9098244908>"
      ]
     },
     "execution_count": 142,
     "metadata": {},
     "output_type": "execute_result"
    },
    {
     "data": {
      "image/png": "[encoded data removed]",
      "text/plain": [
       "<Figure size 432x288 with 1 Axes>"
      ]
     },
     "metadata": {},
     "output_type": "display_data"
    }
   ],
   "source": [
    "true, false = dict(), dict()\n",
    "for i in keys:\n",
    "    if i < 10:\n",
    "        j = sim[i]\n",
    "        true[i] = 0\n",
    "        false[i] = 0\n",
    "        for k in j:\n",
    "            v1, v2 = k[0].split('/')[0], k[1].split('/')[0]\n",
    "            iv1, iv2 = int(v1), int(v2)\n",
    "            if (v1 == v2 or \n",
    "                (iv1 in [7,5] and iv2 in [7,5])or \n",
    "                (iv1 in [8,9] and iv2 in [8,9])):\n",
    "                true[i] += 1\n",
    "            else:\n",
    "                false[i] += 1\n",
    "                \n",
    "import matplotlib.pylab as plt\n",
    "% matplotlib inline\n",
    "s1, s2 = 0, 0\n",
    "x, y1, y2 =list(), list(), list()\n",
    "for i in keys:\n",
    "    s1 += true[i]\n",
    "    s2 += false[i]\n",
    "    x.append(i)\n",
    "    y1.append(s1)\n",
    "    y2.append(s2)\n",
    "plt.semilogy(x, y1)\n",
    "plt.semilogy(x, y2)\n",
    "plt.legend(['True', 'False'])"
   ]
  },
  {
   "cell_type": "markdown",
   "metadata": {},
   "source": [
    "## L2-norm"
   ]
  },
  {
   "cell_type": "code",
   "execution_count": 222,
   "metadata": {
    "collapsed": true
   },
   "outputs": [],
   "source": [
    "name_pickle = 'texts_transform.pickle'\n",
    "with open(name_pickle, 'rb') as f: \n",
    "    texts_transform = pickle.load(f)\n",
    "    f.close()\n",
    "centers = list()\n",
    "for j in texts_transform:\n",
    "    new = [model[i] for i in j if model.__contains__(i)]\n",
    "    centers.append(sum(new)/len(new))"
   ]
  },
  {
   "cell_type": "code",
   "execution_count": 225,
   "metadata": {
    "collapsed": false
   },
   "outputs": [],
   "source": [
    "names = list(files.keys())\n",
    "names.sort()\n",
    "list_ = [str(i) for i in range(1, 14)]\n",
    "_ = [i.split('/')[0] for i in names]\n",
    "cur_dict=dict()\n",
    "for ind, i in enumerate(_):\n",
    "    if not cur_dict.__contains__(i):\n",
    "        cur_dict[i] = list()\n",
    "    cur_dict[i].append(centers[ind])"
   ]
  },
  {
   "cell_type": "code",
   "execution_count": 227,
   "metadata": {
    "collapsed": false
   },
   "outputs": [],
   "source": [
    "spheres = dict()\n",
    "for i in cur_dict:\n",
    "    c = sum(cur_dict[i]) / len(cur_dict[i])\n",
    "    spheres[i] = (c, max([np.linalg.norm(c - j) for j in cur_dict[i]]))"
   ]
  },
  {
   "cell_type": "code",
   "execution_count": 243,
   "metadata": {
    "collapsed": false
   },
   "outputs": [
    {
     "name": "stdout",
     "output_type": "stream",
     "text": [
      "[('4', 0.19749889), ('13', 0.0), ('6', 0.32385966), ('10', 0.27951425), ('7', 0.2962793), ('3', 0.1551227), ('12', 0.14154117), ('11', 0.23932087), ('1', 0.17428154), ('5', 0.20202908), ('2', 0.17635223), ('9', 0.19043814), ('8', 0.24444105)]\n"
     ]
    }
   ],
   "source": [
    "print([(i,spheres[i][1]) for i in spheres])\n",
    "full_spheres = {i: list() for i in spheres}\n",
    "for ind, j in enumerate(centers):\n",
    "    m, r = None, np.inf\n",
    "    for key in spheres:\n",
    "        if m is None or r > np.linalg.norm(spheres[key][0] - j):\n",
    "            m, r = key, np.linalg.norm(spheres[key][0] - j)\n",
    "    full_spheres[m].append(ind)"
   ]
  },
  {
   "cell_type": "code",
   "execution_count": 252,
   "metadata": {
    "collapsed": false
   },
   "outputs": [
    {
     "name": "stdout",
     "output_type": "stream",
     "text": [
      "1 (1.0, 1.0)\n",
      "2 (1.0, 1.0)\n",
      "3 (1.0, 0.8)\n",
      "4 (0.8571428571428571, 0.6666666666666666)\n",
      "5 (0.6666666666666666, 0.75)\n",
      "6 (0.8333333333333334, 0.8333333333333334)\n",
      "7 (0.75, 0.8571428571428571)\n",
      "8 (0.875, 0.875)\n",
      "9 (0.8, 1.0)\n",
      "10 (1.0, 1.0)\n",
      "11 (1.0, 1.0)\n",
      "12 (1.0, 1.0)\n",
      "13 (1.0, 1.0)\n",
      "0.8732394366197183\n"
     ]
    }
   ],
   "source": [
    "true_spheres = {i:[ind for ind,j in enumerate(names) if i ==j.split('/')[0]] for i in spheres}\n",
    "def metric(list1, list2):\n",
    "    TP = len([i for i in list2 if i in list1])\n",
    "    FP = len([i for i in list2 if not i in list1])\n",
    "    FN = len([i for i in list1 if not i in list2])\n",
    "    return TP/(TP+FN), TP/(FP+TP)\n",
    "def full_acc(true_spheres, full_spheres):\n",
    "    s, fs = 0., 0.\n",
    "    for i in true_spheres:\n",
    "        s += len([j for j in full_spheres[i] if j in true_spheres[i]])\n",
    "        fs += len(true_spheres[i])\n",
    "    print(s/ fs)\n",
    "\n",
    "keys = list(true_spheres.keys())\n",
    "keys = [int(i) for i in keys]\n",
    "keys.sort()\n",
    "keys = [str(i) for i in keys]\n",
    "for i in keys:\n",
    "    print(i, metric(true_spheres[i], full_spheres[i]))\n",
    "full_acc(true_spheres, full_spheres)"
   ]
  },
  {
   "cell_type": "code",
   "execution_count": null,
   "metadata": {
    "collapsed": true
   },
   "outputs": [],
   "source": []
  }
 ],
 "metadata": {
  "anaconda-cloud": {},
  "kernelspec": {
   "display_name": "Python [conda root]",
   "language": "python",
   "name": "conda-root-py"
  },
  "language_info": {
   "codemirror_mode": {
    "name": "ipython",
    "version": 3
   },
   "file_extension": ".py",
   "mimetype": "text/x-python",
   "name": "python",
   "nbconvert_exporter": "python",
   "pygments_lexer": "ipython3",
   "version": "3.5.2"
  }
 },
 "nbformat": 4,
 "nbformat_minor": 1
}
