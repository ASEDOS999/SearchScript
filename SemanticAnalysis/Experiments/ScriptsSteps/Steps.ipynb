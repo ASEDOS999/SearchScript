{
 "cells": [
  {
   "cell_type": "markdown",
   "metadata": {
    "collapsed": true
   },
   "source": [
    "# Steps\n",
    "\n",
    "This document is research of semantic similarity between texts implementins scripts steps."
   ]
  },
  {
   "cell_type": "code",
   "execution_count": 1,
   "metadata": {
    "collapsed": true
   },
   "outputs": [],
   "source": [
    "# import used modules\n",
    "import os\n",
    "import numpy as np\n",
    "import time\n",
    "import pickle"
   ]
  },
  {
   "cell_type": "code",
   "execution_count": 2,
   "metadata": {
    "collapsed": false
   },
   "outputs": [
    {
     "name": "stderr",
     "output_type": "stream",
     "text": [
      "/home/ased/anaconda3/lib/python3.5/site-packages/smart_open/smart_open_lib.py:398: UserWarning: This function is deprecated, use smart_open.open instead. See the migration notes for details: https://github.com/RaRe-Technologies/smart_open/blob/master/README.rst#migrating-to-the-new-open-function\n",
      "  'See the migration notes for details: %s' % _MIGRATION_NOTES_URL\n"
     ]
    }
   ],
   "source": [
    "# import a model and a module for semantic analys\n",
    "import gensim\n",
    "model = gensim.models.KeyedVectors.load_word2vec_format('../../model.bin', binary=True) \n",
    "model.init_sims(replace=True)"
   ]
  },
  {
   "cell_type": "code",
   "execution_count": 3,
   "metadata": {
    "collapsed": false
   },
   "outputs": [
    {
     "name": "stderr",
     "output_type": "stream",
     "text": [
      "\n",
      "Loading the model...\n",
      "Processing input...\n"
     ]
    }
   ],
   "source": [
    "# import our module for semantic analys\n",
    "import sys\n",
    "sys.path.append('../../')\n",
    "import sem_analysis as sa"
   ]
  },
  {
   "cell_type": "markdown",
   "metadata": {},
   "source": [
    "## 1. Extract Sentences From Documents And Their Preprocessing"
   ]
  },
  {
   "cell_type": "code",
   "execution_count": 126,
   "metadata": {
    "collapsed": false
   },
   "outputs": [],
   "source": [
    "files = dict()\n",
    "for i in os.listdir():\n",
    "    if os.path.isdir(i) and i.isdigit():\n",
    "        for j in os.listdir(i):\n",
    "            name = i + '/' + j\n",
    "            f = open(name, 'r')\n",
    "            files[i + '/' + j] = f.read()\n",
    "            f.close()"
   ]
  },
  {
   "cell_type": "code",
   "execution_count": 127,
   "metadata": {
    "collapsed": false
   },
   "outputs": [
    {
     "data": {
      "text/plain": [
       "70"
      ]
     },
     "execution_count": 127,
     "metadata": {},
     "output_type": "execute_result"
    }
   ],
   "source": [
    "import numpy as np\n",
    "n = len(files.keys())\n",
    "D = np.zeros((n, n))\n",
    "keys = list(files.keys())\n",
    "keys.sort()\n",
    "texts = [files[i] for i in keys]\n",
    "len(texts)"
   ]
  },
  {
   "cell_type": "markdown",
   "metadata": {},
   "source": [
    "Now we transform our phrases to format for [RusVectores](https://rusvectores.org/ru/). See [tutorial for RusVectores](https://github.com/akutuzov/webvectors/blob/master/preprocessing/rusvectores_tutorial.ipynb)."
   ]
  },
  {
   "cell_type": "code",
   "execution_count": 128,
   "metadata": {
    "collapsed": false
   },
   "outputs": [],
   "source": [
    "name_pickle = 'texts_transform.pickle'\n",
    "if not name_pickle in os.listdir():\n",
    "    t = time.time()\n",
    "    texts_transform = list()\n",
    "    for i in texts:\n",
    "        texts_transform.append(sa.tag_ud(i))\n",
    "        if len(texts_transform) % 10 == 0:\n",
    "            print(len(texts_transform), time.time() - t)\n",
    "    with open(name_pickle, 'wb') as f:\n",
    "        pickle.dump(texts_transform, f)\n",
    "        f.close()\n",
    "else:\n",
    "    with open(name_pickle, 'rb') as f: \n",
    "        texts_transform = pickle.load(f)\n",
    "        f.close()"
   ]
  },
  {
   "cell_type": "markdown",
   "metadata": {},
   "source": [
    "## 2. Quallity Of Separation"
   ]
  },
  {
   "cell_type": "markdown",
   "metadata": {},
   "source": [
    "## 2.1. Texts Subsets\n",
    "\n",
    "Mean precision, mean recall, mean accuracy"
   ]
  },
  {
   "cell_type": "code",
   "execution_count": 136,
   "metadata": {
    "collapsed": false
   },
   "outputs": [
    {
     "name": "stdout",
     "output_type": "stream",
     "text": [
      "28 28\n"
     ]
    }
   ],
   "source": [
    "list_keys = ['4', '6', '7', '9']\n",
    "cur_centers = [centers[ind] for ind, i in  enumerate(names) if i.split('/')[0] in list_keys]\n",
    "cur_names = [i for ind, i in  enumerate(names) if i.split('/')[0] in list_keys]\n",
    "_ = [i.split('/')[0] for i in names]\n",
    "cur_dict=dict()\n",
    "for ind, i in enumerate(_):\n",
    "    if i in list_keys:\n",
    "        if not cur_dict.__contains__(i):\n",
    "            cur_dict[i] = list()\n",
    "        cur_dict[i].append((centers[ind], names[ind]))\n",
    "cur_dict = {i:cur_dict[i][:7] for i in cur_dict}\n",
    "cur_names = list()\n",
    "for _ in [[j[1] for j in cur_dict[i]] for i in list_keys]:\n",
    "    for item in _:\n",
    "        cur_names.append(item)\n",
    "cur_centers = list()\n",
    "for _ in [[j[0] for j in cur_dict[i]] for i in list_keys]:\n",
    "    for item in _:\n",
    "        cur_centers.append(item)\n",
    "d = cur_dict\n",
    "d = {i:[j[0] for j in d[i]] for i in list_keys}\n",
    "print(len(cur_centers), len(cur_names))"
   ]
  },
  {
   "cell_type": "code",
   "execution_count": 137,
   "metadata": {
    "collapsed": false
   },
   "outputs": [],
   "source": [
    "spheres = dict()\n",
    "for i in d:\n",
    "    c = sum(d[i]) / len(d[i])\n",
    "    spheres[i] = (c, max([np.linalg.norm(c - j) for j in d[i]]))"
   ]
  },
  {
   "cell_type": "code",
   "execution_count": 138,
   "metadata": {
    "collapsed": false
   },
   "outputs": [],
   "source": [
    "full_spheres = get_separation(cur_centers, {i:spheres[i][0] for i in spheres})"
   ]
  },
  {
   "cell_type": "code",
   "execution_count": 139,
   "metadata": {
    "collapsed": false
   },
   "outputs": [
    {
     "data": {
      "text/plain": [
       "(0.9642857142857143, 0.96875, 0.9642857142857143)"
      ]
     },
     "execution_count": 139,
     "metadata": {},
     "output_type": "execute_result"
    }
   ],
   "source": [
    "true_spheres = {i:[ind for ind,j in enumerate(cur_names) if i ==j.split('/')[0]] for i in spheres}\n",
    "full_acc(true_spheres, full_spheres, with_print = False)"
   ]
  },
  {
   "cell_type": "code",
   "execution_count": 146,
   "metadata": {
    "collapsed": false
   },
   "outputs": [
    {
     "name": "stdout",
     "output_type": "stream",
     "text": [
      "2401 1\n",
      "194481 2\n",
      "1500625 3\n",
      "1500625 4\n",
      "194481 5\n",
      "2401 6\n",
      "1 7\n"
     ]
    }
   ],
   "source": [
    "from itertools import combinations,product\n",
    "keys = list(d.keys())\n",
    "true_spheres = {i:[ind for ind,j in enumerate(cur_names) if i ==j.split('/')[0]] for i in list_keys}\n",
    "res = list()\n",
    "for num_item in range(1, len(d[list(d.keys())[0]]) + 1):\n",
    "    C = dict()\n",
    "    C = {i:[sum(list(j))/num_item for j in combinations(d[i], num_item)] for i in d}\n",
    "    _ = [C[i] for i in keys]\n",
    "    dicts = [{keys[ind]:j for ind,j in enumerate(list(i))} for i in product(*_)]\n",
    "    recall, prec, acc = list(), list(), list()\n",
    "    print(len(dicts), num_item)\n",
    "    for i in dicts:\n",
    "        full_spheres = get_separation(cur_centers, i)\n",
    "        item1, item2, item3 = full_acc(true_spheres, full_spheres, with_print = False)\n",
    "        recall.append(item1)\n",
    "        prec.append(item2)\n",
    "        acc.append(item3)\n",
    "    res.append([sum(recall)/len(recall),\n",
    "               sum(prec)/len(prec),\n",
    "               sum(acc)/len(acc)])"
   ]
  },
  {
   "cell_type": "code",
   "execution_count": 166,
   "metadata": {
    "collapsed": true
   },
   "outputs": [],
   "source": [
    "with open('res.pickle', 'wb') as f:\n",
    "    pickle.dump(res, f)\n",
    "    f.close()"
   ]
  },
  {
   "cell_type": "code",
   "execution_count": 147,
   "metadata": {
    "collapsed": false
   },
   "outputs": [
    {
     "data": {
      "text/html": [
       "<div>\n",
       "<style scoped>\n",
       "    .dataframe tbody tr th:only-of-type {\n",
       "        vertical-align: middle;\n",
       "    }\n",
       "\n",
       "    .dataframe tbody tr th {\n",
       "        vertical-align: top;\n",
       "    }\n",
       "\n",
       "    .dataframe thead th {\n",
       "        text-align: right;\n",
       "    }\n",
       "</style>\n",
       "<table border=\"1\" class=\"dataframe\">\n",
       "  <thead>\n",
       "    <tr style=\"text-align: right;\">\n",
       "      <th></th>\n",
       "      <th>Recall</th>\n",
       "      <th>Precision</th>\n",
       "      <th>Accuracy</th>\n",
       "    </tr>\n",
       "  </thead>\n",
       "  <tbody>\n",
       "    <tr>\n",
       "      <th>1</th>\n",
       "      <td>0.633575</td>\n",
       "      <td>0.731000</td>\n",
       "      <td>0.633575</td>\n",
       "    </tr>\n",
       "    <tr>\n",
       "      <th>2</th>\n",
       "      <td>0.757591</td>\n",
       "      <td>0.797170</td>\n",
       "      <td>0.757591</td>\n",
       "    </tr>\n",
       "    <tr>\n",
       "      <th>3</th>\n",
       "      <td>0.835391</td>\n",
       "      <td>0.854682</td>\n",
       "      <td>0.835391</td>\n",
       "    </tr>\n",
       "    <tr>\n",
       "      <th>4</th>\n",
       "      <td>0.885787</td>\n",
       "      <td>0.897799</td>\n",
       "      <td>0.885787</td>\n",
       "    </tr>\n",
       "    <tr>\n",
       "      <th>5</th>\n",
       "      <td>0.921939</td>\n",
       "      <td>0.930246</td>\n",
       "      <td>0.921939</td>\n",
       "    </tr>\n",
       "    <tr>\n",
       "      <th>6</th>\n",
       "      <td>0.951687</td>\n",
       "      <td>0.957115</td>\n",
       "      <td>0.951687</td>\n",
       "    </tr>\n",
       "    <tr>\n",
       "      <th>7</th>\n",
       "      <td>0.964286</td>\n",
       "      <td>0.968750</td>\n",
       "      <td>0.964286</td>\n",
       "    </tr>\n",
       "  </tbody>\n",
       "</table>\n",
       "</div>"
      ],
      "text/plain": [
       "     Recall  Precision  Accuracy\n",
       "1  0.633575   0.731000  0.633575\n",
       "2  0.757591   0.797170  0.757591\n",
       "3  0.835391   0.854682  0.835391\n",
       "4  0.885787   0.897799  0.885787\n",
       "5  0.921939   0.930246  0.921939\n",
       "6  0.951687   0.957115  0.951687\n",
       "7  0.964286   0.968750  0.964286"
      ]
     },
     "execution_count": 147,
     "metadata": {},
     "output_type": "execute_result"
    }
   ],
   "source": [
    "import pandas as pd\n",
    "Q = np.array(res)\n",
    "pd.DataFrame(Q, \n",
    "             columns = ['Recall', 'Precision', 'Accuracy'], \n",
    "             index = [i for i in range(1, len(d[list(d.keys())[0]]) + 1)])"
   ]
  },
  {
   "cell_type": "markdown",
   "metadata": {},
   "source": [
    "## 2.2. Full Texts Set"
   ]
  },
  {
   "cell_type": "code",
   "execution_count": 152,
   "metadata": {
    "collapsed": false
   },
   "outputs": [],
   "source": [
    "name_pickle = 'texts_transform.pickle'\n",
    "with open(name_pickle, 'rb') as f: \n",
    "    texts_transform = pickle.load(f)\n",
    "    f.close()\n",
    "centers = list()\n",
    "for j in texts_transform:\n",
    "    new = [model[i] for i in j if model.__contains__(i)]\n",
    "    centers.append(sum(new)/len(new))"
   ]
  },
  {
   "cell_type": "code",
   "execution_count": 153,
   "metadata": {
    "collapsed": false
   },
   "outputs": [],
   "source": [
    "names = list(files.keys())\n",
    "names.sort()\n",
    "_ = [i.split('/')[0] for i in names]\n",
    "cur_dict=dict()\n",
    "for ind, i in enumerate(_):\n",
    "    if not cur_dict.__contains__(i):\n",
    "        cur_dict[i] = list()\n",
    "    cur_dict[i].append(centers[ind])"
   ]
  },
  {
   "cell_type": "code",
   "execution_count": 154,
   "metadata": {
    "collapsed": false
   },
   "outputs": [],
   "source": [
    "spheres = dict()\n",
    "for i in cur_dict:\n",
    "    c = sum(cur_dict[i]) / len(cur_dict[i])\n",
    "    spheres[i] = (c, max([np.linalg.norm(c - j) for j in cur_dict[i]]))"
   ]
  },
  {
   "cell_type": "code",
   "execution_count": 155,
   "metadata": {
    "collapsed": false
   },
   "outputs": [],
   "source": [
    "def get_separation(centers, spheres):\n",
    "    full_spheres = {i: list() for i in spheres}\n",
    "    for ind, j in enumerate(centers):\n",
    "        m, r = None, np.inf\n",
    "        for key in spheres:\n",
    "            if m is None or r > np.linalg.norm(spheres[key] - j):\n",
    "                m, r = key, np.linalg.norm(spheres[key] - j)\n",
    "        full_spheres[m].append(ind)\n",
    "    return full_spheres"
   ]
  },
  {
   "cell_type": "code",
   "execution_count": 156,
   "metadata": {
    "collapsed": false
   },
   "outputs": [],
   "source": [
    "full_spheres = get_separation(centers, {i:spheres[i][0] for i in spheres})"
   ]
  },
  {
   "cell_type": "code",
   "execution_count": 157,
   "metadata": {
    "collapsed": false
   },
   "outputs": [],
   "source": [
    "def metric(list1, list2):\n",
    "    TP = len([i for i in list2 if i in list1])\n",
    "    FP = len([i for i in list2 if not i in list1])\n",
    "    FN = len([i for i in list1 if not i in list2])\n",
    "    return TP/(TP+FN), TP/(FP+TP)\n",
    "def full_acc(true_spheres, full_spheres, with_print = True):\n",
    "    keys = list(true_spheres.keys())\n",
    "    keys = [int(i) for i in keys]\n",
    "    keys.sort()\n",
    "    keys = [str(i) for i in keys]\n",
    "    if with_print:\n",
    "        print(\"Number, Recall, Precision\")\n",
    "    s, fs = 0., 0.\n",
    "    recall, precision = list(), list()\n",
    "    for i in keys:\n",
    "        _1, _2 = metric(true_spheres[i], full_spheres[i])\n",
    "        recall.append(_1)\n",
    "        precision.append(_2)\n",
    "        if with_print:\n",
    "            print(i, recall[-1], precision[-1])\n",
    "        s += len([j for j in full_spheres[i] if j in true_spheres[i]])\n",
    "        fs += len(true_spheres[i])\n",
    "    return sum(recall)/len(recall), sum(precision)/len(precision), s/fs"
   ]
  },
  {
   "cell_type": "code",
   "execution_count": 158,
   "metadata": {
    "collapsed": false
   },
   "outputs": [
    {
     "name": "stdout",
     "output_type": "stream",
     "text": [
      "Number, Recall, Precision\n",
      "0 1.0 1.0\n",
      "1 1.0 1.0\n",
      "2 1.0 0.8\n",
      "3 0.8571428571428571 0.6666666666666666\n",
      "4 0.6666666666666666 0.75\n",
      "5 0.8333333333333334 0.8333333333333334\n",
      "6 0.75 0.8571428571428571\n",
      "7 0.875 0.875\n",
      "8 0.8 1.0\n",
      "9 1.0 1.0\n",
      "10 1.0 1.0\n",
      "11 1.0 1.0\n"
     ]
    },
    {
     "data": {
      "text/plain": [
       "(0.8985119047619047, 0.8985119047619047, 0.8714285714285714)"
      ]
     },
     "execution_count": 158,
     "metadata": {},
     "output_type": "execute_result"
    }
   ],
   "source": [
    "true_spheres = {i:[ind for ind,j in enumerate(names) if i ==j.split('/')[0]] for i in spheres}\n",
    "full_acc(true_spheres, full_spheres)"
   ]
  },
  {
   "cell_type": "markdown",
   "metadata": {
    "collapsed": true
   },
   "source": [
    "## 3. Research Distance Between Steps"
   ]
  },
  {
   "cell_type": "code",
   "execution_count": 159,
   "metadata": {
    "collapsed": false
   },
   "outputs": [],
   "source": [
    "name_pickle = 'texts_transform.pickle'\n",
    "with open(name_pickle, 'rb') as f: \n",
    "    texts_transform = pickle.load(f)\n",
    "    f.close()\n",
    "centers = list()\n",
    "for j in texts_transform:\n",
    "    new = [model[i] for i in j if model.__contains__(i)]\n",
    "    centers.append(sum(new)/len(new))"
   ]
  },
  {
   "cell_type": "code",
   "execution_count": 160,
   "metadata": {
    "collapsed": false
   },
   "outputs": [],
   "source": [
    "names = list(files.keys())\n",
    "names.sort()\n",
    "_ = [i.split('/')[0] for i in names]\n",
    "cur_dict=dict()\n",
    "for ind, i in enumerate(_):\n",
    "    if not cur_dict.__contains__(i):\n",
    "        cur_dict[i] = list()\n",
    "    cur_dict[i].append(centers[ind])"
   ]
  },
  {
   "cell_type": "code",
   "execution_count": 162,
   "metadata": {
    "collapsed": false
   },
   "outputs": [],
   "source": [
    "n = len(spheres.keys())\n",
    "D_centers = np.zeros((n,n))\n",
    "keys = [i for i in range(0, n)]\n",
    "for i in keys:\n",
    "    for j in keys:\n",
    "        D_centers[i,j] = np.linalg.norm(spheres[str(i)][0] - spheres[str(j)][0])"
   ]
  },
  {
   "cell_type": "markdown",
   "metadata": {},
   "source": [
    "### 3.1. Distance Between Steps Centers"
   ]
  },
  {
   "cell_type": "code",
   "execution_count": 163,
   "metadata": {
    "collapsed": false
   },
   "outputs": [
    {
     "data": {
      "text/html": [
       "<div>\n",
       "<style scoped>\n",
       "    .dataframe tbody tr th:only-of-type {\n",
       "        vertical-align: middle;\n",
       "    }\n",
       "\n",
       "    .dataframe tbody tr th {\n",
       "        vertical-align: top;\n",
       "    }\n",
       "\n",
       "    .dataframe thead th {\n",
       "        text-align: right;\n",
       "    }\n",
       "</style>\n",
       "<table border=\"1\" class=\"dataframe\">\n",
       "  <thead>\n",
       "    <tr style=\"text-align: right;\">\n",
       "      <th></th>\n",
       "      <th>0</th>\n",
       "      <th>1</th>\n",
       "      <th>2</th>\n",
       "      <th>3</th>\n",
       "      <th>4</th>\n",
       "      <th>5</th>\n",
       "      <th>6</th>\n",
       "      <th>7</th>\n",
       "      <th>8</th>\n",
       "      <th>9</th>\n",
       "      <th>10</th>\n",
       "      <th>11</th>\n",
       "    </tr>\n",
       "  </thead>\n",
       "  <tbody>\n",
       "    <tr>\n",
       "      <th>0</th>\n",
       "      <td>0.000000</td>\n",
       "      <td>0.186481</td>\n",
       "      <td>0.189814</td>\n",
       "      <td>0.159948</td>\n",
       "      <td>0.189155</td>\n",
       "      <td>0.214254</td>\n",
       "      <td>0.163731</td>\n",
       "      <td>0.228201</td>\n",
       "      <td>0.266157</td>\n",
       "      <td>0.172369</td>\n",
       "      <td>0.157634</td>\n",
       "      <td>0.248050</td>\n",
       "    </tr>\n",
       "    <tr>\n",
       "      <th>1</th>\n",
       "      <td>0.186481</td>\n",
       "      <td>0.000000</td>\n",
       "      <td>0.184479</td>\n",
       "      <td>0.183067</td>\n",
       "      <td>0.209134</td>\n",
       "      <td>0.170573</td>\n",
       "      <td>0.191442</td>\n",
       "      <td>0.259894</td>\n",
       "      <td>0.299288</td>\n",
       "      <td>0.172414</td>\n",
       "      <td>0.157767</td>\n",
       "      <td>0.271436</td>\n",
       "    </tr>\n",
       "    <tr>\n",
       "      <th>2</th>\n",
       "      <td>0.189814</td>\n",
       "      <td>0.184479</td>\n",
       "      <td>0.000000</td>\n",
       "      <td>0.124397</td>\n",
       "      <td>0.165187</td>\n",
       "      <td>0.152620</td>\n",
       "      <td>0.167136</td>\n",
       "      <td>0.172860</td>\n",
       "      <td>0.223444</td>\n",
       "      <td>0.168513</td>\n",
       "      <td>0.130206</td>\n",
       "      <td>0.230869</td>\n",
       "    </tr>\n",
       "    <tr>\n",
       "      <th>3</th>\n",
       "      <td>0.159948</td>\n",
       "      <td>0.183067</td>\n",
       "      <td>0.124397</td>\n",
       "      <td>0.000000</td>\n",
       "      <td>0.140407</td>\n",
       "      <td>0.169207</td>\n",
       "      <td>0.144816</td>\n",
       "      <td>0.196055</td>\n",
       "      <td>0.241608</td>\n",
       "      <td>0.161607</td>\n",
       "      <td>0.120623</td>\n",
       "      <td>0.238084</td>\n",
       "    </tr>\n",
       "    <tr>\n",
       "      <th>4</th>\n",
       "      <td>0.189155</td>\n",
       "      <td>0.209134</td>\n",
       "      <td>0.165187</td>\n",
       "      <td>0.140407</td>\n",
       "      <td>0.000000</td>\n",
       "      <td>0.181466</td>\n",
       "      <td>0.102595</td>\n",
       "      <td>0.212918</td>\n",
       "      <td>0.271278</td>\n",
       "      <td>0.196835</td>\n",
       "      <td>0.150865</td>\n",
       "      <td>0.230424</td>\n",
       "    </tr>\n",
       "    <tr>\n",
       "      <th>5</th>\n",
       "      <td>0.214254</td>\n",
       "      <td>0.170573</td>\n",
       "      <td>0.152620</td>\n",
       "      <td>0.169207</td>\n",
       "      <td>0.181466</td>\n",
       "      <td>0.000000</td>\n",
       "      <td>0.191939</td>\n",
       "      <td>0.230440</td>\n",
       "      <td>0.278785</td>\n",
       "      <td>0.166034</td>\n",
       "      <td>0.149185</td>\n",
       "      <td>0.248171</td>\n",
       "    </tr>\n",
       "    <tr>\n",
       "      <th>6</th>\n",
       "      <td>0.163731</td>\n",
       "      <td>0.191442</td>\n",
       "      <td>0.167136</td>\n",
       "      <td>0.144816</td>\n",
       "      <td>0.102595</td>\n",
       "      <td>0.191939</td>\n",
       "      <td>0.000000</td>\n",
       "      <td>0.219710</td>\n",
       "      <td>0.274943</td>\n",
       "      <td>0.189920</td>\n",
       "      <td>0.151927</td>\n",
       "      <td>0.242950</td>\n",
       "    </tr>\n",
       "    <tr>\n",
       "      <th>7</th>\n",
       "      <td>0.228201</td>\n",
       "      <td>0.259894</td>\n",
       "      <td>0.172860</td>\n",
       "      <td>0.196055</td>\n",
       "      <td>0.212918</td>\n",
       "      <td>0.230440</td>\n",
       "      <td>0.219710</td>\n",
       "      <td>0.000000</td>\n",
       "      <td>0.119390</td>\n",
       "      <td>0.215929</td>\n",
       "      <td>0.206861</td>\n",
       "      <td>0.215655</td>\n",
       "    </tr>\n",
       "    <tr>\n",
       "      <th>8</th>\n",
       "      <td>0.266157</td>\n",
       "      <td>0.299288</td>\n",
       "      <td>0.223444</td>\n",
       "      <td>0.241608</td>\n",
       "      <td>0.271278</td>\n",
       "      <td>0.278785</td>\n",
       "      <td>0.274943</td>\n",
       "      <td>0.119390</td>\n",
       "      <td>0.000000</td>\n",
       "      <td>0.258760</td>\n",
       "      <td>0.254001</td>\n",
       "      <td>0.230963</td>\n",
       "    </tr>\n",
       "    <tr>\n",
       "      <th>9</th>\n",
       "      <td>0.172369</td>\n",
       "      <td>0.172414</td>\n",
       "      <td>0.168513</td>\n",
       "      <td>0.161607</td>\n",
       "      <td>0.196835</td>\n",
       "      <td>0.166034</td>\n",
       "      <td>0.189920</td>\n",
       "      <td>0.215929</td>\n",
       "      <td>0.258760</td>\n",
       "      <td>0.000000</td>\n",
       "      <td>0.156122</td>\n",
       "      <td>0.245486</td>\n",
       "    </tr>\n",
       "    <tr>\n",
       "      <th>10</th>\n",
       "      <td>0.157634</td>\n",
       "      <td>0.157767</td>\n",
       "      <td>0.130206</td>\n",
       "      <td>0.120623</td>\n",
       "      <td>0.150865</td>\n",
       "      <td>0.149185</td>\n",
       "      <td>0.151927</td>\n",
       "      <td>0.206861</td>\n",
       "      <td>0.254001</td>\n",
       "      <td>0.156122</td>\n",
       "      <td>0.000000</td>\n",
       "      <td>0.226139</td>\n",
       "    </tr>\n",
       "    <tr>\n",
       "      <th>11</th>\n",
       "      <td>0.248050</td>\n",
       "      <td>0.271436</td>\n",
       "      <td>0.230869</td>\n",
       "      <td>0.238084</td>\n",
       "      <td>0.230424</td>\n",
       "      <td>0.248171</td>\n",
       "      <td>0.242950</td>\n",
       "      <td>0.215655</td>\n",
       "      <td>0.230963</td>\n",
       "      <td>0.245486</td>\n",
       "      <td>0.226139</td>\n",
       "      <td>0.000000</td>\n",
       "    </tr>\n",
       "  </tbody>\n",
       "</table>\n",
       "</div>"
      ],
      "text/plain": [
       "          0         1         2         3         4         5         6   \\\n",
       "0   0.000000  0.186481  0.189814  0.159948  0.189155  0.214254  0.163731   \n",
       "1   0.186481  0.000000  0.184479  0.183067  0.209134  0.170573  0.191442   \n",
       "2   0.189814  0.184479  0.000000  0.124397  0.165187  0.152620  0.167136   \n",
       "3   0.159948  0.183067  0.124397  0.000000  0.140407  0.169207  0.144816   \n",
       "4   0.189155  0.209134  0.165187  0.140407  0.000000  0.181466  0.102595   \n",
       "5   0.214254  0.170573  0.152620  0.169207  0.181466  0.000000  0.191939   \n",
       "6   0.163731  0.191442  0.167136  0.144816  0.102595  0.191939  0.000000   \n",
       "7   0.228201  0.259894  0.172860  0.196055  0.212918  0.230440  0.219710   \n",
       "8   0.266157  0.299288  0.223444  0.241608  0.271278  0.278785  0.274943   \n",
       "9   0.172369  0.172414  0.168513  0.161607  0.196835  0.166034  0.189920   \n",
       "10  0.157634  0.157767  0.130206  0.120623  0.150865  0.149185  0.151927   \n",
       "11  0.248050  0.271436  0.230869  0.238084  0.230424  0.248171  0.242950   \n",
       "\n",
       "          7         8         9         10        11  \n",
       "0   0.228201  0.266157  0.172369  0.157634  0.248050  \n",
       "1   0.259894  0.299288  0.172414  0.157767  0.271436  \n",
       "2   0.172860  0.223444  0.168513  0.130206  0.230869  \n",
       "3   0.196055  0.241608  0.161607  0.120623  0.238084  \n",
       "4   0.212918  0.271278  0.196835  0.150865  0.230424  \n",
       "5   0.230440  0.278785  0.166034  0.149185  0.248171  \n",
       "6   0.219710  0.274943  0.189920  0.151927  0.242950  \n",
       "7   0.000000  0.119390  0.215929  0.206861  0.215655  \n",
       "8   0.119390  0.000000  0.258760  0.254001  0.230963  \n",
       "9   0.215929  0.258760  0.000000  0.156122  0.245486  \n",
       "10  0.206861  0.254001  0.156122  0.000000  0.226139  \n",
       "11  0.215655  0.230963  0.245486  0.226139  0.000000  "
      ]
     },
     "execution_count": 163,
     "metadata": {},
     "output_type": "execute_result"
    }
   ],
   "source": [
    "import pandas as pd\n",
    "pd.DataFrame(D_centers)"
   ]
  },
  {
   "cell_type": "markdown",
   "metadata": {},
   "source": [
    "### 3.2. Statistic Information"
   ]
  },
  {
   "cell_type": "code",
   "execution_count": 164,
   "metadata": {
    "collapsed": false
   },
   "outputs": [
    {
     "data": {
      "text/html": [
       "<div>\n",
       "<style scoped>\n",
       "    .dataframe tbody tr th:only-of-type {\n",
       "        vertical-align: middle;\n",
       "    }\n",
       "\n",
       "    .dataframe tbody tr th {\n",
       "        vertical-align: top;\n",
       "    }\n",
       "\n",
       "    .dataframe thead th {\n",
       "        text-align: right;\n",
       "    }\n",
       "</style>\n",
       "<table border=\"1\" class=\"dataframe\">\n",
       "  <thead>\n",
       "    <tr style=\"text-align: right;\">\n",
       "      <th></th>\n",
       "      <th>MIN</th>\n",
       "      <th>ARGMIN</th>\n",
       "      <th>MAX</th>\n",
       "      <th>ARGMAX</th>\n",
       "      <th>MEAN</th>\n",
       "    </tr>\n",
       "  </thead>\n",
       "  <tbody>\n",
       "    <tr>\n",
       "      <th>0</th>\n",
       "      <td>0.157634</td>\n",
       "      <td>10.0</td>\n",
       "      <td>0.266157</td>\n",
       "      <td>8.0</td>\n",
       "      <td>0.181316</td>\n",
       "    </tr>\n",
       "    <tr>\n",
       "      <th>1</th>\n",
       "      <td>0.157767</td>\n",
       "      <td>10.0</td>\n",
       "      <td>0.299288</td>\n",
       "      <td>8.0</td>\n",
       "      <td>0.190498</td>\n",
       "    </tr>\n",
       "    <tr>\n",
       "      <th>2</th>\n",
       "      <td>0.124397</td>\n",
       "      <td>3.0</td>\n",
       "      <td>0.230869</td>\n",
       "      <td>11.0</td>\n",
       "      <td>0.159127</td>\n",
       "    </tr>\n",
       "    <tr>\n",
       "      <th>3</th>\n",
       "      <td>0.120623</td>\n",
       "      <td>10.0</td>\n",
       "      <td>0.241608</td>\n",
       "      <td>8.0</td>\n",
       "      <td>0.156652</td>\n",
       "    </tr>\n",
       "    <tr>\n",
       "      <th>4</th>\n",
       "      <td>0.102595</td>\n",
       "      <td>6.0</td>\n",
       "      <td>0.271278</td>\n",
       "      <td>8.0</td>\n",
       "      <td>0.170855</td>\n",
       "    </tr>\n",
       "    <tr>\n",
       "      <th>5</th>\n",
       "      <td>0.149185</td>\n",
       "      <td>10.0</td>\n",
       "      <td>0.278785</td>\n",
       "      <td>8.0</td>\n",
       "      <td>0.179390</td>\n",
       "    </tr>\n",
       "    <tr>\n",
       "      <th>6</th>\n",
       "      <td>0.102595</td>\n",
       "      <td>4.0</td>\n",
       "      <td>0.274943</td>\n",
       "      <td>8.0</td>\n",
       "      <td>0.170093</td>\n",
       "    </tr>\n",
       "    <tr>\n",
       "      <th>7</th>\n",
       "      <td>0.119390</td>\n",
       "      <td>8.0</td>\n",
       "      <td>0.259894</td>\n",
       "      <td>1.0</td>\n",
       "      <td>0.189826</td>\n",
       "    </tr>\n",
       "    <tr>\n",
       "      <th>8</th>\n",
       "      <td>0.119390</td>\n",
       "      <td>7.0</td>\n",
       "      <td>0.299288</td>\n",
       "      <td>1.0</td>\n",
       "      <td>0.226551</td>\n",
       "    </tr>\n",
       "    <tr>\n",
       "      <th>9</th>\n",
       "      <td>0.156122</td>\n",
       "      <td>10.0</td>\n",
       "      <td>0.258760</td>\n",
       "      <td>8.0</td>\n",
       "      <td>0.175332</td>\n",
       "    </tr>\n",
       "    <tr>\n",
       "      <th>10</th>\n",
       "      <td>0.120623</td>\n",
       "      <td>3.0</td>\n",
       "      <td>0.254001</td>\n",
       "      <td>8.0</td>\n",
       "      <td>0.155111</td>\n",
       "    </tr>\n",
       "    <tr>\n",
       "      <th>11</th>\n",
       "      <td>0.215655</td>\n",
       "      <td>7.0</td>\n",
       "      <td>0.271436</td>\n",
       "      <td>1.0</td>\n",
       "      <td>0.219019</td>\n",
       "    </tr>\n",
       "  </tbody>\n",
       "</table>\n",
       "</div>"
      ],
      "text/plain": [
       "         MIN  ARGMIN       MAX  ARGMAX      MEAN\n",
       "0   0.157634    10.0  0.266157     8.0  0.181316\n",
       "1   0.157767    10.0  0.299288     8.0  0.190498\n",
       "2   0.124397     3.0  0.230869    11.0  0.159127\n",
       "3   0.120623    10.0  0.241608     8.0  0.156652\n",
       "4   0.102595     6.0  0.271278     8.0  0.170855\n",
       "5   0.149185    10.0  0.278785     8.0  0.179390\n",
       "6   0.102595     4.0  0.274943     8.0  0.170093\n",
       "7   0.119390     8.0  0.259894     1.0  0.189826\n",
       "8   0.119390     7.0  0.299288     1.0  0.226551\n",
       "9   0.156122    10.0  0.258760     8.0  0.175332\n",
       "10  0.120623     3.0  0.254001     8.0  0.155111\n",
       "11  0.215655     7.0  0.271436     1.0  0.219019"
      ]
     },
     "execution_count": 164,
     "metadata": {},
     "output_type": "execute_result"
    }
   ],
   "source": [
    "D_st = np.array([(D_centers+1000*np.eye(n)).min(axis = 1), (D_centers+1000*np.eye(n)).argmin(axis = 1), \n",
    "                 D_centers.max(axis = 1), D_centers.argmax(axis = 1),\n",
    "                 D_centers.mean(axis = 1)])\n",
    "D_st = D_st.transpose()\n",
    "pd.DataFrame(D_st, columns = ['MIN', 'ARGMIN','MAX', 'ARGMAX', 'MEAN'])"
   ]
  },
  {
   "cell_type": "markdown",
   "metadata": {},
   "source": [
    "## 3.3 Internal Distance"
   ]
  },
  {
   "cell_type": "code",
   "execution_count": 165,
   "metadata": {
    "collapsed": false
   },
   "outputs": [
    {
     "name": "stdout",
     "output_type": "stream",
     "text": [
      "0.657\n"
     ]
    }
   ],
   "source": [
    "new = 0.\n",
    "for i in full_spheres:\n",
    "    for j in full_spheres[i]:\n",
    "        d = np.array([np.linalg.norm(c - centers[j]) for c in centers])\n",
    "        d[j] += 1000\n",
    "        if not d.argmin() in full_spheres[i]:\n",
    "            new+=1\n",
    "print(\"%.3f\"%(1 - new/len(centers)))"
   ]
  },
  {
   "cell_type": "code",
   "execution_count": null,
   "metadata": {
    "collapsed": true
   },
   "outputs": [],
   "source": []
  }
 ],
 "metadata": {
  "anaconda-cloud": {},
  "kernelspec": {
   "display_name": "Python [conda root]",
   "language": "python",
   "name": "conda-root-py"
  },
  "language_info": {
   "codemirror_mode": {
    "name": "ipython",
    "version": 3
   },
   "file_extension": ".py",
   "mimetype": "text/x-python",
   "name": "python",
   "nbconvert_exporter": "python",
   "pygments_lexer": "ipython3",
   "version": "3.5.2"
  }
 },
 "nbformat": 4,
 "nbformat_minor": 1
}
