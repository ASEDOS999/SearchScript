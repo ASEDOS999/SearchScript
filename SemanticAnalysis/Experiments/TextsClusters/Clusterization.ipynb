{
 "cells": [
  {
   "cell_type": "markdown",
   "metadata": {},
   "source": [
    "# Clusterization\n",
    "\n",
    "## 1. Texts Separation"
   ]
  },
  {
   "cell_type": "code",
   "execution_count": 1,
   "metadata": {
    "collapsed": true
   },
   "outputs": [],
   "source": [
    "path = \"../../../Texts/text2_12.txt\" "
   ]
  },
  {
   "cell_type": "markdown",
   "metadata": {},
   "source": [
    "## 2. Experiments With Semantic"
   ]
  },
  {
   "cell_type": "code",
   "execution_count": 2,
   "metadata": {
    "collapsed": true
   },
   "outputs": [],
   "source": [
    "import os\n",
    "import numpy as np\n",
    "import time\n",
    "import pickle\n",
    "from scipy.linalg import block_diag"
   ]
  },
  {
   "cell_type": "code",
   "execution_count": 3,
   "metadata": {
    "collapsed": false,
    "scrolled": false
   },
   "outputs": [
    {
     "name": "stderr",
     "output_type": "stream",
     "text": [
      "/home/ased/anaconda3/lib/python3.5/site-packages/smart_open/smart_open_lib.py:398: UserWarning: This function is deprecated, use smart_open.open instead. See the migration notes for details: https://github.com/RaRe-Technologies/smart_open/blob/master/README.rst#migrating-to-the-new-open-function\n",
      "  'See the migration notes for details: %s' % _MIGRATION_NOTES_URL\n"
     ]
    }
   ],
   "source": [
    "import gensim\n",
    "model = gensim.models.KeyedVectors.load_word2vec_format('../../model.bin', binary=True) \n",
    "#model.init_sims(replace=True)"
   ]
  },
  {
   "cell_type": "code",
   "execution_count": 4,
   "metadata": {
    "collapsed": false
   },
   "outputs": [],
   "source": [
    "import pickle\n",
    "with open('../../table.pickle', 'rb') as f:\n",
    "    table = pickle.load(f)\n",
    "    f.close()"
   ]
  },
  {
   "cell_type": "markdown",
   "metadata": {},
   "source": [
    "### 2.1. Trivial Segmentation On Segmented From Programm"
   ]
  },
  {
   "cell_type": "code",
   "execution_count": 5,
   "metadata": {
    "collapsed": false
   },
   "outputs": [
    {
     "name": "stderr",
     "output_type": "stream",
     "text": [
      "/home/ased/Desktop/PROJECTS/SearchScript/SemanticAnalysis/Experiments/TextsClusters/clusterization.py:91: RuntimeWarning: invalid value encountered in true_divide\n",
      "  return s/k\n"
     ]
    }
   ],
   "source": [
    "from clusterization import trivial_segmentation\n",
    "\n",
    "list_texts, TT, list_tag_ud = trivial_segmentation(path, model, table[path.split('/')[-1]])\n",
    "def try_(word):\n",
    "    mylist = ['CONJ', 'PART', 'ADP', 'PRON', 'DET']\n",
    "    #mylist = list()\n",
    "    for i in mylist:\n",
    "        if i in word:\n",
    "            return False\n",
    "    return True\n",
    "model.init_sims(replace=True)\n",
    "def get_vector(sent, model = model):\n",
    "    s =np.zeros((300,))\n",
    "    k = 0\n",
    "    for i in sent:\n",
    "        if model.__contains__(i) and try_(i):\n",
    "            s+= model[i]\n",
    "            k += 1\n",
    "    return s/k\n",
    "TT = [get_vector(i) for i in list_tag_ud]"
   ]
  },
  {
   "cell_type": "code",
   "execution_count": 6,
   "metadata": {
    "collapsed": false
   },
   "outputs": [
    {
     "name": "stdout",
     "output_type": "stream",
     "text": [
      "123 123\n",
      "Инструкция по покупке подержанного авто для «продвинутого чайника»Если Вы твердо решили купить подержанный автомобиль, но в авто особо не разбираетесь – попробуйте следовать нижеприведенным инструкциям. \n",
      "\n",
      " С их помощью Вы сможете увеличить свои шансы купить авто, которое действительно стоит тех денег, которые Вы за него готовы отдать. Итак, поехали! \n",
      "\n",
      "Подготовка Точно определитесь с суммой, которую Вы готовы потратить на приобретение автомобиля. \n",
      "\n",
      " Вычтите из нее 10% - оставшиеся 90% будут той максимальной ценой, по которой Вы сможете купить авто. 10% уйдут на оформление купли/продажи, постановку на учет, страхование, замену расходников и прочие мелкие расходы, связанные с покупкой и приобретением машины. \n",
      "\n",
      " Морально настройтесь на длительные поиски. \n",
      "\n",
      " Как показывает опыт, время, потраченное на поиски, обычно пропорционально состоянию найденного авто. Хотя, конечно, бывают и приятные исключения. Определитесь (хотя бы примерно) с маркой и моделью автомобиля, который хотите приобрести. \n",
      "\n",
      " Соберите информацию, почитайте форумы, запишите все слабые места, на которые стоит обратить внимание при осмотре машины. \n",
      "\n",
      " Если есть возможность, обязательно возьмите с собой на осмотр напарника, желательно разбирающегося в авто. Дополнительная пара любознательных глаз лишней не будет. \n",
      "\n",
      "Что спрашивать по телефону у владельца авто?Как правило, большинство покупают автомобили по объявлениям. Прежде чем договариваться с владельцем о встрече для осмотра автомобиля, полезно будет задать несколько вопросов по телефону. \n",
      "\n",
      " Возможно, так вы избавитесь от необходимости тратить время на осмотр авто, которые вам изначально не подходят. Итак, настраиваемся на то, что вряд ли ответы на все вопросы будут честными, и начинаем спрашивать:Общие вопросы: Где машина стоит на учёте? Как она будет оформляться при продаже? Как давно у вас эта машина? \n",
      "\n",
      " Если недавно и уже продает – это должно насторожить. Где обслуживается и чинится машина? Сам в гараже? Сервис? Дядя Вася? \n",
      "\n",
      " Так можно понять, экономил ли хозяин на ремонте и какого уровня и качества работы производились. Какие самые крупные замены, поломки и ремонты производились? Если хозяин не врет, то это будет виртуальная сервисная книжка с историями самых тяжелых болезней. \n",
      "\n",
      " Почему вы ее продаете? Как правило, после такого опроса становится ясно, что с машиной надо будет делать. \n",
      "\n",
      "Кузов: Машина была в авариях? Если «Да» - то это повод внимательнее оценить геометрию кузова. Машина была крашена? Опять же повод внимательнее оценить геометрию кузова. Есть коррозия? Как правило, машины гниют там, где их били. В каком состояние пороги? Машину с гнилыми порогами брать не стоит - они, как правило, отражают общее состояние автомобиля.Двигатель: Какой расход масла на 10 000 км? Более 5-ти литров - можно считать критическим. Есть посторонние стуки в моторе? Если «Да» - повод померить компрессию, показать мотор мастеру для оценки стоимости ремонта. Есть ли течь технических жидкостей? \n",
      "\n",
      " Как правило, если за машиной хорошо следили, их не должно быть. \n",
      "\n",
      " Расход бензина в городском цикле. По нему можно следить о работе всех вспомогательных агрегатов, лямда-зонда, герметичности подачи воздуха. \n",
      "\n",
      " Работает термомуфта или нет? Какое масло заливает в двигатель и с какой периодичностью? Это дает возможность представить приблизительные условия эксплуатации и отношение хозяина к покупке “расходников” – экономил на машине или нет. Каким бензином заправляется? Опять же - экономит на машине или нет.Салон: Какое общее состояние салона? Что не работает в салоне? Дует ли печка? Работает ли кондиционер? Что из электрики не работает?Подвеска: В каком состоянии передние/задние амортизаторы? Есть ли стуки в передней/задней подвеске?Трансмиссия:Как правило, тут вам мало кто что-то внятное скажет , в основном, могут рассказать о работе КПП. В каком состоянии диск сцепления (относится только для механической КПП)? МКПП - есть ли посторонние шумы? АКПП - есть ли рывки при трогании с места и переключении, пробуксовывает ли коробка? Ответ должен быть НЕТ, иначе вас ждет ремонт АКПП, а он весьма дорогой.Теперь, если все услышанное вас устраивает, договариваемся о встрече и едем смотреть машину! \n",
      "\n",
      "Алгоритм осмотра автомобиляДанный алгоритм позволит увеличить вероятность правильного выбора при покупке автомобиля и сократить затраты на диагностику. Распечатайте и возьмите эту инструкцию с собой на место осмотра авто. \n",
      "\n",
      " Целесообразно осматривать автомобиль пункт за пунктом, без пропуска и не спеша. Инструкция рассчитана на «продвинутых чайников», САЙТ. людей, имеющих некий опыт обслуживания авто. Абсолютному \"чайнику\" эта информация не поможет.Берем с собой: Компрессометр; Толщиномер или маленький магнит, завернутый в тряпочку (чтобы если его приложить к холодильнику, он едва держался). С его помощью Вы сможете определить зашпатлеванные места; Маленький, но яркий фонарик; Зеркальце (тоже маленькое); Тряпки для протирки рук и прочих технических нужд; Крестовую и плоскую отвертки; Свечной ключ; Небольшой набор рожковых ключей (8,10,11,12).Сначала проверяем кузов Делать это можно только на чисто вымытом автомобиле. \n",
      "\n",
      " До осмотра договоритесь с владельцем заранее, что автомобиль должен быть чистым. \n",
      "\n",
      " Присядьте возле правой фары и внимательно осмотрите правый борт авто - нет ли вмятин, дефектов геометрии и окраски. \n",
      "\n",
      " Повторите эту процедуру у левого борта, а затем аналогичным образом осмотрите капот и крышу. Под таким углом зрения видны практически все \"деланные\" места. \n",
      "\n",
      " Проведите аналогичный осмотр и со стороны багажника. \n",
      "\n",
      " Все, что вызывает подозрения, проверяйте толщиномером или магнитом. \n",
      "\n",
      " Если магнит отваливается - значит под краской есть шпатлевка. Если у вас есть толщиномер – еще лучше, он может определить толщину краски на кузове автомобиля с точностью до микрона. У машины с заводской покраской толщина краски везде должна быть одинаковой. Внимательно осмотрите все стыки (между капотом и крыльями, стойками и дверями и САЙТ - это хороший индикатор аварийного прошлого автомобиля. Заводской стык имеет одинаковую ширину по всей длине. Обратите особое внимание на различные наклейки – они, как правило, используются для маскировки дефектов. \n",
      "\n",
      " Откройте/закройте все двери - они должны закрываться с одним усилием и звуком. \n",
      "\n",
      " Иначе - нарушена кузовная геометрия. Если у Вас возникли сомнения по поводу правильности геометрии кузова, то точную информацию даст только проверка по контрольным точкам на специальном стенде. Можно ограничиться и простой проверкой диагоналей, для чего надо вывесить автомобиль и воспользоваться куском шпагата. \n",
      "\n",
      " Факт перекраски (подкраски) автомобиля можно установить по следующим признакам: есть следы краски на резиновых и пластиковых деталях кузова; цвет краски под резиновыми уплотнителями (их надо слегка отвернуть) стекол, дверей, крышки багажника отличается; отличается краска подкапотного пространства и крыльев. \n",
      "\n",
      " Откройте капот и внимательно осмотрите места крепления бампера и лонжероны. Если на них есть складки металла и сколотая краска - автомобиль \"вытягивали\". \n",
      "\n",
      " Коррозия - у каждой модели есть свои \"болевые\" точки. Но, как правило, начинается этот процесс на подкрылках, порогах и под резиновыми уплотнителями. Качественный контроль коррозии предполагает наличие подъемника или эстакады. При осмотре днища не стесняйтесь \"ткнуть\" его отверткой - иногда после этой нехитрой процедуры необходимость в дальнейшем осмотре отпадает.Теперь садимся в авто и включаем зажигание \n",
      "\n",
      "Общий совет - внимательно изучите приборную панель и проверьте работоспособность всех ее индикаторов. На современных авто часто на панели присутствуют индикаторы различных диагностических систем, а продавцы иногда либо не знают, либо умышленно дезинформируют покупателя о назначении тех или иных загорающихся \"огоньков\". А ведь это может быть сигнал о том, что неисправен лямбда-зонд, бензонасос высокого давления или какая-нибудь другая дорогостоящая \"штучка\". \n",
      "\n",
      " Включите только зажигание, не запуская сам двигатель. \n",
      "\n",
      " На приборном щитке загорится множество красных лампочек. Обязательно должны загореться лампы: аварийного давления масла (обычно загорается при снижении давления масла ниже 0,3 САЙТ отсутствия зарядки аккумулятора; ручного тормоза; включения цепи накала свечей (только для дизельных двигателей). \n",
      "\n",
      " Последняя должна погаснуть через 1-6 САЙТ в зависимости от температуры двигателя, а еще через 3 сек. раздастся легкий щелчок реле под капотом - это снизилось напряжение накала свечей. \n",
      "\n",
      " Запустите двигатель. \n",
      "\n",
      " Все красные лампочки должны немедленно погаснуть (кроме индикатора ручника; кстати, проверьте его - отпустите и снова поднимите и посмотрите, как лампочка реагирует на Ваши действия). \n",
      "\n",
      " Подождите 10-15 сек, заглушите двигатель и сразу включите зажигание (не запуская двигатель). \n",
      "\n",
      " Если двигатель в нормальном состоянии, то лампочка аварийного давления масла не должна гореть, так как в масляной системе держится высокое давление масла, и оно медленно снижается за счет утечки масла через зазоры подшипников коленчатого вала. Чем меньше эти зазоры, САЙТ. меньше износ двигателя, тем позднее лампочка аварийного давления масла снова загорится. У хорошего двигателя время снижения давления масла составляет до 5 сек. Если лампочка загорелась почти сразу, то двигатель изношен. Проверьте, что лампочка подушек безопасности должен гаснуть не сразу, а спустя несколько секунд. Если датчик гаснет сразу или не гаснет вообще – вероятно, подушки нет и машина, скорее всего, уже была в аварии. \n",
      "\n",
      "Проверяем подвеску, тормоза и ходовую часть На руле и колесах не должно быть заметных люфтов. \n",
      "\n",
      " Вывесите передние колеса (можно по очереди, с помощью домкрата), заблокируйте руль и попробуйте двумя руками с усилием подвигать колесо в двух направлениях: взяв за левую и правую стороны колеса, а потом за верхнюю и нижнюю. \n",
      "\n",
      " Если есть люфты, то в первом случае - это рулевое, а во втором - элементы подвески (шаровая опора и САЙТ. Осмотрите чехлы шарниров подвески и рулевого управления, а на переднеприводных, кроме того, шарниров полуосей. \n",
      "\n",
      " Сожмите их пальцами и оцените, если в них смазка и не нарушена ли герметичность. \n",
      "\n",
      " Осмотрите диски на наличие вмятин и трещин. \n",
      "\n",
      " Осмотрите покрышки - если они неравномерно изношены, то это может быть свидетельством нарушения геометрии подвески или кузова. \n",
      "\n",
      " Посмотрите, нет ли течи в амортизаторах, целы ли резиновые отбойники и пыльники амортизаторов. Работоспособность амортизатора проверяют просто - необходимо сильно нажать сверху на крыло и отпустить. \n",
      "\n",
      " Автомобиль должен подняться, опуститься (уже намного меньше) и еще раз подняться. \n",
      "\n",
      " Все! Если качаний больше - амортизатор не работает. Более точную информацию о состоянии амортизаторов даст только проверка на вибростенде, хотя некоторые дефекты Вы сможете выявить несколько позднее, когда будете проверять машину \"на ходу\". Внимательно осмотрите места крепления тормозных шлангов и цилиндры на предмет наличия течи. \n",
      "\n",
      " Осмотрите пыльники направляющих суппортов и цилиндров. \n",
      "\n",
      " Толщина накладок тормозных колодок не так уж важна - колодки Вы замените. А вот если накладки разной толщины, то это свидетельствует о том, что подклинивают направляющие суппорта или не работает цилиндр. \n",
      "\n",
      " Кроме того, толщина тормозных дисков должна быть не менее 11 мм. Хорошо заметный бортик по краям диска образуется после 100000 км. пробега. \n",
      "\n",
      "На что обратить внимание при проверке салона В салоне не должно быть повреждений (разрывов) панелей, обивки, чехлов. \n",
      "\n",
      " Проверьте прочность крепления обивки крыши и дверей. \n",
      "\n",
      " Проверьте все регулировки сидений (особенно электрические). \n",
      "\n",
      " Начните с водительского - оно испытывает максимальные нагрузки. \n",
      "\n",
      " Сиденье не должно быть \"проваленным\", должно обеспечивать боковую поддержку, а спинка не должна \"болтаться\". \n",
      "\n",
      " Осмотрите руль. \n",
      "\n",
      " Под руками он, естественно будет более гладкий - не новую машину ведь покупаете. А вот по разнице \"истертости\" различных участков руля можно косвенно судить о пробеге. Световые приборы и левый подрулевой переключатель (удобнее проверять с помощником, чтобы не вылазить многократно). Дворники и правый подрулевой переключатель (особое внимание обратите на работу всех омывателей). \n",
      "\n",
      " Стеклоподъемники на всех дверях (особенно электрические). Все дополнительные опции - подогрев сидений и зеркал, электическая регулировка зеркал и САЙТ. Печка, кондиционер, вентилятор во всех режимах. Не поленитесь заглянуть под коврики салона. \n",
      "\n",
      " Под ними должно быть сухо, иначе что-то течет (уплотнение или печка). \n",
      "\n",
      "Осмотр выключенного двигателя Двигатель должен быть сухим и чистым, но не свежевымытым. \n",
      "\n",
      " Внимательно осмотрите мотор на предмет подтекания масла. \n",
      "\n",
      " Осмотрите шланги - они не должны быть потрескавшимися. \n",
      "\n",
      " Оцените состояние масла – наличие мелких частиц металла свидетельствует об износе вкладышей коленвала, а пузырьки с водой (тосолом) говорят о прогоревшей прокладке головки. Если масло свежее и очень густое, то, возможно, его залили для \"маскировки\" серьезных неисправностей (низкая компрессия и различного рода износы). \n",
      "\n",
      " Откройте крышку горловины для залива масла и осмотрите ее, поцарапайте внутреннюю поверхность крышки отверткой. Наличие ржавчины говорит о том, что в свое время двигатель был перегрет. \n",
      "\n",
      " Внутри горловины не должно быть черного пастообразного налета. \n",
      "\n",
      " Наличие налета говорит о нарушениях в смазке двигателя: или заливалось масло не соответствующей марки, или оно длительное время не менялось, или двигатель перегревался. Осмотрите с помощью фонарика внутренность заливной горловины и детали клапанного механизма. \n",
      "\n",
      " У исправного двигателя все, что Вы увидите внутри, должно быть золотистого цвета. \n",
      "\n",
      " Внимательно осмотрите на предмет течи систему охлаждения. \n",
      "\n",
      " Проверьте, сохранили ли шланги эластичность. \n",
      "\n",
      " Откройте крышку расширительного бачка. Наличие ржавчины в бачке свидетельствует о том, что двигатель в свое время был перегрет, а наличие масла в антифризе - о пробитой \"прокладке\" головки блока или о повреждении охлаждающей \"рубашки\". \n",
      "\n",
      "Осмотр работающего двигателя Запустите двигатель. \n",
      "\n",
      " Пока он не прогрелся, откройте пробку расширительного бачка. Если поднимаются пузыри – пробита прокладка головки блока. \n",
      "\n",
      " Аккуратно откройте маслозаливную горловину. \n",
      "\n",
      " Если из нее сильно выходят газы, то имеются дефекты поршневых колец или нарушена вентиляция картера. Осмотрите работающий двигатель на предмет течей масла или тосола. \n",
      "\n",
      " Прислушайтесь к работе двигателя. \n",
      "\n",
      " Не должно быть \"металлических\" звуков. \n",
      "\n",
      " Обороты двигателя не должны \"плавать\". \n",
      "\n",
      " На прогретом двигателе попросите помощника резко и до упора нажать на педаль газа, а сами в это время подставьте руку к выхлопной трубе. Наличие большого количества маслянистых пятен свидетельствует, как минимум, о значительном износе поршневых колец. \n",
      "\n",
      " Проверьте выхлопную систему. \n",
      "\n",
      " Для этого на холостом ходу просто заткните тряпкой выхлопную трубу - двигатель должен заглохнуть. \n",
      "\n",
      " Проверьте дымность выхлопных газов. \n",
      "\n",
      " На холостом ходу дыма из выхлопной трубы почти не видно. При нажатии на педаль газа дым становится виден, но он должен быть бледно-сизого цвета. Черный дым означает неисправность топливной системы, синий - поступление масла в камеры сгорания цилиндров, а густой белый дым - поступление в камеры сгорания тосола или воды. В морозную или сырую погоду цвет дыма не является достаточно корректным признаком неисправности двигателя. На прогретом двигателе выкрутите все свечи и проверьте компрессию. \n",
      "\n",
      " Правильное значение узнайте из литературы (обычно где-то в районе 10 МПа - для бензиновых двигателей и ближе к 20 - для дизелей). \n",
      "\n",
      " Важно - разница между цилиндрами не должна превышать 1 МПа. \n",
      "\n",
      " Иначе готовьтесь к капремонту двигателя. \n",
      "\n",
      " Проверьте показания датчика температуры двигателя. \n",
      "\n",
      " Оцените эффективность работы печки. \n",
      "\n",
      "Движение автомобиля «на ходу» Сели. Поехали. Сразу выключите всю музыку и попросите продавца помолчать, чтобы в салоне не было посторонних источников шума. \n",
      "\n",
      " Проверьте, как переключаются передачи – должны четко и легко. Если при сбрасывании газа слышен ноющий звук – износ шестерен. Скрежет при переключении – износ синхронизаторов. Ноющий звук – износ дифференциала или редуктора. Стук при изменении нагрузки – износ крестовины карданного вала. \n",
      "\n",
      " Оцените сцепление. \n",
      "\n",
      " Оно должно эффективно работать начиная с низких оборотов двигателя. \n",
      "\n",
      " Кроме того, при выжатом сцеплении не должно быть слышно выжимного подшипника. \n",
      "\n",
      " Попробуйте проехать по прямому ровному участку, отпустив руль. Если машину уводит в сторону, значит нарушена геометрия подвески или кузова. Если машину не уводит, а руль стоит с небольшим поворотом, значит на один зуб провернулась рулевая колонка относительно рейки. Такое бывает после наезда на большой скорости на препятствия (бордюр и САЙТ. \n",
      "\n",
      " Со стороны подвески не должно быть стуков и дребезжания. Их наличие указывает на износ резиновых втулок стабилизаторов, шарниров подвески или втулок амортизаторов. Неисправность амортизаторов приводит к клеванию носом при торможении, проседании назад при разгоне. Машина неуверенно держит дорогу, сильно кренится и уходит с траектории в повороте. \n",
      "\n",
      " Оцените вибрацию руля. \n",
      "\n",
      " Так можно \"услышать\" гнутые диски и прочие дефекты ходовой. \n",
      "\n",
      " Хруст в поворотах свидетельствует об износе шрусов. Резко затормозите на сухом асфальте, выйдите и осмотрите следы торможения. \n",
      "\n",
      " Они должны быть симметричны, а во время торможения машину не должно уводить в сторону. \n",
      "\n",
      " Во время экстренного торможения обычная машина не управляема, то есть при повороте руля направление своего движения не изменяет. Машины, оборудованные антиблокировочными системами ABS, при экстренном торможении не должны визжать резиной и должны управляться при вращении рулевого колеса. \n",
      "\n",
      " При плавном нажатии на тормоз на педали не должно ощущаться толчков (на машинах без ABS), а в салоне не должно быть слышно шума тормозных колодок, скрежета и ударов. \n",
      "\n",
      " Поставьте машину под уклон и оцените эффективность \"ручника\". \n",
      "\n",
      " Для коробки-автомата: включите ее в положение \"D\" и отпустите стояночный тормоз. \n",
      "\n",
      " Автомобиль должен стоять на месте. \n",
      "\n",
      " Чуть надавите на педаль - он должен тронуться. \n",
      "\n",
      " Попробуйте двигаться на подъем передним и задним ходом. \n",
      "\n",
      " Движение должно начаться легко, сразу же после нажатия на педаль газа. \n",
      "\n",
      " Если для трогания на подъем требуется раскрутить двигатель до 1500 об/мин и более, то автомат изношен и скоро машина на подъем вообще не пойдет. \n",
      "\n",
      " Автомобиль также не должен скатываться при спуске вперед при положении ручки автомата \"R\". \n",
      "\n",
      " Остановитесь на ровном месте, включите положение \"D\", одной ногой надавите на тормоз, а другой резко утопите педаль газа. \n",
      "\n",
      " Если двигатель тут же заглохнет, то можно утверждать, что автомат в хорошем состоянии. \n",
      "\n",
      " Если двигатель сразу не заглох, ни в коем случае ни ждите, когда он это сделает - тут же сбросьте газ и включите \"N\" или \"Р\", так как при такой проверке сильно изнашиваются все и без того изношенные в подержанном авто детали механизма автомата. \n",
      "\n",
      " Поработайте педалью газа. \n",
      "\n",
      " Не должно быть никаких \"провалов\". \n",
      "\n",
      " Мощность двигателя проще всего оценить по двум показателям - время разгона до 100 км/час и максимальная скорость (если есть, где разогнаться). Эти данные нужно предварительно найти в справочнике (для проверяемой модели, естественно).Вычисляем «утопленников» и «перевёртышей»Иногда внешне вполне пристойный автомобиль может оказаться «утопленником» или «перевертышем» - САЙТ. либо побывал в воде, либо перевернулся на крышу. И то, и другое – очень плохо. Вода негативно сказывается на электронике машины, а при перевороте существенно страдает геометрия кузова.Основные признаки «утопленника»: Запотевшие фары В салоне пахнет сыростью Болты под капотом покрыты ржавчинойОсновные признаки «перевертыша» На машине стоят либо разные стекла, либо стекла года выпуска, отличные от года выпуска самого автомобиляПорядок проверки и оформления документовЭто очень и очень важный момент. \n",
      "\n",
      " Подержанный автомобиль – это как «кот в мешке», от него можно ожидать что угодно. Он может быть в угоне, с перебитыми VIN-номерами, может быть кредитным, да мало ли что еще! \n",
      "\n",
      " Поэтому очень внимательно проверьте: \n",
      "\n",
      " Технический паспорт. Сначала смотрим дату регистрации и год выпуска. Год проверяем по идентификационному номеру (VIN), кроме того у иномарок он указан на крепежных элементах ремней безопасности. Затем сверяем номер кузова под капотом и в салоне (например, под сиденьем переднего пассажира) и номер двигателя. Сервисная книжка. Если она сохранилась, то по ней можно определить регулярность обслуживания машины и количество владельцев. \n",
      "\n",
      " Не приобретайте машину по доверенности. \n",
      "\n",
      " Оформите сделку купли-продажи. \n",
      "\n",
      " В нем обязательно укажите VIN-номер, марку, цвет и характеристики автомобиля. \n",
      "\n",
      " Перед покупкой вместе с владельцем съездите к ближайшему посту ДПС и попросите инспектора «пробить» номера машины и посмотреть номера на кузове. А еще лучше предложите продавцу вместе с Вами проехать в отделение ГИБДД для снятия автомобиля с учета. \n",
      "\n",
      "И всегда помните народную мудрость - не верьте никаким словесным убеждениям и заверениям продавца! \n",
      "\n",
      " Все проверяй САМ! \n",
      "\n"
     ]
    }
   ],
   "source": [
    "print(len(TT), len(list_texts))\n",
    "for i in list_texts:\n",
    "    print(i, '\\n')"
   ]
  },
  {
   "cell_type": "markdown",
   "metadata": {},
   "source": [
    "### 2.2. Union Of Segments\n",
    "\n",
    "You can see that each segment is linked by one sence and has not some excess sentences. But there are segmentes that should be united. An example of such pairs is the pair of the first and second segments. It is one script step that can be named 'Request Generation'."
   ]
  },
  {
   "cell_type": "code",
   "execution_count": 7,
   "metadata": {
    "collapsed": true
   },
   "outputs": [],
   "source": [
    "marks = [1, 0, 1, 0, 1, 0, 0, 0, 1, 1, 1, 1, 0, 1, 0, 0, 0, 1, 1, 1, 1, 1, 1, 1, 1, 1, 1, 1, 1, 0, 1, 1, 1, 0, 1, 1, 1, 0, 1, 1, 1, 0, 1, 0, 1, 1, 0, 1, 1, 0, 1, 1, 1, 1, 1, 1, 1, 1, 0, 1, 1, 1, 1, 1, 1, 1, 0, 1, 1, 0, 1, 1, 1, 1, 1, 0, 1, 0, 1, 1, 1, 1, 1, 1, 1, 1, 1, 1, 0, 1, 1, 1, 1, 1, 1, 1, 1, 1, 1, 0, 1, 1, 1, 1, 1, 1, 1, 1, 1, 1, 0, 1, 0, 0, 1, 1, 1, 1, 1, 1, 0, 1]"
   ]
  },
  {
   "cell_type": "code",
   "execution_count": 8,
   "metadata": {
    "collapsed": false
   },
   "outputs": [],
   "source": [
    "n  =lambda x: x/np.linalg.norm(x)\n",
    "#D = [(ind, marks[ind],\n",
    "#      model.wmdistance(list_tag_ud[ind], list_tag_ud[ind+1])-np.exp(-0.1*min(len(list_tag_ud[ind]), len(list_tag_ud[ind+1]))), \n",
    "#      model.wmdistance(list_tag_ud[ind], list_tag_ud[ind+1]), \n",
    "#      list_texts[ind], list_texts[ind+1]) for ind, i in enumerate(TT[:-1])]\n",
    "C1, C2 = 1, 2/(sum([len(i) for i in list_tag_ud])/len(list_tag_ud))\n",
    "D = [(ind, marks[ind],\n",
    "      model.wmdistance(list_tag_ud[ind], list_tag_ud[ind+1])+ C1/(1+np.exp(-C2*(len(list_tag_ud[ind])+ len(list_tag_ud[ind+1])))), \n",
    "      model.wmdistance(list_tag_ud[ind], list_tag_ud[ind+1]), \n",
    "      list_texts[ind], list_texts[ind+1]) for ind, i in enumerate(TT[:-1])]"
   ]
  },
  {
   "cell_type": "code",
   "execution_count": 9,
   "metadata": {
    "collapsed": false,
    "scrolled": true
   },
   "outputs": [
    {
     "name": "stdout",
     "output_type": "stream",
     "text": [
      "122 122\n",
      "46\n"
     ]
    },
    {
     "data": {
      "image/png": "[encoded data removed]",
      "text/plain": [
       "<Figure size 432x288 with 1 Axes>"
      ]
     },
     "metadata": {},
     "output_type": "display_data"
    }
   ],
   "source": [
    "x = [i[2] for i in D]\n",
    "y = [i[3] for i in D]\n",
    "eps = 2.1\n",
    "for ind, i in enumerate(x):\n",
    "    if np.isnan([i]).any():\n",
    "        x[ind] = max(x)\n",
    "print(len(marks), len(x))\n",
    "import matplotlib.pyplot as plt\n",
    "% matplotlib inline\n",
    "cur_x = [i for ind,i in enumerate(x) if marks[ind]==1]\n",
    "print(len([i for i in cur_x if i > eps]))\n",
    "cur_y = [i for ind,i in enumerate(y)if marks[ind]==1]\n",
    "plt.plot(cur_x, cur_y, 'ro')\n",
    "cur_x = [i for ind,i in enumerate(x) if marks[ind]==0]\n",
    "cur_y = [i for ind,i in enumerate(y)if marks[ind]==0]\n",
    "plt.plot(cur_x, cur_y, 'bo')\n",
    "plt.plot([eps for i in range(2)], [min(y), max(y)], 'black')\n",
    "plt.legend(['1', '0', 'Limit'])\n",
    "plt.xlabel('WMdistance With Barier')\n",
    "plt.ylabel('WMdistance')\n",
    "plt.grid()"
   ]
  },
  {
   "cell_type": "markdown",
   "metadata": {},
   "source": [
    "We chose metric WMdistance with $\\epsilon = 2.1$"
   ]
  },
  {
   "cell_type": "markdown",
   "metadata": {},
   "source": [
    "## 3. Classification"
   ]
  },
  {
   "cell_type": "code",
   "execution_count": 88,
   "metadata": {
    "collapsed": false
   },
   "outputs": [],
   "source": [
    "import pickle\n",
    "with open('MarkedSegments.pickle', 'rb') as f:\n",
    "    d = pickle.load(f)\n",
    "    f.close\n",
    "new_d = dict()\n",
    "for i in d:\n",
    "    if not d[i][0][3] is None:\n",
    "        new_d[i] = d[i]\n",
    "d = new_d"
   ]
  },
  {
   "cell_type": "code",
   "execution_count": 33,
   "metadata": {
    "collapsed": false,
    "scrolled": true
   },
   "outputs": [
    {
     "name": "stderr",
     "output_type": "stream",
     "text": [
      "/home/ased/anaconda3/lib/python3.5/site-packages/smart_open/smart_open_lib.py:398: UserWarning: This function is deprecated, use smart_open.open instead. See the migration notes for details: https://github.com/RaRe-Technologies/smart_open/blob/master/README.rst#migrating-to-the-new-open-function\n",
      "  'See the migration notes for details: %s' % _MIGRATION_NOTES_URL\n"
     ]
    }
   ],
   "source": [
    "import gensim\n",
    "model = gensim.models.KeyedVectors.load_word2vec_format('../../model.bin', binary=True) \n",
    "#model.init_sims(replace=True)"
   ]
  },
  {
   "cell_type": "code",
   "execution_count": 89,
   "metadata": {
    "collapsed": false
   },
   "outputs": [],
   "source": [
    "def update(elem, model = model):\n",
    "    def cond(word):\n",
    "        res = True\n",
    "        bad_list = ['CONJ', 'DET', 'PRON', 'PART']\n",
    "        for i in bad_list:\n",
    "            res = res and not (i in word)\n",
    "        return res\n",
    "    s = np.zeros((300,))\n",
    "    for i in elem[2]:\n",
    "        if model.__contains__(i) and cond(i):\n",
    "            s+= model[i]\n",
    "    return (elem[0], s/np.linalg.norm(s), elem[3])\n",
    "new_d  =list()\n",
    "for i in d:\n",
    "    cur = list()\n",
    "    for j in d[i]:\n",
    "        cur.append(update(j))\n",
    "    new_d += (cur)\n",
    "d = new_d"
   ]
  },
  {
   "cell_type": "code",
   "execution_count": 90,
   "metadata": {
    "collapsed": false
   },
   "outputs": [
    {
     "name": "stdout",
     "output_type": "stream",
     "text": [
      "Distribution {0: 16, 1: 18, 2: 33, 3: 21, 4: 45, 5: 2, 6: 45, 7: 225, 8: 74, 9: 31, 10: 13, 11: 16, 12: 45}\n",
      "Ignore List [5, 12]\n",
      "Size data 537\n",
      "Size train 0.8\n"
     ]
    }
   ],
   "source": [
    "import numpy as np\n",
    "data = d\n",
    "data_dict = dict()\n",
    "for i in data:\n",
    "    if data_dict.__contains__(i[2]):\n",
    "        data_dict[int(i[2])] += 1\n",
    "    else:\n",
    "        data_dict[int(i[2])] = 1\n",
    "_ = [key for key in data_dict if data_dict[key]<6] + [12]\n",
    "data_copy = data.copy()\n",
    "data = [(i[0],i[1],int(i[2])) for i in data if not int(i[2]) in _]\n",
    "size_train = 0.8\n",
    "print('Distribution', data_dict)\n",
    "print('Ignore List', _)\n",
    "print('Size data', len(data))\n",
    "print('Size train',size_train)"
   ]
  },
  {
   "cell_type": "code",
   "execution_count": 54,
   "metadata": {
    "collapsed": false
   },
   "outputs": [
    {
     "data": {
      "text/plain": [
       "<matplotlib.axes._subplots.AxesSubplot at 0x7f10894620f0>"
      ]
     },
     "execution_count": 54,
     "metadata": {},
     "output_type": "execute_result"
    },
    {
     "data": {
      "image/png": "[encoded data removed]",
      "text/plain": [
       "<Figure size 432x288 with 1 Axes>"
      ]
     },
     "metadata": {},
     "output_type": "display_data"
    }
   ],
   "source": [
    "import pandas\n",
    "%matplotlib inline\n",
    "from collections import Counter\n",
    "df = pandas.DataFrame.from_dict(data_dict, orient='index')\n",
    "df.plot(kind='bar')"
   ]
  },
  {
   "cell_type": "markdown",
   "metadata": {},
   "source": [
    "#### Distances Distribution"
   ]
  },
  {
   "cell_type": "code",
   "execution_count": 55,
   "metadata": {
    "collapsed": false
   },
   "outputs": [
    {
     "data": {
      "image/png": "[encoded data removed]",
      "text/plain": [
       "<Figure size 432x288 with 1 Axes>"
      ]
     },
     "metadata": {},
     "output_type": "display_data"
    }
   ],
   "source": [
    "vectors = [i[1] for i in data_copy]\n",
    "center = sum(vectors)/len(vectors)\n",
    "new = dict()\n",
    "for i in data_copy:\n",
    "    if new.__contains__(i[2]):\n",
    "        new[i[2]].append(i[1])\n",
    "    else:\n",
    "        new[i[2]] = [i[1]]\n",
    "distances = {key:[np.linalg.norm(center-i) for i in new[key]] for key in new}\n",
    "keys = new.keys()\n",
    "import matplotlib.pyplot as plt\n",
    "%matplotlib inline\n",
    "for key in keys:\n",
    "    distances[key].sort()\n",
    "    y = [(ind+1)/len(distances[key]) for ind, i in enumerate(distances[key])]\n",
    "    plt.plot(distances[key], y)\n",
    "plt.legend(keys)\n",
    "plt.show()"
   ]
  },
  {
   "cell_type": "code",
   "execution_count": 56,
   "metadata": {
    "collapsed": false
   },
   "outputs": [
    {
     "data": {
      "image/png": "[encoded data removed]",
      "text/plain": [
       "<Figure size 432x288 with 1 Axes>"
      ]
     },
     "metadata": {},
     "output_type": "display_data"
    }
   ],
   "source": [
    "vectors = [i[1] for i in data_copy]\n",
    "center = sum(vectors)/len(vectors)\n",
    "distances = [np.linalg.norm(center-i) for i in vectors]\n",
    "distances.sort()\n",
    "y = [ind+1 for ind,i in enumerate(distances)]\n",
    "import matplotlib.pyplot as plt\n",
    "%matplotlib inline\n",
    "plt.plot(distances, y)\n",
    "plt.show()"
   ]
  },
  {
   "cell_type": "markdown",
   "metadata": {},
   "source": [
    "#### Visualisation"
   ]
  },
  {
   "cell_type": "code",
   "execution_count": 57,
   "metadata": {
    "collapsed": false
   },
   "outputs": [
    {
     "name": "stderr",
     "output_type": "stream",
     "text": [
      "ERROR:root:Line magic function `%matplotlin` not found.\n"
     ]
    },
    {
     "data": {
      "image/png": "[encoded data removed]",
      "text/plain": [
       "<Figure size 432x288 with 1 Axes>"
      ]
     },
     "metadata": {},
     "output_type": "display_data"
    }
   ],
   "source": [
    "from sklearn.decomposition import PCA\n",
    "X = np.array([i[1] for i in data])\n",
    "Y = [int(i[2]) for i in data]\n",
    "classes = list({int(i):None for i in Y}.keys())\n",
    "pca = PCA(n_components = 2)\n",
    "X_new = pca.fit_transform(X)\n",
    "import matplotlib.pyplot as plt\n",
    "%matplotlin inline\n",
    "for cur in classes:\n",
    "    plt.plot([X[ind,0] for ind,i in enumerate(Y) if i==cur],\n",
    "             [X[ind,1] for ind,i in enumerate(Y) if i==cur], 'o')\n",
    "plt.legend(classes)\n",
    "plt.show()"
   ]
  },
  {
   "cell_type": "markdown",
   "metadata": {},
   "source": [
    "### 3.1. Trivial Classification\n",
    "\n",
    "In current section we will determine class of text on the nearest center of class that was got from training data."
   ]
  },
  {
   "cell_type": "code",
   "execution_count": 72,
   "metadata": {
    "collapsed": true
   },
   "outputs": [],
   "source": [
    "import random\n",
    "def trivial(train, test):\n",
    "    data_dict = dict()\n",
    "    for i in train:\n",
    "        if data_dict.__contains__(i[2]):\n",
    "            data_dict[int(i[2])].append(i[1])\n",
    "        else:\n",
    "            data_dict[int(i[2])] = [i[1]]\n",
    "    centers = {i:sum(data_dict[i])/len(data_dict[i]) for i in data_dict}\n",
    "    answers = list()\n",
    "    for i in test:\n",
    "        _ = {j:np.linalg.norm(centers[j]-i[1]) for j in centers}\n",
    "        answer = None\n",
    "        for key in _.keys():\n",
    "            if answer is None or _[answer]>_[key]:\n",
    "                answer = key\n",
    "        answers.append(answer)\n",
    "    return answers"
   ]
  },
  {
   "cell_type": "code",
   "execution_count": 73,
   "metadata": {
    "collapsed": true
   },
   "outputs": [],
   "source": [
    "def get_sets(data, size_train, all_data):\n",
    "    res = {}\n",
    "    for i in data:\n",
    "        if res.__contains__(i[2]):\n",
    "            res[i[2]].append(i)\n",
    "        else:\n",
    "            res[i[2]] = [i]\n",
    "    train = list()\n",
    "    for i in res:\n",
    "        cur = int(size_train*len(res[i]))\n",
    "        train+=res[i][:cur]\n",
    "    test=list()\n",
    "    if all_data:\n",
    "        for i in res:\n",
    "            test+=res[i]\n",
    "    else:\n",
    "        for i in res:\n",
    "            cur = int(size_train*len(res[i]))\n",
    "            test+=res[i][cur:]\n",
    "    return train,test"
   ]
  },
  {
   "cell_type": "code",
   "execution_count": 74,
   "metadata": {
    "collapsed": false
   },
   "outputs": [],
   "source": [
    "def metric(results, arg = 13):\n",
    "    D = np.zeros((arg, arg))\n",
    "    def update(some_dict, key):\n",
    "        if some_dict.__contains__(key):\n",
    "            some_dict[key] += 1\n",
    "        else:\n",
    "            some_dict[key]=1\n",
    "    TP, FP, FN = {}, {}, {}\n",
    "    acc = 0\n",
    "    _ = dict()\n",
    "    for i in results:\n",
    "        D[i[0], i[1]] += 1\n",
    "        if i[0]==i[1]:\n",
    "            acc+=1\n",
    "        _[i[0]] = None\n",
    "        _[i[1]] = None\n",
    "        if i[0]==i[1]:\n",
    "            update(TP, i[1])\n",
    "        else:\n",
    "            update(FP, i[1])\n",
    "            update(FN, i[0])\n",
    "    for i in _.keys():\n",
    "        if not TP.__contains__(i):\n",
    "            TP[i]=0\n",
    "        if not FP.__contains__(i):\n",
    "            FP[i]=0\n",
    "        if not FN.__contains__(i):\n",
    "            FN[i]=0\n",
    "    precision, recall = {}, {}\n",
    "    for i in _.keys():\n",
    "        try:\n",
    "            precision[i] = TP[i]/(TP[i]+FP[i])\n",
    "        except Exception:\n",
    "            precision[i]=0\n",
    "        try:\n",
    "            recall[i] = TP[i]/(TP[i]+FN[i])\n",
    "        except Exception:\n",
    "            recall[i]=0\n",
    "    return precision, recall, acc/len(results), D\n",
    "            \n",
    "def test_method(data, size_train,repeat,classificator=trivial, arg = 13, all_data = False):\n",
    "    prec, recall, acc = dict(), dict(), 0\n",
    "    D = np.zeros((arg,arg))\n",
    "    for i in range(repeat):\n",
    "        shuffled_data=data.copy()\n",
    "        random.shuffle(shuffled_data)\n",
    "        train, test = get_sets(shuffled_data, size_train, all_data)\n",
    "        answers = classificator(train, test)\n",
    "        results = [(i[2], answers[ind]) for ind,i in enumerate(test)]\n",
    "        cur_prec, cur_recall, cur_acc, cur_D = metric(results, arg)\n",
    "        for i in cur_prec:\n",
    "            if prec.__contains__(i):\n",
    "                prec[i]+=(cur_prec[i]/repeat)\n",
    "            else:\n",
    "                prec[i]=cur_prec[i]/repeat\n",
    "        for i in cur_recall:\n",
    "            if recall.__contains__(i):\n",
    "                recall[i]+=(cur_recall[i]/repeat)\n",
    "            else:\n",
    "                recall[i]=cur_recall[i]/repeat\n",
    "        acc+=(cur_acc/repeat)\n",
    "        D += cur_D/repeat\n",
    "    return prec, recall, acc, D"
   ]
  },
  {
   "cell_type": "markdown",
   "metadata": {},
   "source": [
    "#### Results On Tested Data"
   ]
  },
  {
   "cell_type": "code",
   "execution_count": 75,
   "metadata": {
    "collapsed": false
   },
   "outputs": [
    {
     "name": "stdout",
     "output_type": "stream",
     "text": [
      "Accuracy 0.5495803571428576\n",
      "Key\tPrec\tRecall\n",
      "0\t0.51\t0.49\n",
      "1\t0.34\t0.37\n",
      "2\t0.63\t0.47\n",
      "3\t0.15\t0.34\n",
      "4\t0.51\t0.28\n",
      "6\t0.54\t0.64\n",
      "7\t0.85\t0.60\n",
      "8\t0.55\t0.67\n",
      "9\t0.38\t0.56\n",
      "10\t0.24\t0.38\n",
      "11\t0.63\t0.63\n",
      "Mean\t0.49\t0.49\n"
     ]
    }
   ],
   "source": [
    "prec, recall, acc, D = test_method(data, size_train, 1000)\n",
    "print('Accuracy', acc)\n",
    "keys = list(prec.keys())\n",
    "keys.sort()\n",
    "print('Key\\tPrec\\tRecall')\n",
    "mean_prec, mean_recall = 0, 0\n",
    "for key in keys:\n",
    "    mean_prec += prec[key]\n",
    "    mean_recall += recall[key]\n",
    "    print(\"%.f\\t%.2f\\t%.2f\"%(key, prec[key],recall[key]))\n",
    "print(\"Mean\\t%.2f\\t%.2f\"%(mean_prec/len(keys), mean_recall/len(keys)))"
   ]
  },
  {
   "cell_type": "code",
   "execution_count": 76,
   "metadata": {
    "collapsed": false
   },
   "outputs": [
    {
     "data": {
      "text/html": [
       "<div>\n",
       "<style scoped>\n",
       "    .dataframe tbody tr th:only-of-type {\n",
       "        vertical-align: middle;\n",
       "    }\n",
       "\n",
       "    .dataframe tbody tr th {\n",
       "        vertical-align: top;\n",
       "    }\n",
       "\n",
       "    .dataframe thead th {\n",
       "        text-align: right;\n",
       "    }\n",
       "</style>\n",
       "<table border=\"1\" class=\"dataframe\">\n",
       "  <thead>\n",
       "    <tr style=\"text-align: right;\">\n",
       "      <th></th>\n",
       "      <th>0</th>\n",
       "      <th>1</th>\n",
       "      <th>2</th>\n",
       "      <th>3</th>\n",
       "      <th>4</th>\n",
       "      <th>6</th>\n",
       "      <th>7</th>\n",
       "      <th>8</th>\n",
       "      <th>9</th>\n",
       "      <th>10</th>\n",
       "      <th>11</th>\n",
       "    </tr>\n",
       "  </thead>\n",
       "  <tbody>\n",
       "    <tr>\n",
       "      <th>0</th>\n",
       "      <td>1.976</td>\n",
       "      <td>0.400</td>\n",
       "      <td>0.000</td>\n",
       "      <td>0.438</td>\n",
       "      <td>0.000</td>\n",
       "      <td>0.387</td>\n",
       "      <td>0.057</td>\n",
       "      <td>0.013</td>\n",
       "      <td>0.318</td>\n",
       "      <td>0.234</td>\n",
       "      <td>0.177</td>\n",
       "    </tr>\n",
       "    <tr>\n",
       "      <th>1</th>\n",
       "      <td>0.749</td>\n",
       "      <td>1.469</td>\n",
       "      <td>0.160</td>\n",
       "      <td>0.155</td>\n",
       "      <td>0.000</td>\n",
       "      <td>0.244</td>\n",
       "      <td>0.000</td>\n",
       "      <td>0.000</td>\n",
       "      <td>1.032</td>\n",
       "      <td>0.090</td>\n",
       "      <td>0.101</td>\n",
       "    </tr>\n",
       "    <tr>\n",
       "      <th>2</th>\n",
       "      <td>0.001</td>\n",
       "      <td>0.263</td>\n",
       "      <td>3.306</td>\n",
       "      <td>0.783</td>\n",
       "      <td>0.179</td>\n",
       "      <td>0.206</td>\n",
       "      <td>0.680</td>\n",
       "      <td>0.000</td>\n",
       "      <td>1.356</td>\n",
       "      <td>0.194</td>\n",
       "      <td>0.032</td>\n",
       "    </tr>\n",
       "    <tr>\n",
       "      <th>3</th>\n",
       "      <td>0.246</td>\n",
       "      <td>0.236</td>\n",
       "      <td>0.333</td>\n",
       "      <td>1.700</td>\n",
       "      <td>0.062</td>\n",
       "      <td>0.444</td>\n",
       "      <td>0.608</td>\n",
       "      <td>0.472</td>\n",
       "      <td>0.172</td>\n",
       "      <td>0.727</td>\n",
       "      <td>0.000</td>\n",
       "    </tr>\n",
       "    <tr>\n",
       "      <th>4</th>\n",
       "      <td>0.009</td>\n",
       "      <td>0.283</td>\n",
       "      <td>0.015</td>\n",
       "      <td>1.352</td>\n",
       "      <td>2.532</td>\n",
       "      <td>2.500</td>\n",
       "      <td>0.932</td>\n",
       "      <td>0.254</td>\n",
       "      <td>0.525</td>\n",
       "      <td>0.405</td>\n",
       "      <td>0.193</td>\n",
       "    </tr>\n",
       "    <tr>\n",
       "      <th>6</th>\n",
       "      <td>0.470</td>\n",
       "      <td>0.269</td>\n",
       "      <td>0.182</td>\n",
       "      <td>0.744</td>\n",
       "      <td>0.934</td>\n",
       "      <td>5.741</td>\n",
       "      <td>0.000</td>\n",
       "      <td>0.096</td>\n",
       "      <td>0.196</td>\n",
       "      <td>0.366</td>\n",
       "      <td>0.002</td>\n",
       "    </tr>\n",
       "    <tr>\n",
       "      <th>7</th>\n",
       "      <td>0.068</td>\n",
       "      <td>0.620</td>\n",
       "      <td>0.874</td>\n",
       "      <td>4.174</td>\n",
       "      <td>0.854</td>\n",
       "      <td>0.633</td>\n",
       "      <td>27.154</td>\n",
       "      <td>7.271</td>\n",
       "      <td>1.540</td>\n",
       "      <td>1.161</td>\n",
       "      <td>0.651</td>\n",
       "    </tr>\n",
       "    <tr>\n",
       "      <th>8</th>\n",
       "      <td>0.047</td>\n",
       "      <td>0.003</td>\n",
       "      <td>0.033</td>\n",
       "      <td>1.267</td>\n",
       "      <td>0.252</td>\n",
       "      <td>0.032</td>\n",
       "      <td>2.471</td>\n",
       "      <td>10.100</td>\n",
       "      <td>0.391</td>\n",
       "      <td>0.395</td>\n",
       "      <td>0.009</td>\n",
       "    </tr>\n",
       "    <tr>\n",
       "      <th>9</th>\n",
       "      <td>0.482</td>\n",
       "      <td>0.607</td>\n",
       "      <td>0.417</td>\n",
       "      <td>0.567</td>\n",
       "      <td>0.141</td>\n",
       "      <td>0.231</td>\n",
       "      <td>0.003</td>\n",
       "      <td>0.000</td>\n",
       "      <td>3.931</td>\n",
       "      <td>0.093</td>\n",
       "      <td>0.528</td>\n",
       "    </tr>\n",
       "    <tr>\n",
       "      <th>10</th>\n",
       "      <td>0.053</td>\n",
       "      <td>0.218</td>\n",
       "      <td>0.108</td>\n",
       "      <td>0.740</td>\n",
       "      <td>0.079</td>\n",
       "      <td>0.364</td>\n",
       "      <td>0.002</td>\n",
       "      <td>0.004</td>\n",
       "      <td>0.271</td>\n",
       "      <td>1.141</td>\n",
       "      <td>0.020</td>\n",
       "    </tr>\n",
       "    <tr>\n",
       "      <th>11</th>\n",
       "      <td>0.000</td>\n",
       "      <td>0.106</td>\n",
       "      <td>0.000</td>\n",
       "      <td>0.000</td>\n",
       "      <td>0.000</td>\n",
       "      <td>0.113</td>\n",
       "      <td>0.000</td>\n",
       "      <td>0.248</td>\n",
       "      <td>0.916</td>\n",
       "      <td>0.114</td>\n",
       "      <td>2.503</td>\n",
       "    </tr>\n",
       "  </tbody>\n",
       "</table>\n",
       "</div>"
      ],
      "text/plain": [
       "       0      1      2      3      4      6       7       8      9      10  \\\n",
       "0   1.976  0.400  0.000  0.438  0.000  0.387   0.057   0.013  0.318  0.234   \n",
       "1   0.749  1.469  0.160  0.155  0.000  0.244   0.000   0.000  1.032  0.090   \n",
       "2   0.001  0.263  3.306  0.783  0.179  0.206   0.680   0.000  1.356  0.194   \n",
       "3   0.246  0.236  0.333  1.700  0.062  0.444   0.608   0.472  0.172  0.727   \n",
       "4   0.009  0.283  0.015  1.352  2.532  2.500   0.932   0.254  0.525  0.405   \n",
       "6   0.470  0.269  0.182  0.744  0.934  5.741   0.000   0.096  0.196  0.366   \n",
       "7   0.068  0.620  0.874  4.174  0.854  0.633  27.154   7.271  1.540  1.161   \n",
       "8   0.047  0.003  0.033  1.267  0.252  0.032   2.471  10.100  0.391  0.395   \n",
       "9   0.482  0.607  0.417  0.567  0.141  0.231   0.003   0.000  3.931  0.093   \n",
       "10  0.053  0.218  0.108  0.740  0.079  0.364   0.002   0.004  0.271  1.141   \n",
       "11  0.000  0.106  0.000  0.000  0.000  0.113   0.000   0.248  0.916  0.114   \n",
       "\n",
       "       11  \n",
       "0   0.177  \n",
       "1   0.101  \n",
       "2   0.032  \n",
       "3   0.000  \n",
       "4   0.193  \n",
       "6   0.002  \n",
       "7   0.651  \n",
       "8   0.009  \n",
       "9   0.528  \n",
       "10  0.020  \n",
       "11  2.503  "
      ]
     },
     "execution_count": 76,
     "metadata": {},
     "output_type": "execute_result"
    }
   ],
   "source": [
    "D = D[keys].T[keys].T\n",
    "import pandas as pd\n",
    "pd.DataFrame(D,\n",
    "            columns = keys,\n",
    "            index = keys)"
   ]
  },
  {
   "cell_type": "markdown",
   "metadata": {},
   "source": [
    "### 3.2. Logistic Regression"
   ]
  },
  {
   "cell_type": "code",
   "execution_count": 91,
   "metadata": {
    "collapsed": true
   },
   "outputs": [],
   "source": [
    "def get_sets1(data, size_train, N_blocks):\n",
    "    def mysplit(some_list, N):\n",
    "        l = len(some_list)\n",
    "        k, m = l//N, l%N\n",
    "        lengths = [k+1 for i in range(m)]+[k for i in range(N-m)]\n",
    "        cur = 0\n",
    "        res = list()\n",
    "        for i in lengths:\n",
    "            res.append(some_list[cur:cur+i])\n",
    "            cur+=i\n",
    "        return res\n",
    "    res = {}\n",
    "    for i in data:\n",
    "        if res.__contains__(i[2]):\n",
    "            res[i[2]].append(i)\n",
    "        else:\n",
    "            res[i[2]] = [i]\n",
    "    train = list()\n",
    "    for i in res:\n",
    "        cur = int(size_train*len(res[i]))\n",
    "        train+=res[i][:cur]\n",
    "    test=list()\n",
    "    for i in res:\n",
    "        cur = int(size_train*len(res[i]))\n",
    "        test+=res[i][cur:]\n",
    "    random.shuffle(train)\n",
    "    return mysplit(train, N_blocks),test"
   ]
  },
  {
   "cell_type": "code",
   "execution_count": 98,
   "metadata": {
    "collapsed": false
   },
   "outputs": [],
   "source": [
    "X = np.array([i[1] for i in data])\n",
    "Y = [int(i[2]) for i in data]\n",
    "classes = list({int(i):None for i in Y}.keys())\n",
    "transformed_data = [(None, i, Y[ind]) for ind,i in enumerate(X)]\n",
    "import random\n",
    "random.shuffle(transformed_data)\n",
    "blocks, test =get_sets1(transformed_data, 0.8, 10)"
   ]
  },
  {
   "cell_type": "code",
   "execution_count": 99,
   "metadata": {
    "collapsed": false
   },
   "outputs": [
    {
     "name": "stdout",
     "output_type": "stream",
     "text": [
      "1 0.6115171650055371\n",
      "2 0.6044850498338871\n",
      "3 0.602325581395349\n",
      "4 0.5951827242524919\n",
      "5 0.5903654485049834\n",
      "6 0.5856035437430787\n",
      "7 0.5832779623477299\n",
      "8 0.580952380952381\n",
      "9 0.5739756367663345\n",
      "10 0.5692691029900332\n"
     ]
    }
   ],
   "source": [
    "from sklearn.linear_model import LogisticRegression\n",
    "repeat = len(blocks)\n",
    "res = dict()\n",
    "f = (lambda x: np.hstack((x, x*np.log(np.absolute(x)))))\n",
    "from sklearn.decomposition import PCA\n",
    "\n",
    "for ind,b in enumerate(blocks):\n",
    "    train, _, cur_test = list(), [j for cur_ind, j in enumerate(blocks) if cur_ind!=ind], b\n",
    "    for j in _:\n",
    "        train += j\n",
    "    for j in range(1, 11):\n",
    "        clf = LogisticRegression(penalty='l2', C = j, multi_class = 'ovr', solver = 'liblinear')\n",
    "        X = f(np.array([i[1] for i in train]))\n",
    "        clf.fit(X, np.array([i[2] for i in train]))\n",
    "        if res.__contains__(j):\n",
    "            X = f(np.array([i[1] for i in cur_test]))\n",
    "            res[j] += clf.score(X, np.array([i[2] for i in cur_test]))\n",
    "        else:\n",
    "            X = f(np.array([i[1] for i in cur_test]))\n",
    "            res[j] = clf.score(X, np.array([i[2] for i in cur_test]))\n",
    "res = {i:res[i]/repeat for i in res}\n",
    "keys = list(res.keys())\n",
    "keys.sort()\n",
    "for i in keys:\n",
    "    print(i, res[i])"
   ]
  },
  {
   "cell_type": "code",
   "execution_count": 103,
   "metadata": {
    "collapsed": false,
    "scrolled": true
   },
   "outputs": [
    {
     "name": "stdout",
     "output_type": "stream",
     "text": [
      "Accuracy 0.6696428571428571\n",
      "Key\tPrec\tRecall\n",
      "0\t0.50\t0.50\n",
      "1\t1.00\t0.25\n",
      "2\t0.67\t0.29\n",
      "3\t0.00\t0.00\n",
      "4\t0.50\t0.44\n",
      "6\t0.55\t0.67\n",
      "7\t0.72\t0.93\n",
      "8\t0.77\t0.67\n",
      "9\t0.71\t0.71\n",
      "10\t0.33\t0.33\n",
      "11\t1.00\t0.50\n",
      "Mean\t0.61\t0.48\n"
     ]
    }
   ],
   "source": [
    "from sklearn.linear_model import LogisticRegression\n",
    "clf = LogisticRegression(penalty='l2', C = 2, multi_class = 'ovr', solver = 'liblinear')\n",
    "f = lambda x: np.hstack((x, x*np.log(np.absolute(x))))\n",
    "train = list()\n",
    "for i in blocks:\n",
    "    train += i\n",
    "clf.fit(f(np.array([i[1] for i in train])), np.array([i[2] for i in train]))\n",
    "pred = clf.predict(f(np.array([i[1] for i in test])))\n",
    "results = [(i[2], pred[ind]) for ind,i in enumerate(test)]\n",
    "prec, recall, acc, D = metric(results)\n",
    "print('Accuracy', acc)\n",
    "keys = classes\n",
    "keys.sort()\n",
    "print('Key\\tPrec\\tRecall')\n",
    "mean_prec, mean_recall = 0, 0\n",
    "for key in keys:\n",
    "    mean_prec += prec[key]\n",
    "    mean_recall += recall[key]\n",
    "    print(\"%.f\\t%.2f\\t%.2f\"%(key, prec[key],recall[key]))\n",
    "print(\"Mean\\t%.2f\\t%.2f\"%(mean_prec/len(keys),mean_recall/len(keys)))\n"
   ]
  },
  {
   "cell_type": "code",
   "execution_count": 104,
   "metadata": {
    "collapsed": false
   },
   "outputs": [
    {
     "data": {
      "text/html": [
       "<div>\n",
       "<style scoped>\n",
       "    .dataframe tbody tr th:only-of-type {\n",
       "        vertical-align: middle;\n",
       "    }\n",
       "\n",
       "    .dataframe tbody tr th {\n",
       "        vertical-align: top;\n",
       "    }\n",
       "\n",
       "    .dataframe thead th {\n",
       "        text-align: right;\n",
       "    }\n",
       "</style>\n",
       "<table border=\"1\" class=\"dataframe\">\n",
       "  <thead>\n",
       "    <tr style=\"text-align: right;\">\n",
       "      <th></th>\n",
       "      <th>0</th>\n",
       "      <th>1</th>\n",
       "      <th>2</th>\n",
       "      <th>3</th>\n",
       "      <th>4</th>\n",
       "      <th>6</th>\n",
       "      <th>7</th>\n",
       "      <th>8</th>\n",
       "      <th>9</th>\n",
       "      <th>10</th>\n",
       "      <th>11</th>\n",
       "    </tr>\n",
       "  </thead>\n",
       "  <tbody>\n",
       "    <tr>\n",
       "      <th>0</th>\n",
       "      <td>2.0</td>\n",
       "      <td>0.0</td>\n",
       "      <td>0.0</td>\n",
       "      <td>0.0</td>\n",
       "      <td>0.0</td>\n",
       "      <td>0.0</td>\n",
       "      <td>0.0</td>\n",
       "      <td>0.0</td>\n",
       "      <td>1.0</td>\n",
       "      <td>1.0</td>\n",
       "      <td>0.0</td>\n",
       "    </tr>\n",
       "    <tr>\n",
       "      <th>1</th>\n",
       "      <td>0.0</td>\n",
       "      <td>1.0</td>\n",
       "      <td>0.0</td>\n",
       "      <td>0.0</td>\n",
       "      <td>1.0</td>\n",
       "      <td>0.0</td>\n",
       "      <td>2.0</td>\n",
       "      <td>0.0</td>\n",
       "      <td>0.0</td>\n",
       "      <td>0.0</td>\n",
       "      <td>0.0</td>\n",
       "    </tr>\n",
       "    <tr>\n",
       "      <th>2</th>\n",
       "      <td>0.0</td>\n",
       "      <td>0.0</td>\n",
       "      <td>2.0</td>\n",
       "      <td>1.0</td>\n",
       "      <td>0.0</td>\n",
       "      <td>0.0</td>\n",
       "      <td>4.0</td>\n",
       "      <td>0.0</td>\n",
       "      <td>0.0</td>\n",
       "      <td>0.0</td>\n",
       "      <td>0.0</td>\n",
       "    </tr>\n",
       "    <tr>\n",
       "      <th>3</th>\n",
       "      <td>0.0</td>\n",
       "      <td>0.0</td>\n",
       "      <td>1.0</td>\n",
       "      <td>0.0</td>\n",
       "      <td>0.0</td>\n",
       "      <td>0.0</td>\n",
       "      <td>3.0</td>\n",
       "      <td>1.0</td>\n",
       "      <td>0.0</td>\n",
       "      <td>0.0</td>\n",
       "      <td>0.0</td>\n",
       "    </tr>\n",
       "    <tr>\n",
       "      <th>4</th>\n",
       "      <td>0.0</td>\n",
       "      <td>0.0</td>\n",
       "      <td>0.0</td>\n",
       "      <td>0.0</td>\n",
       "      <td>4.0</td>\n",
       "      <td>3.0</td>\n",
       "      <td>1.0</td>\n",
       "      <td>0.0</td>\n",
       "      <td>1.0</td>\n",
       "      <td>0.0</td>\n",
       "      <td>0.0</td>\n",
       "    </tr>\n",
       "    <tr>\n",
       "      <th>6</th>\n",
       "      <td>1.0</td>\n",
       "      <td>0.0</td>\n",
       "      <td>0.0</td>\n",
       "      <td>0.0</td>\n",
       "      <td>1.0</td>\n",
       "      <td>6.0</td>\n",
       "      <td>0.0</td>\n",
       "      <td>1.0</td>\n",
       "      <td>0.0</td>\n",
       "      <td>0.0</td>\n",
       "      <td>0.0</td>\n",
       "    </tr>\n",
       "    <tr>\n",
       "      <th>7</th>\n",
       "      <td>0.0</td>\n",
       "      <td>0.0</td>\n",
       "      <td>0.0</td>\n",
       "      <td>0.0</td>\n",
       "      <td>0.0</td>\n",
       "      <td>2.0</td>\n",
       "      <td>42.0</td>\n",
       "      <td>1.0</td>\n",
       "      <td>0.0</td>\n",
       "      <td>0.0</td>\n",
       "      <td>0.0</td>\n",
       "    </tr>\n",
       "    <tr>\n",
       "      <th>8</th>\n",
       "      <td>0.0</td>\n",
       "      <td>0.0</td>\n",
       "      <td>0.0</td>\n",
       "      <td>0.0</td>\n",
       "      <td>0.0</td>\n",
       "      <td>0.0</td>\n",
       "      <td>4.0</td>\n",
       "      <td>10.0</td>\n",
       "      <td>0.0</td>\n",
       "      <td>1.0</td>\n",
       "      <td>0.0</td>\n",
       "    </tr>\n",
       "    <tr>\n",
       "      <th>9</th>\n",
       "      <td>1.0</td>\n",
       "      <td>0.0</td>\n",
       "      <td>0.0</td>\n",
       "      <td>1.0</td>\n",
       "      <td>0.0</td>\n",
       "      <td>0.0</td>\n",
       "      <td>0.0</td>\n",
       "      <td>0.0</td>\n",
       "      <td>5.0</td>\n",
       "      <td>0.0</td>\n",
       "      <td>0.0</td>\n",
       "    </tr>\n",
       "    <tr>\n",
       "      <th>10</th>\n",
       "      <td>0.0</td>\n",
       "      <td>0.0</td>\n",
       "      <td>0.0</td>\n",
       "      <td>0.0</td>\n",
       "      <td>2.0</td>\n",
       "      <td>0.0</td>\n",
       "      <td>0.0</td>\n",
       "      <td>0.0</td>\n",
       "      <td>0.0</td>\n",
       "      <td>1.0</td>\n",
       "      <td>0.0</td>\n",
       "    </tr>\n",
       "    <tr>\n",
       "      <th>11</th>\n",
       "      <td>0.0</td>\n",
       "      <td>0.0</td>\n",
       "      <td>0.0</td>\n",
       "      <td>0.0</td>\n",
       "      <td>0.0</td>\n",
       "      <td>0.0</td>\n",
       "      <td>2.0</td>\n",
       "      <td>0.0</td>\n",
       "      <td>0.0</td>\n",
       "      <td>0.0</td>\n",
       "      <td>2.0</td>\n",
       "    </tr>\n",
       "  </tbody>\n",
       "</table>\n",
       "</div>"
      ],
      "text/plain": [
       "     0    1    2    3    4    6     7     8    9    10   11\n",
       "0   2.0  0.0  0.0  0.0  0.0  0.0   0.0   0.0  1.0  1.0  0.0\n",
       "1   0.0  1.0  0.0  0.0  1.0  0.0   2.0   0.0  0.0  0.0  0.0\n",
       "2   0.0  0.0  2.0  1.0  0.0  0.0   4.0   0.0  0.0  0.0  0.0\n",
       "3   0.0  0.0  1.0  0.0  0.0  0.0   3.0   1.0  0.0  0.0  0.0\n",
       "4   0.0  0.0  0.0  0.0  4.0  3.0   1.0   0.0  1.0  0.0  0.0\n",
       "6   1.0  0.0  0.0  0.0  1.0  6.0   0.0   1.0  0.0  0.0  0.0\n",
       "7   0.0  0.0  0.0  0.0  0.0  2.0  42.0   1.0  0.0  0.0  0.0\n",
       "8   0.0  0.0  0.0  0.0  0.0  0.0   4.0  10.0  0.0  1.0  0.0\n",
       "9   1.0  0.0  0.0  1.0  0.0  0.0   0.0   0.0  5.0  0.0  0.0\n",
       "10  0.0  0.0  0.0  0.0  2.0  0.0   0.0   0.0  0.0  1.0  0.0\n",
       "11  0.0  0.0  0.0  0.0  0.0  0.0   2.0   0.0  0.0  0.0  2.0"
      ]
     },
     "execution_count": 104,
     "metadata": {},
     "output_type": "execute_result"
    }
   ],
   "source": [
    "D = D[keys].T[keys].T\n",
    "import pandas as pd\n",
    "pd.DataFrame(D,\n",
    "            columns = keys,\n",
    "            index = keys)"
   ]
  },
  {
   "cell_type": "code",
   "execution_count": null,
   "metadata": {
    "collapsed": true
   },
   "outputs": [],
   "source": []
  }
 ],
 "metadata": {
  "anaconda-cloud": {},
  "kernelspec": {
   "display_name": "Python [conda root]",
   "language": "python",
   "name": "conda-root-py"
  },
  "language_info": {
   "codemirror_mode": {
    "name": "ipython",
    "version": 3
   },
   "file_extension": ".py",
   "mimetype": "text/x-python",
   "name": "python",
   "nbconvert_exporter": "python",
   "pygments_lexer": "ipython3",
   "version": "3.5.2"
  }
 },
 "nbformat": 4,
 "nbformat_minor": 1
}
