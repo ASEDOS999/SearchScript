{
 "cells": [
  {
   "cell_type": "markdown",
   "metadata": {},
   "source": [
    "# Clusterization\n",
    "\n",
    "## 1. Texts Separation"
   ]
  },
  {
   "cell_type": "code",
   "execution_count": 1,
   "metadata": {
    "collapsed": true
   },
   "outputs": [],
   "source": [
    "path = \"../../../Texts/text2_3.txt\" "
   ]
  },
  {
   "cell_type": "code",
   "execution_count": 2,
   "metadata": {
    "collapsed": false
   },
   "outputs": [
    {
     "data": {
      "text/plain": [
       "[[(0,\n",
       "   ' А когда речь заходит о покупке авто на вторичном рынке, то ещё и опасное.'),\n",
       "  (0, ' Ведь подержанный автомобиль – это всегда «кот в мешке».'),\n",
       "  (1,\n",
       "   ' Вопреки описанию и виду, можно «напороться» и на технически неисправную машину, и на битую-перебитую, а порой и на «криминальную».'),\n",
       "  (1,\n",
       "   ' Однако добрую часть вариантов можно отсеять ещё на этапе просмотра объявлений, нужно только быть внимательным.')],\n",
       " [[(0, ''),\n",
       "   (1, ' Грамотно составляйте запрос поиска\\n'),\n",
       "   (1,\n",
       "    'Для того чтобы не тратить время и силы, нужно максимально точно определиться с тем, что, собственно, необходимо приобрести и сколько на покупку имеется денег.')]],\n",
       " [(0, ' Если нужен седан, значит, выбираете только седан.'),\n",
       "  (0,\n",
       "   ' Если нужна механическая коробка, в условиях поиска ставите «только МКП».'),\n",
       "  (1,\n",
       "   ' В идеале, конечно, к моменту составления запроса нужно четко представлять, автомобиль какой марки и модели предполагается к покупке.'),\n",
       "  (0,\n",
       "   ' Нужен Рено Логан, значит, смотрим Рено Логан, а не Clio Symbol, Sandero и Polo Sedan до кучи.'),\n",
       "  (1,\n",
       "   ' Имейте в виду, что даже самый «замечательный» б/у автомобиль потребует после покупки каких-то затрат.')]]"
      ]
     },
     "execution_count": 2,
     "metadata": {},
     "output_type": "execute_result"
    }
   ],
   "source": [
    "from clusterization import text_segmentation\n",
    "handle = open(path, 'r')\n",
    "text = handle.read()\n",
    "handle.close()\n",
    "new = text_segmentation(text)\n",
    "new[:3]"
   ]
  },
  {
   "cell_type": "markdown",
   "metadata": {},
   "source": [
    "## 2. Experiments With Semantic"
   ]
  },
  {
   "cell_type": "code",
   "execution_count": 19,
   "metadata": {
    "collapsed": true
   },
   "outputs": [],
   "source": [
    "import os\n",
    "import numpy as np\n",
    "import time\n",
    "import pickle\n",
    "from scipy.linalg import block_diag"
   ]
  },
  {
   "cell_type": "code",
   "execution_count": 10,
   "metadata": {
    "collapsed": false
   },
   "outputs": [
    {
     "name": "stderr",
     "output_type": "stream",
     "text": [
      "/home/ased/anaconda3/lib/python3.5/site-packages/smart_open/smart_open_lib.py:398: UserWarning: This function is deprecated, use smart_open.open instead. See the migration notes for details: https://github.com/RaRe-Technologies/smart_open/blob/master/README.rst#migrating-to-the-new-open-function\n",
      "  'See the migration notes for details: %s' % _MIGRATION_NOTES_URL\n"
     ]
    }
   ],
   "source": [
    "import gensim\n",
    "model = gensim.models.KeyedVectors.load_word2vec_format('../../model.bin', binary=True) \n",
    "#model.init_sims(replace=True)"
   ]
  },
  {
   "cell_type": "markdown",
   "metadata": {},
   "source": [
    "### 2.1. Trivial Segmentation On Segmented From Programm"
   ]
  },
  {
   "cell_type": "code",
   "execution_count": 4,
   "metadata": {
    "collapsed": false
   },
   "outputs": [],
   "source": [
    "import pickle\n",
    "with open('data_dict.pickle', 'rb') as f:\n",
    "    data_dict = pickle.load(f)\n",
    "    f.close()"
   ]
  },
  {
   "cell_type": "code",
   "execution_count": 5,
   "metadata": {
    "collapsed": false
   },
   "outputs": [
    {
     "name": "stderr",
     "output_type": "stream",
     "text": [
      "/home/ased/Desktop/PROJECTS/SearchScript/SemanticAnalysis/Experiments/TextsClusters/clusterization.py:91: RuntimeWarning: invalid value encountered in true_divide\n",
      "  return s/k\n"
     ]
    }
   ],
   "source": [
    "from clusterization import trivial_segmentation\n",
    "\n",
    "list_texts, TT, list_tag_ud = trivial_segmentation(path, model,data_dict)"
   ]
  },
  {
   "cell_type": "code",
   "execution_count": 6,
   "metadata": {
    "collapsed": false
   },
   "outputs": [
    {
     "name": "stdout",
     "output_type": "stream",
     "text": [
      " А когда речь заходит о покупке авто на вторичном рынке, то ещё и опасное. Ведь подержанный автомобиль – это всегда «кот в мешке». Вопреки описанию и виду, можно «напороться» и на технически неисправную машину, и на битую-перебитую, а порой и на «криминальную». \n",
      "\n",
      " Однако добрую часть вариантов можно отсеять ещё на этапе просмотра объявлений, нужно только быть внимательным. \n",
      "\n",
      " Грамотно составляйте запрос поиска\n",
      " \n",
      "\n",
      "Для того чтобы не тратить время и силы, нужно максимально точно определиться с тем, что, собственно, необходимо приобрести и сколько на покупку имеется денег. \n",
      "\n",
      " Если нужен седан, значит, выбираете только седан. \n",
      "\n",
      " Если нужна механическая коробка, в условиях поиска ставите «только МКП». \n",
      "\n",
      " В идеале, конечно, к моменту составления запроса нужно четко представлять, автомобиль какой марки и модели предполагается к покупке. Нужен Рено Логан, значит, смотрим Рено Логан, а не Clio Symbol, Sandero и Polo Sedan до кучи. \n",
      "\n",
      " Имейте в виду, что даже самый «замечательный» б/у автомобиль потребует после покупки каких-то затрат. Поэтому лучше 10-15% от планируемой на покупку авто суммы отложить и не тратить всё до последней копейки. На всякий случай, который, как показывает практика, с подержанными авто происходит регулярно. \n",
      "\n",
      " Отбрасывайте самые дешевые и самые дорогие варианты\n",
      " \n",
      "\n",
      "Стоимость автомобиля – самая абстрактная величина в объявлении, поскольку человеку всегда хочется купить подешевле, а продать подороже. Ценник в большинстве случаев отражает не реальную стоимость автомобиля, но желание продавца. Поэтому стоит определить среднюю стоимость из предлагаемых вариантов и ориентироваться на объявления, диапазон которых отличается от неё в пределах 20%. Чересчур дешевые предложения автомобиля с такими же характеристиками вызывают сильные подозрения. А дорогие в большинстве случаев демонстрируют неоправданность требований. \n",
      "\n",
      " Сопоставляйте год и пробег\n",
      " \n",
      "\n",
      "Пробег автомобиля – ещё один очень «скользкий» параметр, ориентироваться на который тяжело. «Скручиванием» спидометра занимаются, в общем-то, почти все, кто имеет отношение к купле-продаже автомобилей, начиная от «частников» и заканчивая официальными дилерами. В первую очередь стоит помнить, что пробеги напрямую зависят от размера города, по которому автомобиль ездил. \n",
      "\n",
      " Так, в Санкт-Петербурге и Москве с их проспектами, «кольцевыми» и поездками на дачу за 100-200 км от города средний пробег может составлять от 20 000 до 40 000 км в год, а то и более. \n",
      "\n",
      " Соответственно, увидев объявление автомобиля 2008-2009 года выпуска с пробегом 35 000 – 40 000 км, стоит задуматься о подлинности этих данных. \n",
      "\n",
      " Анализируйте категорию популярности автомобиля\n",
      " \n",
      "\n",
      "Исключения, конечно, бывают всегда и везде. Поэтому, помимо километража, стоит обращать внимание ещё и на конкретную марку и модель, а так же её популярность среди той или иной группы водителей. Но у «дамских» автомобилей бывает другая беда, а именно – масса мелких кузовных повреждений. Даже совсем новые автомобили бывают побиты, поцарапаны, потерты со всех сторон и, как следствие, по нескольку раз перекрашены. Так что, выбирая одну из вышеуказанных моделей, шанс нарваться именно на такую «выезженную» машину резко повышаются. Кстати, в эту же категорию попадает и большинство пригнанных из Германии легковых мерседесов с чудовищными пробегами, «скрученными» где-нибудь на границе. \n",
      "\n",
      " А в таких машинах, как BMW X5, можно легко обнаружить не только проблемы с документами, но и замазанные в кузове дырки калибра 7,62…\n",
      " \n",
      "\n",
      " Внимательно рассматривайте фотографии\n",
      " \n",
      "\n",
      "Человек выбирает в первую очередь глазами, поэтому практически две трети информации по автомобилю можно получить из предлагаемых фотографий. \n",
      "\n",
      " Тратить время даже на звонки по абстрактной машине не стоит: что это за продавец, который не побеспокоился о презентации собственного автомобиля? По той же причине «в мусорку» советуем отправлять объявления с нерезкими и мутными снимками и фотографиями, сделанными ночью, а также с изображениями, где машина представлена только частями. А раз так, то, вполне вероятно, восстановлен после ДТП. Например, если накладка на ступице руля (под которой находится подушка безопасности) сверкает новизной или отличается по цвету от обода руля, скорее всего, подушку уже меняли понятно по какой причине. Крайне подозрительно, если в объявлении от июля месяца висят «зимние» фотографии. Либо с машиной что-то не так, раз её до сих пор не продали, либо в течение полугода с ней могло что-то случиться. \n",
      "\n",
      " Изучайте описание автомобиля\n",
      " \n",
      "\n",
      "Внимательно читайте и описание авто, если оно в объявлении имеется. \n",
      "\n",
      " Кстати, его отсутствие или фраза «все вопросы по телефону…» тоже о многом говорит. Человек, которому нечего скрывать и который действительно хочет продать свой автомобиль, позаботится о максимуме информации и изложит её так, что потенциальный покупатель позвонит только с одной целью – назначить встречу. Никаких общих фраз вроде «тачка супер – сел и поехал, мамой клянусь», конечно, быть не должно. Только четкая конструктивная информация: кто ездил, куда ездил, зачем ездил, где обслуживалась, что менялось за последний год, готовность предоставить все документы по сервису, а также фраза «любые проверки на любом сервисе» позволяют думать, что продавец в своём автомобиле уверен. \n",
      "\n",
      " И это обязательно нужно проверить. \n",
      "\n",
      " Сопоставляя всё вышеописанное, даже сидя вечером за компьютером, можно свести массу объявлений буквально к нескольким действительно стоящим предложениям. \n",
      "\n",
      " Но и после не следует расслабляться – грамотные продавцы все вышеописанные «хитрости» знают и используют. \n",
      "\n",
      " Тем более, всегда стоит помнить: в большинстве случаев, если автомобиль продают, значит, он чем-то «достал». \n",
      "\n"
     ]
    }
   ],
   "source": [
    "for i in list_texts:\n",
    "    print(i, '\\n')"
   ]
  },
  {
   "cell_type": "code",
   "execution_count": 7,
   "metadata": {
    "collapsed": false
   },
   "outputs": [],
   "source": [
    "new = list()\n",
    "for i in list_tag_ud:\n",
    "    _ = list()\n",
    "    for j in i:\n",
    "        _ += j\n",
    "    new.append(_)\n",
    "list_tag_ud = new"
   ]
  },
  {
   "cell_type": "markdown",
   "metadata": {},
   "source": [
    "### 2.2. Union Of Segments\n",
    "\n",
    "You can see that each segment is linked by one sence and has not some excess sentences. But there are segmentes that should be united. An example of such pairs is the pair of the first and second segments. It is one script step that can be named 'Request Generation'."
   ]
  },
  {
   "cell_type": "code",
   "execution_count": 12,
   "metadata": {
    "collapsed": false
   },
   "outputs": [
    {
     "data": {
      "text/plain": [
       "[(0.40979059331933704,\n",
       "  ' А когда речь заходит о покупке авто на вторичном рынке, то ещё и опасное. Ведь подержанный автомобиль – это всегда «кот в мешке». Вопреки описанию и виду, можно «напороться» и на технически неисправную машину, и на битую-перебитую, а порой и на «криминальную».',\n",
       "  ' Однако добрую часть вариантов можно отсеять ещё на этапе просмотра объявлений, нужно только быть внимательным.'),\n",
       " (0.4486518585048985,\n",
       "  ' Однако добрую часть вариантов можно отсеять ещё на этапе просмотра объявлений, нужно только быть внимательным.',\n",
       "  ' Грамотно составляйте запрос поиска\\n'),\n",
       " (0.5202380094788169,\n",
       "  ' Грамотно составляйте запрос поиска\\n',\n",
       "  'Для того чтобы не тратить время и силы, нужно максимально точно определиться с тем, что, собственно, необходимо приобрести и сколько на покупку имеется денег.'),\n",
       " (0.5229061644006359,\n",
       "  'Для того чтобы не тратить время и силы, нужно максимально точно определиться с тем, что, собственно, необходимо приобрести и сколько на покупку имеется денег.',\n",
       "  ' Если нужен седан, значит, выбираете только седан.'),\n",
       " (0.45777253663990586,\n",
       "  ' Если нужен седан, значит, выбираете только седан.',\n",
       "  ' Если нужна механическая коробка, в условиях поиска ставите «только МКП».'),\n",
       " (0.5764533134584628,\n",
       "  ' Если нужна механическая коробка, в условиях поиска ставите «только МКП».',\n",
       "  ' В идеале, конечно, к моменту составления запроса нужно четко представлять, автомобиль какой марки и модели предполагается к покупке. Нужен Рено Логан, значит, смотрим Рено Логан, а не Clio Symbol, Sandero и Polo Sedan до кучи.'),\n",
       " (0.7065766880510976,\n",
       "  ' В идеале, конечно, к моменту составления запроса нужно четко представлять, автомобиль какой марки и модели предполагается к покупке. Нужен Рено Логан, значит, смотрим Рено Логан, а не Clio Symbol, Sandero и Polo Sedan до кучи.',\n",
       "  ' Имейте в виду, что даже самый «замечательный» б/у автомобиль потребует после покупки каких-то затрат. Поэтому лучше 10-15% от планируемой на покупку авто суммы отложить и не тратить всё до последней копейки. На всякий случай, который, как показывает практика, с подержанными авто происходит регулярно.'),\n",
       " (0.43039202225036016,\n",
       "  ' Имейте в виду, что даже самый «замечательный» б/у автомобиль потребует после покупки каких-то затрат. Поэтому лучше 10-15% от планируемой на покупку авто суммы отложить и не тратить всё до последней копейки. На всякий случай, который, как показывает практика, с подержанными авто происходит регулярно.',\n",
       "  ' Отбрасывайте самые дешевые и самые дорогие варианты\\n'),\n",
       " (0.5404333820401108,\n",
       "  ' Отбрасывайте самые дешевые и самые дорогие варианты\\n',\n",
       "  'Стоимость автомобиля – самая абстрактная величина в объявлении, поскольку человеку всегда хочется купить подешевле, а продать подороже. Ценник в большинстве случаев отражает не реальную стоимость автомобиля, но желание продавца. Поэтому стоит определить среднюю стоимость из предлагаемых вариантов и ориентироваться на объявления, диапазон которых отличается от неё в пределах 20%. Чересчур дешевые предложения автомобиля с такими же характеристиками вызывают сильные подозрения. А дорогие в большинстве случаев демонстрируют неоправданность требований.'),\n",
       " (0.28101360581310325,\n",
       "  'Стоимость автомобиля – самая абстрактная величина в объявлении, поскольку человеку всегда хочется купить подешевле, а продать подороже. Ценник в большинстве случаев отражает не реальную стоимость автомобиля, но желание продавца. Поэтому стоит определить среднюю стоимость из предлагаемых вариантов и ориентироваться на объявления, диапазон которых отличается от неё в пределах 20%. Чересчур дешевые предложения автомобиля с такими же характеристиками вызывают сильные подозрения. А дорогие в большинстве случаев демонстрируют неоправданность требований.',\n",
       "  ' Сопоставляйте год и пробег\\n'),\n",
       " (0.4738692219293644,\n",
       "  ' Сопоставляйте год и пробег\\n',\n",
       "  'Пробег автомобиля – ещё один очень «скользкий» параметр, ориентироваться на который тяжело. «Скручиванием» спидометра занимаются, в общем-то, почти все, кто имеет отношение к купле-продаже автомобилей, начиная от «частников» и заканчивая официальными дилерами. В первую очередь стоит помнить, что пробеги напрямую зависят от размера города, по которому автомобиль ездил.'),\n",
       " (0.5683612517355923,\n",
       "  'Пробег автомобиля – ещё один очень «скользкий» параметр, ориентироваться на который тяжело. «Скручиванием» спидометра занимаются, в общем-то, почти все, кто имеет отношение к купле-продаже автомобилей, начиная от «частников» и заканчивая официальными дилерами. В первую очередь стоит помнить, что пробеги напрямую зависят от размера города, по которому автомобиль ездил.',\n",
       "  ' Так, в Санкт-Петербурге и Москве с их проспектами, «кольцевыми» и поездками на дачу за 100-200 км от города средний пробег может составлять от 20 000 до 40 000 км в год, а то и более.'),\n",
       " (0.5509963082116551,\n",
       "  ' Так, в Санкт-Петербурге и Москве с их проспектами, «кольцевыми» и поездками на дачу за 100-200 км от города средний пробег может составлять от 20 000 до 40 000 км в год, а то и более.',\n",
       "  ' Соответственно, увидев объявление автомобиля 2008-2009 года выпуска с пробегом 35 000 – 40 000 км, стоит задуматься о подлинности этих данных.'),\n",
       " (0.6049629042373278,\n",
       "  ' Соответственно, увидев объявление автомобиля 2008-2009 года выпуска с пробегом 35 000 – 40 000 км, стоит задуматься о подлинности этих данных.',\n",
       "  ' Анализируйте категорию популярности автомобиля\\n'),\n",
       " (0.5754133647632632,\n",
       "  ' Анализируйте категорию популярности автомобиля\\n',\n",
       "  'Исключения, конечно, бывают всегда и везде. Поэтому, помимо километража, стоит обращать внимание ещё и на конкретную марку и модель, а так же её популярность среди той или иной группы водителей. Но у «дамских» автомобилей бывает другая беда, а именно – масса мелких кузовных повреждений. Даже совсем новые автомобили бывают побиты, поцарапаны, потерты со всех сторон и, как следствие, по нескольку раз перекрашены. Так что, выбирая одну из вышеуказанных моделей, шанс нарваться именно на такую «выезженную» машину резко повышаются. Кстати, в эту же категорию попадает и большинство пригнанных из Германии легковых мерседесов с чудовищными пробегами, «скрученными» где-нибудь на границе.'),\n",
       " (0.5538227630586567,\n",
       "  'Исключения, конечно, бывают всегда и везде. Поэтому, помимо километража, стоит обращать внимание ещё и на конкретную марку и модель, а так же её популярность среди той или иной группы водителей. Но у «дамских» автомобилей бывает другая беда, а именно – масса мелких кузовных повреждений. Даже совсем новые автомобили бывают побиты, поцарапаны, потерты со всех сторон и, как следствие, по нескольку раз перекрашены. Так что, выбирая одну из вышеуказанных моделей, шанс нарваться именно на такую «выезженную» машину резко повышаются. Кстати, в эту же категорию попадает и большинство пригнанных из Германии легковых мерседесов с чудовищными пробегами, «скрученными» где-нибудь на границе.',\n",
       "  ' А в таких машинах, как BMW X5, можно легко обнаружить не только проблемы с документами, но и замазанные в кузове дырки калибра 7,62…\\n'),\n",
       " (0.2641708665001725,\n",
       "  ' А в таких машинах, как BMW X5, можно легко обнаружить не только проблемы с документами, но и замазанные в кузове дырки калибра 7,62…\\n',\n",
       "  ' Внимательно рассматривайте фотографии\\n'),\n",
       " (0.32328400683169595,\n",
       "  ' Внимательно рассматривайте фотографии\\n',\n",
       "  'Человек выбирает в первую очередь глазами, поэтому практически две трети информации по автомобилю можно получить из предлагаемых фотографий.'),\n",
       " (0.5998202229853029,\n",
       "  'Человек выбирает в первую очередь глазами, поэтому практически две трети информации по автомобилю можно получить из предлагаемых фотографий.',\n",
       "  ' Тратить время даже на звонки по абстрактной машине не стоит: что это за продавец, который не побеспокоился о презентации собственного автомобиля? По той же причине «в мусорку» советуем отправлять объявления с нерезкими и мутными снимками и фотографиями, сделанными ночью, а также с изображениями, где машина представлена только частями. А раз так, то, вполне вероятно, восстановлен после ДТП. Например, если накладка на ступице руля (под которой находится подушка безопасности) сверкает новизной или отличается по цвету от обода руля, скорее всего, подушку уже меняли понятно по какой причине. Крайне подозрительно, если в объявлении от июля месяца висят «зимние» фотографии. Либо с машиной что-то не так, раз её до сих пор не продали, либо в течение полугода с ней могло что-то случиться.'),\n",
       " (0.4379598744024651,\n",
       "  ' Тратить время даже на звонки по абстрактной машине не стоит: что это за продавец, который не побеспокоился о презентации собственного автомобиля? По той же причине «в мусорку» советуем отправлять объявления с нерезкими и мутными снимками и фотографиями, сделанными ночью, а также с изображениями, где машина представлена только частями. А раз так, то, вполне вероятно, восстановлен после ДТП. Например, если накладка на ступице руля (под которой находится подушка безопасности) сверкает новизной или отличается по цвету от обода руля, скорее всего, подушку уже меняли понятно по какой причине. Крайне подозрительно, если в объявлении от июля месяца висят «зимние» фотографии. Либо с машиной что-то не так, раз её до сих пор не продали, либо в течение полугода с ней могло что-то случиться.',\n",
       "  ' Изучайте описание автомобиля\\n'),\n",
       " (0.6686795854615347,\n",
       "  ' Изучайте описание автомобиля\\n',\n",
       "  'Внимательно читайте и описание авто, если оно в объявлении имеется.'),\n",
       " (0.3567659467301126,\n",
       "  'Внимательно читайте и описание авто, если оно в объявлении имеется.',\n",
       "  ' Кстати, его отсутствие или фраза «все вопросы по телефону…» тоже о многом говорит. Человек, которому нечего скрывать и который действительно хочет продать свой автомобиль, позаботится о максимуме информации и изложит её так, что потенциальный покупатель позвонит только с одной целью – назначить встречу. Никаких общих фраз вроде «тачка супер – сел и поехал, мамой клянусь», конечно, быть не должно. Только четкая конструктивная информация: кто ездил, куда ездил, зачем ездил, где обслуживалась, что менялось за последний год, готовность предоставить все документы по сервису, а также фраза «любые проверки на любом сервисе» позволяют думать, что продавец в своём автомобиле уверен.'),\n",
       " (0.5931282187111089,\n",
       "  ' Кстати, его отсутствие или фраза «все вопросы по телефону…» тоже о многом говорит. Человек, которому нечего скрывать и который действительно хочет продать свой автомобиль, позаботится о максимуме информации и изложит её так, что потенциальный покупатель позвонит только с одной целью – назначить встречу. Никаких общих фраз вроде «тачка супер – сел и поехал, мамой клянусь», конечно, быть не должно. Только четкая конструктивная информация: кто ездил, куда ездил, зачем ездил, где обслуживалась, что менялось за последний год, готовность предоставить все документы по сервису, а также фраза «любые проверки на любом сервисе» позволяют думать, что продавец в своём автомобиле уверен.',\n",
       "  ' И это обязательно нужно проверить.'),\n",
       " (0.36214839376725394,\n",
       "  ' И это обязательно нужно проверить.',\n",
       "  ' Сопоставляя всё вышеописанное, даже сидя вечером за компьютером, можно свести массу объявлений буквально к нескольким действительно стоящим предложениям.'),\n",
       " (0.376472265904035,\n",
       "  ' Сопоставляя всё вышеописанное, даже сидя вечером за компьютером, можно свести массу объявлений буквально к нескольким действительно стоящим предложениям.',\n",
       "  ' Но и после не следует расслабляться – грамотные продавцы все вышеописанные «хитрости» знают и используют.'),\n",
       " (0.5453728275904085,\n",
       "  ' Но и после не следует расслабляться – грамотные продавцы все вышеописанные «хитрости» знают и используют.',\n",
       "  ' Тем более, всегда стоит помнить: в большинстве случаев, если автомобиль продают, значит, он чем-то «достал».')]"
      ]
     },
     "execution_count": 12,
     "metadata": {},
     "output_type": "execute_result"
    }
   ],
   "source": [
    "n  =lambda x: x/np.linalg.norm(x)\n",
    "D = [(np.dot(n(i),n(TT[ind+1])), list_texts[ind], list_texts[ind+1]) for ind, i in enumerate(TT[:-1])]\n",
    "D"
   ]
  },
  {
   "cell_type": "code",
   "execution_count": 13,
   "metadata": {
    "collapsed": false
   },
   "outputs": [
    {
     "data": {
      "text/plain": [
       "[<matplotlib.lines.Line2D at 0x7fe5df1cd6a0>]"
      ]
     },
     "execution_count": 13,
     "metadata": {},
     "output_type": "execute_result"
    },
    {
     "data": {
      "image/png": "[encoded data removed]",
      "text/plain": [
       "<Figure size 432x288 with 1 Axes>"
      ]
     },
     "metadata": {},
     "output_type": "display_data"
    }
   ],
   "source": [
    "marks =[1, 0, 1, 0, 1, 1, 0, 0, 1, 0, 1, 1, 1, 0, 1, 1, 0, 0, 1, 0, 1, 1,0,0,1,1, ]\n",
    "x = [i[0] for i in D]\n",
    "for ind, i in enumerate(x):\n",
    "    if np.isnan([i]).any():\n",
    "        x[ind] = max(x)\n",
    "import matplotlib.pyplot as plt\n",
    "% matplotlib inline\n",
    "plt.plot(x, marks, 'ro')"
   ]
  },
  {
   "cell_type": "markdown",
   "metadata": {},
   "source": [
    "In such classification we can see that there is some spread of classes on segment [0.45,0.60]. The optimal bound is equal to 0.455."
   ]
  },
  {
   "cell_type": "markdown",
   "metadata": {},
   "source": [
    "## 3. Classification"
   ]
  },
  {
   "cell_type": "code",
   "execution_count": 56,
   "metadata": {
    "collapsed": true
   },
   "outputs": [],
   "source": [
    "import pickle\n",
    "with open('MarkedTexts.pickle', 'rb') as f:\n",
    "    d = pickle.load(f)\n",
    "    f.close"
   ]
  },
  {
   "cell_type": "code",
   "execution_count": 52,
   "metadata": {
    "collapsed": false,
    "scrolled": true
   },
   "outputs": [
    {
     "name": "stderr",
     "output_type": "stream",
     "text": [
      "/home/ased/anaconda3/lib/python3.5/site-packages/smart_open/smart_open_lib.py:398: UserWarning: This function is deprecated, use smart_open.open instead. See the migration notes for details: https://github.com/RaRe-Technologies/smart_open/blob/master/README.rst#migrating-to-the-new-open-function\n",
      "  'See the migration notes for details: %s' % _MIGRATION_NOTES_URL\n"
     ]
    }
   ],
   "source": [
    "import gensim\n",
    "model = gensim.models.KeyedVectors.load_word2vec_format('../../model.bin', binary=True) \n",
    "#model.init_sims(replace=True)"
   ]
  },
  {
   "cell_type": "code",
   "execution_count": 57,
   "metadata": {
    "collapsed": false
   },
   "outputs": [],
   "source": [
    "def update(elem, model = model):\n",
    "    def cond(word):\n",
    "        res = True\n",
    "        bad_list = ['CONJ', 'DET', 'PRON', 'PART']\n",
    "        for i in bad_list:\n",
    "            res = res and not (i in word)\n",
    "        return res\n",
    "    s = np.zeros((300,))\n",
    "    for i in elem[3]:\n",
    "        for j in i:\n",
    "            if type(j) == type(list()):\n",
    "                for k in j:\n",
    "                    if model.__contains__(k) and cond(k):\n",
    "                        s+= model[k]\n",
    "            else:\n",
    "                if model.__contains__(j) and cond(j):\n",
    "                    s+= model[j]\n",
    "    return (elem[0], s/np.linalg.norm(s), elem[2])\n",
    "new_d  =list()\n",
    "for i in d:\n",
    "    cur = list()\n",
    "    for j in i:\n",
    "        cur.append(update(j))\n",
    "    new_d.append(cur)\n",
    "d = new_d"
   ]
  },
  {
   "cell_type": "code",
   "execution_count": 58,
   "metadata": {
    "collapsed": false
   },
   "outputs": [
    {
     "name": "stdout",
     "output_type": "stream",
     "text": [
      "Distribution {0: 12, 1: 6, 2: 16, 3: 15, 4: 33, 5: 9, 6: 22, 7: 224, 8: 25, 9: 17, 10: 1, 11: 8, 12: 96}\n",
      "Ignore List [10, 12]\n",
      "Size data 387\n",
      "Size train 0.8\n"
     ]
    }
   ],
   "source": [
    "import numpy as np\n",
    "data = list()\n",
    "for i in d:\n",
    "    data += i\n",
    "data_dict = dict()\n",
    "for i in data:\n",
    "    if data_dict.__contains__(i[2]):\n",
    "        data_dict[int(i[2])] += 1\n",
    "    else:\n",
    "        data_dict[int(i[2])] = 1\n",
    "_ = [key for key in data_dict if data_dict[key]<6] + [12]\n",
    "data_copy = data.copy()\n",
    "data = [(i[0],i[1],int(i[2])) for i in data if not int(i[2]) in _]\n",
    "size_train = 0.8\n",
    "print('Distribution', data_dict)\n",
    "print('Ignore List', _)\n",
    "print('Size data', len(data))\n",
    "print('Size train',size_train)"
   ]
  },
  {
   "cell_type": "code",
   "execution_count": 59,
   "metadata": {
    "collapsed": false
   },
   "outputs": [
    {
     "data": {
      "text/plain": [
       "<matplotlib.axes._subplots.AxesSubplot at 0x7f5e4394b710>"
      ]
     },
     "execution_count": 59,
     "metadata": {},
     "output_type": "execute_result"
    },
    {
     "data": {
      "image/png": "[encoded data removed]",
      "text/plain": [
       "<Figure size 432x288 with 1 Axes>"
      ]
     },
     "metadata": {},
     "output_type": "display_data"
    }
   ],
   "source": [
    "import pandas\n",
    "%matplotlib inline\n",
    "from collections import Counter\n",
    "df = pandas.DataFrame.from_dict(data_dict, orient='index')\n",
    "df.plot(kind='bar')"
   ]
  },
  {
   "cell_type": "markdown",
   "metadata": {},
   "source": [
    "#### Distances Distribution"
   ]
  },
  {
   "cell_type": "code",
   "execution_count": 60,
   "metadata": {
    "collapsed": false
   },
   "outputs": [
    {
     "data": {
      "image/png": "[encoded data removed]",
      "text/plain": [
       "<Figure size 432x288 with 1 Axes>"
      ]
     },
     "metadata": {},
     "output_type": "display_data"
    }
   ],
   "source": [
    "vectors = [i[1] for i in data_copy]\n",
    "center = sum(vectors)/len(vectors)\n",
    "new = dict()\n",
    "for i in data_copy:\n",
    "    if new.__contains__(i[2]):\n",
    "        new[i[2]].append(i[1])\n",
    "    else:\n",
    "        new[i[2]] = [i[1]]\n",
    "distances = {key:[np.linalg.norm(center-i) for i in new[key]] for key in new}\n",
    "keys = new.keys()\n",
    "import matplotlib.pyplot as plt\n",
    "%matplotlib inline\n",
    "for key in keys:\n",
    "    distances[key].sort()\n",
    "    y = [(ind+1)/len(distances[key]) for ind, i in enumerate(distances[key])]\n",
    "    plt.plot(distances[key], y)\n",
    "plt.legend(keys)\n",
    "plt.show()"
   ]
  },
  {
   "cell_type": "code",
   "execution_count": 61,
   "metadata": {
    "collapsed": false
   },
   "outputs": [
    {
     "data": {
      "image/png": "[encoded data removed]",
      "text/plain": [
       "<Figure size 432x288 with 1 Axes>"
      ]
     },
     "metadata": {},
     "output_type": "display_data"
    }
   ],
   "source": [
    "vectors = [i[1] for i in data_copy]\n",
    "center = sum(vectors)/len(vectors)\n",
    "distances = [np.linalg.norm(center-i) for i in vectors]\n",
    "distances.sort()\n",
    "y = [ind+1 for ind,i in enumerate(distances)]\n",
    "import matplotlib.pyplot as plt\n",
    "%matplotlib inline\n",
    "plt.plot(distances, y)\n",
    "plt.show()"
   ]
  },
  {
   "cell_type": "markdown",
   "metadata": {},
   "source": [
    "#### Visualisation"
   ]
  },
  {
   "cell_type": "code",
   "execution_count": 62,
   "metadata": {
    "collapsed": false
   },
   "outputs": [
    {
     "name": "stderr",
     "output_type": "stream",
     "text": [
      "E0913 12:09:12.993532 140046000543552 interactiveshell.py:2065] Line magic function `%matplotlin` not found.\n"
     ]
    },
    {
     "data": {
      "image/png": "[encoded data removed]",
      "text/plain": [
       "<Figure size 432x288 with 1 Axes>"
      ]
     },
     "metadata": {},
     "output_type": "display_data"
    }
   ],
   "source": [
    "from sklearn.decomposition import PCA\n",
    "X = np.array([i[1] for i in data])\n",
    "Y = [int(i[2]) for i in data]\n",
    "classes = list({int(i):None for i in Y}.keys())\n",
    "pca = PCA(n_components = 2)\n",
    "X_new = pca.fit_transform(X)\n",
    "import matplotlib.pyplot as plt\n",
    "%matplotlin inline\n",
    "for cur in classes:\n",
    "    plt.plot([X[ind,0] for ind,i in enumerate(Y) if i==cur],\n",
    "             [X[ind,1] for ind,i in enumerate(Y) if i==cur], 'o')\n",
    "plt.legend(classes)\n",
    "plt.show()"
   ]
  },
  {
   "cell_type": "markdown",
   "metadata": {},
   "source": [
    "### 3.1. Trivial Classification\n",
    "\n",
    "In current section we will determine class of text on the nearest center of class that was got from training data."
   ]
  },
  {
   "cell_type": "code",
   "execution_count": 63,
   "metadata": {
    "collapsed": true
   },
   "outputs": [],
   "source": [
    "import random\n",
    "def trivial(train, test):\n",
    "    data_dict = dict()\n",
    "    for i in train:\n",
    "        if data_dict.__contains__(i[2]):\n",
    "            data_dict[int(i[2])].append(i[1])\n",
    "        else:\n",
    "            data_dict[int(i[2])] = [i[1]]\n",
    "    centers = {i:sum(data_dict[i])/len(data_dict[i]) for i in data_dict}\n",
    "    answers = list()\n",
    "    for i in test:\n",
    "        _ = {j:np.linalg.norm(centers[j]-i[1]) for j in centers}\n",
    "        answer = None\n",
    "        for key in _.keys():\n",
    "            if answer is None or _[answer]>_[key]:\n",
    "                answer = key\n",
    "        answers.append(answer)\n",
    "    return answers"
   ]
  },
  {
   "cell_type": "code",
   "execution_count": 64,
   "metadata": {
    "collapsed": true
   },
   "outputs": [],
   "source": [
    "def get_sets(data, size_train, all_data):\n",
    "    res = {}\n",
    "    for i in data:\n",
    "        if res.__contains__(i[2]):\n",
    "            res[i[2]].append(i)\n",
    "        else:\n",
    "            res[i[2]] = [i]\n",
    "    train = list()\n",
    "    for i in res:\n",
    "        cur = int(size_train*len(res[i]))\n",
    "        train+=res[i][:cur]\n",
    "    test=list()\n",
    "    if all_data:\n",
    "        for i in res:\n",
    "            test+=res[i]\n",
    "    else:\n",
    "        for i in res:\n",
    "            cur = int(size_train*len(res[i]))\n",
    "            test+=res[i][cur:]\n",
    "    return train,test"
   ]
  },
  {
   "cell_type": "code",
   "execution_count": 65,
   "metadata": {
    "collapsed": false
   },
   "outputs": [],
   "source": [
    "def metric(results, arg = 13):\n",
    "    D = np.zeros((arg, arg))\n",
    "    def update(some_dict, key):\n",
    "        if some_dict.__contains__(key):\n",
    "            some_dict[key] += 1\n",
    "        else:\n",
    "            some_dict[key]=1\n",
    "    TP, FP, FN = {}, {}, {}\n",
    "    acc = 0\n",
    "    _ = dict()\n",
    "    for i in results:\n",
    "        D[i[0], i[1]] += 1\n",
    "        if i[0]==i[1]:\n",
    "            acc+=1\n",
    "        _[i[0]] = None\n",
    "        _[i[1]] = None\n",
    "        if i[0]==i[1]:\n",
    "            update(TP, i[1])\n",
    "        else:\n",
    "            update(FP, i[1])\n",
    "            update(FN, i[0])\n",
    "    for i in _.keys():\n",
    "        if not TP.__contains__(i):\n",
    "            TP[i]=0\n",
    "        if not FP.__contains__(i):\n",
    "            FP[i]=0\n",
    "        if not FN.__contains__(i):\n",
    "            FN[i]=0\n",
    "    precision, recall = {}, {}\n",
    "    for i in _.keys():\n",
    "        try:\n",
    "            precision[i] = TP[i]/(TP[i]+FP[i])\n",
    "        except Exception:\n",
    "            precision[i]=0\n",
    "        try:\n",
    "            recall[i] = TP[i]/(TP[i]+FN[i])\n",
    "        except Exception:\n",
    "            recall[i]=0\n",
    "    return precision, recall, acc/len(results), D\n",
    "            \n",
    "def test_method(data, size_train,repeat,classificator=trivial, arg = 13, all_data = False):\n",
    "    prec, recall, acc = dict(), dict(), 0\n",
    "    D = np.zeros((arg,arg))\n",
    "    for i in range(repeat):\n",
    "        shuffled_data=data.copy()\n",
    "        random.shuffle(shuffled_data)\n",
    "        train, test = get_sets(shuffled_data, size_train, all_data)\n",
    "        answers = classificator(train, test)\n",
    "        results = [(i[2], answers[ind]) for ind,i in enumerate(test)]\n",
    "        cur_prec, cur_recall, cur_acc, cur_D = metric(results, arg)\n",
    "        for i in cur_prec:\n",
    "            if prec.__contains__(i):\n",
    "                prec[i]+=(cur_prec[i]/repeat)\n",
    "            else:\n",
    "                prec[i]=cur_prec[i]/repeat\n",
    "        for i in cur_recall:\n",
    "            if recall.__contains__(i):\n",
    "                recall[i]+=(cur_recall[i]/repeat)\n",
    "            else:\n",
    "                recall[i]=cur_recall[i]/repeat\n",
    "        acc+=(cur_acc/repeat)\n",
    "        D += cur_D/repeat\n",
    "    return prec, recall, acc, D"
   ]
  },
  {
   "cell_type": "markdown",
   "metadata": {},
   "source": [
    "#### Results On Tested Data"
   ]
  },
  {
   "cell_type": "code",
   "execution_count": 66,
   "metadata": {
    "collapsed": false
   },
   "outputs": [
    {
     "name": "stdout",
     "output_type": "stream",
     "text": [
      "Accuracy 0.5139999999999998\n",
      "Key\tPrec\tRecall\n",
      "0\t0.20\t0.25\n",
      "1\t0.00\t0.00\n",
      "2\t0.32\t0.42\n",
      "3\t0.18\t0.38\n",
      "4\t0.48\t0.42\n",
      "5\t0.01\t0.03\n",
      "6\t0.33\t0.39\n",
      "7\t0.92\t0.61\n",
      "8\t0.25\t0.54\n",
      "9\t0.36\t0.46\n",
      "11\t0.73\t0.83\n",
      "Mean\t0.34\t0.39\n"
     ]
    }
   ],
   "source": [
    "prec, recall, acc, D = test_method(data, size_train, 1000)\n",
    "print('Accuracy', acc)\n",
    "keys = list(prec.keys())\n",
    "keys.sort()\n",
    "print('Key\\tPrec\\tRecall')\n",
    "mean_prec, mean_recall = 0, 0\n",
    "for key in keys:\n",
    "    mean_prec += prec[key]\n",
    "    mean_recall += recall[key]\n",
    "    print(\"%.f\\t%.2f\\t%.2f\"%(key, prec[key],recall[key]))\n",
    "print(\"Mean\\t%.2f\\t%.2f\"%(mean_prec/len(keys), mean_recall/len(keys)))"
   ]
  },
  {
   "cell_type": "code",
   "execution_count": 15,
   "metadata": {
    "collapsed": false
   },
   "outputs": [
    {
     "data": {
      "text/html": [
       "<div>\n",
       "<style scoped>\n",
       "    .dataframe tbody tr th:only-of-type {\n",
       "        vertical-align: middle;\n",
       "    }\n",
       "\n",
       "    .dataframe tbody tr th {\n",
       "        vertical-align: top;\n",
       "    }\n",
       "\n",
       "    .dataframe thead th {\n",
       "        text-align: right;\n",
       "    }\n",
       "</style>\n",
       "<table border=\"1\" class=\"dataframe\">\n",
       "  <thead>\n",
       "    <tr style=\"text-align: right;\">\n",
       "      <th></th>\n",
       "      <th>0</th>\n",
       "      <th>1</th>\n",
       "      <th>2</th>\n",
       "      <th>3</th>\n",
       "      <th>4</th>\n",
       "      <th>5</th>\n",
       "      <th>6</th>\n",
       "      <th>7</th>\n",
       "      <th>8</th>\n",
       "      <th>9</th>\n",
       "      <th>11</th>\n",
       "    </tr>\n",
       "  </thead>\n",
       "  <tbody>\n",
       "    <tr>\n",
       "      <th>0</th>\n",
       "      <td>0.447</td>\n",
       "      <td>0.524</td>\n",
       "      <td>0.126</td>\n",
       "      <td>0.355</td>\n",
       "      <td>0.038</td>\n",
       "      <td>0.405</td>\n",
       "      <td>0.042</td>\n",
       "      <td>0.453</td>\n",
       "      <td>0.008</td>\n",
       "      <td>0.594</td>\n",
       "      <td>0.008</td>\n",
       "    </tr>\n",
       "    <tr>\n",
       "      <th>1</th>\n",
       "      <td>0.550</td>\n",
       "      <td>0.000</td>\n",
       "      <td>0.585</td>\n",
       "      <td>0.385</td>\n",
       "      <td>0.020</td>\n",
       "      <td>0.027</td>\n",
       "      <td>0.049</td>\n",
       "      <td>0.282</td>\n",
       "      <td>0.000</td>\n",
       "      <td>0.070</td>\n",
       "      <td>0.032</td>\n",
       "    </tr>\n",
       "    <tr>\n",
       "      <th>2</th>\n",
       "      <td>0.024</td>\n",
       "      <td>0.162</td>\n",
       "      <td>1.646</td>\n",
       "      <td>0.308</td>\n",
       "      <td>0.127</td>\n",
       "      <td>0.697</td>\n",
       "      <td>0.083</td>\n",
       "      <td>0.267</td>\n",
       "      <td>0.000</td>\n",
       "      <td>0.440</td>\n",
       "      <td>0.246</td>\n",
       "    </tr>\n",
       "    <tr>\n",
       "      <th>3</th>\n",
       "      <td>0.030</td>\n",
       "      <td>0.035</td>\n",
       "      <td>0.042</td>\n",
       "      <td>1.391</td>\n",
       "      <td>0.358</td>\n",
       "      <td>0.202</td>\n",
       "      <td>0.353</td>\n",
       "      <td>0.422</td>\n",
       "      <td>0.000</td>\n",
       "      <td>0.167</td>\n",
       "      <td>0.000</td>\n",
       "    </tr>\n",
       "    <tr>\n",
       "      <th>4</th>\n",
       "      <td>0.073</td>\n",
       "      <td>0.078</td>\n",
       "      <td>0.088</td>\n",
       "      <td>1.291</td>\n",
       "      <td>2.866</td>\n",
       "      <td>0.328</td>\n",
       "      <td>1.293</td>\n",
       "      <td>0.856</td>\n",
       "      <td>0.094</td>\n",
       "      <td>0.033</td>\n",
       "      <td>0.000</td>\n",
       "    </tr>\n",
       "    <tr>\n",
       "      <th>5</th>\n",
       "      <td>0.026</td>\n",
       "      <td>0.033</td>\n",
       "      <td>0.412</td>\n",
       "      <td>0.271</td>\n",
       "      <td>0.045</td>\n",
       "      <td>0.114</td>\n",
       "      <td>0.894</td>\n",
       "      <td>0.162</td>\n",
       "      <td>0.000</td>\n",
       "      <td>0.043</td>\n",
       "      <td>0.000</td>\n",
       "    </tr>\n",
       "    <tr>\n",
       "      <th>6</th>\n",
       "      <td>0.101</td>\n",
       "      <td>0.057</td>\n",
       "      <td>0.177</td>\n",
       "      <td>0.720</td>\n",
       "      <td>0.800</td>\n",
       "      <td>1.208</td>\n",
       "      <td>1.725</td>\n",
       "      <td>0.004</td>\n",
       "      <td>0.000</td>\n",
       "      <td>0.208</td>\n",
       "      <td>0.000</td>\n",
       "    </tr>\n",
       "    <tr>\n",
       "      <th>7</th>\n",
       "      <td>0.438</td>\n",
       "      <td>0.560</td>\n",
       "      <td>0.643</td>\n",
       "      <td>3.219</td>\n",
       "      <td>2.385</td>\n",
       "      <td>1.259</td>\n",
       "      <td>0.686</td>\n",
       "      <td>28.990</td>\n",
       "      <td>5.375</td>\n",
       "      <td>1.098</td>\n",
       "      <td>0.347</td>\n",
       "    </tr>\n",
       "    <tr>\n",
       "      <th>8</th>\n",
       "      <td>0.156</td>\n",
       "      <td>0.006</td>\n",
       "      <td>0.183</td>\n",
       "      <td>0.202</td>\n",
       "      <td>0.082</td>\n",
       "      <td>0.075</td>\n",
       "      <td>0.067</td>\n",
       "      <td>1.874</td>\n",
       "      <td>2.059</td>\n",
       "      <td>0.296</td>\n",
       "      <td>0.000</td>\n",
       "    </tr>\n",
       "    <tr>\n",
       "      <th>9</th>\n",
       "      <td>0.318</td>\n",
       "      <td>0.021</td>\n",
       "      <td>0.724</td>\n",
       "      <td>0.448</td>\n",
       "      <td>0.022</td>\n",
       "      <td>0.247</td>\n",
       "      <td>0.007</td>\n",
       "      <td>0.122</td>\n",
       "      <td>0.177</td>\n",
       "      <td>1.903</td>\n",
       "      <td>0.011</td>\n",
       "    </tr>\n",
       "    <tr>\n",
       "      <th>11</th>\n",
       "      <td>0.000</td>\n",
       "      <td>0.111</td>\n",
       "      <td>0.154</td>\n",
       "      <td>0.040</td>\n",
       "      <td>0.000</td>\n",
       "      <td>0.012</td>\n",
       "      <td>0.000</td>\n",
       "      <td>0.000</td>\n",
       "      <td>0.000</td>\n",
       "      <td>0.003</td>\n",
       "      <td>1.680</td>\n",
       "    </tr>\n",
       "  </tbody>\n",
       "</table>\n",
       "</div>"
      ],
      "text/plain": [
       "       0      1      2      3      4      5      6       7      8      9   \\\n",
       "0   0.447  0.524  0.126  0.355  0.038  0.405  0.042   0.453  0.008  0.594   \n",
       "1   0.550  0.000  0.585  0.385  0.020  0.027  0.049   0.282  0.000  0.070   \n",
       "2   0.024  0.162  1.646  0.308  0.127  0.697  0.083   0.267  0.000  0.440   \n",
       "3   0.030  0.035  0.042  1.391  0.358  0.202  0.353   0.422  0.000  0.167   \n",
       "4   0.073  0.078  0.088  1.291  2.866  0.328  1.293   0.856  0.094  0.033   \n",
       "5   0.026  0.033  0.412  0.271  0.045  0.114  0.894   0.162  0.000  0.043   \n",
       "6   0.101  0.057  0.177  0.720  0.800  1.208  1.725   0.004  0.000  0.208   \n",
       "7   0.438  0.560  0.643  3.219  2.385  1.259  0.686  28.990  5.375  1.098   \n",
       "8   0.156  0.006  0.183  0.202  0.082  0.075  0.067   1.874  2.059  0.296   \n",
       "9   0.318  0.021  0.724  0.448  0.022  0.247  0.007   0.122  0.177  1.903   \n",
       "11  0.000  0.111  0.154  0.040  0.000  0.012  0.000   0.000  0.000  0.003   \n",
       "\n",
       "       11  \n",
       "0   0.008  \n",
       "1   0.032  \n",
       "2   0.246  \n",
       "3   0.000  \n",
       "4   0.000  \n",
       "5   0.000  \n",
       "6   0.000  \n",
       "7   0.347  \n",
       "8   0.000  \n",
       "9   0.011  \n",
       "11  1.680  "
      ]
     },
     "execution_count": 15,
     "metadata": {},
     "output_type": "execute_result"
    }
   ],
   "source": [
    "D = D[keys].T[keys].T\n",
    "import pandas as pd\n",
    "pd.DataFrame(D,\n",
    "            columns = keys,\n",
    "            index = keys)"
   ]
  },
  {
   "cell_type": "markdown",
   "metadata": {
    "collapsed": true
   },
   "source": [
    "### 3.2. Classification: SVM"
   ]
  },
  {
   "cell_type": "code",
   "execution_count": 67,
   "metadata": {
    "collapsed": true
   },
   "outputs": [],
   "source": [
    "def get_sets1(data, size_train, N_blocks):\n",
    "    def mysplit(some_list, N):\n",
    "        l = len(some_list)\n",
    "        k, m = l//N, l%N\n",
    "        lengths = [k+1 for i in range(m)]+[k for i in range(N-m)]\n",
    "        cur = 0\n",
    "        res = list()\n",
    "        for i in lengths:\n",
    "            res.append(some_list[cur:cur+i])\n",
    "            cur+=i\n",
    "        return res\n",
    "    res = {}\n",
    "    for i in data:\n",
    "        if res.__contains__(i[2]):\n",
    "            res[i[2]].append(i)\n",
    "        else:\n",
    "            res[i[2]] = [i]\n",
    "    train = list()\n",
    "    for i in res:\n",
    "        cur = int(size_train*len(res[i]))\n",
    "        train+=res[i][:cur]\n",
    "    test=list()\n",
    "    for i in res:\n",
    "        cur = int(size_train*len(res[i]))\n",
    "        test+=res[i][cur:]\n",
    "    random.shuffle(train)\n",
    "    return mysplit(train, N_blocks),test"
   ]
  },
  {
   "cell_type": "code",
   "execution_count": 68,
   "metadata": {
    "collapsed": false
   },
   "outputs": [],
   "source": [
    "X = np.array([i[1] for i in data])\n",
    "Y = [int(i[2]) for i in data]\n",
    "classes = list({int(i):None for i in Y}.keys())\n",
    "transformed_data = [(None, i, Y[ind]) for ind,i in enumerate(X)]\n",
    "import random\n",
    "random.shuffle(transformed_data)\n",
    "blocks, test =get_sets1(transformed_data, 0.8, 10)"
   ]
  },
  {
   "cell_type": "code",
   "execution_count": 69,
   "metadata": {
    "collapsed": false
   },
   "outputs": [
    {
     "name": "stdout",
     "output_type": "stream",
     "text": [
      "1 0.6756989247311829\n",
      "2 0.6756989247311829\n",
      "3 0.6756989247311829\n",
      "4 0.6756989247311829\n",
      "5 0.6756989247311829\n",
      "6 0.6756989247311829\n",
      "7 0.6756989247311829\n",
      "8 0.6756989247311829\n",
      "9 0.6756989247311829\n"
     ]
    }
   ],
   "source": [
    "from sklearn import svm\n",
    "repeat = len(blocks)\n",
    "res = dict()\n",
    "for ind,b in enumerate(blocks):\n",
    "    train, _, cur_test = list(), [j for cur_ind, j in enumerate(blocks) if cur_ind!=ind], b\n",
    "    for j in _:\n",
    "        train += j\n",
    "    for j in range(1, 10):\n",
    "        clf = svm.SVC(gamma = 3, degree = 1, coef0 =j,kernel='poly')\n",
    "        # clf = svm.SVC(gamma = j, kernel='rbf')# 0.6919\n",
    "        # clf = svm.SVC(gamma = 4, coef0 = j, kernel='sigmoid')\n",
    "        X = np.array([i[1] for i in train])\n",
    "        clf.fit(X, np.array([i[2] for i in train]))\n",
    "        if res.__contains__(j):\n",
    "            X = np.array([i[1] for i in cur_test])\n",
    "            res[j] += clf.score(X, np.array([i[2] for i in cur_test]))\n",
    "        else:\n",
    "            X = np.array([i[1] for i in cur_test])\n",
    "            res[j] = clf.score(X, np.array([i[2] for i in cur_test]))\n",
    "res = {i:res[i]/repeat for i in res}\n",
    "keys = list(res.keys())\n",
    "keys.sort()\n",
    "for i in keys:\n",
    "    print(i, res[i])"
   ]
  },
  {
   "cell_type": "code",
   "execution_count": 70,
   "metadata": {
    "collapsed": false,
    "scrolled": true
   },
   "outputs": [
    {
     "name": "stdout",
     "output_type": "stream",
     "text": [
      "Accuracy 0.6341463414634146\n",
      "Key\tPrec\tRecall\n",
      "0\t0.00\t0.00\n",
      "1\t0.00\t0.00\n",
      "2\t0.00\t0.00\n",
      "3\t1.00\t0.33\n",
      "4\t0.55\t0.86\n",
      "5\t0.00\t0.00\n",
      "6\t0.25\t0.20\n",
      "7\t0.75\t0.91\n",
      "8\t0.00\t0.00\n",
      "9\t0.40\t0.50\n",
      "11\t1.00\t0.50\n",
      "Mean\t0.36\t0.30\n"
     ]
    }
   ],
   "source": [
    "from sklearn import svm\n",
    "clf = svm.SVC(gamma = 3, degree = 1, coef0 = 2.5,kernel='poly')\n",
    "\n",
    "train = list()\n",
    "for i in blocks:\n",
    "    train += i\n",
    "clf.fit(np.array([i[1] for i in train]), np.array([i[2] for i in train]))\n",
    "pred = clf.predict(np.array([i[1] for i in test]))\n",
    "results = [(i[2], pred[ind]) for ind,i in enumerate(test)]\n",
    "prec, recall, acc, cur_D = metric(results)\n",
    "print('Accuracy', acc)\n",
    "keys = classes\n",
    "keys.sort()\n",
    "print('Key\\tPrec\\tRecall')\n",
    "mean_prec, mean_recall = 0, 0\n",
    "for key in keys:\n",
    "    mean_prec += prec[key]\n",
    "    mean_recall += recall[key]\n",
    "    print(\"%.f\\t%.2f\\t%.2f\"%(key, prec[key],recall[key]))\n",
    "print(\"Mean\\t%.2f\\t%.2f\"%(mean_prec/len(keys),mean_recall/len(keys)))\n"
   ]
  },
  {
   "cell_type": "markdown",
   "metadata": {},
   "source": [
    "### Clussification: NN"
   ]
  },
  {
   "cell_type": "code",
   "execution_count": 71,
   "metadata": {
    "collapsed": false
   },
   "outputs": [],
   "source": [
    "import keras\n",
    "from keras.utils import np_utils\n",
    "from keras.constraints import maxnorm\n",
    "from keras.layers import Dropout"
   ]
  },
  {
   "cell_type": "code",
   "execution_count": 99,
   "metadata": {
    "collapsed": false
   },
   "outputs": [],
   "source": [
    "X = np.array([i[1] for i in data])\n",
    "Y = [int(i[2]) for i in data]\n",
    "classes = list({int(i):None for i in Y}.keys())\n",
    "transformed_data = [(None, i, Y[ind]) for ind,i in enumerate(X)]\n",
    "import random\n",
    "random.shuffle(transformed_data)\n",
    "blocks, test =get_sets1(transformed_data, 1., 10)"
   ]
  },
  {
   "cell_type": "code",
   "execution_count": 100,
   "metadata": {
    "collapsed": false
   },
   "outputs": [],
   "source": [
    "def create_model(out, init = 'uniform', N = 1, act = 'tanh', shape = (300,), N_knots = 400, with_dropout = False):\n",
    "    model = keras.Sequential()\n",
    "    model.add(keras.layers.Dense(N_knots, input_shape = shape, init = init, activation = act))\n",
    "    for i in range(N-1):\n",
    "        model.add(keras.layers.Dense(N_knots, init = init, activation = act))\n",
    "        if with_dropout:\n",
    "            model.add(Dropout(0.5))\n",
    "    model.add(keras.layers.Dense(out, init = init, activation = 'softmax'))\n",
    "    return model\n",
    "def get_xy(xy, N = 12):\n",
    "    x = np.array([i[1] for i in xy])\n",
    "    y = np.array([i[2] for i in xy])\n",
    "    return x, np_utils.to_categorical(y, N)"
   ]
  },
  {
   "cell_type": "code",
   "execution_count": 109,
   "metadata": {
    "collapsed": false
   },
   "outputs": [
    {
     "name": "stderr",
     "output_type": "stream",
     "text": [
      "/home/ased/anaconda3/lib/python3.5/site-packages/ipykernel/__main__.py:3: UserWarning: Update your `Dense` call to the Keras 2 API: `Dense(1000, input_shape=(300,), kernel_initializer=\"uniform\", activation=\"sigmoid\")`\n",
      "  app.launch_new_instance()\n",
      "/home/ased/anaconda3/lib/python3.5/site-packages/ipykernel/__main__.py:8: UserWarning: Update your `Dense` call to the Keras 2 API: `Dense(12, kernel_initializer=\"uniform\", activation=\"softmax\")`\n",
      "/home/ased/anaconda3/lib/python3.5/site-packages/ipykernel/__main__.py:22: UserWarning: The `nb_epoch` argument in `fit` has been renamed `epochs`.\n"
     ]
    },
    {
     "name": "stdout",
     "output_type": "stream",
     "text": [
      "Train on 348 samples, validate on 39 samples\n",
      "Epoch 1/100\n",
      "348/348 [==============================] - 4s 12ms/step - loss: 1.7352 - acc: 0.5603 - val_loss: 1.6398 - val_acc: 0.5897\n",
      "Epoch 2/100\n",
      "348/348 [==============================] - 0s 1ms/step - loss: 1.5254 - acc: 0.5776 - val_loss: 1.5180 - val_acc: 0.5897\n",
      "Epoch 3/100\n",
      "348/348 [==============================] - 0s 1ms/step - loss: 1.4690 - acc: 0.5862 - val_loss: 1.5133 - val_acc: 0.5385\n",
      "Epoch 4/100\n",
      "348/348 [==============================] - 0s 1ms/step - loss: 1.3599 - acc: 0.5948 - val_loss: 1.4247 - val_acc: 0.5897\n",
      "Epoch 5/100\n",
      "348/348 [==============================] - 0s 1ms/step - loss: 1.2927 - acc: 0.6178 - val_loss: 1.3642 - val_acc: 0.5897\n",
      "Epoch 6/100\n",
      "348/348 [==============================] - 0s 1ms/step - loss: 1.2598 - acc: 0.6121 - val_loss: 1.3592 - val_acc: 0.5641\n",
      "Epoch 7/100\n",
      "348/348 [==============================] - 0s 1ms/step - loss: 1.1830 - acc: 0.6236 - val_loss: 1.3599 - val_acc: 0.5385\n",
      "Epoch 8/100\n",
      "348/348 [==============================] - 0s 1ms/step - loss: 1.1836 - acc: 0.6466 - val_loss: 1.3095 - val_acc: 0.5385\n",
      "Epoch 9/100\n",
      "348/348 [==============================] - 0s 1ms/step - loss: 1.1117 - acc: 0.6351 - val_loss: 1.3488 - val_acc: 0.5641\n",
      "Epoch 10/100\n",
      "348/348 [==============================] - 0s 1ms/step - loss: 1.1041 - acc: 0.6695 - val_loss: 1.3352 - val_acc: 0.5641\n",
      "Epoch 11/100\n",
      "348/348 [==============================] - 0s 1ms/step - loss: 1.0600 - acc: 0.6695 - val_loss: 1.2500 - val_acc: 0.5641\n",
      "Epoch 12/100\n",
      "348/348 [==============================] - 0s 1ms/step - loss: 1.0590 - acc: 0.6782 - val_loss: 1.3044 - val_acc: 0.5641\n",
      "Epoch 13/100\n",
      "348/348 [==============================] - 0s 1ms/step - loss: 1.0048 - acc: 0.6810 - val_loss: 1.3411 - val_acc: 0.6154\n",
      "Epoch 14/100\n",
      "348/348 [==============================] - 0s 1ms/step - loss: 0.9501 - acc: 0.7011 - val_loss: 1.2226 - val_acc: 0.5897\n",
      "Epoch 15/100\n",
      "348/348 [==============================] - 0s 1ms/step - loss: 0.9345 - acc: 0.7069 - val_loss: 1.1631 - val_acc: 0.5897\n",
      "Epoch 16/100\n",
      "348/348 [==============================] - 0s 1ms/step - loss: 0.8931 - acc: 0.7184 - val_loss: 1.2614 - val_acc: 0.5641\n",
      "Epoch 17/100\n",
      "348/348 [==============================] - 0s 1ms/step - loss: 0.8831 - acc: 0.7241 - val_loss: 1.2177 - val_acc: 0.5897\n",
      "Epoch 18/100\n",
      "348/348 [==============================] - 0s 1ms/step - loss: 0.8499 - acc: 0.7385 - val_loss: 1.2132 - val_acc: 0.5897\n",
      "Epoch 19/100\n",
      "348/348 [==============================] - 0s 1ms/step - loss: 0.8584 - acc: 0.7241 - val_loss: 1.2520 - val_acc: 0.6410\n",
      "Epoch 20/100\n",
      "348/348 [==============================] - 0s 1ms/step - loss: 0.7926 - acc: 0.7672 - val_loss: 1.1757 - val_acc: 0.6154\n",
      "Epoch 21/100\n",
      "348/348 [==============================] - 0s 1ms/step - loss: 0.7680 - acc: 0.7644 - val_loss: 1.1994 - val_acc: 0.6154\n",
      "Epoch 22/100\n",
      "348/348 [==============================] - 0s 1ms/step - loss: 0.7597 - acc: 0.7385 - val_loss: 1.1944 - val_acc: 0.5897\n",
      "Epoch 23/100\n",
      "348/348 [==============================] - 0s 1ms/step - loss: 0.7128 - acc: 0.7644 - val_loss: 1.3132 - val_acc: 0.6154\n",
      "Epoch 24/100\n",
      "348/348 [==============================] - 0s 1ms/step - loss: 0.7712 - acc: 0.7644 - val_loss: 1.1946 - val_acc: 0.6410\n",
      "Epoch 25/100\n",
      "348/348 [==============================] - 0s 1ms/step - loss: 0.6951 - acc: 0.7759 - val_loss: 1.1979 - val_acc: 0.6410\n",
      "Epoch 26/100\n",
      "348/348 [==============================] - 0s 1ms/step - loss: 0.6650 - acc: 0.8046 - val_loss: 1.1802 - val_acc: 0.6410\n",
      "Epoch 27/100\n",
      "348/348 [==============================] - 0s 1ms/step - loss: 0.6519 - acc: 0.8017 - val_loss: 1.1986 - val_acc: 0.6154\n",
      "Epoch 28/100\n",
      "348/348 [==============================] - 0s 1ms/step - loss: 0.6326 - acc: 0.7902 - val_loss: 1.1811 - val_acc: 0.6923\n",
      "Epoch 29/100\n",
      "348/348 [==============================] - 0s 1ms/step - loss: 0.6200 - acc: 0.8046 - val_loss: 1.1101 - val_acc: 0.6667\n",
      "Epoch 30/100\n",
      "348/348 [==============================] - 0s 1ms/step - loss: 0.6202 - acc: 0.8132 - val_loss: 1.1131 - val_acc: 0.7179\n",
      "Epoch 31/100\n",
      "348/348 [==============================] - 0s 1ms/step - loss: 0.5545 - acc: 0.8391 - val_loss: 1.2589 - val_acc: 0.6154\n",
      "Epoch 32/100\n",
      "348/348 [==============================] - 0s 1ms/step - loss: 0.5656 - acc: 0.8448 - val_loss: 1.1524 - val_acc: 0.6923\n",
      "Epoch 33/100\n",
      "348/348 [==============================] - 0s 1ms/step - loss: 0.5622 - acc: 0.8190 - val_loss: 1.2129 - val_acc: 0.6154\n",
      "Epoch 34/100\n",
      "348/348 [==============================] - 0s 1ms/step - loss: 0.5263 - acc: 0.8333 - val_loss: 1.1534 - val_acc: 0.6923\n",
      "Epoch 35/100\n",
      "348/348 [==============================] - 0s 1ms/step - loss: 0.5165 - acc: 0.8506 - val_loss: 1.1684 - val_acc: 0.6410\n",
      "Epoch 36/100\n",
      "348/348 [==============================] - 0s 1ms/step - loss: 0.5108 - acc: 0.8506 - val_loss: 1.1400 - val_acc: 0.6667\n",
      "Epoch 37/100\n",
      "348/348 [==============================] - 0s 1ms/step - loss: 0.4714 - acc: 0.8764 - val_loss: 1.1757 - val_acc: 0.6410\n",
      "Epoch 38/100\n",
      "348/348 [==============================] - 0s 1ms/step - loss: 0.4820 - acc: 0.8420 - val_loss: 1.1549 - val_acc: 0.6667\n",
      "Epoch 39/100\n",
      "348/348 [==============================] - 0s 1ms/step - loss: 0.4480 - acc: 0.8707 - val_loss: 1.1923 - val_acc: 0.6667\n",
      "Epoch 40/100\n",
      "348/348 [==============================] - 0s 1ms/step - loss: 0.4459 - acc: 0.8534 - val_loss: 1.1562 - val_acc: 0.6410\n",
      "Epoch 41/100\n",
      "348/348 [==============================] - 0s 1ms/step - loss: 0.4228 - acc: 0.8879 - val_loss: 1.2362 - val_acc: 0.6667\n",
      "Epoch 42/100\n",
      "348/348 [==============================] - 0s 1ms/step - loss: 0.4153 - acc: 0.8879 - val_loss: 1.2304 - val_acc: 0.6154\n",
      "Epoch 43/100\n",
      "348/348 [==============================] - 0s 1ms/step - loss: 0.4125 - acc: 0.8937 - val_loss: 1.1722 - val_acc: 0.7179\n",
      "Epoch 44/100\n",
      "348/348 [==============================] - 0s 1ms/step - loss: 0.4076 - acc: 0.8937 - val_loss: 1.1974 - val_acc: 0.6667\n",
      "Epoch 45/100\n",
      "348/348 [==============================] - 0s 1ms/step - loss: 0.3808 - acc: 0.8908 - val_loss: 1.2572 - val_acc: 0.6923\n",
      "Epoch 46/100\n",
      "348/348 [==============================] - 0s 1ms/step - loss: 0.3812 - acc: 0.8937 - val_loss: 1.2139 - val_acc: 0.6923\n",
      "Epoch 47/100\n",
      "348/348 [==============================] - 0s 1ms/step - loss: 0.3681 - acc: 0.8937 - val_loss: 1.1969 - val_acc: 0.7179\n",
      "Epoch 48/100\n",
      "348/348 [==============================] - 0s 1ms/step - loss: 0.3447 - acc: 0.9138 - val_loss: 1.2622 - val_acc: 0.6667\n",
      "Epoch 49/100\n",
      "348/348 [==============================] - 0s 1ms/step - loss: 0.3369 - acc: 0.9253 - val_loss: 1.2635 - val_acc: 0.6667\n",
      "Epoch 50/100\n",
      "348/348 [==============================] - 0s 1ms/step - loss: 0.3394 - acc: 0.9167 - val_loss: 1.2246 - val_acc: 0.6923\n",
      "Epoch 51/100\n",
      "348/348 [==============================] - 0s 1ms/step - loss: 0.3276 - acc: 0.9167 - val_loss: 1.2860 - val_acc: 0.7179\n",
      "Epoch 52/100\n",
      "348/348 [==============================] - 0s 1ms/step - loss: 0.3322 - acc: 0.9138 - val_loss: 1.2545 - val_acc: 0.6923\n",
      "Epoch 53/100\n",
      "348/348 [==============================] - 0s 1ms/step - loss: 0.3067 - acc: 0.9138 - val_loss: 1.2117 - val_acc: 0.7179\n",
      "Epoch 54/100\n",
      "348/348 [==============================] - 0s 1ms/step - loss: 0.3013 - acc: 0.9224 - val_loss: 1.2669 - val_acc: 0.6923\n",
      "Epoch 55/100\n",
      "348/348 [==============================] - 0s 1ms/step - loss: 0.2796 - acc: 0.9310 - val_loss: 1.2833 - val_acc: 0.6923\n",
      "Epoch 56/100\n",
      "348/348 [==============================] - 0s 1ms/step - loss: 0.2804 - acc: 0.9253 - val_loss: 1.3295 - val_acc: 0.6923\n",
      "Epoch 57/100\n",
      "348/348 [==============================] - 0s 1ms/step - loss: 0.2812 - acc: 0.9167 - val_loss: 1.2935 - val_acc: 0.6923\n",
      "Epoch 58/100\n",
      "348/348 [==============================] - 0s 1ms/step - loss: 0.2666 - acc: 0.9339 - val_loss: 1.3801 - val_acc: 0.6667\n",
      "Epoch 59/100\n",
      "348/348 [==============================] - 0s 1ms/step - loss: 0.2678 - acc: 0.9483 - val_loss: 1.2755 - val_acc: 0.7179\n",
      "Epoch 60/100\n",
      "348/348 [==============================] - 0s 1ms/step - loss: 0.2445 - acc: 0.9483 - val_loss: 1.3401 - val_acc: 0.6923\n",
      "Epoch 61/100\n",
      "348/348 [==============================] - 0s 1ms/step - loss: 0.2527 - acc: 0.9454 - val_loss: 1.3397 - val_acc: 0.6923\n",
      "Epoch 62/100\n",
      "348/348 [==============================] - 0s 1ms/step - loss: 0.2417 - acc: 0.9339 - val_loss: 1.2660 - val_acc: 0.6923\n",
      "Epoch 63/100\n",
      "348/348 [==============================] - 0s 1ms/step - loss: 0.2173 - acc: 0.9598 - val_loss: 1.3468 - val_acc: 0.6923\n",
      "Epoch 64/100\n",
      "348/348 [==============================] - 0s 1ms/step - loss: 0.2081 - acc: 0.9684 - val_loss: 1.3615 - val_acc: 0.6667\n",
      "Epoch 65/100\n",
      "348/348 [==============================] - 0s 1ms/step - loss: 0.2089 - acc: 0.9569 - val_loss: 1.3335 - val_acc: 0.6923\n",
      "Epoch 66/100\n",
      "348/348 [==============================] - 0s 1ms/step - loss: 0.2091 - acc: 0.9598 - val_loss: 1.3453 - val_acc: 0.7179\n",
      "Epoch 67/100\n",
      "348/348 [==============================] - 0s 1ms/step - loss: 0.2030 - acc: 0.9626 - val_loss: 1.3594 - val_acc: 0.6667\n",
      "Epoch 68/100\n",
      "348/348 [==============================] - 0s 1ms/step - loss: 0.2039 - acc: 0.9569 - val_loss: 1.4015 - val_acc: 0.6667\n",
      "Epoch 69/100\n",
      "348/348 [==============================] - 0s 1ms/step - loss: 0.1911 - acc: 0.9713 - val_loss: 1.3400 - val_acc: 0.6923\n",
      "Epoch 70/100\n",
      "348/348 [==============================] - 0s 1ms/step - loss: 0.1737 - acc: 0.9741 - val_loss: 1.4342 - val_acc: 0.6667\n",
      "Epoch 71/100\n",
      "348/348 [==============================] - 0s 1ms/step - loss: 0.1862 - acc: 0.9598 - val_loss: 1.3462 - val_acc: 0.6923\n",
      "Epoch 72/100\n",
      "348/348 [==============================] - 0s 1ms/step - loss: 0.1630 - acc: 0.9856 - val_loss: 1.4136 - val_acc: 0.6667\n",
      "Epoch 73/100\n",
      "348/348 [==============================] - 0s 1ms/step - loss: 0.1667 - acc: 0.9856 - val_loss: 1.3934 - val_acc: 0.6923\n",
      "Epoch 74/100\n",
      "348/348 [==============================] - 0s 1ms/step - loss: 0.1622 - acc: 0.9713 - val_loss: 1.4076 - val_acc: 0.6667\n",
      "Epoch 75/100\n",
      "348/348 [==============================] - 0s 1ms/step - loss: 0.1537 - acc: 0.9770 - val_loss: 1.4173 - val_acc: 0.6667\n",
      "Epoch 76/100\n",
      "348/348 [==============================] - 0s 1ms/step - loss: 0.1463 - acc: 0.9885 - val_loss: 1.4516 - val_acc: 0.6154\n",
      "Epoch 77/100\n",
      "348/348 [==============================] - 0s 1ms/step - loss: 0.1514 - acc: 0.9828 - val_loss: 1.4587 - val_acc: 0.7179\n",
      "Epoch 78/100\n",
      "348/348 [==============================] - 0s 1ms/step - loss: 0.1446 - acc: 0.9770 - val_loss: 1.4610 - val_acc: 0.6923\n",
      "Epoch 79/100\n",
      "348/348 [==============================] - 0s 1ms/step - loss: 0.1379 - acc: 0.9885 - val_loss: 1.4519 - val_acc: 0.6923\n",
      "Epoch 80/100\n",
      "348/348 [==============================] - 0s 1ms/step - loss: 0.1293 - acc: 0.9856 - val_loss: 1.4401 - val_acc: 0.7179\n",
      "Epoch 81/100\n",
      "348/348 [==============================] - 0s 1ms/step - loss: 0.1242 - acc: 0.9856 - val_loss: 1.4545 - val_acc: 0.7179\n",
      "Epoch 82/100\n",
      "348/348 [==============================] - 0s 1ms/step - loss: 0.1218 - acc: 0.9914 - val_loss: 1.4415 - val_acc: 0.6923\n",
      "Epoch 83/100\n",
      "348/348 [==============================] - 0s 1ms/step - loss: 0.1223 - acc: 0.9885 - val_loss: 1.4930 - val_acc: 0.6923\n",
      "Epoch 84/100\n",
      "348/348 [==============================] - 0s 1ms/step - loss: 0.1197 - acc: 0.9885 - val_loss: 1.4550 - val_acc: 0.7179\n",
      "Epoch 85/100\n",
      "348/348 [==============================] - 0s 1ms/step - loss: 0.1173 - acc: 0.9885 - val_loss: 1.5044 - val_acc: 0.7179\n",
      "Epoch 86/100\n",
      "348/348 [==============================] - 0s 1ms/step - loss: 0.1152 - acc: 0.9943 - val_loss: 1.4609 - val_acc: 0.6923\n",
      "Epoch 87/100\n",
      "348/348 [==============================] - 0s 1ms/step - loss: 0.1124 - acc: 0.9914 - val_loss: 1.4724 - val_acc: 0.7179\n",
      "Epoch 88/100\n",
      "348/348 [==============================] - 0s 1ms/step - loss: 0.0984 - acc: 0.9914 - val_loss: 1.5324 - val_acc: 0.6667\n",
      "Epoch 89/100\n",
      "348/348 [==============================] - 0s 1ms/step - loss: 0.1062 - acc: 0.9971 - val_loss: 1.5362 - val_acc: 0.6667\n",
      "Epoch 90/100\n",
      "348/348 [==============================] - 0s 1ms/step - loss: 0.1024 - acc: 0.9885 - val_loss: 1.5068 - val_acc: 0.6667\n",
      "Epoch 91/100\n",
      "348/348 [==============================] - 0s 1ms/step - loss: 0.1014 - acc: 0.9943 - val_loss: 1.4974 - val_acc: 0.6923\n",
      "Epoch 92/100\n",
      "348/348 [==============================] - 0s 1ms/step - loss: 0.0923 - acc: 0.9943 - val_loss: 1.5036 - val_acc: 0.6667\n",
      "Epoch 93/100\n",
      "348/348 [==============================] - 0s 1ms/step - loss: 0.0896 - acc: 0.9971 - val_loss: 1.4999 - val_acc: 0.7179\n",
      "Epoch 94/100\n",
      "348/348 [==============================] - 0s 1ms/step - loss: 0.0906 - acc: 0.9914 - val_loss: 1.5385 - val_acc: 0.6410\n",
      "Epoch 95/100\n",
      "348/348 [==============================] - 0s 1ms/step - loss: 0.0878 - acc: 0.9971 - val_loss: 1.4864 - val_acc: 0.6923\n",
      "Epoch 96/100\n",
      "348/348 [==============================] - 0s 1ms/step - loss: 0.0821 - acc: 0.9971 - val_loss: 1.5380 - val_acc: 0.7179\n",
      "Epoch 97/100\n",
      "348/348 [==============================] - 0s 1ms/step - loss: 0.0830 - acc: 0.9943 - val_loss: 1.5482 - val_acc: 0.6667\n",
      "Epoch 98/100\n",
      "348/348 [==============================] - 0s 1ms/step - loss: 0.0766 - acc: 0.9943 - val_loss: 1.5064 - val_acc: 0.6923\n",
      "Epoch 99/100\n",
      "348/348 [==============================] - 0s 1ms/step - loss: 0.0771 - acc: 0.9971 - val_loss: 1.5157 - val_acc: 0.7179\n",
      "Epoch 100/100\n",
      "348/348 [==============================] - 0s 1ms/step - loss: 0.0736 - acc: 0.9971 - val_loss: 1.5894 - val_acc: 0.6923\n"
     ]
    }
   ],
   "source": [
    "ind = 1\n",
    "cur_train, _, cur_test = list(), [cur_i for cur_ind,cur_i in enumerate(blocks) if cur_ind!=ind], blocks[ind]\n",
    "for j in _:\n",
    "    cur_train+= j\n",
    "x_train, y_train = get_xy(cur_train)\n",
    "f = lambda x: x\n",
    "x_train = f(x_train)\n",
    "x_test,y_test = get_xy(cur_test)\n",
    "x_test = f(x_test)\n",
    "model = create_model(12, N=1, N_knots = 1000, act= 'sigmoid', shape = (x_train.shape[1],), with_dropout = False)\n",
    "\n",
    "model.compile(loss = 'categorical_crossentropy',\n",
    "              optimizer = 'adam',\n",
    "              metrics = ['accuracy'])\n",
    "inform = model.fit(x_train, y_train,\n",
    "          batch_size = 10, nb_epoch = 100, verbose = 1,\n",
    "          validation_data = (x_test,y_test))"
   ]
  },
  {
   "cell_type": "code",
   "execution_count": 116,
   "metadata": {
    "collapsed": false
   },
   "outputs": [
    {
     "name": "stdout",
     "output_type": "stream",
     "text": [
      "Accuracy 0.6923076923076923\n",
      "Key\tPrec\tRecall\n",
      "0\t0.50\t1.00\n",
      "1\t0.00\t0.00\n",
      "2\t0.33\t0.50\n",
      "3\t0.33\t1.00\n",
      "4\t0.67\t0.50\n",
      "5\t0.00\t0.00\n",
      "6\t0.00\t0.00\n",
      "7\t0.83\t0.79\n",
      "8\t1.00\t1.00\n",
      "9\t1.00\t1.00\n",
      "11\t1.00\t0.50\n",
      "Mean\t0.51\t0.57\n"
     ]
    }
   ],
   "source": [
    "res = model.predict(x_test)\n",
    "res = [(np.argmax(res[ind]), np.argmax(y_test[ind])) for ind,i in enumerate(y_test)]\n",
    "prec, recall, acc,D = metric(res, 13)\n",
    "new= dict()\n",
    "for key in prec.keys():\n",
    "    new[key] = (prec[key],recall[key])\n",
    "print('Accuracy', acc)\n",
    "keys = classes\n",
    "keys.sort()\n",
    "print('Key\\tPrec\\tRecall')\n",
    "mean_prec, mean_recall = 0, 0\n",
    "for key in keys:\n",
    "    mean_prec += new[key][0]\n",
    "    mean_recall += new[key][1]\n",
    "    print(\"%.f\\t%.2f\\t%.2f\"%(key, prec[key],recall[key]))\n",
    "print(\"Mean\\t%.2f\\t%.2f\"%(mean_prec/len(keys),mean_recall/len(keys)))"
   ]
  },
  {
   "cell_type": "code",
   "execution_count": 117,
   "metadata": {
    "collapsed": false
   },
   "outputs": [
    {
     "data": {
      "text/html": [
       "<div>\n",
       "<style scoped>\n",
       "    .dataframe tbody tr th:only-of-type {\n",
       "        vertical-align: middle;\n",
       "    }\n",
       "\n",
       "    .dataframe tbody tr th {\n",
       "        vertical-align: top;\n",
       "    }\n",
       "\n",
       "    .dataframe thead th {\n",
       "        text-align: right;\n",
       "    }\n",
       "</style>\n",
       "<table border=\"1\" class=\"dataframe\">\n",
       "  <thead>\n",
       "    <tr style=\"text-align: right;\">\n",
       "      <th></th>\n",
       "      <th>0</th>\n",
       "      <th>1</th>\n",
       "      <th>2</th>\n",
       "      <th>3</th>\n",
       "      <th>4</th>\n",
       "      <th>5</th>\n",
       "      <th>6</th>\n",
       "      <th>7</th>\n",
       "      <th>8</th>\n",
       "      <th>9</th>\n",
       "      <th>11</th>\n",
       "    </tr>\n",
       "  </thead>\n",
       "  <tbody>\n",
       "    <tr>\n",
       "      <th>0</th>\n",
       "      <td>1.0</td>\n",
       "      <td>0.0</td>\n",
       "      <td>0.0</td>\n",
       "      <td>0.0</td>\n",
       "      <td>0.0</td>\n",
       "      <td>0.0</td>\n",
       "      <td>0.0</td>\n",
       "      <td>0.0</td>\n",
       "      <td>0.0</td>\n",
       "      <td>0.0</td>\n",
       "      <td>0.0</td>\n",
       "    </tr>\n",
       "    <tr>\n",
       "      <th>1</th>\n",
       "      <td>0.0</td>\n",
       "      <td>0.0</td>\n",
       "      <td>0.0</td>\n",
       "      <td>0.0</td>\n",
       "      <td>0.0</td>\n",
       "      <td>0.0</td>\n",
       "      <td>0.0</td>\n",
       "      <td>1.0</td>\n",
       "      <td>0.0</td>\n",
       "      <td>0.0</td>\n",
       "      <td>0.0</td>\n",
       "    </tr>\n",
       "    <tr>\n",
       "      <th>2</th>\n",
       "      <td>0.0</td>\n",
       "      <td>0.0</td>\n",
       "      <td>1.0</td>\n",
       "      <td>0.0</td>\n",
       "      <td>0.0</td>\n",
       "      <td>0.0</td>\n",
       "      <td>0.0</td>\n",
       "      <td>1.0</td>\n",
       "      <td>0.0</td>\n",
       "      <td>0.0</td>\n",
       "      <td>0.0</td>\n",
       "    </tr>\n",
       "    <tr>\n",
       "      <th>3</th>\n",
       "      <td>0.0</td>\n",
       "      <td>0.0</td>\n",
       "      <td>0.0</td>\n",
       "      <td>1.0</td>\n",
       "      <td>0.0</td>\n",
       "      <td>0.0</td>\n",
       "      <td>0.0</td>\n",
       "      <td>0.0</td>\n",
       "      <td>0.0</td>\n",
       "      <td>0.0</td>\n",
       "      <td>0.0</td>\n",
       "    </tr>\n",
       "    <tr>\n",
       "      <th>4</th>\n",
       "      <td>1.0</td>\n",
       "      <td>0.0</td>\n",
       "      <td>0.0</td>\n",
       "      <td>0.0</td>\n",
       "      <td>2.0</td>\n",
       "      <td>0.0</td>\n",
       "      <td>0.0</td>\n",
       "      <td>1.0</td>\n",
       "      <td>0.0</td>\n",
       "      <td>0.0</td>\n",
       "      <td>0.0</td>\n",
       "    </tr>\n",
       "    <tr>\n",
       "      <th>5</th>\n",
       "      <td>0.0</td>\n",
       "      <td>0.0</td>\n",
       "      <td>0.0</td>\n",
       "      <td>0.0</td>\n",
       "      <td>0.0</td>\n",
       "      <td>0.0</td>\n",
       "      <td>0.0</td>\n",
       "      <td>0.0</td>\n",
       "      <td>0.0</td>\n",
       "      <td>0.0</td>\n",
       "      <td>0.0</td>\n",
       "    </tr>\n",
       "    <tr>\n",
       "      <th>6</th>\n",
       "      <td>0.0</td>\n",
       "      <td>0.0</td>\n",
       "      <td>0.0</td>\n",
       "      <td>1.0</td>\n",
       "      <td>0.0</td>\n",
       "      <td>1.0</td>\n",
       "      <td>0.0</td>\n",
       "      <td>0.0</td>\n",
       "      <td>0.0</td>\n",
       "      <td>0.0</td>\n",
       "      <td>0.0</td>\n",
       "    </tr>\n",
       "    <tr>\n",
       "      <th>7</th>\n",
       "      <td>0.0</td>\n",
       "      <td>0.0</td>\n",
       "      <td>2.0</td>\n",
       "      <td>1.0</td>\n",
       "      <td>1.0</td>\n",
       "      <td>0.0</td>\n",
       "      <td>1.0</td>\n",
       "      <td>19.0</td>\n",
       "      <td>0.0</td>\n",
       "      <td>0.0</td>\n",
       "      <td>0.0</td>\n",
       "    </tr>\n",
       "    <tr>\n",
       "      <th>8</th>\n",
       "      <td>0.0</td>\n",
       "      <td>0.0</td>\n",
       "      <td>0.0</td>\n",
       "      <td>0.0</td>\n",
       "      <td>0.0</td>\n",
       "      <td>0.0</td>\n",
       "      <td>0.0</td>\n",
       "      <td>0.0</td>\n",
       "      <td>1.0</td>\n",
       "      <td>0.0</td>\n",
       "      <td>0.0</td>\n",
       "    </tr>\n",
       "    <tr>\n",
       "      <th>9</th>\n",
       "      <td>0.0</td>\n",
       "      <td>0.0</td>\n",
       "      <td>0.0</td>\n",
       "      <td>0.0</td>\n",
       "      <td>0.0</td>\n",
       "      <td>0.0</td>\n",
       "      <td>0.0</td>\n",
       "      <td>0.0</td>\n",
       "      <td>0.0</td>\n",
       "      <td>1.0</td>\n",
       "      <td>0.0</td>\n",
       "    </tr>\n",
       "    <tr>\n",
       "      <th>11</th>\n",
       "      <td>0.0</td>\n",
       "      <td>0.0</td>\n",
       "      <td>0.0</td>\n",
       "      <td>0.0</td>\n",
       "      <td>0.0</td>\n",
       "      <td>0.0</td>\n",
       "      <td>0.0</td>\n",
       "      <td>1.0</td>\n",
       "      <td>0.0</td>\n",
       "      <td>0.0</td>\n",
       "      <td>1.0</td>\n",
       "    </tr>\n",
       "  </tbody>\n",
       "</table>\n",
       "</div>"
      ],
      "text/plain": [
       "     0    1    2    3    4    5    6     7    8    9    11\n",
       "0   1.0  0.0  0.0  0.0  0.0  0.0  0.0   0.0  0.0  0.0  0.0\n",
       "1   0.0  0.0  0.0  0.0  0.0  0.0  0.0   1.0  0.0  0.0  0.0\n",
       "2   0.0  0.0  1.0  0.0  0.0  0.0  0.0   1.0  0.0  0.0  0.0\n",
       "3   0.0  0.0  0.0  1.0  0.0  0.0  0.0   0.0  0.0  0.0  0.0\n",
       "4   1.0  0.0  0.0  0.0  2.0  0.0  0.0   1.0  0.0  0.0  0.0\n",
       "5   0.0  0.0  0.0  0.0  0.0  0.0  0.0   0.0  0.0  0.0  0.0\n",
       "6   0.0  0.0  0.0  1.0  0.0  1.0  0.0   0.0  0.0  0.0  0.0\n",
       "7   0.0  0.0  2.0  1.0  1.0  0.0  1.0  19.0  0.0  0.0  0.0\n",
       "8   0.0  0.0  0.0  0.0  0.0  0.0  0.0   0.0  1.0  0.0  0.0\n",
       "9   0.0  0.0  0.0  0.0  0.0  0.0  0.0   0.0  0.0  1.0  0.0\n",
       "11  0.0  0.0  0.0  0.0  0.0  0.0  0.0   1.0  0.0  0.0  1.0"
      ]
     },
     "execution_count": 117,
     "metadata": {},
     "output_type": "execute_result"
    }
   ],
   "source": [
    "D = D[keys].T[keys].T\n",
    "import pandas as pd\n",
    "pd.DataFrame(D,\n",
    "            columns = keys,\n",
    "            index = keys)"
   ]
  },
  {
   "cell_type": "code",
   "execution_count": null,
   "metadata": {
    "collapsed": true
   },
   "outputs": [],
   "source": [
    " "
   ]
  }
 ],
 "metadata": {
  "anaconda-cloud": {},
  "kernelspec": {
   "display_name": "Python [conda root]",
   "language": "python",
   "name": "conda-root-py"
  },
  "language_info": {
   "codemirror_mode": {
    "name": "ipython",
    "version": 3
   },
   "file_extension": ".py",
   "mimetype": "text/x-python",
   "name": "python",
   "nbconvert_exporter": "python",
   "pygments_lexer": "ipython3",
   "version": "3.5.2"
  }
 },
 "nbformat": 4,
 "nbformat_minor": 1
}
