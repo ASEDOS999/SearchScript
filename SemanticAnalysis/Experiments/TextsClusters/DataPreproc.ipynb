{
 "cells": [
  {
   "cell_type": "markdown",
   "metadata": {},
   "source": [
    "# Tag Ud"
   ]
  },
  {
   "cell_type": "code",
   "execution_count": 1,
   "metadata": {
    "collapsed": false,
    "scrolled": true
   },
   "outputs": [
    {
     "name": "stderr",
     "output_type": "stream",
     "text": [
      "/home/ased/anaconda3/lib/python3.5/site-packages/smart_open/smart_open_lib.py:398: UserWarning: This function is deprecated, use smart_open.open instead. See the migration notes for details: https://github.com/RaRe-Technologies/smart_open/blob/master/README.rst#migrating-to-the-new-open-function\n",
      "  'See the migration notes for details: %s' % _MIGRATION_NOTES_URL\n"
     ]
    }
   ],
   "source": [
    "from preprocessing import transform_list\n",
    "import os\n",
    "path = '../../../Texts/'\n",
    "list_files = [path+i for i in os.listdir(path) if '.txt' in i and '2_' in i]\n",
    "import gensim\n",
    "model = gensim.models.KeyedVectors.load_word2vec_format('../../model.bin', binary=True) \n",
    "model.init_sims(replace=True)"
   ]
  },
  {
   "cell_type": "code",
   "execution_count": 2,
   "metadata": {
    "collapsed": false,
    "scrolled": true
   },
   "outputs": [
    {
     "name": "stdout",
     "output_type": "stream",
     "text": [
      "dict_keys([])\n",
      "../../../Texts/text2_1.txt 0.047619047619047616\n",
      "../../../Texts/text2_10.txt no\n",
      "../../../Texts/text2_10.txt 0.047619047619047616\n",
      "../../../Texts/text2_11.txt no\n",
      "../../../Texts/text2_11.txt 0.047619047619047616\n",
      "../../../Texts/text2_12.txt 0.09523809523809523\n",
      "../../../Texts/text2_13.txt no\n",
      "../../../Texts/text2_13.txt 0.09523809523809523\n",
      "../../../Texts/text2_14.txt 0.14285714285714285\n",
      "../../../Texts/text2_16.txt no\n",
      "../../../Texts/text2_16.txt 0.14285714285714285\n",
      "../../../Texts/text2_17.txt no\n",
      "../../../Texts/text2_17.txt 0.14285714285714285\n",
      "../../../Texts/text2_18.txt 0.19047619047619047\n",
      "../../../Texts/text2_19.txt no\n",
      "../../../Texts/text2_19.txt 0.19047619047619047\n",
      "../../../Texts/text2_2.txt no\n",
      "../../../Texts/text2_2.txt 0.19047619047619047\n",
      "../../../Texts/text2_20.txt 0.23809523809523808\n",
      "../../../Texts/text2_21.txt no\n",
      "../../../Texts/text2_21.txt 0.23809523809523808\n",
      "../../../Texts/text2_22.txt no\n",
      "../../../Texts/text2_22.txt 0.23809523809523808\n",
      "../../../Texts/text2_3.txt 0.2857142857142857\n",
      "../../../Texts/text2_4.txt no\n",
      "../../../Texts/text2_4.txt 0.2857142857142857\n",
      "../../../Texts/text2_5.txt no\n",
      "../../../Texts/text2_5.txt 0.2857142857142857\n",
      "../../../Texts/text2_6.txt 0.3333333333333333\n",
      "../../../Texts/text2_7.txt 0.38095238095238093\n",
      "../../../Texts/text2_8.txt 0.42857142857142855\n",
      "../../../Texts/text2_9.txt no\n",
      "../../../Texts/text2_9.txt 0.42857142857142855\n"
     ]
    }
   ],
   "source": [
    "list_files.sort()\n",
    "list_files = [i for i in list_files]\n",
    "res = transform_list(list_files, model)"
   ]
  },
  {
   "cell_type": "markdown",
   "metadata": {
    "collapsed": true
   },
   "source": [
    "# Separate All Texts"
   ]
  },
  {
   "cell_type": "code",
   "execution_count": 2,
   "metadata": {
    "collapsed": false,
    "scrolled": true
   },
   "outputs": [
    {
     "name": "stderr",
     "output_type": "stream",
     "text": [
      "/home/ased/anaconda3/lib/python3.5/site-packages/smart_open/smart_open_lib.py:398: UserWarning: This function is deprecated, use smart_open.open instead. See the migration notes for details: https://github.com/RaRe-Technologies/smart_open/blob/master/README.rst#migrating-to-the-new-open-function\n",
      "  'See the migration notes for details: %s' % _MIGRATION_NOTES_URL\n"
     ]
    },
    {
     "name": "stdout",
     "output_type": "stream",
     "text": [
      "../../../Texts/text2_18.txt\n"
     ]
    },
    {
     "name": "stderr",
     "output_type": "stream",
     "text": [
      "/home/ased/Desktop/PROJECTS/SearchScript/SemanticAnalysis/Experiments/TextsClusters/clusterization.py:91: RuntimeWarning: invalid value encountered in true_divide\n",
      "  return s/k\n"
     ]
    },
    {
     "name": "stdout",
     "output_type": "stream",
     "text": [
      "../../../Texts/text2_3.txt\n",
      "../../../Texts/text2_14.txt\n",
      "../../../Texts/text2_8.txt\n",
      "../../../Texts/text2_6.txt\n",
      "../../../Texts/text2_1.txt\n",
      "../../../Texts/text2_7.txt\n",
      "../../../Texts/text2_20.txt\n",
      "../../../Texts/text2_12.txt\n"
     ]
    }
   ],
   "source": [
    "import pickle\n",
    "import clusterization\n",
    "import gensim\n",
    "\n",
    "with open('data_dict.pickle', 'rb') as f:\n",
    "    d = pickle.load(f)\n",
    "    f.close()\n",
    "list_files = list(d.keys())\n",
    "model = gensim.models.KeyedVectors.load_word2vec_format('../../model.bin', binary=True) \n",
    "model.init_sims(replace=True)\n",
    "for i in list_files:\n",
    "    print(i)\n",
    "    list_texts, TT, TagUd = clusterization.trivial_segmentation(i, model, d)\n",
    "    list_texts, texts_vectors = clusterization.union(list_texts, TT)\n",
    "    with open('SegmentTexts/'+i.split('/')[-1].split('.')[0]+'.md','w') as f:\n",
    "        for j in list_texts:\n",
    "            f.write('**NEW SEGMENT**\\n\\n'+j+'\\n\\n')\n",
    "        f.close()"
   ]
  },
  {
   "cell_type": "markdown",
   "metadata": {},
   "source": [
    "# Extracting Marks"
   ]
  },
  {
   "cell_type": "code",
   "execution_count": 3,
   "metadata": {
    "collapsed": false
   },
   "outputs": [],
   "source": [
    "from preprocessing import full_extracting\n",
    "d = full_extracting()"
   ]
  },
  {
   "cell_type": "markdown",
   "metadata": {
    "collapsed": true
   },
   "source": [
    "# Full Data"
   ]
  },
  {
   "cell_type": "code",
   "execution_count": null,
   "metadata": {
    "collapsed": false
   },
   "outputs": [],
   "source": [
    "from preprocessing import get_full_data\n",
    "res = get_full_data()"
   ]
  },
  {
   "cell_type": "code",
   "execution_count": null,
   "metadata": {
    "collapsed": true
   },
   "outputs": [],
   "source": []
  }
 ],
 "metadata": {
  "anaconda-cloud": {},
  "kernelspec": {
   "display_name": "Python [conda root]",
   "language": "python",
   "name": "conda-root-py"
  },
  "language_info": {
   "codemirror_mode": {
    "name": "ipython",
    "version": 3
   },
   "file_extension": ".py",
   "mimetype": "text/x-python",
   "name": "python",
   "nbconvert_exporter": "python",
   "pygments_lexer": "ipython3",
   "version": "3.5.2"
  }
 },
 "nbformat": 4,
 "nbformat_minor": 1
}
