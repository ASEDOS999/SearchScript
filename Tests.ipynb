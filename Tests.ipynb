{
 "cells": [
  {
   "cell_type": "markdown",
   "metadata": {},
   "source": [
    "# Tests\n",
    "\n",
    "## 1. Trees Constructor\n",
    "\n",
    "In this part you can see synctic tree that was built as modification of tree constructed by methods from `isanlp`."
   ]
  },
  {
   "cell_type": "code",
   "execution_count": 8,
   "metadata": {
    "collapsed": false
   },
   "outputs": [
    {
     "name": "stdout",
     "output_type": "stream",
     "text": [
      "Мальчик Федя мыл пол поздно ночью .  \n",
      "\n",
      "мыть VERB {'Number': 'Sing', 'Gender': 'Masc', 'Mood': 'Ind', 'Aspect': 'Perf', 'VerbForm': 'Fin', 'Tense': 'Past'} root\n",
      "--- мальчик PROPN {'Number': 'Sing', 'Gender': 'Masc', 'Animacy': 'Anim', 'Case': 'Nom'} nsubj\n",
      "------ федя PROPN {'Number': 'Sing', 'Gender': 'Masc', 'Animacy': 'Anim', 'Case': 'Nom'} flat\n",
      "--- пол NOUN {'Number': 'Sing', 'Gender': 'Masc', 'Animacy': 'Inan', 'Case': 'Acc'} obj\n",
      "--- поздно VERB {'Degree': 'Pos'} xcomp\n",
      "------ ночь NOUN {'Number': 'Sing', 'Gender': 'Fem', 'Animacy': 'Inan', 'Case': 'Ins'} advmod\n",
      "--- . PUNCT {} punct\n",
      "\n",
      "\n",
      "\n",
      "Маша ела вкусные конфеты , купленные мамой .  \n",
      "\n",
      "ела VERB {'Number': 'Sing', 'Gender': 'Fem', 'Mood': 'Ind', 'Aspect': 'Perf', 'VerbForm': 'Fin', 'Tense': 'Past'} root\n",
      "--- маша PROPN {'Number': 'Sing', 'Gender': 'Fem', 'Animacy': 'Anim', 'Case': 'Nom'} nsubj\n",
      "--- конфеты NOUN {'Number': 'Plur', 'Gender': 'Masc', 'Animacy': 'Inan', 'Case': 'Acc'} obj\n",
      "------ вкусные ADJ {'Number': 'Plur', 'Animacy': 'Inan', 'Case': 'Acc'} amod\n",
      "------ купленные VERB {'Number': 'Plur', 'Voice': 'Pass', 'Case': 'Acc', 'Aspect': 'Perf', 'VerbForm': 'Part', 'Tense': 'Past', 'Animacy': 'Inan'} acl\n",
      "--------- , PUNCT {} punct\n",
      "--------- мама NOUN {'Number': 'Sing', 'Gender': 'Fem', 'Animacy': 'Inan', 'Case': 'Ins'} iobj\n",
      "--- . PUNCT {} punct\n",
      "\n",
      "\n",
      "\n"
     ]
    }
   ],
   "source": [
    "import action\n",
    "text = 'Мальчик Федя мыл пол поздно ночью. Маша ела вкусные конфеты, купленные мамой.'\n",
    "root_list = action.construct_tree(text)\n",
    "def print_tree(n, root):\n",
    "    kids = root.kids\n",
    "    if len(kids) != 0:\n",
    "        for i in kids:\n",
    "            print('-' * 3 * n, i[0].value.lemma, i[0].value.postag, i[0].value.morph, i[1])\n",
    "            print_tree(n + 1, i[0])\n",
    "            \n",
    "for root in root_list:\n",
    "    print(action.construct_sentence(root.sentence), '\\n')\n",
    "    print(root.value.lemma, root.value.postag, root.value.morph, 'root')\n",
    "    print_tree(1, root)\n",
    "    print('\\n'*2)\n"
   ]
  },
  {
   "cell_type": "markdown",
   "metadata": {},
   "source": [
    "## 2. Action Search And Action's Parameters Search"
   ]
  },
  {
   "cell_type": "code",
   "execution_count": 1,
   "metadata": {
    "collapsed": false
   },
   "outputs": [
    {
     "name": "stderr",
     "output_type": "stream",
     "text": [
      "/home/ased/anaconda3/lib/python3.5/importlib/_bootstrap.py:222: RuntimeWarning: numpy.dtype size changed, may indicate binary incompatibility. Expected 96, got 88\n",
      "  return f(*args, **kwds)\n",
      "/home/ased/anaconda3/lib/python3.5/importlib/_bootstrap.py:222: RuntimeWarning: numpy.dtype size changed, may indicate binary incompatibility. Expected 96, got 88\n",
      "  return f(*args, **kwds)\n"
     ]
    }
   ],
   "source": [
    "from action import get_actions, construct_tree, construct_sentence\n",
    "\n",
    "def show(text, with_tree = False):\n",
    "    root_list = construct_tree(text)\n",
    "    actions = []\n",
    "    for root in root_list:\n",
    "        print(construct_sentence(root.sentence))\n",
    "        if with_tree:\n",
    "            print('\\n', root.value.lemma, root.value.postag, root.value.morph, 'root')\n",
    "            print_tree(1, root)\n",
    "        actions = get_actions(root)\n",
    "        for act in actions:\n",
    "            print('\\n', act.name_action)\n",
    "            dict_ = act.get_inform(False, True, False)[0]\n",
    "            for i in act.keys:\n",
    "                print(i)\n",
    "                if i != 'VERB':\n",
    "                    for j in dict_[i]:\n",
    "                        print('--',j)\n",
    "                else:\n",
    "                    print('--',dict_[i])\n",
    "        print('\\n'*2)"
   ]
  },
  {
   "cell_type": "markdown",
   "metadata": {},
   "source": [
    "### 2.1.  Verbs Without Action"
   ]
  },
  {
   "cell_type": "code",
   "execution_count": 2,
   "metadata": {
    "collapsed": false
   },
   "outputs": [
    {
     "name": "stdout",
     "output_type": "stream",
     "text": [
      "Он был не высокого роста . \n",
      "\n",
      "\n",
      "\n",
      "Его борода была очень черной . \n",
      "\n",
      "\n",
      "\n",
      "Он не мог уже думать об этом . \n",
      "\n",
      "\n",
      "\n"
     ]
    }
   ],
   "source": [
    "text = \"\"\"\n",
    "Он был не высокого роста.\n",
    "Его борода была очень черной.\n",
    "Он не мог уже думать об этом.\n",
    "\"\"\"\n",
    "show(text)"
   ]
  },
  {
   "cell_type": "markdown",
   "metadata": {},
   "source": [
    "### 2.3. Conjuncted Verbs"
   ]
  },
  {
   "cell_type": "code",
   "execution_count": 3,
   "metadata": {
    "collapsed": false
   },
   "outputs": [
    {
     "name": "stdout",
     "output_type": "stream",
     "text": [
      "Маша и Петя гуляли по городу и разговаривали . \n",
      "\n",
      " Action7{разговаривали}\n",
      "VERB\n",
      "-- разговаривали \n",
      "SUBJECT\n",
      "-- Маша и Петя \n",
      "OBJECT\n",
      "OTHER\n",
      "\n",
      " Action3{гуляли}\n",
      "VERB\n",
      "-- гуляли \n",
      "SUBJECT\n",
      "-- Маша и Петя \n",
      "OBJECT\n",
      "OTHER\n",
      "-- по городу \n",
      "\n",
      "\n",
      "\n",
      "Женщины шли к магазину и что - то громко обсуждали . \n",
      "\n",
      " Action9{обсуждали}\n",
      "VERB\n",
      "-- обсуждали \n",
      "SUBJECT\n",
      "-- Женщины \n",
      "OBJECT\n",
      "OTHER\n",
      "-- громко \n",
      "\n",
      " Action1{идти}\n",
      "VERB\n",
      "-- шли \n",
      "SUBJECT\n",
      "-- Женщины \n",
      "OBJECT\n",
      "OTHER\n",
      "-- к магазину \n",
      "\n",
      "\n",
      "\n",
      "Он сидел на балконе и наблюдал за гуляющими во дворе детьми . \n",
      "\n",
      " Action5{наблюдал}\n",
      "VERB\n",
      "-- наблюдал \n",
      "SUBJECT\n",
      "-- Он \n",
      "OBJECT\n",
      "OTHER\n",
      "-- за гуляющими \n",
      "-- во дворе детьми \n",
      "\n",
      " Action1{сидеть}\n",
      "VERB\n",
      "-- сидел \n",
      "SUBJECT\n",
      "-- Он \n",
      "OBJECT\n",
      "OTHER\n",
      "-- на балконе \n",
      "\n",
      "\n",
      "\n",
      "Миша играл гостям на скрипке , читал свои стихи . \n",
      "\n",
      " Action6{читать}\n",
      "VERB\n",
      "-- читал \n",
      "SUBJECT\n",
      "-- Миша \n",
      "OBJECT\n",
      "-- свои стихи \n",
      "OTHER\n",
      "\n",
      " Action1{играть}\n",
      "VERB\n",
      "-- играл \n",
      "SUBJECT\n",
      "-- Миша \n",
      "OBJECT\n",
      "-- гостям \n",
      "OTHER\n",
      "-- на скрипке \n",
      "\n",
      "\n",
      "\n",
      "Океан был беспокоен , был сердит . \n",
      "\n",
      " Action5{сердит}\n",
      "VERB\n",
      "-- сердит \n",
      "SUBJECT\n",
      "OBJECT\n",
      "OTHER\n",
      "-- был \n",
      "\n",
      "\n",
      "\n"
     ]
    }
   ],
   "source": [
    "text = \"\"\"\n",
    "Маша и Петя гуляли по городу и разговаривали.\n",
    "Женщины шли к магазину и что-то громко обсуждали.\n",
    "Он сидел на балконе и наблюдал за гуляющими во дворе детьми.\n",
    "Миша играл гостям на скрипке, читал свои стихи.\n",
    "Океан был беспокоен, был сердит.\n",
    "\"\"\"\n",
    "show(text)"
   ]
  },
  {
   "cell_type": "markdown",
   "metadata": {},
   "source": [
    "### 2.4. Verbs With Particle"
   ]
  },
  {
   "cell_type": "code",
   "execution_count": 4,
   "metadata": {
    "collapsed": false
   },
   "outputs": [
    {
     "name": "stdout",
     "output_type": "stream",
     "text": [
      "Пробегая мимо , он ни на что не обращал внимания . \n",
      "\n",
      " Action0{пробегая}\n",
      "VERB\n",
      "-- Пробегая \n",
      "SUBJECT\n",
      "-- он \n",
      "OBJECT\n",
      "OTHER\n",
      "-- мимо \n",
      "\n",
      " Action8{обращал}\n",
      "VERB\n",
      "-- не обращал \n",
      "SUBJECT\n",
      "-- он \n",
      "OBJECT\n",
      "-- внимания \n",
      "OTHER\n",
      "-- ни на что \n",
      "\n",
      "\n",
      "\n",
      "Он не приехал вовремя . \n",
      "\n",
      " Action2{приехать}\n",
      "VERB\n",
      "-- не приехал \n",
      "SUBJECT\n",
      "-- Он \n",
      "OBJECT\n",
      "-- вовремя \n",
      "OTHER\n",
      "\n",
      "\n",
      "\n",
      "Максим не делает домашнее задание . \n",
      "\n",
      " Action2{делать}\n",
      "VERB\n",
      "-- не делает \n",
      "SUBJECT\n",
      "-- Максим \n",
      "OBJECT\n",
      "-- домашнее задание \n",
      "OTHER\n",
      "\n",
      "\n",
      "\n"
     ]
    }
   ],
   "source": [
    "text = \"\"\"\n",
    "Пробегая мимо, он ни на что не обращал внимания.\n",
    "Он не приехал вовремя.\n",
    "Максим не делает домашнее задание.\n",
    "\"\"\"\n",
    "show(text)"
   ]
  },
  {
   "cell_type": "markdown",
   "metadata": {},
   "source": [
    "### 2.5. Participles"
   ]
  },
  {
   "cell_type": "code",
   "execution_count": 14,
   "metadata": {
    "collapsed": false
   },
   "outputs": [
    {
     "name": "stdout",
     "output_type": "stream",
     "text": [
      "Пробегающий мимо мальчик не обратил на нас внимания . \n",
      "\n",
      " Action0{пробегающий}\n",
      "VERB\n",
      "-- Пробегающий \n",
      "SUBJECT\n",
      "OBJECT\n",
      "OTHER\n",
      "-- мимо \n",
      "\n",
      " Action4{обратить}\n",
      "VERB\n",
      "-- не обратил \n",
      "SUBJECT\n",
      "-- Пробегающий мимо мальчик \n",
      "OBJECT\n",
      "OTHER\n",
      "-- на нас внимания \n",
      "\n",
      "\n",
      "\n",
      "Пробегавший мимо мальчик не обратил на нас внимания . \n",
      "\n",
      " Action0{пробегавший}\n",
      "VERB\n",
      "-- Пробегавший \n",
      "SUBJECT\n",
      "OBJECT\n",
      "OTHER\n",
      "-- мимо \n",
      "\n",
      " Action4{обратить}\n",
      "VERB\n",
      "-- не обратил \n",
      "SUBJECT\n",
      "-- Пробегавший мимо мальчик \n",
      "OBJECT\n",
      "OTHER\n",
      "-- на нас внимания \n",
      "\n",
      "\n",
      "\n",
      "Он нашел давно потерянную вещь . \n",
      "\n",
      " Action1{найти}\n",
      "VERB\n",
      "-- нашел \n",
      "SUBJECT\n",
      "-- Он \n",
      "OBJECT\n",
      "-- давно потерянную вещь \n",
      "OTHER\n",
      "\n",
      "\n",
      "\n",
      "Работа , выполненная мастером , высоко ценится здесь . \n",
      "\n",
      " Action2{выполненная}\n",
      "VERB\n",
      "-- выполненная \n",
      "SUBJECT\n",
      "OBJECT\n",
      "-- мастером \n",
      "OTHER\n",
      "\n",
      " Action6{ценится}\n",
      "VERB\n",
      "-- ценится \n",
      "SUBJECT\n",
      "-- Работа выполненная мастером \n",
      "OBJECT\n",
      "OTHER\n",
      "-- здесь \n",
      "\n",
      "\n",
      "\n",
      "Используемый метод оказался не эффективным . \n",
      "\n",
      " Action2{оказаться}\n",
      "VERB\n",
      "-- оказался \n",
      "SUBJECT\n",
      "-- Используемый метод \n",
      "OBJECT\n",
      "OTHER\n",
      "-- не эффективным \n",
      "\n",
      "\n",
      "\n"
     ]
    },
    {
     "name": "stderr",
     "output_type": "stream",
     "text": [
      "Participle/test.py:65: FutureWarning: Method .as_matrix will be removed in a future version. Use .values instead.\n",
      "  data = df.as_matrix()\n",
      "Participle/test.py:65: FutureWarning: Method .as_matrix will be removed in a future version. Use .values instead.\n",
      "  data = df.as_matrix()\n",
      "Participle/test.py:65: FutureWarning: Method .as_matrix will be removed in a future version. Use .values instead.\n",
      "  data = df.as_matrix()\n"
     ]
    }
   ],
   "source": [
    "text = \"\"\"\n",
    "Пробегающий мимо мальчик не обратил на нас внимания.\n",
    "Пробегавший мимо мальчик не обратил на нас внимания.\n",
    "Он нашел давно потерянную вещь.\n",
    "Работа, выполненная мастером, высоко ценится здесь.\n",
    "Используемый метод оказался не эффективным.\n",
    "\"\"\"\n",
    "show(text)"
   ]
  },
  {
   "cell_type": "markdown",
   "metadata": {},
   "source": [
    "### 2.6. Different Examples"
   ]
  },
  {
   "cell_type": "code",
   "execution_count": 13,
   "metadata": {
    "collapsed": false,
    "scrolled": false
   },
   "outputs": [
    {
     "name": "stdout",
     "output_type": "stream",
     "text": [
      "Он благополучно избегнул встречи с своею хозяйкой на лестнице . \n",
      "\n",
      " Action2{избегнул}\n",
      "VERB\n",
      "-- избегнул \n",
      "SUBJECT\n",
      "-- Он \n",
      "OBJECT\n",
      "-- встречи с своею хозяйкой \n",
      "OTHER\n",
      "-- благополучно \n",
      "-- на лестнице \n",
      "\n",
      "\n",
      "\n",
      "Справа из леса вышли двое , ступили на обочину и остановились , глядя в мою сторону . \n",
      "\n",
      " Action12{глядя}\n",
      "VERB\n",
      "-- глядя \n",
      "SUBJECT\n",
      "OBJECT\n",
      "OTHER\n",
      "-- в мою сторону \n",
      "\n",
      " Action10{остановиться}\n",
      "VERB\n",
      "-- остановились \n",
      "SUBJECT\n",
      "OBJECT\n",
      "OTHER\n",
      "-- на обочину \n",
      "\n",
      " Action6{ступили}\n",
      "VERB\n",
      "-- ступили \n",
      "SUBJECT\n",
      "OBJECT\n",
      "OTHER\n",
      "-- двое \n",
      "\n",
      " Action3{выидти}\n",
      "VERB\n",
      "-- вышли \n",
      "SUBJECT\n",
      "OBJECT\n",
      "OTHER\n",
      "-- Справа \n",
      "-- из леса \n",
      "\n",
      "\n",
      "\n",
      "Один из них поднял руку . \n",
      "\n",
      " Action3{поднять}\n",
      "VERB\n",
      "-- поднял \n",
      "SUBJECT\n",
      "-- Один из них \n",
      "OBJECT\n",
      "-- руку \n",
      "OTHER\n",
      "\n",
      "\n",
      "\n",
      "Тот , что поднимал руку , просунул в машину смуглое горбоносое лицо и спросил улыбаясь . . . \n",
      "\n",
      " Action3{поднимать}\n",
      "VERB\n",
      "-- поднимал \n",
      "SUBJECT\n",
      "OBJECT\n",
      "-- руку \n",
      "OTHER\n",
      "\n",
      " Action14{улыбаясь}\n",
      "VERB\n",
      "-- улыбаясь \n",
      "SUBJECT\n",
      "OBJECT\n",
      "OTHER\n",
      "\n",
      " Action13{спросить}\n",
      "VERB\n",
      "-- спросил \n",
      "SUBJECT\n",
      "OBJECT\n",
      "OTHER\n",
      "\n",
      " Action6{просунул}\n",
      "VERB\n",
      "-- просунул \n",
      "SUBJECT\n",
      "-- Тот что поднимал руку \n",
      "OBJECT\n",
      "-- смуглое горбоносое лицо \n",
      "OTHER\n",
      "-- в машину \n",
      "\n",
      "\n",
      "\n",
      "Их лица понравились мне , и я остановился . \n",
      "\n",
      " Action7{остановиться}\n",
      "VERB\n",
      "-- остановился \n",
      "SUBJECT\n",
      "-- я \n",
      "OBJECT\n",
      "OTHER\n",
      "\n",
      " Action2{понравились}\n",
      "VERB\n",
      "-- понравились \n",
      "SUBJECT\n",
      "-- Их лица \n",
      "OBJECT\n",
      "-- мне \n",
      "OTHER\n",
      "\n",
      "\n",
      "\n"
     ]
    }
   ],
   "source": [
    "text = \"\"\"\n",
    "Он благополучно избегнул встречи с своею хозяйкой на лестнице.\n",
    "Справа из леса вышли двое, ступили на обочину и остановились, глядя в мою сторону.\n",
    "Один из них поднял руку.\n",
    "Тот, что поднимал руку,  просунул в машину  смуглое  горбоносое  лицо  и  спросил улыбаясь...\n",
    "Их лица понравились мне, и я остановился.\n",
    "\"\"\"\n",
    "show(text)"
   ]
  },
  {
   "cell_type": "markdown",
   "metadata": {},
   "source": [
    "## 3. Actions tree"
   ]
  },
  {
   "cell_type": "code",
   "execution_count": 14,
   "metadata": {
    "collapsed": true
   },
   "outputs": [],
   "source": [
    "from action import get_actions_tree\n",
    "def print_actions_tree(root, n = 0, depend = 'root'):\n",
    "    print('--' * n, root.value.name_action, depend)\n",
    "    for i in root.kids:\n",
    "        print_actions_tree(i[0], n + 1, i[1])"
   ]
  },
  {
   "cell_type": "code",
   "execution_count": 15,
   "metadata": {
    "collapsed": false,
    "scrolled": true
   },
   "outputs": [
    {
     "name": "stdout",
     "output_type": "stream",
     "text": [
      "Справа из леса вышли двое , ступили на обочину и остановились , глядя в мою сторону . \n",
      " ROOT root\n",
      "-- Action3{выидти} ROOT\n",
      "---- Action6{ступили} conj{without_marks}\n",
      "------ Action10{остановиться} conj{и}\n",
      "-------- Action12{глядя} advcl{without_marks}\n",
      "\n",
      "\n",
      "Тот , что поднимал руку , просунул в машину смуглое горбоносое лицо и спросил улыбаясь . \n",
      " ROOT root\n",
      "-- Action6{просунул} ROOT\n",
      "---- Action3{поднимать} nondet\n",
      "---- Action13{спросить} conj{и}\n",
      "------ Action14{улыбаясь} advcl{without_marks}\n",
      "\n",
      "\n",
      "Глядя на меня , он задал вопрос . \n",
      " ROOT root\n",
      "-- Action5{задал} ROOT\n",
      "---- Action0{глядя} advcl{without_marks}\n",
      "\n",
      "\n"
     ]
    }
   ],
   "source": [
    "text = \"\"\"\n",
    "Справа из леса вышли двое, ступили на обочину и остановились, глядя в мою сторону.\n",
    "Тот, что поднимал руку,  просунул в машину  смуглое  горбоносое  лицо  и  спросил улыбаясь.\n",
    "Глядя на меня, он задал вопрос.\n",
    "\"\"\"\n",
    "root_list = construct_tree(text)\n",
    "for root in root_list:\n",
    "    print(action.construct_sentence(root.sentence))\n",
    "    print_actions_tree(get_actions_tree(root))\n",
    "    print('\\n')"
   ]
  },
  {
   "cell_type": "markdown",
   "metadata": {
    "collapsed": true
   },
   "source": [
    "## 4. Examples Of Found Dependences\n",
    "\n",
    "There is a text in a file Participle/new_examples.txt."
   ]
  },
  {
   "cell_type": "code",
   "execution_count": 16,
   "metadata": {
    "collapsed": false
   },
   "outputs": [
    {
     "ename": "NameError",
     "evalue": "name 'cs' is not defined",
     "output_type": "error",
     "traceback": [
      "\u001b[0;31m---------------------------------------------------------------------------\u001b[0m",
      "\u001b[0;31mNameError\u001b[0m                                 Traceback (most recent call last)",
      "\u001b[0;32m<ipython-input-16-321509b47bb2>\u001b[0m in \u001b[0;36m<module>\u001b[0;34m()\u001b[0m\n\u001b[1;32m     24\u001b[0m         \u001b[0mdict_\u001b[0m\u001b[0;34m[\u001b[0m\u001b[0mi\u001b[0m\u001b[0;34m[\u001b[0m\u001b[0;36m1\u001b[0m\u001b[0;34m]\u001b[0m\u001b[0;34m]\u001b[0m \u001b[0;34m=\u001b[0m \u001b[0;34m[\u001b[0m\u001b[0;34m]\u001b[0m\u001b[0;34m\u001b[0m\u001b[0m\n\u001b[1;32m     25\u001b[0m \u001b[0;32mfor\u001b[0m \u001b[0mroot\u001b[0m \u001b[0;32min\u001b[0m \u001b[0mroot_list\u001b[0m\u001b[0;34m:\u001b[0m\u001b[0;34m\u001b[0m\u001b[0m\n\u001b[0;32m---> 26\u001b[0;31m     \u001b[0mA\u001b[0m \u001b[0;34m=\u001b[0m \u001b[0maction\u001b[0m\u001b[0;34m.\u001b[0m\u001b[0mget_actions_tree\u001b[0m\u001b[0;34m(\u001b[0m\u001b[0mroot\u001b[0m\u001b[0;34m)\u001b[0m\u001b[0;34m\u001b[0m\u001b[0m\n\u001b[0m\u001b[1;32m     27\u001b[0m     \u001b[0mresearch\u001b[0m\u001b[0;34m(\u001b[0m\u001b[0mA\u001b[0m\u001b[0;34m)\u001b[0m\u001b[0;34m\u001b[0m\u001b[0m\n\u001b[1;32m     28\u001b[0m \u001b[0mprint\u001b[0m\u001b[0;34m(\u001b[0m\u001b[0;34m'Number of sentence'\u001b[0m\u001b[0;34m,\u001b[0m \u001b[0mlen\u001b[0m\u001b[0;34m(\u001b[0m\u001b[0mroot_list\u001b[0m\u001b[0;34m)\u001b[0m\u001b[0;34m)\u001b[0m\u001b[0;34m\u001b[0m\u001b[0m\n",
      "\u001b[0;32m/home/ased/Desktop/PROJECTS/SearchScript/action.py\u001b[0m in \u001b[0;36mget_actions_tree\u001b[0;34m(root)\u001b[0m\n\u001b[1;32m    221\u001b[0m \u001b[0;34m\u001b[0m\u001b[0m\n\u001b[1;32m    222\u001b[0m \u001b[0;32mdef\u001b[0m \u001b[0mget_actions_tree\u001b[0m\u001b[0;34m(\u001b[0m\u001b[0mroot\u001b[0m\u001b[0;34m)\u001b[0m\u001b[0;34m:\u001b[0m\u001b[0;34m\u001b[0m\u001b[0m\n\u001b[0;32m--> 223\u001b[0;31m         \u001b[0maction_list\u001b[0m \u001b[0;34m=\u001b[0m \u001b[0mget_actions\u001b[0m\u001b[0;34m(\u001b[0m\u001b[0mroot\u001b[0m\u001b[0;34m)\u001b[0m\u001b[0;34m\u001b[0m\u001b[0m\n\u001b[0m\u001b[1;32m    224\u001b[0m         \u001b[0mlist_depend\u001b[0m \u001b[0;34m=\u001b[0m \u001b[0;34m[\u001b[0m\u001b[0;34m'mark'\u001b[0m\u001b[0;34m,\u001b[0m \u001b[0;34m'cc'\u001b[0m\u001b[0;34m]\u001b[0m\u001b[0;34m\u001b[0m\u001b[0m\n\u001b[1;32m    225\u001b[0m         \u001b[0mlist_postag\u001b[0m \u001b[0;34m=\u001b[0m \u001b[0;34m[\u001b[0m\u001b[0;34m'CCONJ'\u001b[0m\u001b[0;34m,\u001b[0m \u001b[0;34m'SCONJ'\u001b[0m\u001b[0;34m]\u001b[0m\u001b[0;34m\u001b[0m\u001b[0m\n",
      "\u001b[0;32m/home/ased/Desktop/PROJECTS/SearchScript/action.py\u001b[0m in \u001b[0;36mget_actions\u001b[0;34m(root)\u001b[0m\n\u001b[1;32m    203\u001b[0m                                 \u001b[0mnew_act\u001b[0m\u001b[0;34m(\u001b[0m\u001b[0mi\u001b[0m\u001b[0;34m[\u001b[0m\u001b[0;36m0\u001b[0m\u001b[0;34m]\u001b[0m\u001b[0;34m,\u001b[0m \u001b[0mx\u001b[0m\u001b[0;34m,\u001b[0m \u001b[0mi\u001b[0m\u001b[0;34m[\u001b[0m\u001b[0;36m1\u001b[0m\u001b[0;34m]\u001b[0m\u001b[0;34m)\u001b[0m\u001b[0;34m\u001b[0m\u001b[0m\n\u001b[1;32m    204\u001b[0m \u001b[0;34m\u001b[0m\u001b[0m\n\u001b[0;32m--> 205\u001b[0;31m         \u001b[0mnew_act\u001b[0m\u001b[0;34m(\u001b[0m\u001b[0mroot\u001b[0m\u001b[0;34m,\u001b[0m \u001b[0;32mNone\u001b[0m\u001b[0;34m,\u001b[0m \u001b[0;32mNone\u001b[0m\u001b[0;34m)\u001b[0m\u001b[0;34m\u001b[0m\u001b[0m\n\u001b[0m\u001b[1;32m    206\u001b[0m         \u001b[0;32mreturn\u001b[0m \u001b[0mall_actions\u001b[0m\u001b[0;34m\u001b[0m\u001b[0m\n\u001b[1;32m    207\u001b[0m \u001b[0;34m\u001b[0m\u001b[0m\n",
      "\u001b[0;32m/home/ased/Desktop/PROJECTS/SearchScript/action.py\u001b[0m in \u001b[0;36mnew_act\u001b[0;34m(x, parent, dependence)\u001b[0m\n\u001b[1;32m    195\u001b[0m                         \u001b[0;32mfor\u001b[0m \u001b[0mi\u001b[0m \u001b[0;32min\u001b[0m \u001b[0mx\u001b[0m\u001b[0;34m.\u001b[0m\u001b[0mkids\u001b[0m\u001b[0;34m:\u001b[0m\u001b[0;34m\u001b[0m\u001b[0m\n\u001b[1;32m    196\u001b[0m                                 \u001b[0mprocess_type\u001b[0m\u001b[0;34m(\u001b[0m\u001b[0mi\u001b[0m\u001b[0;34m,\u001b[0m \u001b[0mact\u001b[0m\u001b[0;34m)\u001b[0m\u001b[0;34m\u001b[0m\u001b[0m\n\u001b[0;32m--> 197\u001b[0;31m                                 \u001b[0mnew_act\u001b[0m\u001b[0;34m(\u001b[0m\u001b[0mi\u001b[0m\u001b[0;34m[\u001b[0m\u001b[0;36m0\u001b[0m\u001b[0;34m]\u001b[0m\u001b[0;34m,\u001b[0m \u001b[0mx\u001b[0m\u001b[0;34m,\u001b[0m \u001b[0mi\u001b[0m\u001b[0;34m[\u001b[0m\u001b[0;36m1\u001b[0m\u001b[0;34m]\u001b[0m\u001b[0;34m)\u001b[0m\u001b[0;34m\u001b[0m\u001b[0m\n\u001b[0m\u001b[1;32m    198\u001b[0m                         \u001b[0mget_inform_parent\u001b[0m\u001b[0;34m(\u001b[0m\u001b[0mparent\u001b[0m\u001b[0;34m,\u001b[0m \u001b[0mdependence\u001b[0m\u001b[0;34m,\u001b[0m \u001b[0mact\u001b[0m\u001b[0;34m)\u001b[0m\u001b[0;34m\u001b[0m\u001b[0m\n\u001b[1;32m    199\u001b[0m                         \u001b[0;32mif\u001b[0m \u001b[0mact\u001b[0m \u001b[0;32mis\u001b[0m \u001b[0;32mnot\u001b[0m \u001b[0;32mNone\u001b[0m\u001b[0;34m:\u001b[0m\u001b[0;34m\u001b[0m\u001b[0m\n",
      "\u001b[0;32m/home/ased/Desktop/PROJECTS/SearchScript/action.py\u001b[0m in \u001b[0;36mnew_act\u001b[0;34m(x, parent, dependence)\u001b[0m\n\u001b[1;32m    195\u001b[0m                         \u001b[0;32mfor\u001b[0m \u001b[0mi\u001b[0m \u001b[0;32min\u001b[0m \u001b[0mx\u001b[0m\u001b[0;34m.\u001b[0m\u001b[0mkids\u001b[0m\u001b[0;34m:\u001b[0m\u001b[0;34m\u001b[0m\u001b[0m\n\u001b[1;32m    196\u001b[0m                                 \u001b[0mprocess_type\u001b[0m\u001b[0;34m(\u001b[0m\u001b[0mi\u001b[0m\u001b[0;34m,\u001b[0m \u001b[0mact\u001b[0m\u001b[0;34m)\u001b[0m\u001b[0;34m\u001b[0m\u001b[0m\n\u001b[0;32m--> 197\u001b[0;31m                                 \u001b[0mnew_act\u001b[0m\u001b[0;34m(\u001b[0m\u001b[0mi\u001b[0m\u001b[0;34m[\u001b[0m\u001b[0;36m0\u001b[0m\u001b[0;34m]\u001b[0m\u001b[0;34m,\u001b[0m \u001b[0mx\u001b[0m\u001b[0;34m,\u001b[0m \u001b[0mi\u001b[0m\u001b[0;34m[\u001b[0m\u001b[0;36m1\u001b[0m\u001b[0;34m]\u001b[0m\u001b[0;34m)\u001b[0m\u001b[0;34m\u001b[0m\u001b[0m\n\u001b[0m\u001b[1;32m    198\u001b[0m                         \u001b[0mget_inform_parent\u001b[0m\u001b[0;34m(\u001b[0m\u001b[0mparent\u001b[0m\u001b[0;34m,\u001b[0m \u001b[0mdependence\u001b[0m\u001b[0;34m,\u001b[0m \u001b[0mact\u001b[0m\u001b[0;34m)\u001b[0m\u001b[0;34m\u001b[0m\u001b[0m\n\u001b[1;32m    199\u001b[0m                         \u001b[0;32mif\u001b[0m \u001b[0mact\u001b[0m \u001b[0;32mis\u001b[0m \u001b[0;32mnot\u001b[0m \u001b[0;32mNone\u001b[0m\u001b[0;34m:\u001b[0m\u001b[0;34m\u001b[0m\u001b[0m\n",
      "\u001b[0;32m/home/ased/Desktop/PROJECTS/SearchScript/action.py\u001b[0m in \u001b[0;36mnew_act\u001b[0;34m(x, parent, dependence)\u001b[0m\n\u001b[1;32m    201\u001b[0m                 \u001b[0;32melse\u001b[0m\u001b[0;34m:\u001b[0m\u001b[0;34m\u001b[0m\u001b[0m\n\u001b[1;32m    202\u001b[0m                         \u001b[0;32mfor\u001b[0m \u001b[0mi\u001b[0m \u001b[0;32min\u001b[0m \u001b[0mx\u001b[0m\u001b[0;34m.\u001b[0m\u001b[0mkids\u001b[0m\u001b[0;34m:\u001b[0m\u001b[0;34m\u001b[0m\u001b[0m\n\u001b[0;32m--> 203\u001b[0;31m                                 \u001b[0mnew_act\u001b[0m\u001b[0;34m(\u001b[0m\u001b[0mi\u001b[0m\u001b[0;34m[\u001b[0m\u001b[0;36m0\u001b[0m\u001b[0;34m]\u001b[0m\u001b[0;34m,\u001b[0m \u001b[0mx\u001b[0m\u001b[0;34m,\u001b[0m \u001b[0mi\u001b[0m\u001b[0;34m[\u001b[0m\u001b[0;36m1\u001b[0m\u001b[0;34m]\u001b[0m\u001b[0;34m)\u001b[0m\u001b[0;34m\u001b[0m\u001b[0m\n\u001b[0m\u001b[1;32m    204\u001b[0m \u001b[0;34m\u001b[0m\u001b[0m\n\u001b[1;32m    205\u001b[0m         \u001b[0mnew_act\u001b[0m\u001b[0;34m(\u001b[0m\u001b[0mroot\u001b[0m\u001b[0;34m,\u001b[0m \u001b[0;32mNone\u001b[0m\u001b[0;34m,\u001b[0m \u001b[0;32mNone\u001b[0m\u001b[0;34m)\u001b[0m\u001b[0;34m\u001b[0m\u001b[0m\n",
      "\u001b[0;32m/home/ased/Desktop/PROJECTS/SearchScript/action.py\u001b[0m in \u001b[0;36mnew_act\u001b[0;34m(x, parent, dependence)\u001b[0m\n\u001b[1;32m    190\u001b[0m \u001b[0;34m\u001b[0m\u001b[0m\n\u001b[1;32m    191\u001b[0m         \u001b[0;32mdef\u001b[0m \u001b[0mnew_act\u001b[0m\u001b[0;34m(\u001b[0m\u001b[0mx\u001b[0m\u001b[0;34m,\u001b[0m \u001b[0mparent\u001b[0m\u001b[0;34m,\u001b[0m \u001b[0mdependence\u001b[0m\u001b[0;34m)\u001b[0m\u001b[0;34m:\u001b[0m\u001b[0;34m\u001b[0m\u001b[0m\n\u001b[0;32m--> 192\u001b[0;31m                 \u001b[0;32mif\u001b[0m \u001b[0maction_verb\u001b[0m\u001b[0;34m(\u001b[0m\u001b[0mx\u001b[0m\u001b[0;34m,\u001b[0m \u001b[0mparent\u001b[0m\u001b[0;34m,\u001b[0m \u001b[0mdependence\u001b[0m\u001b[0;34m)\u001b[0m\u001b[0;34m.\u001b[0m\u001b[0mtest\u001b[0m\u001b[0;34m(\u001b[0m\u001b[0;34m)\u001b[0m\u001b[0;34m:\u001b[0m\u001b[0;34m\u001b[0m\u001b[0m\n\u001b[0m\u001b[1;32m    193\u001b[0m                         \u001b[0mname\u001b[0m \u001b[0;34m=\u001b[0m \u001b[0;34m'Action%d{%s}'\u001b[0m\u001b[0;34m%\u001b[0m\u001b[0;34m(\u001b[0m\u001b[0mx\u001b[0m\u001b[0;34m.\u001b[0m\u001b[0mvalue\u001b[0m\u001b[0;34m.\u001b[0m\u001b[0mindex\u001b[0m\u001b[0;34m,\u001b[0m \u001b[0mx\u001b[0m\u001b[0;34m.\u001b[0m\u001b[0mvalue\u001b[0m\u001b[0;34m.\u001b[0m\u001b[0mlemma\u001b[0m\u001b[0;34m)\u001b[0m\u001b[0;34m\u001b[0m\u001b[0m\n\u001b[1;32m    194\u001b[0m                         \u001b[0mact\u001b[0m \u001b[0;34m=\u001b[0m \u001b[0maction\u001b[0m\u001b[0;34m(\u001b[0m\u001b[0mverb\u001b[0m \u001b[0;34m=\u001b[0m \u001b[0;34m(\u001b[0m\u001b[0mx\u001b[0m\u001b[0;34m.\u001b[0m\u001b[0mvalue\u001b[0m\u001b[0;34m,\u001b[0m \u001b[0;34m[\u001b[0m\u001b[0mx\u001b[0m\u001b[0;34m.\u001b[0m\u001b[0mvalue\u001b[0m\u001b[0;34m.\u001b[0m\u001b[0mindex\u001b[0m\u001b[0;34m]\u001b[0m\u001b[0;34m,\u001b[0m \u001b[0;32mNone\u001b[0m\u001b[0;34m)\u001b[0m\u001b[0;34m,\u001b[0m  \u001b[0msentence\u001b[0m \u001b[0;34m=\u001b[0m \u001b[0msentence\u001b[0m\u001b[0;34m,\u001b[0m \u001b[0mname\u001b[0m \u001b[0;34m=\u001b[0m \u001b[0mname\u001b[0m\u001b[0;34m)\u001b[0m\u001b[0;34m\u001b[0m\u001b[0m\n",
      "\u001b[0;32m/home/ased/Desktop/PROJECTS/SearchScript/action.py\u001b[0m in \u001b[0;36mtest\u001b[0;34m(self)\u001b[0m\n\u001b[1;32m    136\u001b[0m \t\treturn (((self.is_verb() and self.is_indicative()) or \n\u001b[1;32m    137\u001b[0m                         \u001b[0mself\u001b[0m\u001b[0;34m.\u001b[0m\u001b[0madv_participle\u001b[0m\u001b[0;34m(\u001b[0m\u001b[0;34m)\u001b[0m \u001b[0;32mor\u001b[0m\u001b[0;34m\u001b[0m\u001b[0m\n\u001b[0;32m--> 138\u001b[0;31m \t\t\t(self.with_participle and self.is_participle())) and \n\u001b[0m\u001b[1;32m    139\u001b[0m \t\t\tnot self.is_modal())\n\u001b[1;32m    140\u001b[0m \u001b[0;34m\u001b[0m\u001b[0m\n",
      "\u001b[0;32m/home/ased/Desktop/PROJECTS/SearchScript/action.py\u001b[0m in \u001b[0;36mis_participle\u001b[0;34m(self)\u001b[0m\n\u001b[1;32m    129\u001b[0m                 \u001b[0mparent_postag\u001b[0m \u001b[0;34m=\u001b[0m \u001b[0;32mNone\u001b[0m \u001b[0;32mif\u001b[0m \u001b[0mself\u001b[0m\u001b[0;34m.\u001b[0m\u001b[0mparent\u001b[0m \u001b[0;32mis\u001b[0m \u001b[0;32mNone\u001b[0m \u001b[0;32melse\u001b[0m \u001b[0mself\u001b[0m\u001b[0;34m.\u001b[0m\u001b[0mparent\u001b[0m\u001b[0;34m.\u001b[0m\u001b[0mvalue\u001b[0m\u001b[0;34m.\u001b[0m\u001b[0mpostag\u001b[0m\u001b[0;34m\u001b[0m\u001b[0m\n\u001b[1;32m    130\u001b[0m                 \u001b[0mdepend\u001b[0m  \u001b[0;34m=\u001b[0m \u001b[0;32mNone\u001b[0m \u001b[0;32mif\u001b[0m \u001b[0mself\u001b[0m\u001b[0;34m.\u001b[0m\u001b[0mdependence\u001b[0m \u001b[0;32mis\u001b[0m \u001b[0;32mNone\u001b[0m \u001b[0;32melse\u001b[0m \u001b[0mself\u001b[0m\u001b[0;34m.\u001b[0m\u001b[0mdependence\u001b[0m\u001b[0;34m\u001b[0m\u001b[0m\n\u001b[0;32m--> 131\u001b[0;31m                 \u001b[0;32mreturn\u001b[0m \u001b[0mPP\u001b[0m\u001b[0;34m(\u001b[0m\u001b[0mself\u001b[0m\u001b[0;34m.\u001b[0m\u001b[0mx\u001b[0m\u001b[0;34m,\u001b[0m \u001b[0mdepend\u001b[0m\u001b[0;34m,\u001b[0m \u001b[0mparent_postag\u001b[0m\u001b[0;34m)\u001b[0m\u001b[0;34m.\u001b[0m\u001b[0mclassificate\u001b[0m\u001b[0;34m(\u001b[0m\u001b[0;34m)\u001b[0m\u001b[0;34m\u001b[0m\u001b[0m\n\u001b[0m\u001b[1;32m    132\u001b[0m                 \u001b[0;31m# return (self.x.value.morph.__contains__('VerbForm') and\u001b[0m\u001b[0;34m\u001b[0m\u001b[0;34m\u001b[0m\u001b[0m\n\u001b[1;32m    133\u001b[0m                 \u001b[0;31m#       self.x.value.morph['VerbForm'] == 'Part')\u001b[0m\u001b[0;34m\u001b[0m\u001b[0;34m\u001b[0m\u001b[0m\n",
      "\u001b[0;32m/home/ased/Desktop/PROJECTS/SearchScript/Participle/test.py\u001b[0m in \u001b[0;36mclassificate\u001b[0;34m(self)\u001b[0m\n\u001b[1;32m     67\u001b[0m \u001b[0;34m\u001b[0m\u001b[0m\n\u001b[1;32m     68\u001b[0m         \u001b[0;32mdef\u001b[0m \u001b[0mclassificate\u001b[0m\u001b[0;34m(\u001b[0m\u001b[0mself\u001b[0m\u001b[0;34m)\u001b[0m\u001b[0;34m:\u001b[0m\u001b[0;34m\u001b[0m\u001b[0m\n\u001b[0;32m---> 69\u001b[0;31m                 \u001b[0mdf\u001b[0m \u001b[0;34m=\u001b[0m \u001b[0mself\u001b[0m\u001b[0;34m.\u001b[0m\u001b[0mget_participle_data\u001b[0m\u001b[0;34m(\u001b[0m\u001b[0;34m)\u001b[0m\u001b[0;34m\u001b[0m\u001b[0m\n\u001b[0m\u001b[1;32m     70\u001b[0m                 \u001b[0;32mif\u001b[0m \u001b[0mdf\u001b[0m \u001b[0;32mis\u001b[0m \u001b[0;32mNone\u001b[0m\u001b[0;34m:\u001b[0m\u001b[0;34m\u001b[0m\u001b[0m\n\u001b[1;32m     71\u001b[0m                         \u001b[0;32mreturn\u001b[0m \u001b[0;32mFalse\u001b[0m\u001b[0;34m\u001b[0m\u001b[0m\n",
      "\u001b[0;32m/home/ased/Desktop/PROJECTS/SearchScript/Participle/test.py\u001b[0m in \u001b[0;36mget_participle_data\u001b[0;34m(self)\u001b[0m\n\u001b[1;32m     38\u001b[0m \u001b[0;34m\u001b[0m\u001b[0m\n\u001b[1;32m     39\u001b[0m         \u001b[0;32mdef\u001b[0m \u001b[0mget_participle_data\u001b[0m\u001b[0;34m(\u001b[0m\u001b[0mself\u001b[0m\u001b[0;34m)\u001b[0m\u001b[0;34m:\u001b[0m\u001b[0;34m\u001b[0m\u001b[0m\n\u001b[0;32m---> 40\u001b[0;31m                 \u001b[0mtuple_\u001b[0m \u001b[0;34m=\u001b[0m \u001b[0mself\u001b[0m\u001b[0;34m.\u001b[0m\u001b[0mparticiple_list_feat\u001b[0m\u001b[0;34m(\u001b[0m\u001b[0;34m)\u001b[0m\u001b[0;34m\u001b[0m\u001b[0m\n\u001b[0m\u001b[1;32m     41\u001b[0m                 \u001b[0;32mif\u001b[0m \u001b[0mtuple_\u001b[0m \u001b[0;32mis\u001b[0m \u001b[0;32mNone\u001b[0m\u001b[0;34m:\u001b[0m\u001b[0;34m\u001b[0m\u001b[0m\n\u001b[1;32m     42\u001b[0m                         \u001b[0;32mreturn\u001b[0m \u001b[0;32mNone\u001b[0m\u001b[0;34m\u001b[0m\u001b[0m\n",
      "\u001b[0;32m/home/ased/Desktop/PROJECTS/SearchScript/Participle/test.py\u001b[0m in \u001b[0;36mparticiple_list_feat\u001b[0;34m(self)\u001b[0m\n\u001b[1;32m     29\u001b[0m                 \u001b[0;32mif\u001b[0m \u001b[0mx\u001b[0m\u001b[0;34m.\u001b[0m\u001b[0mvalue\u001b[0m\u001b[0;34m.\u001b[0m\u001b[0mmorph\u001b[0m\u001b[0;34m.\u001b[0m\u001b[0m__contains__\u001b[0m\u001b[0;34m(\u001b[0m\u001b[0;34m'VerbForm'\u001b[0m\u001b[0;34m)\u001b[0m \u001b[0;32mand\u001b[0m \u001b[0mx\u001b[0m\u001b[0;34m.\u001b[0m\u001b[0mvalue\u001b[0m\u001b[0;34m.\u001b[0m\u001b[0mmorph\u001b[0m\u001b[0;34m[\u001b[0m\u001b[0;34m'VerbForm'\u001b[0m\u001b[0;34m]\u001b[0m \u001b[0;34m==\u001b[0m \u001b[0;34m'Part'\u001b[0m\u001b[0;34m:\u001b[0m\u001b[0;34m\u001b[0m\u001b[0m\n\u001b[1;32m     30\u001b[0m                         \u001b[0mnew_list\u001b[0m \u001b[0;34m=\u001b[0m \u001b[0mx\u001b[0m\u001b[0;34m.\u001b[0m\u001b[0mkids\u001b[0m\u001b[0;34m.\u001b[0m\u001b[0mcopy\u001b[0m\u001b[0;34m(\u001b[0m\u001b[0;34m)\u001b[0m\u001b[0;34m\u001b[0m\u001b[0m\n\u001b[0;32m---> 31\u001b[0;31m \t\t\treturn (cs(root.sentence),\n\u001b[0m\u001b[1;32m     32\u001b[0m                                 \u001b[0mx\u001b[0m\u001b[0;34m.\u001b[0m\u001b[0mvalue\u001b[0m\u001b[0;34m.\u001b[0m\u001b[0mlemma\u001b[0m\u001b[0;34m,\u001b[0m\u001b[0;34m\u001b[0m\u001b[0m\n\u001b[1;32m     33\u001b[0m                                 \u001b[0mroot\u001b[0m\u001b[0;34m.\u001b[0m\u001b[0msentence\u001b[0m\u001b[0;34m[\u001b[0m\u001b[0mx\u001b[0m\u001b[0;34m.\u001b[0m\u001b[0mvalue\u001b[0m\u001b[0;34m.\u001b[0m\u001b[0mindex\u001b[0m\u001b[0;34m]\u001b[0m\u001b[0;34m,\u001b[0m\u001b[0;34m\u001b[0m\u001b[0m\n",
      "\u001b[0;31mNameError\u001b[0m: name 'cs' is not defined"
     ]
    }
   ],
   "source": [
    "import action\n",
    "\n",
    "handle = open(\"Participle/new_examples.txt\", \"r\")\n",
    "text = handle.read()\n",
    "handle.close()\n",
    "list_, N = [0], 0\n",
    "for i in range(len(text)):\n",
    "    if text[i] == '.':\n",
    "        last = i\n",
    "    N += 1\n",
    "    if N > 10000:\n",
    "        list_.append(last)\n",
    "        N = 0\n",
    "root_list = []\n",
    "for i in range(len(list_) - 1):\n",
    "    root_list = root_list + action.construct_tree(text[list_[i] : list_[i + 1]])\n",
    "\n",
    "list_ = []\n",
    "dict_ = {}\n",
    "def research(root):\n",
    "    for i in root.kids:\n",
    "        list_.append((root.value.name_action, i[0].value.name_action, i[1]))\n",
    "        research(i[0])\n",
    "        dict_[i[1]] = []\n",
    "for root in root_list:\n",
    "    A = action.get_actions_tree(root)\n",
    "    research(A)\n",
    "print('Number of sentence', len(root_list))\n",
    "print('Number of different dependece', len(dict_.keys()), '\\n')\n",
    "print('Dependences')\n",
    "for i in dict_.keys():\n",
    "    print(i, \n",
    "          len([j for j in list_ if j[2] == i]))"
   ]
  },
  {
   "cell_type": "code",
   "execution_count": null,
   "metadata": {
    "collapsed": true
   },
   "outputs": [],
   "source": []
  }
 ],
 "metadata": {
  "anaconda-cloud": {},
  "kernelspec": {
   "display_name": "Python [conda root]",
   "language": "python",
   "name": "conda-root-py"
  },
  "language_info": {
   "codemirror_mode": {
    "name": "ipython",
    "version": 3
   },
   "file_extension": ".py",
   "mimetype": "text/x-python",
   "name": "python",
   "nbconvert_exporter": "python",
   "pygments_lexer": "ipython3",
   "version": "3.5.2"
  }
 },
 "nbformat": 4,
 "nbformat_minor": 1
}
