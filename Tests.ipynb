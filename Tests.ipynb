{
 "cells": [
  {
   "cell_type": "markdown",
   "metadata": {},
   "source": [
    "# Tests\n",
    "\n",
    "## 1. Trees Constructor\n",
    "\n",
    "In this part you can see synctic tree that was built as modification of tree constructed by methods from `isanlp`."
   ]
  },
  {
   "cell_type": "code",
   "execution_count": 10,
   "metadata": {
    "collapsed": false
   },
   "outputs": [
    {
     "name": "stdout",
     "output_type": "stream",
     "text": [
      "Мальчик Федя мыл пол поздно ночью .  \n",
      "\n",
      "мыть VERB {'Gender': 'Masc', 'VerbForm': 'Fin', 'Aspect': 'Perf', 'Tense': 'Past', 'Mood': 'Ind', 'Number': 'Sing'} root\n",
      "--- мальчик PROPN {'Case': 'Nom', 'Animacy': 'Anim', 'Gender': 'Masc', 'Number': 'Sing'} nsubj\n",
      "------ федя PROPN {'Case': 'Nom', 'Animacy': 'Anim', 'Gender': 'Masc', 'Number': 'Sing'} flat\n",
      "--- пол NOUN {'Case': 'Acc', 'Animacy': 'Inan', 'Gender': 'Masc', 'Number': 'Sing'} obj\n",
      "--- поздно VERB {'Degree': 'Pos'} xcomp\n",
      "------ ночь NOUN {'Case': 'Ins', 'Animacy': 'Inan', 'Gender': 'Fem', 'Number': 'Sing'} advmod\n",
      "--- . PUNCT {} punct\n",
      "\n",
      "\n",
      "\n",
      "Маша ела вкусные конфеты , купленные мамой .  \n",
      "\n",
      "ела VERB {'Gender': 'Fem', 'VerbForm': 'Fin', 'Aspect': 'Perf', 'Tense': 'Past', 'Mood': 'Ind', 'Number': 'Sing'} root\n",
      "--- маша PROPN {'Case': 'Nom', 'Animacy': 'Anim', 'Gender': 'Fem', 'Number': 'Sing'} nsubj\n",
      "--- конфеты NOUN {'Case': 'Acc', 'Animacy': 'Inan', 'Gender': 'Masc', 'Number': 'Plur'} obj\n",
      "------ вкусные ADJ {'Case': 'Acc', 'Animacy': 'Inan', 'Number': 'Plur'} amod\n",
      "------ купленные VERB {'Case': 'Acc', 'Animacy': 'Inan', 'Voice': 'Pass', 'Aspect': 'Perf', 'Tense': 'Past', 'VerbForm': 'Part', 'Number': 'Plur'} acl\n",
      "--------- , PUNCT {} punct\n",
      "--------- мама NOUN {'Case': 'Ins', 'Animacy': 'Inan', 'Gender': 'Fem', 'Number': 'Sing'} iobj\n",
      "--- . PUNCT {} punct\n",
      "\n",
      "\n",
      "\n"
     ]
    }
   ],
   "source": [
    "import action\n",
    "text = 'Мальчик Федя мыл пол поздно ночью. Маша ела вкусные конфеты, купленные мамой.'\n",
    "root_list = action.construct_tree(text)\n",
    "def print_tree(n, root):\n",
    "    kids = root.kids\n",
    "    if len(kids) != 0:\n",
    "        for i in kids:\n",
    "            print('-' * 3 * n, i[0].value.lemma, i[0].value.postag, i[0].value.morph, i[1])\n",
    "            print_tree(n + 1, i[0])\n",
    "            \n",
    "for root in root_list:\n",
    "    print(action.construct_sentence(root.sentence), '\\n')\n",
    "    print(root.value.lemma, root.value.postag, root.value.morph, 'root')\n",
    "    print_tree(1, root)\n",
    "    print('\\n'*2)\n"
   ]
  },
  {
   "cell_type": "markdown",
   "metadata": {},
   "source": [
    "## 2. Action Search And Action's Parameters Search"
   ]
  },
  {
   "cell_type": "code",
   "execution_count": 3,
   "metadata": {
    "collapsed": true
   },
   "outputs": [],
   "source": [
    "from action import get_actions, construct_tree, construct_sentence\n",
    "\n",
    "def show(text, with_tree = False):\n",
    "    root_list = construct_tree(text)\n",
    "    actions = []\n",
    "    for root in root_list:\n",
    "        print(construct_sentence(root.sentence))\n",
    "        if with_tree:\n",
    "            print('\\n', root.value.lemma, root.value.postag, root.value.morph, 'root')\n",
    "            print_tree(1, root)\n",
    "        actions = get_actions(root)\n",
    "        for act in actions:\n",
    "            print('\\n', act.name_action)\n",
    "            dict_ = act.get_inform(False, True, False)[0]\n",
    "            for i in act.keys:\n",
    "                print(i)\n",
    "                if i != 'VERB':\n",
    "                    for j in dict_[i]:\n",
    "                        print('--',j)\n",
    "                else:\n",
    "                    print('--',dict_[i])\n",
    "        print('\\n'*2)"
   ]
  },
  {
   "cell_type": "markdown",
   "metadata": {},
   "source": [
    "### 2.1.  Verbs Without Action"
   ]
  },
  {
   "cell_type": "code",
   "execution_count": 24,
   "metadata": {
    "collapsed": false
   },
   "outputs": [
    {
     "name": "stdout",
     "output_type": "stream",
     "text": [
      "Он был не высокого роста . \n",
      "\n",
      "\n",
      "\n",
      "Его борода была очень черной . \n",
      "\n",
      "\n",
      "\n",
      "Он не мог уже думать об этом . \n",
      "\n",
      "\n",
      "\n"
     ]
    }
   ],
   "source": [
    "text = \"\"\"\n",
    "Он был не высокого роста.\n",
    "Его борода была очень черной.\n",
    "Он не мог уже думать об этом.\n",
    "\"\"\"\n",
    "show(text)"
   ]
  },
  {
   "cell_type": "markdown",
   "metadata": {},
   "source": [
    "### 2.3. Conjuncted Verbs"
   ]
  },
  {
   "cell_type": "code",
   "execution_count": 25,
   "metadata": {
    "collapsed": false
   },
   "outputs": [
    {
     "name": "stdout",
     "output_type": "stream",
     "text": [
      "Он бежал по дороге и говорил о чем - то . \n",
      "\n",
      " Action{говорить}\n",
      "VERB\n",
      "-- говорил \n",
      "SUBJECT\n",
      "-- Он \n",
      "OBJECT\n",
      "OTHER\n",
      "-- о чем - то \n",
      "\n",
      " Action{бежать}\n",
      "VERB\n",
      "-- бежал \n",
      "SUBJECT\n",
      "-- Он \n",
      "OBJECT\n",
      "OTHER\n",
      "-- по дороге \n",
      "\n",
      "\n",
      "\n",
      "Женщины шли к магазину и что - то громко обсуждали . \n",
      "\n",
      " Action{обсуждали}\n",
      "VERB\n",
      "-- обсуждали \n",
      "SUBJECT\n",
      "OBJECT\n",
      "OTHER\n",
      "-- громко \n",
      "\n",
      " Action{идти}\n",
      "VERB\n",
      "-- шли \n",
      "SUBJECT\n",
      "-- Женщины \n",
      "OBJECT\n",
      "OTHER\n",
      "-- к магазину \n",
      "\n",
      "\n",
      "\n",
      "Он сидел на балконе и наблюдал за гуляющими во дворе детьми . \n",
      "\n",
      " Action{наблюдал}\n",
      "VERB\n",
      "-- наблюдал \n",
      "SUBJECT\n",
      "-- Он \n",
      "OBJECT\n",
      "OTHER\n",
      "-- за гуляющими \n",
      "-- во дворе детьми \n",
      "\n",
      " Action{сидеть}\n",
      "VERB\n",
      "-- сидел \n",
      "SUBJECT\n",
      "-- Он \n",
      "OBJECT\n",
      "OTHER\n",
      "-- на балконе \n",
      "\n",
      "\n",
      "\n",
      "Миша играл гостям на скрипке , читал свои стихи . \n",
      "\n",
      " Action{читать}\n",
      "VERB\n",
      "-- читал \n",
      "SUBJECT\n",
      "-- Миша \n",
      "OBJECT\n",
      "-- свои стихи \n",
      "OTHER\n",
      "\n",
      " Action{играть}\n",
      "VERB\n",
      "-- играл \n",
      "SUBJECT\n",
      "-- Миша \n",
      "OBJECT\n",
      "-- гостям \n",
      "OTHER\n",
      "-- на скрипке \n",
      "\n",
      "\n",
      "\n",
      "Океан был беспокоен , был сердит . \n",
      "\n",
      " Action{сердит}\n",
      "VERB\n",
      "-- сердит \n",
      "SUBJECT\n",
      "OBJECT\n",
      "OTHER\n",
      "-- был \n",
      "\n",
      "\n",
      "\n"
     ]
    }
   ],
   "source": [
    "text = \"\"\"\n",
    "Он бежал по дороге и говорил о чем-то.\n",
    "Женщины шли к магазину и что-то громко обсуждали.\n",
    "Он сидел на балконе и наблюдал за гуляющими во дворе детьми.\n",
    "Миша играл гостям на скрипке, читал свои стихи.\n",
    "Океан был беспокоен, был сердит.\n",
    "\"\"\"\n",
    "show(text)"
   ]
  },
  {
   "cell_type": "markdown",
   "metadata": {},
   "source": [
    "### 2.4. Verbs With Particle"
   ]
  },
  {
   "cell_type": "code",
   "execution_count": 26,
   "metadata": {
    "collapsed": false
   },
   "outputs": [
    {
     "name": "stdout",
     "output_type": "stream",
     "text": [
      "Пробегая мимо , он ни на что не обращал внимания . \n",
      "\n",
      " Action{обращал}\n",
      "VERB\n",
      "-- не обращал \n",
      "SUBJECT\n",
      "-- он \n",
      "OBJECT\n",
      "-- внимания \n",
      "OTHER\n",
      "-- Пробегая мимо \n",
      "-- ни на что \n",
      "\n",
      "\n",
      "\n",
      "Он не приехал вовремя . \n",
      "\n",
      " Action{приехать}\n",
      "VERB\n",
      "-- не приехал \n",
      "SUBJECT\n",
      "-- Он \n",
      "OBJECT\n",
      "-- вовремя \n",
      "OTHER\n",
      "\n",
      "\n",
      "\n",
      "Максим не делает домашнее задание . \n",
      "\n",
      " Action{делать}\n",
      "VERB\n",
      "-- не делает \n",
      "SUBJECT\n",
      "-- Максим \n",
      "OBJECT\n",
      "-- домашнее задание \n",
      "OTHER\n",
      "\n",
      "\n",
      "\n"
     ]
    }
   ],
   "source": [
    "text = \"\"\"\n",
    "Пробегая мимо, он ни на что не обращал внимания.\n",
    "Он не приехал вовремя.\n",
    "Максим не делает домашнее задание.\n",
    "\"\"\"\n",
    "show(text)"
   ]
  },
  {
   "cell_type": "markdown",
   "metadata": {},
   "source": [
    "### 2.5. Different Examples"
   ]
  },
  {
   "cell_type": "code",
   "execution_count": 11,
   "metadata": {
    "collapsed": false
   },
   "outputs": [
    {
     "name": "stdout",
     "output_type": "stream",
     "text": [
      "Он благополучно избегнул встречи с своею хозяйкой на лестнице . \n",
      "\n",
      " Action{избегнул}\n",
      "VERB\n",
      "-- избегнул \n",
      "SUBJECT\n",
      "-- Он \n",
      "OBJECT\n",
      "-- встречи с своею хозяйкой \n",
      "OTHER\n",
      "-- благополучно \n",
      "-- на лестнице \n",
      "\n",
      "\n",
      "\n",
      "Справа из леса вышли двое , ступили на обочину и остановились , глядя в мою сторону . \n",
      "\n",
      " Action{остановиться}\n",
      "VERB\n",
      "-- остановились \n",
      "SUBJECT\n",
      "OBJECT\n",
      "OTHER\n",
      "-- на обочину \n",
      "-- глядя в мою сторону \n",
      "\n",
      " Action{ступили}\n",
      "VERB\n",
      "-- ступили \n",
      "SUBJECT\n",
      "OBJECT\n",
      "OTHER\n",
      "-- двое \n",
      "\n",
      " Action{выидти}\n",
      "VERB\n",
      "-- вышли \n",
      "SUBJECT\n",
      "OBJECT\n",
      "OTHER\n",
      "-- Справа \n",
      "-- из леса \n",
      "\n",
      "\n",
      "\n",
      "Один из них поднял руку . \n",
      "\n",
      " Action{поднять}\n",
      "VERB\n",
      "-- поднял \n",
      "SUBJECT\n",
      "-- Один из них \n",
      "OBJECT\n",
      "-- руку \n",
      "OTHER\n",
      "\n",
      "\n",
      "\n",
      "Тот , что поднимал руку , просунул в машину смуглое горбоносое лицо и спросил улыбаясь . . . \n",
      "\n",
      " Action{поднимать}\n",
      "VERB\n",
      "-- поднимал \n",
      "SUBJECT\n",
      "OBJECT\n",
      "-- руку \n",
      "OTHER\n",
      "\n",
      " Action{спросить}\n",
      "VERB\n",
      "-- спросил \n",
      "SUBJECT\n",
      "OBJECT\n",
      "OTHER\n",
      "-- улыбаясь \n",
      "\n",
      " Action{просунул}\n",
      "VERB\n",
      "-- просунул \n",
      "SUBJECT\n",
      "-- Тот что поднимал руку \n",
      "OBJECT\n",
      "-- смуглое горбоносое лицо \n",
      "OTHER\n",
      "-- в машину \n",
      "\n",
      "\n",
      "\n",
      "Их лица понравились мне , и я остановился . \n",
      "\n",
      " Action{остановиться}\n",
      "VERB\n",
      "-- остановился \n",
      "SUBJECT\n",
      "-- я \n",
      "OBJECT\n",
      "OTHER\n",
      "\n",
      " Action{понравились}\n",
      "VERB\n",
      "-- понравились \n",
      "SUBJECT\n",
      "-- Их лица \n",
      "OBJECT\n",
      "-- мне \n",
      "OTHER\n",
      "\n",
      "\n",
      "\n"
     ]
    }
   ],
   "source": [
    "text = \"\"\"\n",
    "Он благополучно избегнул встречи с своею хозяйкой на лестнице.\n",
    "Справа из леса вышли двое, ступили на обочину и остановились, глядя в мою сторону.\n",
    "Один из них поднял руку.\n",
    "Тот, что поднимал руку,  просунул в машину  смуглое  горбоносое  лицо  и  спросил улыбаясь...\n",
    "Их лица понравились мне, и я остановился.\n",
    "\"\"\"\n",
    "show(text)"
   ]
  },
  {
   "cell_type": "code",
   "execution_count": null,
   "metadata": {
    "collapsed": true
   },
   "outputs": [],
   "source": []
  }
 ],
 "metadata": {
  "anaconda-cloud": {},
  "kernelspec": {
   "display_name": "Python [conda root]",
   "language": "python",
   "name": "conda-root-py"
  },
  "language_info": {
   "codemirror_mode": {
    "name": "ipython",
    "version": 3
   },
   "file_extension": ".py",
   "mimetype": "text/x-python",
   "name": "python",
   "nbconvert_exporter": "python",
   "pygments_lexer": "ipython3",
   "version": "3.5.2"
  }
 },
 "nbformat": 4,
 "nbformat_minor": 1
}
