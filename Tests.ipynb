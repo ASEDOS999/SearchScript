{
 "cells": [
  {
   "cell_type": "markdown",
   "metadata": {},
   "source": [
    "# Tests\n",
    "\n",
    "## 1. Trees constructor"
   ]
  },
  {
   "cell_type": "code",
   "execution_count": 1,
   "metadata": {
    "collapsed": false
   },
   "outputs": [
    {
     "name": "stdout",
     "output_type": "stream",
     "text": [
      "Мальчик Федя мыл пол поздно ночью . \n",
      "мыть VERB {'Number': 'Sing', 'Mood': 'Ind', 'Gender': 'Masc', 'Tense': 'Past', 'VerbForm': 'Fin', 'Aspect': 'Perf'} root\n",
      "--- мальчик PROPN {'Case': 'Nom', 'Animacy': 'Anim', 'Gender': 'Masc', 'Number': 'Sing'} nsubj\n",
      "------ федя PROPN {'Case': 'Nom', 'Animacy': 'Anim', 'Gender': 'Masc', 'Number': 'Sing'} flat\n",
      "--- пол NOUN {'Case': 'Acc', 'Animacy': 'Inan', 'Gender': 'Masc', 'Number': 'Sing'} obj\n",
      "--- поздно VERB {'Degree': 'Pos'} xcomp\n",
      "------ ночь NOUN {'Case': 'Ins', 'Animacy': 'Inan', 'Gender': 'Fem', 'Number': 'Sing'} advmod\n",
      "--- . PUNCT {} punct\n",
      "Маша ела вкусные конфеты , купленные мамой . \n",
      "ела VERB {'Number': 'Sing', 'Mood': 'Ind', 'Gender': 'Fem', 'Tense': 'Past', 'VerbForm': 'Fin', 'Aspect': 'Perf'} root\n",
      "--- маша PROPN {'Case': 'Nom', 'Animacy': 'Anim', 'Gender': 'Fem', 'Number': 'Sing'} nsubj\n",
      "--- конфеты NOUN {'Case': 'Acc', 'Animacy': 'Inan', 'Gender': 'Masc', 'Number': 'Plur'} obj\n",
      "------ вкусные ADJ {'Case': 'Acc', 'Animacy': 'Inan', 'Number': 'Plur'} amod\n",
      "------ купленные VERB {'Number': 'Plur', 'Tense': 'Past', 'VerbForm': 'Part', 'Case': 'Acc', 'Animacy': 'Inan', 'Aspect': 'Perf', 'Voice': 'Pass'} acl\n",
      "--------- , PUNCT {} punct\n",
      "--------- мама NOUN {'Case': 'Ins', 'Animacy': 'Inan', 'Gender': 'Fem', 'Number': 'Sing'} iobj\n",
      "--- . PUNCT {} punct\n"
     ]
    }
   ],
   "source": [
    "import action\n",
    "text = 'Мальчик Федя мыл пол поздно ночью. Маша ела вкусные конфеты, купленные мамой.'\n",
    "root_list = action.construct_tree(text)\n",
    "def print_tree(n, root):\n",
    "    kids = root.kids\n",
    "    if len(kids) != 0:\n",
    "        for i in kids:\n",
    "            print('-' * 3 * n, i[0].value.lemma, i[0].value.postag, i[0].value.morph, i[1])\n",
    "            print_tree(n + 1, i[0])\n",
    "            \n",
    "for root in root_list:\n",
    "    print(root.sentence)\n",
    "    print(root.value.lemma, root.value.postag, root.value.morph, 'root')\n",
    "    print_tree(1, root)   \n"
   ]
  },
  {
   "cell_type": "markdown",
   "metadata": {},
   "source": [
    "## 2. Getting actions"
   ]
  },
  {
   "cell_type": "code",
   "execution_count": 2,
   "metadata": {
    "collapsed": false
   },
   "outputs": [
    {
     "name": "stdout",
     "output_type": "stream",
     "text": [
      "\n",
      " Action{мыть}\n",
      "VERB\n",
      "-- мыть\n",
      "SUBJECT\n",
      "-- мальчик\n",
      "OBJECT\n",
      "-- пол\n",
      "OTHER\n",
      "-- поздно\n",
      "\n",
      " Action{ела}\n",
      "VERB\n",
      "-- ела\n",
      "SUBJECT\n",
      "-- маша\n",
      "OBJECT\n",
      "-- конфеты\n",
      "OTHER\n"
     ]
    }
   ],
   "source": [
    "from action import get_actions\n",
    "actions = []\n",
    "for root in root_list:\n",
    "    actions = actions + get_actions(root)\n",
    "for act in actions:\n",
    "    print('\\n', act.name_action)\n",
    "    for i in act.keys:\n",
    "        print(i)\n",
    "        if i != 'VERB':\n",
    "            for j in act.inform[i]:\n",
    "                print('--',j.lemma)\n",
    "        else:\n",
    "            print('--',act.inform[i].lemma)"
   ]
  },
  {
   "cell_type": "code",
   "execution_count": 14,
   "metadata": {
    "collapsed": true
   },
   "outputs": [],
   "source": [
    "from action import get_actions, construct_tree\n",
    "\n",
    "def show(text):\n",
    "    print(root.sentence)\n",
    "    root_list = construct_tree(text)\n",
    "    root = root_list[0]\n",
    "    print(root.value.lemma, root.value.postag, root.value.morph, 'root')\n",
    "    print_tree(1, root)\n",
    "    actions = []\n",
    "    for root in root_list:\n",
    "        actions = actions + get_actions(root)\n",
    "    for act in actions:\n",
    "        print('\\n', act.name_action)\n",
    "        for i in act.keys:\n",
    "            print(i)\n",
    "            if i != 'VERB':\n",
    "                for j in act.inform[i]:\n",
    "                    print('--',j.lemma)\n",
    "            else:\n",
    "                print('--',act.inform[i].lemma)\n",
    "    print('\\n'*2)"
   ]
  },
  {
   "cell_type": "code",
   "execution_count": 15,
   "metadata": {
    "collapsed": false
   },
   "outputs": [
    {
     "ename": "UnboundLocalError",
     "evalue": "local variable 'root' referenced before assignment",
     "output_type": "error",
     "traceback": [
      "\u001b[0;31m---------------------------------------------------------------------------\u001b[0m",
      "\u001b[0;31mUnboundLocalError\u001b[0m                         Traceback (most recent call last)",
      "\u001b[0;32m<ipython-input-15-cc0f909b67a9>\u001b[0m in \u001b[0;36m<module>\u001b[0;34m()\u001b[0m\n\u001b[1;32m      2\u001b[0m \u001b[0mОн\u001b[0m \u001b[0mблагополучно\u001b[0m \u001b[0mизбегнул\u001b[0m \u001b[0mвстречи\u001b[0m \u001b[0mс\u001b[0m \u001b[0mсвоею\u001b[0m \u001b[0mхозяйкой\u001b[0m \u001b[0mна\u001b[0m \u001b[0mлестнице\u001b[0m\u001b[0;34m.\u001b[0m\u001b[0;34m\u001b[0m\u001b[0m\n\u001b[1;32m      3\u001b[0m \"\"\"\n\u001b[0;32m----> 4\u001b[0;31m \u001b[0mshow\u001b[0m\u001b[0;34m(\u001b[0m\u001b[0mtext\u001b[0m\u001b[0;34m)\u001b[0m\u001b[0;34m\u001b[0m\u001b[0m\n\u001b[0m\u001b[1;32m      5\u001b[0m \u001b[0mtext\u001b[0m \u001b[0;34m=\u001b[0m \u001b[0;34m\"Справа из леса вышли двое, ступили на обочину и остановились, глядя в мою сторону.\"\u001b[0m\u001b[0;34m\u001b[0m\u001b[0m\n\u001b[1;32m      6\u001b[0m \u001b[0mshow\u001b[0m\u001b[0;34m(\u001b[0m\u001b[0mtext\u001b[0m\u001b[0;34m)\u001b[0m\u001b[0;34m\u001b[0m\u001b[0m\n",
      "\u001b[0;32m<ipython-input-14-6ff026d19017>\u001b[0m in \u001b[0;36mshow\u001b[0;34m(text)\u001b[0m\n\u001b[1;32m      2\u001b[0m \u001b[0;34m\u001b[0m\u001b[0m\n\u001b[1;32m      3\u001b[0m \u001b[0;32mdef\u001b[0m \u001b[0mshow\u001b[0m\u001b[0;34m(\u001b[0m\u001b[0mtext\u001b[0m\u001b[0;34m)\u001b[0m\u001b[0;34m:\u001b[0m\u001b[0;34m\u001b[0m\u001b[0m\n\u001b[0;32m----> 4\u001b[0;31m     \u001b[0mprint\u001b[0m\u001b[0;34m(\u001b[0m\u001b[0mroot\u001b[0m\u001b[0;34m.\u001b[0m\u001b[0msentence\u001b[0m\u001b[0;34m)\u001b[0m\u001b[0;34m\u001b[0m\u001b[0m\n\u001b[0m\u001b[1;32m      5\u001b[0m     \u001b[0mroot_list\u001b[0m \u001b[0;34m=\u001b[0m \u001b[0mconstruct_tree\u001b[0m\u001b[0;34m(\u001b[0m\u001b[0mtext\u001b[0m\u001b[0;34m)\u001b[0m\u001b[0;34m\u001b[0m\u001b[0m\n\u001b[1;32m      6\u001b[0m     \u001b[0mroot\u001b[0m \u001b[0;34m=\u001b[0m \u001b[0mroot_list\u001b[0m\u001b[0;34m[\u001b[0m\u001b[0;36m0\u001b[0m\u001b[0;34m]\u001b[0m\u001b[0;34m\u001b[0m\u001b[0m\n",
      "\u001b[0;31mUnboundLocalError\u001b[0m: local variable 'root' referenced before assignment"
     ]
    }
   ],
   "source": [
    "text = \"\"\"\n",
    "Он благополучно избегнул встречи с своею хозяйкой на лестнице.\n",
    "\"\"\"\n",
    "show(text)\n",
    "text = \"Справа из леса вышли двое, ступили на обочину и остановились, глядя в мою сторону.\"\n",
    "show(text)\n",
    "text = \"Один из них поднял руку.\"\n",
    "show(text)\n",
    "text = \"Тот, что поднимал руку,  просунул в машину  смуглое  горбоносое  лицо  и  спросил улыбаясь...\"\n",
    "show(text)\n",
    "text = \"Их лица понравились мне, и я остановился. \"\n",
    "show(text)"
   ]
  },
  {
   "cell_type": "code",
   "execution_count": null,
   "metadata": {
    "collapsed": true
   },
   "outputs": [],
   "source": []
  }
 ],
 "metadata": {
  "anaconda-cloud": {},
  "kernelspec": {
   "display_name": "Python [conda root]",
   "language": "python",
   "name": "conda-root-py"
  },
  "language_info": {
   "codemirror_mode": {
    "name": "ipython",
    "version": 3
   },
   "file_extension": ".py",
   "mimetype": "text/x-python",
   "name": "python",
   "nbconvert_exporter": "python",
   "pygments_lexer": "ipython3",
   "version": "3.5.2"
  }
 },
 "nbformat": 4,
 "nbformat_minor": 1
}
