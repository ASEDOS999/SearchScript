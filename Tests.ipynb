{
 "cells": [
  {
   "cell_type": "markdown",
   "metadata": {},
   "source": [
    "# Tests\n",
    "\n",
    "## 1. Trees constructor"
   ]
  },
  {
   "cell_type": "code",
   "execution_count": 1,
   "metadata": {
    "collapsed": false
   },
   "outputs": [
    {
     "name": "stdout",
     "output_type": "stream",
     "text": [
      "['Мальчик', 'Федя', 'мыл', 'пол', 'поздно', 'ночью', '.']\n",
      "мыть VERB {'Mood': 'Ind', 'Gender': 'Masc', 'Number': 'Sing', 'VerbForm': 'Fin', 'Aspect': 'Perf', 'Tense': 'Past'} root\n",
      "--- мальчик PROPN {'Number': 'Sing', 'Animacy': 'Anim', 'Case': 'Nom', 'Gender': 'Masc'} nsubj\n",
      "------ федя PROPN {'Number': 'Sing', 'Animacy': 'Anim', 'Case': 'Nom', 'Gender': 'Masc'} flat\n",
      "--- пол NOUN {'Number': 'Sing', 'Animacy': 'Inan', 'Case': 'Acc', 'Gender': 'Masc'} obj\n",
      "--- поздно VERB {'Degree': 'Pos'} xcomp\n",
      "------ ночь NOUN {'Number': 'Sing', 'Animacy': 'Inan', 'Case': 'Ins', 'Gender': 'Fem'} advmod\n",
      "--- . PUNCT {} punct\n",
      "['Маша', 'ела', 'вкусные', 'конфеты', ',', 'купленные', 'мамой', '.']\n",
      "ела VERB {'Mood': 'Ind', 'Gender': 'Fem', 'Number': 'Sing', 'VerbForm': 'Fin', 'Aspect': 'Perf', 'Tense': 'Past'} root\n",
      "--- маша PROPN {'Number': 'Sing', 'Animacy': 'Anim', 'Case': 'Nom', 'Gender': 'Fem'} nsubj\n",
      "--- конфеты NOUN {'Number': 'Plur', 'Animacy': 'Inan', 'Case': 'Acc', 'Gender': 'Masc'} obj\n",
      "------ вкусные ADJ {'Number': 'Plur', 'Animacy': 'Inan', 'Case': 'Acc'} amod\n",
      "------ купленные VERB {'Aspect': 'Perf', 'Case': 'Acc', 'Number': 'Plur', 'VerbForm': 'Part', 'Voice': 'Pass', 'Animacy': 'Inan', 'Tense': 'Past'} acl\n",
      "--------- , PUNCT {} punct\n",
      "--------- мама NOUN {'Number': 'Sing', 'Animacy': 'Inan', 'Case': 'Ins', 'Gender': 'Fem'} iobj\n",
      "--- . PUNCT {} punct\n"
     ]
    }
   ],
   "source": [
    "import action\n",
    "text = 'Мальчик Федя мыл пол поздно ночью. Маша ела вкусные конфеты, купленные мамой.'\n",
    "root_list = action.construct_tree(text)\n",
    "def print_tree(n, root):\n",
    "    kids = root.kids\n",
    "    if len(kids) != 0:\n",
    "        for i in kids:\n",
    "            print('-' * 3 * n, i[0].value.lemma, i[0].value.postag, i[0].value.morph, i[1])\n",
    "            print_tree(n + 1, i[0])\n",
    "            \n",
    "for root in root_list:\n",
    "    print(root.sentence)\n",
    "    print(root.value.lemma, root.value.postag, root.value.morph, 'root')\n",
    "    print_tree(1, root)   \n"
   ]
  },
  {
   "cell_type": "markdown",
   "metadata": {},
   "source": [
    "## 2. Getting actions"
   ]
  },
  {
   "cell_type": "code",
   "execution_count": 2,
   "metadata": {
    "collapsed": false
   },
   "outputs": [
    {
     "name": "stdout",
     "output_type": "stream",
     "text": [
      "\n",
      " Action{мыть}\n",
      "VERB\n",
      "-- мыть\n",
      "SUBJECT\n",
      "-- мальчик\n",
      "OBJECT\n",
      "-- пол\n",
      "OTHER\n",
      "-- поздно\n",
      "\n",
      " Action{ела}\n",
      "VERB\n",
      "-- ела\n",
      "SUBJECT\n",
      "-- маша\n",
      "OBJECT\n",
      "-- конфеты\n",
      "OTHER\n"
     ]
    }
   ],
   "source": [
    "from action import get_actions\n",
    "actions = []\n",
    "for root in root_list:\n",
    "    actions = actions + get_actions(root)\n",
    "for act in actions:\n",
    "    print('\\n', act.name_action)\n",
    "    dict_ = act.get_inform(main_word = True)[0]\n",
    "    for i in act.keys:\n",
    "        print(i)\n",
    "        \n",
    "        if i != 'VERB':\n",
    "            for j in dict_[i]:\n",
    "                print('--',j.lemma)\n",
    "        else:\n",
    "            print('--',act.inform[i].lemma)"
   ]
  },
  {
   "cell_type": "code",
   "execution_count": 7,
   "metadata": {
    "collapsed": true
   },
   "outputs": [],
   "source": [
    "from action import get_actions, construct_tree, construct_sentence\n",
    "\n",
    "def show(text, with_tree = False):\n",
    "    root_list = construct_tree(text)\n",
    "    actions = []\n",
    "    for root in root_list:\n",
    "        print(construct_sentence(root.sentence))\n",
    "        if with_tree:\n",
    "            print('\\n', root.value.lemma, root.value.postag, root.value.morph, 'root')\n",
    "            print_tree(1, root)\n",
    "        actions = get_actions(root)\n",
    "        for act in actions:\n",
    "            print('\\n', act.name_action)\n",
    "            dict_ = act.get_inform(False, True, False)[0]\n",
    "            for i in act.keys:\n",
    "                print(i)\n",
    "\n",
    "                if i != 'VERB':\n",
    "                    for j in dict_[i]:\n",
    "                        print('--',j)\n",
    "                else:\n",
    "                    print('--',act.inform[i].lemma)\n",
    "        print('\\n'*2)"
   ]
  },
  {
   "cell_type": "code",
   "execution_count": 8,
   "metadata": {
    "collapsed": false
   },
   "outputs": [
    {
     "name": "stdout",
     "output_type": "stream",
     "text": [
      "Он благополучно избегнул встречи с своею хозяйкой на лестнице . \n",
      "\n",
      " Action{избегнул}\n",
      "VERB\n",
      "-- избегнул\n",
      "SUBJECT\n",
      "-- Он \n",
      "OBJECT\n",
      "-- встречи с своею хозяйкой \n",
      "OTHER\n",
      "-- благополучно \n",
      "-- на лестнице \n",
      "\n",
      "\n",
      "\n",
      "Справа из леса вышли двое , ступили на обочину и остановились , глядя в мою сторону . \n",
      "\n",
      " Action{остановиться}\n",
      "VERB\n",
      "-- остановиться\n",
      "SUBJECT\n",
      "OBJECT\n",
      "OTHER\n",
      "-- на обочину \n",
      "-- глядя в мою сторону \n",
      "\n",
      " Action{ступили}\n",
      "VERB\n",
      "-- ступили\n",
      "SUBJECT\n",
      "OBJECT\n",
      "OTHER\n",
      "-- двое \n",
      "\n",
      " Action{выидти}\n",
      "VERB\n",
      "-- выидти\n",
      "SUBJECT\n",
      "OBJECT\n",
      "OTHER\n",
      "-- Справа \n",
      "-- из леса \n",
      "\n",
      "\n",
      "\n",
      "Один из них поднял руку . \n",
      "\n",
      " Action{поднять}\n",
      "VERB\n",
      "-- поднять\n",
      "SUBJECT\n",
      "-- Один из них \n",
      "OBJECT\n",
      "-- руку \n",
      "OTHER\n",
      "\n",
      "\n",
      "\n",
      "Тот , что поднимал руку , просунул в машину смуглое горбоносое лицо и спросил улыбаясь . . . \n",
      "\n",
      " Action{поднимать}\n",
      "VERB\n",
      "-- поднимать\n",
      "SUBJECT\n",
      "OBJECT\n",
      "-- руку \n",
      "OTHER\n",
      "\n",
      " Action{спросить}\n",
      "VERB\n",
      "-- спросить\n",
      "SUBJECT\n",
      "OBJECT\n",
      "OTHER\n",
      "-- улыбаясь \n",
      "\n",
      " Action{просунул}\n",
      "VERB\n",
      "-- просунул\n",
      "SUBJECT\n",
      "-- Тот что поднимал руку \n",
      "OBJECT\n",
      "-- смуглое горбоносое лицо \n",
      "OTHER\n",
      "-- в машину \n",
      "\n",
      "\n",
      "\n",
      "Их лица понравились мне , и я остановился . \n",
      "\n",
      " Action{остановиться}\n",
      "VERB\n",
      "-- остановиться\n",
      "SUBJECT\n",
      "-- я \n",
      "OBJECT\n",
      "OTHER\n",
      "\n",
      " Action{понравились}\n",
      "VERB\n",
      "-- понравились\n",
      "SUBJECT\n",
      "-- Их лица \n",
      "OBJECT\n",
      "-- мне \n",
      "OTHER\n",
      "\n",
      "\n",
      "\n"
     ]
    }
   ],
   "source": [
    "text = \"\"\"\n",
    "Он благополучно избегнул встречи с своею хозяйкой на лестнице.\n",
    "Справа из леса вышли двое, ступили на обочину и остановились, глядя в мою сторону.\n",
    "Один из них поднял руку.\n",
    "Тот, что поднимал руку,  просунул в машину  смуглое  горбоносое  лицо  и  спросил улыбаясь...\n",
    "Их лица понравились мне, и я остановился.\n",
    "\"\"\"\n",
    "show(text)"
   ]
  },
  {
   "cell_type": "code",
   "execution_count": null,
   "metadata": {
    "collapsed": true
   },
   "outputs": [],
   "source": []
  }
 ],
 "metadata": {
  "anaconda-cloud": {},
  "kernelspec": {
   "display_name": "Python [conda root]",
   "language": "python",
   "name": "conda-root-py"
  },
  "language_info": {
   "codemirror_mode": {
    "name": "ipython",
    "version": 3
   },
   "file_extension": ".py",
   "mimetype": "text/x-python",
   "name": "python",
   "nbconvert_exporter": "python",
   "pygments_lexer": "ipython3",
   "version": "3.5.2"
  }
 },
 "nbformat": 4,
 "nbformat_minor": 1
}
