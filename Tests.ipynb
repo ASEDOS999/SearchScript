{
 "cells": [
  {
   "cell_type": "markdown",
   "metadata": {},
   "source": [
    "# Tests\n",
    "\n",
    "## Trees constructor"
   ]
  },
  {
   "cell_type": "code",
   "execution_count": 47,
   "metadata": {
    "collapsed": true
   },
   "outputs": [],
   "source": [
    "\n",
    "class tree:\n",
    "        def __init__(self, value):\n",
    "                self.value = value\n",
    "                self.kids = []\n",
    "\n",
    "        # The arguments of this function is a value of new vertices\n",
    "        # and type of relationship between parent and kid\n",
    "        def add_child(self, value, mytype = None):\n",
    "                self.kids.append((tree(value), mytype))\n",
    "\n",
    "class word:\n",
    "        def __init__(self, lemma, postag, morph):\n",
    "                self.lemma = lemma\n",
    "                self.postag = postag\n",
    "                self.morph = morph\n",
    "\n",
    "def construct_tree(text):\n",
    "        from isanlp.processor_remote import ProcessorRemote\n",
    "        proc_syntax = ProcessorRemote('localhost', 3334, 'default')\n",
    "        analyses_res = proc_syntax(text)\n",
    "        vertices_list_list = []\n",
    "        for j in range(len(analyses_res['lemma'])):\n",
    "                vertices_list = []\n",
    "                for i in range(len(analyses_res['lemma'][j])):\n",
    "                        vert = tree(word(analyses_res['lemma'][j][i],\n",
    "                                        analyses_res['postag'][j][i],\n",
    "                                        analyses_res['morph'][j][i]))\n",
    "                        vertices_list.append(vert)\n",
    "                vertices_list_list.append(vertices_list)\n",
    "        root_list = []\n",
    "        for i in range(len(vertices_list_list)):\n",
    "                list_ = vertices_list_list[i]\n",
    "                for j in range(len(analyses_res['syntax_dep_tree'][i])):\n",
    "                        _ = analyses_res['syntax_dep_tree'][i][j]\n",
    "                        if _.parent != -1:\n",
    "                                list_[_.parent].add_child(list_[j], _.link_name)\n",
    "                        else:\n",
    "                                root_list.append(list_[j])\n",
    "        return root_list\n"
   ]
  },
  {
   "cell_type": "code",
   "execution_count": 54,
   "metadata": {
    "collapsed": false
   },
   "outputs": [
    {
     "name": "stdout",
     "output_type": "stream",
     "text": [
      "<__main__.tree object at 0x7ffbd82cf518>\n",
      "-- (<__main__.tree object at 0x7ffbd82cfa58>, 'nsubj') []\n",
      "-- (<__main__.tree object at 0x7ffbd82cf860>, 'obj') []\n",
      "-- (<__main__.tree object at 0x7ffbd82eb940>, 'obl') []\n",
      "-- (<__main__.tree object at 0x7ffbd82eb4a8>, 'advmod') []\n",
      "-- (<__main__.tree object at 0x7ffbd82ebd68>, 'punct') []\n"
     ]
    },
    {
     "ename": "IndexError",
     "evalue": "list index out of range",
     "output_type": "error",
     "traceback": [
      "\u001b[0;31m---------------------------------------------------------------------------\u001b[0m",
      "\u001b[0;31mIndexError\u001b[0m                                Traceback (most recent call last)",
      "\u001b[0;32m<ipython-input-54-92a41f832af2>\u001b[0m in \u001b[0;36m<module>\u001b[0;34m()\u001b[0m\n\u001b[1;32m     11\u001b[0m     \u001b[0mprint_tree\u001b[0m\u001b[0;34m(\u001b[0m\u001b[0;36m1\u001b[0m\u001b[0;34m,\u001b[0m \u001b[0mroot\u001b[0m\u001b[0;34m)\u001b[0m\u001b[0;34m\u001b[0m\u001b[0m\n\u001b[1;32m     12\u001b[0m \u001b[0;34m\u001b[0m\u001b[0m\n\u001b[0;32m---> 13\u001b[0;31m \u001b[0mprint\u001b[0m\u001b[0;34m(\u001b[0m\u001b[0mroot_list\u001b[0m\u001b[0;34m[\u001b[0m\u001b[0;36m0\u001b[0m\u001b[0;34m]\u001b[0m\u001b[0;34m.\u001b[0m\u001b[0mkids\u001b[0m\u001b[0;34m[\u001b[0m\u001b[0;36m5\u001b[0m\u001b[0;34m]\u001b[0m\u001b[0;34m[\u001b[0m\u001b[0;36m0\u001b[0m\u001b[0;34m]\u001b[0m\u001b[0;34m.\u001b[0m\u001b[0mkids\u001b[0m\u001b[0;34m)\u001b[0m\u001b[0;34m\u001b[0m\u001b[0m\n\u001b[0m",
      "\u001b[0;31mIndexError\u001b[0m: list index out of range"
     ]
    }
   ],
   "source": [
    "root_list = construct_tree('Мальчик Федя мыл пол поздно ночью в семь часов вечера вчера.')\n",
    "def print_tree(n, root):\n",
    "    kids = root.kids\n",
    "    if len(kids) != 0:\n",
    "        for i in kids:\n",
    "            print('-' * 2 * n, i, i[0].kids)\n",
    "            print_tree(n + 1, i[0])\n",
    "\n",
    "for root in root_list:\n",
    "    print(root)\n",
    "    print_tree(1, root)\n",
    "    \n",
    "print(root_list[0].kids[5][0].kids)"
   ]
  },
  {
   "cell_type": "code",
   "execution_count": null,
   "metadata": {
    "collapsed": true
   },
   "outputs": [],
   "source": []
  },
  {
   "cell_type": "code",
   "execution_count": null,
   "metadata": {
    "collapsed": true
   },
   "outputs": [],
   "source": []
  }
 ],
 "metadata": {
  "anaconda-cloud": {},
  "kernelspec": {
   "display_name": "Python [conda root]",
   "language": "python",
   "name": "conda-root-py"
  },
  "language_info": {
   "codemirror_mode": {
    "name": "ipython",
    "version": 3
   },
   "file_extension": ".py",
   "mimetype": "text/x-python",
   "name": "python",
   "nbconvert_exporter": "python",
   "pygments_lexer": "ipython3",
   "version": "3.5.2"
  }
 },
 "nbformat": 4,
 "nbformat_minor": 1
}
