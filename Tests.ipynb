{
 "cells": [
  {
   "cell_type": "markdown",
   "metadata": {},
   "source": [
    "# Tests\n",
    "\n",
    "## 1. Trees constructor"
   ]
  },
  {
   "cell_type": "code",
   "execution_count": 8,
   "metadata": {
    "collapsed": false
   },
   "outputs": [
    {
     "name": "stdout",
     "output_type": "stream",
     "text": [
      "мыть VERB {'Aspect': 'Perf', 'VerbForm': 'Fin', 'Gender': 'Masc', 'Mood': 'Ind', 'Number': 'Sing', 'Tense': 'Past'} root\n",
      "--- мальчик PROPN {'Gender': 'Masc', 'Animacy': 'Anim', 'Number': 'Sing', 'Case': 'Nom'} nsubj\n",
      "------ федя PROPN {'Gender': 'Masc', 'Animacy': 'Anim', 'Number': 'Sing', 'Case': 'Nom'} flat\n",
      "--- пол NOUN {'Gender': 'Masc', 'Animacy': 'Inan', 'Number': 'Sing', 'Case': 'Acc'} obj\n",
      "--- поздно VERB {'Degree': 'Pos'} xcomp\n",
      "------ ночь NOUN {'Gender': 'Fem', 'Animacy': 'Inan', 'Number': 'Sing', 'Case': 'Ins'} advmod\n",
      "--- . PUNCT {} punct\n",
      "ела VERB {'Aspect': 'Perf', 'VerbForm': 'Fin', 'Gender': 'Fem', 'Mood': 'Ind', 'Number': 'Sing', 'Tense': 'Past'} root\n",
      "--- маша PROPN {'Gender': 'Fem', 'Animacy': 'Anim', 'Number': 'Sing', 'Case': 'Nom'} nsubj\n",
      "--- конфеты NOUN {'Gender': 'Masc', 'Animacy': 'Inan', 'Number': 'Plur', 'Case': 'Acc'} obj\n",
      "------ вкусные ADJ {'Animacy': 'Inan', 'Number': 'Plur', 'Case': 'Acc'} amod\n",
      "------ купленные VERB {'Aspect': 'Perf', 'Voice': 'Pass', 'VerbForm': 'Part', 'Case': 'Acc', 'Number': 'Plur', 'Animacy': 'Inan', 'Tense': 'Past'} acl\n",
      "--------- , PUNCT {} punct\n",
      "--------- мама NOUN {'Gender': 'Fem', 'Animacy': 'Inan', 'Number': 'Sing', 'Case': 'Ins'} iobj\n",
      "--- . PUNCT {} punct\n"
     ]
    }
   ],
   "source": [
    "import action\n",
    "text = 'Мальчик Федя мыл пол поздно ночью. Маша ела вкусные конфеты, купленные мамой.'\n",
    "root_list = action.construct_tree(text)\n",
    "def print_tree(n, root):\n",
    "    kids = root.kids\n",
    "    if len(kids) != 0:\n",
    "        for i in kids:\n",
    "            print('-' * 3 * n, i[0].value.lemma, i[0].value.postag, i[0].value.morph, i[1])\n",
    "            print_tree(n + 1, i[0])\n",
    "            \n",
    "for root in root_list:\n",
    "    print(root.value.lemma, root.value.postag, root.value.morph, 'root')\n",
    "    print_tree(1, root)   \n"
   ]
  },
  {
   "cell_type": "markdown",
   "metadata": {},
   "source": [
    "## 2. Getting actions"
   ]
  },
  {
   "cell_type": "code",
   "execution_count": 5,
   "metadata": {
    "collapsed": false
   },
   "outputs": [
    {
     "name": "stdout",
     "output_type": "stream",
     "text": [
      "\n",
      " Action\n",
      "VERB\n",
      "-- избегнул\n",
      "SUBJECT\n",
      "-- он\n",
      "OBJECT\n",
      "-- встреча\n",
      "TIME\n",
      "PLACE\n",
      "PURPOSE\n",
      "WAY\n",
      "\n",
      " Action\n",
      "VERB\n",
      "-- походить\n",
      "SUBJECT\n",
      "OBJECT\n",
      "TIME\n",
      "PLACE\n",
      "PURPOSE\n",
      "WAY\n",
      "\n",
      " Action\n",
      "VERB\n",
      "-- приходилась\n",
      "SUBJECT\n",
      "-- каморк\n",
      "OBJECT\n",
      "TIME\n",
      "PLACE\n",
      "PURPOSE\n",
      "WAY\n",
      "\n",
      " Action\n",
      "VERB\n",
      "-- нанимал\n",
      "SUBJECT\n",
      "-- он\n",
      "OBJECT\n",
      "-- каморку\n",
      "TIME\n",
      "PLACE\n",
      "PURPOSE\n",
      "WAY\n",
      "\n",
      " Action\n",
      "VERB\n",
      "-- помещалась\n",
      "SUBJECT\n",
      "-- хозяйка\n",
      "OBJECT\n",
      "TIME\n",
      "PLACE\n",
      "PURPOSE\n",
      "WAY\n",
      "\n",
      " Action\n",
      "VERB\n",
      "-- морщился\n",
      "SUBJECT\n",
      "OBJECT\n",
      "TIME\n",
      "PLACE\n",
      "PURPOSE\n",
      "WAY\n",
      "\n",
      " Action\n",
      "VERB\n",
      "-- стыдился\n",
      "SUBJECT\n",
      "-- который\n",
      "OBJECT\n",
      "TIME\n",
      "PLACE\n",
      "PURPOSE\n",
      "WAY\n",
      "\n",
      " Action\n",
      "VERB\n",
      "-- чувствовал\n",
      "SUBJECT\n",
      "-- человек\n",
      "-- ощущение\n",
      "OBJECT\n",
      "TIME\n",
      "PLACE\n",
      "PURPOSE\n",
      "WAY\n",
      "\n",
      " Action\n",
      "VERB\n",
      "-- боялся\n",
      "SUBJECT\n",
      "OBJECT\n",
      "-- встретиться\n",
      "TIME\n",
      "PLACE\n",
      "PURPOSE\n",
      "WAY\n"
     ]
    }
   ],
   "source": [
    "text = \"\"\"\n",
    "Он благополучно избегнул встречи с своею хозяйкой на лестнице. Каморка его приходилась под самою кровлей высокого пятиэтажного дома и походила более на шкаф, чем на квартиру. Квартирная же хозяйка его, у которой он нанимал эту каморку с обедом и прислугой, помещалась одною лестницей ниже, в отдельной квартире, и каждый раз, при выходе на улицу, ему непременно надо было проходить мимо хозяйкиной кухни, почти всегда настежь отворенной на лестницу. И каждый раз молодой человек, проходя мимо, чувствовал какое-то болезненное и трусливое ощущение, которого стыдился и от которого морщился. Он был должен кругом хозяйке и боялся с нею встретиться.\n",
    "\"\"\"\n",
    "\n",
    "from action import get_actions\n",
    "actions = []\n",
    "for root in root_list:\n",
    "    actions = actions + get_actions(root)\n",
    "for act in actions:\n",
    "    print('\\n', act.name_action)\n",
    "    for i in act.keys:\n",
    "        print(i)\n",
    "        if i != 'VERB':\n",
    "            for j in act.inform[i]:\n",
    "                print('--',j.lemma)\n",
    "        else:\n",
    "            print('--',act.inform[i].lemma)\n",
    "\n"
   ]
  },
  {
   "cell_type": "code",
   "execution_count": null,
   "metadata": {
    "collapsed": true
   },
   "outputs": [],
   "source": []
  },
  {
   "cell_type": "code",
   "execution_count": null,
   "metadata": {
    "collapsed": true
   },
   "outputs": [],
   "source": []
  }
 ],
 "metadata": {
  "anaconda-cloud": {},
  "kernelspec": {
   "display_name": "Python [conda root]",
   "language": "python",
   "name": "conda-root-py"
  },
  "language_info": {
   "codemirror_mode": {
    "name": "ipython",
    "version": 3
   },
   "file_extension": ".py",
   "mimetype": "text/x-python",
   "name": "python",
   "nbconvert_exporter": "python",
   "pygments_lexer": "ipython3",
   "version": "3.5.2"
  }
 },
 "nbformat": 4,
 "nbformat_minor": 1
}
