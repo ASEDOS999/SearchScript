{
 "cells": [
  {
   "cell_type": "markdown",
   "metadata": {},
   "source": [
    "# Tests\n",
    "\n",
    "## Trees constructor"
   ]
  },
  {
   "cell_type": "code",
   "execution_count": 5,
   "metadata": {
    "collapsed": false
   },
   "outputs": [
    {
     "name": "stdout",
     "output_type": "stream",
     "text": [
      "мыть VERB {'Mood': 'Ind', 'Tense': 'Past', 'Aspect': 'Perf', 'Gender': 'Masc', 'Number': 'Sing', 'VerbForm': 'Fin'} root\n",
      "--- мальчик PROPN {'Animacy': 'Anim', 'Number': 'Sing', 'Gender': 'Masc', 'Case': 'Nom'} nsubj\n",
      "------ федя PROPN {'Animacy': 'Anim', 'Number': 'Sing', 'Gender': 'Masc', 'Case': 'Nom'} flat\n",
      "--- пол NOUN {'Animacy': 'Inan', 'Number': 'Sing', 'Gender': 'Masc', 'Case': 'Acc'} obj\n",
      "--- поздно VERB {'Degree': 'Pos'} xcomp\n",
      "------ ночь NOUN {'Animacy': 'Inan', 'Number': 'Sing', 'Gender': 'Fem', 'Case': 'Ins'} advmod\n",
      "--- . PUNCT {} punct\n",
      "ела VERB {'Mood': 'Ind', 'Tense': 'Past', 'Aspect': 'Perf', 'Gender': 'Fem', 'Number': 'Sing', 'VerbForm': 'Fin'} root\n",
      "--- маша PROPN {'Animacy': 'Anim', 'Number': 'Sing', 'Gender': 'Fem', 'Case': 'Nom'} nsubj\n",
      "--- конфеты NOUN {'Animacy': 'Inan', 'Number': 'Plur', 'Gender': 'Masc', 'Case': 'Acc'} obj\n",
      "------ вкусные ADJ {'Animacy': 'Inan', 'Number': 'Plur', 'Case': 'Acc'} amod\n",
      "------ купленные VERB {'Tense': 'Past', 'Aspect': 'Perf', 'Case': 'Acc', 'Animacy': 'Inan', 'Number': 'Plur', 'VerbForm': 'Part', 'Voice': 'Pass'} acl\n",
      "--------- , PUNCT {} punct\n",
      "--------- мама NOUN {'Animacy': 'Inan', 'Number': 'Sing', 'Gender': 'Fem', 'Case': 'Ins'} iobj\n",
      "--- . PUNCT {} punct\n"
     ]
    }
   ],
   "source": [
    "import action\n",
    "text = 'Мальчик Федя мыл пол поздно ночью. Маша ела вкусные конфеты, купленные мамой.'\n",
    "root_list = action.construct_tree(text)\n",
    "def print_tree(n, root):\n",
    "    kids = root.kids\n",
    "    if len(kids) != 0:\n",
    "        for i in kids:\n",
    "            print('-' * 3 * n, i[0].value.lemma, i[0].value.postag, i[0].value.morph, i[1])\n",
    "            print_tree(n + 1, i[0])\n",
    "            \n",
    "for root in root_list:\n",
    "    print(root.value.lemma, root.value.postag, root.value.morph, 'root')\n",
    "    print_tree(1, root)   \n"
   ]
  },
  {
   "cell_type": "markdown",
   "metadata": {},
   "source": [
    "## Getting actions"
   ]
  },
  {
   "cell_type": "code",
   "execution_count": 16,
   "metadata": {
    "collapsed": false
   },
   "outputs": [
    {
     "name": "stdout",
     "output_type": "stream",
     "text": [
      "\n",
      " Action\n",
      "VERB\n",
      "-- мыть\n",
      "SUBJECT\n",
      "OBJECT\n",
      "TIME\n",
      "PLACE\n",
      "PURPOSE\n",
      "WAY\n",
      "\n",
      " Action\n",
      "VERB\n",
      "-- ела\n",
      "SUBJECT\n",
      "OBJECT\n",
      "TIME\n",
      "PLACE\n",
      "PURPOSE\n",
      "WAY\n"
     ]
    }
   ],
   "source": [
    "for root in root_list:\n",
    "    actions = action.get_actions(text, root)\n",
    "    for act in actions:\n",
    "        print('\\n', act.name_action)\n",
    "        for i in act.keys:\n",
    "            print(i)\n",
    "            if i != 'VERB':\n",
    "                for j in act.inform[i]:\n",
    "                    print('--',j.value.lemma)\n",
    "            else:\n",
    "                print('--',act.inform[i].lemma)"
   ]
  },
  {
   "cell_type": "code",
   "execution_count": null,
   "metadata": {
    "collapsed": true
   },
   "outputs": [],
   "source": []
  }
 ],
 "metadata": {
  "anaconda-cloud": {},
  "kernelspec": {
   "display_name": "Python [conda root]",
   "language": "python",
   "name": "conda-root-py"
  },
  "language_info": {
   "codemirror_mode": {
    "name": "ipython",
    "version": 3
   },
   "file_extension": ".py",
   "mimetype": "text/x-python",
   "name": "python",
   "nbconvert_exporter": "python",
   "pygments_lexer": "ipython3",
   "version": "3.5.2"
  }
 },
 "nbformat": 4,
 "nbformat_minor": 1
}
