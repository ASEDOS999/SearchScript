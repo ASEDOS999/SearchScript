{
 "cells": [
  {
   "cell_type": "markdown",
   "metadata": {},
   "source": [
    "# Tests\n",
    "\n",
    "## Trees constructor"
   ]
  },
  {
   "cell_type": "code",
   "execution_count": 9,
   "metadata": {
    "collapsed": false
   },
   "outputs": [
    {
     "name": "stdout",
     "output_type": "stream",
     "text": [
      "мыть root\n",
      "--- мальчик nsubj\n",
      "------ федя flat\n",
      "--- пол obj\n",
      "--- поздно xcomp\n",
      "------ ночь advmod\n",
      "--- . punct\n",
      "\n",
      "ела root\n",
      "--- маша nsubj\n",
      "--- конфеты obj\n",
      "------ вкусные amod\n",
      "------ купленные acl\n",
      "--------- , punct\n",
      "--------- мама iobj\n",
      "--- . punct\n",
      "\n"
     ]
    }
   ],
   "source": [
    "from action import construct_tree\n",
    "root_list = construct_tree('Мальчик Федя мыл пол поздно ночью. Маша ела вкусные конфеты, купленные мамой.')\n",
    "def print_tree(n, root):\n",
    "    kids = root.kids\n",
    "    if len(kids) != 0:\n",
    "        for i in kids:\n",
    "            print('-' * 3 * n, i[0].value.lemma, i[1])\n",
    "            print_tree(n + 1, i[0])\n",
    "\n",
    "for root in root_list:\n",
    "    print(root.value.lemma, 'root')\n",
    "    print_tree(1, root)\n",
    "    print()"
   ]
  },
  {
   "cell_type": "code",
   "execution_count": null,
   "metadata": {
    "collapsed": true
   },
   "outputs": [],
   "source": []
  },
  {
   "cell_type": "code",
   "execution_count": null,
   "metadata": {
    "collapsed": true
   },
   "outputs": [],
   "source": []
  }
 ],
 "metadata": {
  "anaconda-cloud": {},
  "kernelspec": {
   "display_name": "Python [conda root]",
   "language": "python",
   "name": "conda-root-py"
  },
  "language_info": {
   "codemirror_mode": {
    "name": "ipython",
    "version": 3
   },
   "file_extension": ".py",
   "mimetype": "text/x-python",
   "name": "python",
   "nbconvert_exporter": "python",
   "pygments_lexer": "ipython3",
   "version": "3.5.2"
  }
 },
 "nbformat": 4,
 "nbformat_minor": 1
}
