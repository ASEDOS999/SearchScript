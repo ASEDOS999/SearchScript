{
 "cells": [
  {
   "cell_type": "markdown",
   "metadata": {},
   "source": [
    "# Participle Research\n",
    "\n",
    "## 1. Data Extract"
   ]
  },
  {
   "cell_type": "code",
   "execution_count": 4,
   "metadata": {
    "collapsed": false
   },
   "outputs": [
    {
     "name": "stdout",
     "output_type": "stream",
     "text": [
      "165\n"
     ]
    }
   ],
   "source": [
    "from test import test\n",
    "import sys\n",
    "sys.path.append('..')\n",
    "import action\n",
    "\n",
    "handle = open(\"../Process_type/examples.txt\", \"r\")\n",
    "text = handle.read()\n",
    "handle.close()\n",
    "list_, N = [0], 0\n",
    "for i in range(len(text)):\n",
    "    if text[i] == '.':\n",
    "        last = i\n",
    "    N += 1\n",
    "    if N > 10000:\n",
    "        list_.append(last)\n",
    "        N = 0\n",
    "root_list = []\n",
    "for i in range(len(list_) - 1):\n",
    "    root_list = root_list + action.construct_tree(text[list_[i] : list_[i + 1]])\n",
    "\n",
    "list_ = test(root_list)\n",
    "print(len(list_))"
   ]
  },
  {
   "cell_type": "code",
   "execution_count": 19,
   "metadata": {
    "collapsed": false
   },
   "outputs": [],
   "source": [
    "def sub(name, list_):\n",
    "    if name in list_:\n",
    "        return 1\n",
    "    return 0\n",
    "\n",
    "dict_1, dict_2  = {}, {}\n",
    "for i in list_:\n",
    "    for j in i[3]:\n",
    "        dict_[j[1]] = []\n",
    "        dict_[j[0].value.postag] = []\n",
    "        dict_1[j[1]] = []\n",
    "        dict_2[j[0].value.postag] = []\n",
    "\n",
    "dict_['Sentence'], dict_['Lemma'], dict_['Token'] = [], [], []\n",
    "\n",
    "for i in list_:\n",
    "    dict_['Sentence'].append(i[0])\n",
    "    dict_['Lemma'].append(i[1])\n",
    "    dict_['Token'].append(i[2])\n",
    "    for j in dict_1.keys():\n",
    "        dict_[j].append(sub(j, [k[1] for k in i[3]]))\n",
    "    for j in dict_2.keys():\n",
    "        dict_[j].append(sub(j, [k[0].value.postag for k in i[3]]))\n",
    "import pandas as pd\n",
    "df = pd.DataFrame(data = dict_)\n",
    "df.to_csv('Part.csv', index = False, encoding = 'utf')"
   ]
  },
  {
   "cell_type": "code",
   "execution_count": null,
   "metadata": {
    "collapsed": true
   },
   "outputs": [],
   "source": []
  }
 ],
 "metadata": {
  "anaconda-cloud": {},
  "kernelspec": {
   "display_name": "Python [conda root]",
   "language": "python",
   "name": "conda-root-py"
  },
  "language_info": {
   "codemirror_mode": {
    "name": "ipython",
    "version": 3
   },
   "file_extension": ".py",
   "mimetype": "text/x-python",
   "name": "python",
   "nbconvert_exporter": "python",
   "pygments_lexer": "ipython3",
   "version": "3.5.2"
  }
 },
 "nbformat": 4,
 "nbformat_minor": 1
}
